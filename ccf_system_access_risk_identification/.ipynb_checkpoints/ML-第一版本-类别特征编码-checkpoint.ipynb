{
 "cells": [
  {
   "cell_type": "markdown",
   "id": "fb332d2b",
   "metadata": {},
   "source": [
    "## ML-第一版本-类别特征编码\n",
    "该版本只用原始参数进行建模，得到最最初始结果\n",
    "\n",
    "### 结果记录\n",
    "+ OrdinalEncoder: 训练集AUC均值：0.7446909721024187, 训练集合AUC方差: 0.0055409887547691675\n",
    "+ Count Encoder: 训练集AUC均值：0.746436171821856, 训练集合AUC方差: 0.003175456365187765\n",
    "+ OneHotEncoder: 训练集AUC均值：0.7265152230144775, 训练集合AUC方差: 0.004283383774893741\n",
    "+ Summary Encoder: 训练集AUC均值：0.7229403477581448, 训练集合AUC方差: 0.005148684305762446\n",
    "+ Backward Difference Encoder: 训练集AUC均值：0.7432279154831029, 训练集合AUC方差: 0.0061828342928654245\n",
    "+ Helmert Encoder: 训练集AUC均值：0.7435028474177601, 训练集合AUC方差: 0.005320239374439747\n",
    "+ Polynomial Encoder: 训练集AUC均值：0.664800290588822, 训练集合AUC方差: 0.005266656000262627\n",
    "+ Binary Encoder: 训练集AUC均值：0.7439132481659769, 训练集合AUC方差: 0.0053505487194486865\n",
    "+ BaseN Encoder: 训练集AUC均值：0.7439132481659769, 训练集合AUC方差: 0.0053505487194486865\n",
    "+ Hashing Encoder: 训练集AUC均值：0.6699049732137634, 训练集合AUC方差: 0.0013664330952263192\n",
    "+ Target Encoder: 训练集AUC均值：0.7542066688653313, 训练集合AUC方差: 0.006100909854860348\n",
    "+ MEstimateEncoder: 训练集AUC均值：0.7565341153554674, 训练集合AUC方差: 0.005970607753749473\n",
    "+ JamesStein Encoder: 训练集AUC均值：0.7568955097744434, 训练集合AUC方差: 0.006076080528502473\n",
    "+ Generalized Linear Mixed Model Encoder:\n",
    "+ WOE Encoder: 训练集AUC均值：0.7546565408290457, 训练集合AUC方差: 0.006299987226037399\n",
    "+ Leave One Out Encoder: 训练集AUC均值：1.0, 训练集合AUC方差: 0.0\n",
    "+ CatBoost Encoder: 训练集AUC均值：0.9408993759272513, 训练集合AUC方差: 0.003510999287948365\n",
    "\n",
    "### 总结\n",
    "1. 考虑过Leave One Out Encoder和CatBoost Encoder两个得到的结果，auc提交上去结果为0.5，该结果不可靠\n",
    "2. 从以上所有内容中选woe encoder作为baseline，原因是自己比较了解woe编码，方法相对稳定"
   ]
  },
  {
   "cell_type": "markdown",
   "id": "6cf83a9f",
   "metadata": {},
   "source": [
    "## 导包"
   ]
  },
  {
   "cell_type": "code",
   "execution_count": 1,
   "id": "9c69b5ac",
   "metadata": {
    "ExecuteTime": {
     "end_time": "2022-11-05T06:50:14.434704Z",
     "start_time": "2022-11-05T06:50:12.283070Z"
    }
   },
   "outputs": [],
   "source": [
    "import os\n",
    "import re\n",
    "import numpy as np\n",
    "import pandas as pd\n",
    "import datetime\n",
    "\n",
    "import matplotlib.pyplot as plt\n",
    "import seaborn as sns\n",
    "\n",
    "\n",
    "import scorpyo as sp\n",
    "from null_importance import get_null_importance\n",
    "from time_sequence_feats import get_time_base, get_sequence_statis, get_sequence_groupby_statis\n",
    "import category_encoders as ce\n",
    "\n",
    "from gensim.models import word2vec\n",
    "\n",
    "\n",
    "\n",
    "import time\n",
    "from sklearn.metrics import roc_auc_score as auc\n",
    "import lightgbm as lgb\n",
    "from sklearn.model_selection import StratifiedKFold, KFold\n",
    "\n",
    "import warnings\n",
    "warnings.filterwarnings(\"ignore\")\n",
    "\n",
    "pd.set_option('max_rows', 320, 'max_columns',100)"
   ]
  },
  {
   "cell_type": "code",
   "execution_count": 2,
   "id": "93cace98",
   "metadata": {
    "ExecuteTime": {
     "end_time": "2022-11-05T06:50:14.439481Z",
     "start_time": "2022-11-05T06:50:14.436338Z"
    }
   },
   "outputs": [],
   "source": [
    "path_project = r'/Users/liliangshan/workspace/python/01_datasets/ccf_system_access_risk_identification'\n",
    "\n",
    "# path dir\n",
    "path_row_data = os.path.join(path_project, 'row_data')\n",
    "path_new_data = os.path.join(path_project, 'new_data')\n",
    "path_results  = os.path.join(path_project, 'results')\n",
    "path_results_version  = os.path.join(path_results, 'version_1')\n",
    "\n",
    "# path row_data\n",
    "path_train = os.path.join(path_row_data, 'train.csv')\n",
    "path_test  = os.path.join(path_row_data, 'evaluation_public.csv')\n",
    "path_sample_submission = os.path.join(path_row_data, 'submit_example.csv')\n",
    "\n",
    "\n",
    "path_new_train = os.path.join(path_new_data, 'train_lightgbm_20221014.csv')\n",
    "path_new_test  = os.path.join(path_new_data, 'test_lightgbm_20221014.csv')\n",
    "\n",
    "## results\n",
    "path_output_report = os.path.join(path_results, '01_原始数据探察_20221014.xlsx')\n",
    "\n",
    "y_label = \"is_risk\""
   ]
  },
  {
   "cell_type": "code",
   "execution_count": 3,
   "id": "6257b167",
   "metadata": {
    "ExecuteTime": {
     "end_time": "2022-11-05T06:50:14.579091Z",
     "start_time": "2022-11-05T06:50:14.442621Z"
    }
   },
   "outputs": [],
   "source": [
    "df_row_train = pd.read_csv(path_train)\n",
    "df_row_val  = pd.read_csv(path_test)"
   ]
  },
  {
   "cell_type": "markdown",
   "id": "6fbc39e5",
   "metadata": {},
   "source": [
    "## 特征编码"
   ]
  },
  {
   "cell_type": "code",
   "execution_count": 4,
   "id": "31d6a95d",
   "metadata": {
    "ExecuteTime": {
     "end_time": "2022-11-05T06:50:14.593499Z",
     "start_time": "2022-11-05T06:50:14.580467Z"
    }
   },
   "outputs": [
    {
     "data": {
      "text/html": [
       "<div>\n",
       "<style scoped>\n",
       "    .dataframe tbody tr th:only-of-type {\n",
       "        vertical-align: middle;\n",
       "    }\n",
       "\n",
       "    .dataframe tbody tr th {\n",
       "        vertical-align: top;\n",
       "    }\n",
       "\n",
       "    .dataframe thead th {\n",
       "        text-align: right;\n",
       "    }\n",
       "</style>\n",
       "<table border=\"1\" class=\"dataframe\">\n",
       "  <thead>\n",
       "    <tr style=\"text-align: right;\">\n",
       "      <th></th>\n",
       "      <th>id</th>\n",
       "      <th>user_name</th>\n",
       "      <th>department</th>\n",
       "      <th>ip_transform</th>\n",
       "      <th>device_num_transform</th>\n",
       "      <th>browser_version</th>\n",
       "      <th>browser</th>\n",
       "      <th>os_type</th>\n",
       "      <th>os_version</th>\n",
       "      <th>op_datetime</th>\n",
       "      <th>ip_type</th>\n",
       "      <th>http_status_code</th>\n",
       "      <th>op_city</th>\n",
       "      <th>log_system_transform</th>\n",
       "      <th>url</th>\n",
       "      <th>op_month</th>\n",
       "      <th>is_risk</th>\n",
       "    </tr>\n",
       "  </thead>\n",
       "  <tbody>\n",
       "    <tr>\n",
       "      <th>0</th>\n",
       "      <td>0</td>\n",
       "      <td>guojianping9672</td>\n",
       "      <td>rd</td>\n",
       "      <td>GVhZtW4i1</td>\n",
       "      <td>rqRxAjAL1RYC</td>\n",
       "      <td>firefox_78</td>\n",
       "      <td>firefox</td>\n",
       "      <td>win</td>\n",
       "      <td>win10</td>\n",
       "      <td>2022-01-18 19:10:41</td>\n",
       "      <td>内网</td>\n",
       "      <td>200</td>\n",
       "      <td>成都</td>\n",
       "      <td>2umVQwhiiwNJ</td>\n",
       "      <td>xxx.com/mail</td>\n",
       "      <td>2022-01</td>\n",
       "      <td>0</td>\n",
       "    </tr>\n",
       "    <tr>\n",
       "      <th>1</th>\n",
       "      <td>1</td>\n",
       "      <td>yangtao1740</td>\n",
       "      <td>sales</td>\n",
       "      <td>l3MuTMPoQ</td>\n",
       "      <td>iKPTa3su50y7</td>\n",
       "      <td>chrome_93</td>\n",
       "      <td>chrome</td>\n",
       "      <td>win</td>\n",
       "      <td>win11</td>\n",
       "      <td>2022-04-01 17:04:00</td>\n",
       "      <td>内网</td>\n",
       "      <td>200</td>\n",
       "      <td>深圳</td>\n",
       "      <td>RwHe8Q1R7AlB</td>\n",
       "      <td>business.xxx.com/</td>\n",
       "      <td>2022-04</td>\n",
       "      <td>0</td>\n",
       "    </tr>\n",
       "    <tr>\n",
       "      <th>2</th>\n",
       "      <td>2</td>\n",
       "      <td>wangying9098</td>\n",
       "      <td>rd</td>\n",
       "      <td>4uHWcskWv</td>\n",
       "      <td>1baNbqxMWcCu</td>\n",
       "      <td>ie_11</td>\n",
       "      <td>ie</td>\n",
       "      <td>win</td>\n",
       "      <td>win10</td>\n",
       "      <td>2022-03-01 15:53:49</td>\n",
       "      <td>内网</td>\n",
       "      <td>200</td>\n",
       "      <td>成都</td>\n",
       "      <td>dwS3cdn15GK4</td>\n",
       "      <td>wpsdoc.xxx.com/kdocs</td>\n",
       "      <td>2022-03</td>\n",
       "      <td>0</td>\n",
       "    </tr>\n",
       "    <tr>\n",
       "      <th>3</th>\n",
       "      <td>3</td>\n",
       "      <td>liguixiang3860</td>\n",
       "      <td>rd</td>\n",
       "      <td>mQh3NwtY7</td>\n",
       "      <td>C04Llg4lKl4C</td>\n",
       "      <td>edge_93</td>\n",
       "      <td>edge</td>\n",
       "      <td>win</td>\n",
       "      <td>win10</td>\n",
       "      <td>2022-02-07 19:46:25</td>\n",
       "      <td>内网</td>\n",
       "      <td>200</td>\n",
       "      <td>北京</td>\n",
       "      <td>nHrKgKdJ1Mzt</td>\n",
       "      <td>xxx.com/github</td>\n",
       "      <td>2022-02</td>\n",
       "      <td>0</td>\n",
       "    </tr>\n",
       "    <tr>\n",
       "      <th>4</th>\n",
       "      <td>4</td>\n",
       "      <td>guanyu9205</td>\n",
       "      <td>sales</td>\n",
       "      <td>C2QtgDKAZ</td>\n",
       "      <td>kSscjiRSz1aD</td>\n",
       "      <td>edge_93</td>\n",
       "      <td>edge</td>\n",
       "      <td>win</td>\n",
       "      <td>win10</td>\n",
       "      <td>2022-04-12 10:05:19</td>\n",
       "      <td>内网</td>\n",
       "      <td>200</td>\n",
       "      <td>成都</td>\n",
       "      <td>RwHe8Q1R7AlB</td>\n",
       "      <td>business.xxx.com/</td>\n",
       "      <td>2022-04</td>\n",
       "      <td>0</td>\n",
       "    </tr>\n",
       "  </tbody>\n",
       "</table>\n",
       "</div>"
      ],
      "text/plain": [
       "   id        user_name department ip_transform device_num_transform  \\\n",
       "0   0  guojianping9672         rd    GVhZtW4i1         rqRxAjAL1RYC   \n",
       "1   1      yangtao1740      sales    l3MuTMPoQ         iKPTa3su50y7   \n",
       "2   2     wangying9098         rd    4uHWcskWv         1baNbqxMWcCu   \n",
       "3   3   liguixiang3860         rd    mQh3NwtY7         C04Llg4lKl4C   \n",
       "4   4       guanyu9205      sales    C2QtgDKAZ         kSscjiRSz1aD   \n",
       "\n",
       "  browser_version  browser os_type os_version          op_datetime ip_type  \\\n",
       "0      firefox_78  firefox     win      win10  2022-01-18 19:10:41      内网   \n",
       "1       chrome_93   chrome     win      win11  2022-04-01 17:04:00      内网   \n",
       "2           ie_11       ie     win      win10  2022-03-01 15:53:49      内网   \n",
       "3         edge_93     edge     win      win10  2022-02-07 19:46:25      内网   \n",
       "4         edge_93     edge     win      win10  2022-04-12 10:05:19      内网   \n",
       "\n",
       "   http_status_code op_city log_system_transform                   url  \\\n",
       "0               200      成都         2umVQwhiiwNJ          xxx.com/mail   \n",
       "1               200      深圳         RwHe8Q1R7AlB     business.xxx.com/   \n",
       "2               200      成都         dwS3cdn15GK4  wpsdoc.xxx.com/kdocs   \n",
       "3               200      北京         nHrKgKdJ1Mzt        xxx.com/github   \n",
       "4               200      成都         RwHe8Q1R7AlB     business.xxx.com/   \n",
       "\n",
       "  op_month  is_risk  \n",
       "0  2022-01        0  \n",
       "1  2022-04        0  \n",
       "2  2022-03        0  \n",
       "3  2022-02        0  \n",
       "4  2022-04        0  "
      ]
     },
     "execution_count": 4,
     "metadata": {},
     "output_type": "execute_result"
    }
   ],
   "source": [
    "df_row_train.head()"
   ]
  },
  {
   "cell_type": "markdown",
   "id": "d9600b9d",
   "metadata": {},
   "source": [
    "### OrdinalEncoder"
   ]
  },
  {
   "cell_type": "code",
   "execution_count": 5,
   "id": "83517a76",
   "metadata": {
    "ExecuteTime": {
     "end_time": "2022-11-05T06:50:14.596866Z",
     "start_time": "2022-11-05T06:50:14.594881Z"
    },
    "scrolled": false
   },
   "outputs": [],
   "source": [
    "\n",
    "# remove_cols = ['id', 'op_datetime', 'op_month']\n",
    "# cate_cols = ['user_name', 'department', 'ip_transform', 'device_num_transform',\n",
    "#        'browser_version', 'browser', 'os_type', 'os_version',\n",
    "#        'ip_type', 'http_status_code', 'op_city', 'log_system_transform', 'url']\n",
    "\n",
    "\n",
    "# ord_encoder = ce.OrdinalEncoder(cols=cate_cols)\n",
    "\n",
    "# df_row_val[y_label] = np.nan\n",
    "# df_row_train = ord_encoder.fit_transform(df_row_train, df_row_train[y_label] )\n",
    "# df_row_val  = ord_encoder.transform(df_row_val)\n",
    "\n",
    "# display(df_row_train.head())\n",
    "# display(df_row_val.head())"
   ]
  },
  {
   "cell_type": "markdown",
   "id": "d106faf8",
   "metadata": {},
   "source": [
    "### Count Encoder"
   ]
  },
  {
   "cell_type": "code",
   "execution_count": 6,
   "id": "16f13fa4",
   "metadata": {
    "ExecuteTime": {
     "end_time": "2022-11-05T06:50:14.600113Z",
     "start_time": "2022-11-05T06:50:14.598091Z"
    }
   },
   "outputs": [],
   "source": [
    "# remove_cols = ['id', 'op_datetime', 'op_month']\n",
    "# cate_cols = ['user_name', 'department', 'ip_transform', 'device_num_transform',\n",
    "#        'browser_version', 'browser', 'os_type', 'os_version',\n",
    "#        'ip_type', 'http_status_code', 'op_city', 'log_system_transform', 'url']\n",
    "\n",
    "\n",
    "# ord_encoder = ce.CountEncoder(cols=cate_cols)\n",
    "\n",
    "# df_row_val[y_label] = np.nan\n",
    "# df_row_train = ord_encoder.fit_transform(df_row_train, df_row_train[y_label] )\n",
    "# df_row_val  = ord_encoder.transform(df_row_val)\n",
    "\n",
    "# display(df_row_train.head())\n",
    "# display(df_row_val.head())"
   ]
  },
  {
   "cell_type": "markdown",
   "id": "52b79549",
   "metadata": {},
   "source": [
    "### OneHotEncoder"
   ]
  },
  {
   "cell_type": "code",
   "execution_count": 7,
   "id": "dd497468",
   "metadata": {
    "ExecuteTime": {
     "end_time": "2022-11-05T06:50:14.603453Z",
     "start_time": "2022-11-05T06:50:14.601546Z"
    }
   },
   "outputs": [],
   "source": [
    "# remove_cols = ['id', 'op_datetime', 'op_month']\n",
    "# cate_cols = ['user_name', 'department', 'ip_transform', 'device_num_transform',\n",
    "#        'browser_version', 'browser', 'os_type', 'os_version',\n",
    "#        'ip_type', 'http_status_code', 'op_city', 'log_system_transform', 'url']\n",
    "\n",
    "\n",
    "# ord_encoder = ce.OneHotEncoder(cols=cate_cols)\n",
    "\n",
    "# df_row_val[y_label] = np.nan\n",
    "# df_row_train = ord_encoder.fit_transform(df_row_train, df_row_train[y_label] )\n",
    "# df_row_val  = ord_encoder.transform(df_row_val)\n",
    "\n",
    "# display(df_row_train.head())\n",
    "# display(df_row_val.head())"
   ]
  },
  {
   "cell_type": "markdown",
   "id": "73151e98",
   "metadata": {},
   "source": [
    "### Summary Encoder"
   ]
  },
  {
   "cell_type": "code",
   "execution_count": 8,
   "id": "145f2aea",
   "metadata": {
    "ExecuteTime": {
     "end_time": "2022-11-05T06:50:14.606543Z",
     "start_time": "2022-11-05T06:50:14.604683Z"
    }
   },
   "outputs": [],
   "source": [
    "# remove_cols = ['id', 'op_datetime', 'op_month']\n",
    "# cate_cols = ['user_name', 'department', 'ip_transform', 'device_num_transform',\n",
    "#        'browser_version', 'browser', 'os_type', 'os_version',\n",
    "#        'ip_type', 'http_status_code', 'op_city', 'log_system_transform', 'url']\n",
    "\n",
    "\n",
    "# ord_encoder = ce.SummaryEncoder(cols=cate_cols)\n",
    "\n",
    "# df_row_val[y_label] = np.nan\n",
    "# df_row_train = ord_encoder.fit_transform(df_row_train, df_row_train[y_label] )\n",
    "# df_row_val  = ord_encoder.transform(df_row_val)\n",
    "\n",
    "# display(df_row_train.head())\n",
    "# display(df_row_val.head())"
   ]
  },
  {
   "cell_type": "markdown",
   "id": "1c1b3547",
   "metadata": {},
   "source": [
    "### Backward Difference Encoder"
   ]
  },
  {
   "cell_type": "code",
   "execution_count": 9,
   "id": "4fddf9e3",
   "metadata": {
    "ExecuteTime": {
     "end_time": "2022-11-05T06:50:14.611719Z",
     "start_time": "2022-11-05T06:50:14.609889Z"
    }
   },
   "outputs": [],
   "source": [
    "# remove_cols = ['id', 'op_datetime', 'op_month']\n",
    "# cate_cols = ['user_name', 'department', 'ip_transform', 'device_num_transform',\n",
    "#        'browser_version', 'browser', 'os_type', 'os_version',\n",
    "#        'ip_type', 'http_status_code', 'op_city', 'log_system_transform', 'url']\n",
    "\n",
    "\n",
    "# ord_encoder = ce.BackwardDifferenceEncoder(cols=cate_cols)\n",
    "\n",
    "# df_row_val[y_label] = np.nan\n",
    "# df_row_train = ord_encoder.fit_transform(df_row_train, df_row_train[y_label] )\n",
    "# df_row_val  = ord_encoder.transform(df_row_val)\n",
    "\n",
    "# display(df_row_train.head())\n",
    "# display(df_row_val.head())"
   ]
  },
  {
   "cell_type": "markdown",
   "id": "f5b1bfa0",
   "metadata": {},
   "source": [
    "### Helmert Encoder"
   ]
  },
  {
   "cell_type": "code",
   "execution_count": 10,
   "id": "6dea0783",
   "metadata": {
    "ExecuteTime": {
     "end_time": "2022-11-05T06:50:14.614714Z",
     "start_time": "2022-11-05T06:50:14.612712Z"
    }
   },
   "outputs": [],
   "source": [
    "# remove_cols = ['id', 'op_datetime', 'op_month']\n",
    "# cate_cols = ['user_name', 'department', 'ip_transform', 'device_num_transform',\n",
    "#        'browser_version', 'browser', 'os_type', 'os_version',\n",
    "#        'ip_type', 'http_status_code', 'op_city', 'log_system_transform', 'url']\n",
    "\n",
    "\n",
    "# ord_encoder = ce.HelmertEncoder(cols=cate_cols)\n",
    "\n",
    "# df_row_val[y_label] = np.nan\n",
    "# df_row_train = ord_encoder.fit_transform(df_row_train, df_row_train[y_label] )\n",
    "# df_row_val  = ord_encoder.transform(df_row_val)\n",
    "\n",
    "# display(df_row_train.head())\n",
    "# display(df_row_val.head())"
   ]
  },
  {
   "cell_type": "markdown",
   "id": "f832883c",
   "metadata": {},
   "source": [
    "### Polynomial Encoder"
   ]
  },
  {
   "cell_type": "code",
   "execution_count": 11,
   "id": "9722a727",
   "metadata": {
    "ExecuteTime": {
     "end_time": "2022-11-05T06:50:14.617705Z",
     "start_time": "2022-11-05T06:50:14.615924Z"
    }
   },
   "outputs": [],
   "source": [
    "\n",
    "# remove_cols = ['id', 'op_datetime', 'op_month']\n",
    "# cate_cols = ['user_name', 'department', 'ip_transform', 'device_num_transform',\n",
    "#        'browser_version', 'browser', 'os_type', 'os_version',\n",
    "#        'ip_type', 'http_status_code', 'op_city', 'log_system_transform', 'url']\n",
    "\n",
    "\n",
    "# ord_encoder = ce.PolynomialEncoder(cols=cate_cols)\n",
    "\n",
    "# df_row_val[y_label] = np.nan\n",
    "# df_row_train = ord_encoder.fit_transform(df_row_train, df_row_train[y_label] )\n",
    "# df_row_val  = ord_encoder.transform(df_row_val)\n",
    "\n",
    "# display(df_row_train.head())\n",
    "# display(df_row_val.head())"
   ]
  },
  {
   "cell_type": "markdown",
   "id": "f8cf26b8",
   "metadata": {},
   "source": [
    "### Binary Encoder"
   ]
  },
  {
   "cell_type": "code",
   "execution_count": 12,
   "id": "976e5c70",
   "metadata": {
    "ExecuteTime": {
     "end_time": "2022-11-05T06:50:14.620955Z",
     "start_time": "2022-11-05T06:50:14.618895Z"
    }
   },
   "outputs": [],
   "source": [
    "\n",
    "# remove_cols = ['id', 'op_datetime', 'op_month']\n",
    "# cate_cols = ['user_name', 'department', 'ip_transform', 'device_num_transform',\n",
    "#        'browser_version', 'browser', 'os_type', 'os_version',\n",
    "#        'ip_type', 'http_status_code', 'op_city', 'log_system_transform', 'url']\n",
    "\n",
    "\n",
    "# ord_encoder = ce.BinaryEncoder(cols=cate_cols)\n",
    "\n",
    "# df_row_val[y_label] = np.nan\n",
    "# df_row_train = ord_encoder.fit_transform(df_row_train, df_row_train[y_label] )\n",
    "# df_row_val  = ord_encoder.transform(df_row_val)\n",
    "\n",
    "# display(df_row_train.head())\n",
    "# display(df_row_val.head())"
   ]
  },
  {
   "cell_type": "markdown",
   "id": "01a86582",
   "metadata": {},
   "source": [
    "### BaseN Encoder"
   ]
  },
  {
   "cell_type": "code",
   "execution_count": 13,
   "id": "6d6edfd0",
   "metadata": {
    "ExecuteTime": {
     "end_time": "2022-11-05T06:50:14.623973Z",
     "start_time": "2022-11-05T06:50:14.622080Z"
    }
   },
   "outputs": [],
   "source": [
    "\n",
    "# remove_cols = ['id', 'op_datetime', 'op_month']\n",
    "# cate_cols = ['user_name', 'department', 'ip_transform', 'device_num_transform',\n",
    "#        'browser_version', 'browser', 'os_type', 'os_version',\n",
    "#        'ip_type', 'http_status_code', 'op_city', 'log_system_transform', 'url']\n",
    "\n",
    "\n",
    "# ord_encoder = ce.BaseNEncoder(cols=cate_cols)\n",
    "\n",
    "# df_row_val[y_label] = np.nan\n",
    "# df_row_train = ord_encoder.fit_transform(df_row_train, df_row_train[y_label] )\n",
    "# df_row_val  = ord_encoder.transform(df_row_val)\n",
    "\n",
    "# display(df_row_train.head())\n",
    "# display(df_row_val.head())"
   ]
  },
  {
   "cell_type": "markdown",
   "id": "77cb8ab5",
   "metadata": {},
   "source": [
    "### Hashing Encoder"
   ]
  },
  {
   "cell_type": "code",
   "execution_count": 14,
   "id": "cba6b9d4",
   "metadata": {
    "ExecuteTime": {
     "end_time": "2022-11-05T06:50:14.627035Z",
     "start_time": "2022-11-05T06:50:14.625143Z"
    }
   },
   "outputs": [],
   "source": [
    "\n",
    "# remove_cols = ['id', 'op_datetime', 'op_month']\n",
    "# cate_cols = ['user_name', 'department', 'ip_transform', 'device_num_transform',\n",
    "#        'browser_version', 'browser', 'os_type', 'os_version',\n",
    "#        'ip_type', 'http_status_code', 'op_city', 'log_system_transform', 'url']\n",
    "\n",
    "\n",
    "# ord_encoder = ce.HashingEncoder(cols=cate_cols)\n",
    "\n",
    "# df_row_val[y_label] = np.nan\n",
    "# df_row_train = ord_encoder.fit_transform(df_row_train, df_row_train[y_label] )\n",
    "# df_row_val  = ord_encoder.transform(df_row_val)\n",
    "\n",
    "# display(df_row_train.head())\n",
    "# display(df_row_val.head())"
   ]
  },
  {
   "cell_type": "markdown",
   "id": "316ceab1",
   "metadata": {},
   "source": [
    "### Target Encoder"
   ]
  },
  {
   "cell_type": "code",
   "execution_count": 15,
   "id": "4b86a1a9",
   "metadata": {
    "ExecuteTime": {
     "end_time": "2022-11-05T06:50:14.630305Z",
     "start_time": "2022-11-05T06:50:14.628412Z"
    }
   },
   "outputs": [],
   "source": [
    "# remove_cols = ['id', 'op_datetime', 'op_month']\n",
    "# cate_cols = ['user_name', 'department', 'ip_transform', 'device_num_transform',\n",
    "#        'browser_version', 'browser', 'os_type', 'os_version',\n",
    "#        'ip_type', 'http_status_code', 'op_city', 'log_system_transform', 'url']\n",
    "\n",
    "\n",
    "# ord_encoder = ce.TargetEncoder(cols=cate_cols)\n",
    "\n",
    "# df_row_val[y_label] = np.nan\n",
    "# df_row_train = ord_encoder.fit_transform(df_row_train, df_row_train[y_label] )\n",
    "# df_row_val  = ord_encoder.transform(df_row_val)\n",
    "\n",
    "# display(df_row_train.head())\n",
    "# display(df_row_val.head())"
   ]
  },
  {
   "cell_type": "markdown",
   "id": "61c09670",
   "metadata": {},
   "source": [
    "### MEstimate Encoder"
   ]
  },
  {
   "cell_type": "code",
   "execution_count": 16,
   "id": "525769c7",
   "metadata": {
    "ExecuteTime": {
     "end_time": "2022-11-05T06:50:14.633787Z",
     "start_time": "2022-11-05T06:50:14.631597Z"
    }
   },
   "outputs": [],
   "source": [
    "# remove_cols = ['id', 'op_datetime', 'op_month']\n",
    "# cate_cols = ['user_name', 'department', 'ip_transform', 'device_num_transform',\n",
    "#        'browser_version', 'browser', 'os_type', 'os_version',\n",
    "#        'ip_type', 'http_status_code', 'op_city', 'log_system_transform', 'url']\n",
    "\n",
    "\n",
    "# ord_encoder = ce.MEstimateEncoder(cols=cate_cols)\n",
    "\n",
    "# df_row_val[y_label] = np.nan\n",
    "# df_row_train = ord_encoder.fit_transform(df_row_train, df_row_train[y_label] )\n",
    "# df_row_val  = ord_encoder.transform(df_row_val)\n",
    "\n",
    "# display(df_row_train.head())\n",
    "# display(df_row_val.head())"
   ]
  },
  {
   "cell_type": "markdown",
   "id": "fed64521",
   "metadata": {},
   "source": [
    "### JamesStein Encoder"
   ]
  },
  {
   "cell_type": "code",
   "execution_count": 17,
   "id": "ece9e713",
   "metadata": {
    "ExecuteTime": {
     "end_time": "2022-11-05T06:50:14.637097Z",
     "start_time": "2022-11-05T06:50:14.635182Z"
    }
   },
   "outputs": [],
   "source": [
    "# remove_cols = ['id', 'op_datetime', 'op_month']\n",
    "# cate_cols = ['user_name', 'department', 'ip_transform', 'device_num_transform',\n",
    "#        'browser_version', 'browser', 'os_type', 'os_version',\n",
    "#        'ip_type', 'http_status_code', 'op_city', 'log_system_transform', 'url']\n",
    "\n",
    "\n",
    "# ord_encoder = ce.JamesSteinEncoder(cols=cate_cols)\n",
    "\n",
    "# df_row_val[y_label] = np.nan\n",
    "# df_row_train = ord_encoder.fit_transform(df_row_train, df_row_train[y_label] )\n",
    "# df_row_val  = ord_encoder.transform(df_row_val)\n",
    "\n",
    "# display(df_row_train.head())\n",
    "# display(df_row_val.head())"
   ]
  },
  {
   "cell_type": "markdown",
   "id": "f7b9c9f1",
   "metadata": {},
   "source": [
    "### Generalized Linear Mixed Model Encoder"
   ]
  },
  {
   "cell_type": "code",
   "execution_count": 18,
   "id": "1c9ed6d7",
   "metadata": {
    "ExecuteTime": {
     "end_time": "2022-11-05T06:50:14.640932Z",
     "start_time": "2022-11-05T06:50:14.638217Z"
    }
   },
   "outputs": [],
   "source": [
    "# remove_cols = ['id', 'op_datetime', 'op_month']\n",
    "# cate_cols = ['user_name', 'department', 'ip_transform', 'device_num_transform',\n",
    "#        'browser_version', 'browser', 'os_type', 'os_version',\n",
    "#        'ip_type', 'http_status_code', 'op_city', 'log_system_transform', 'url']\n",
    "\n",
    "\n",
    "# ord_encoder = ce.GLMMEncoder(cols=cate_cols)\n",
    "\n",
    "# df_row_val[y_label] = np.nan\n",
    "# df_row_train = ord_encoder.fit_transform(df_row_train, df_row_train[y_label] )\n",
    "# df_row_val  = ord_encoder.transform(df_row_val)\n",
    "\n",
    "# display(df_row_train.head())\n",
    "# display(df_row_val.head())"
   ]
  },
  {
   "cell_type": "markdown",
   "id": "7994e71a",
   "metadata": {},
   "source": [
    "### WOE Encoder"
   ]
  },
  {
   "cell_type": "code",
   "execution_count": 19,
   "id": "2c2c8565",
   "metadata": {
    "ExecuteTime": {
     "end_time": "2022-11-05T06:50:15.364770Z",
     "start_time": "2022-11-05T06:50:14.642448Z"
    }
   },
   "outputs": [
    {
     "data": {
      "text/html": [
       "<div>\n",
       "<style scoped>\n",
       "    .dataframe tbody tr th:only-of-type {\n",
       "        vertical-align: middle;\n",
       "    }\n",
       "\n",
       "    .dataframe tbody tr th {\n",
       "        vertical-align: top;\n",
       "    }\n",
       "\n",
       "    .dataframe thead th {\n",
       "        text-align: right;\n",
       "    }\n",
       "</style>\n",
       "<table border=\"1\" class=\"dataframe\">\n",
       "  <thead>\n",
       "    <tr style=\"text-align: right;\">\n",
       "      <th></th>\n",
       "      <th>id</th>\n",
       "      <th>user_name</th>\n",
       "      <th>department</th>\n",
       "      <th>ip_transform</th>\n",
       "      <th>device_num_transform</th>\n",
       "      <th>browser_version</th>\n",
       "      <th>browser</th>\n",
       "      <th>os_type</th>\n",
       "      <th>os_version</th>\n",
       "      <th>op_datetime</th>\n",
       "      <th>ip_type</th>\n",
       "      <th>http_status_code</th>\n",
       "      <th>op_city</th>\n",
       "      <th>log_system_transform</th>\n",
       "      <th>url</th>\n",
       "      <th>op_month</th>\n",
       "      <th>is_risk</th>\n",
       "    </tr>\n",
       "  </thead>\n",
       "  <tbody>\n",
       "    <tr>\n",
       "      <th>0</th>\n",
       "      <td>0</td>\n",
       "      <td>0.399244</td>\n",
       "      <td>-0.041851</td>\n",
       "      <td>0.123852</td>\n",
       "      <td>0.355653</td>\n",
       "      <td>0.014496</td>\n",
       "      <td>0.014496</td>\n",
       "      <td>0.009044</td>\n",
       "      <td>0.012388</td>\n",
       "      <td>2022-01-18 19:10:41</td>\n",
       "      <td>-0.011044</td>\n",
       "      <td>-0.298867</td>\n",
       "      <td>-0.100602</td>\n",
       "      <td>-0.246014</td>\n",
       "      <td>-0.246014</td>\n",
       "      <td>2022-01</td>\n",
       "      <td>0</td>\n",
       "    </tr>\n",
       "    <tr>\n",
       "      <th>1</th>\n",
       "      <td>1</td>\n",
       "      <td>0.090044</td>\n",
       "      <td>0.035442</td>\n",
       "      <td>-0.076528</td>\n",
       "      <td>0.012419</td>\n",
       "      <td>0.060103</td>\n",
       "      <td>-0.009554</td>\n",
       "      <td>0.009044</td>\n",
       "      <td>-0.021990</td>\n",
       "      <td>2022-04-01 17:04:00</td>\n",
       "      <td>-0.011044</td>\n",
       "      <td>-0.298867</td>\n",
       "      <td>-0.069165</td>\n",
       "      <td>-0.150937</td>\n",
       "      <td>-0.150937</td>\n",
       "      <td>2022-04</td>\n",
       "      <td>0</td>\n",
       "    </tr>\n",
       "    <tr>\n",
       "      <th>2</th>\n",
       "      <td>2</td>\n",
       "      <td>0.142991</td>\n",
       "      <td>-0.041851</td>\n",
       "      <td>-0.098600</td>\n",
       "      <td>0.092439</td>\n",
       "      <td>-0.059518</td>\n",
       "      <td>-0.068291</td>\n",
       "      <td>0.009044</td>\n",
       "      <td>0.012388</td>\n",
       "      <td>2022-03-01 15:53:49</td>\n",
       "      <td>-0.011044</td>\n",
       "      <td>-0.298867</td>\n",
       "      <td>-0.100602</td>\n",
       "      <td>0.530533</td>\n",
       "      <td>-0.206373</td>\n",
       "      <td>2022-03</td>\n",
       "      <td>0</td>\n",
       "    </tr>\n",
       "    <tr>\n",
       "      <th>3</th>\n",
       "      <td>3</td>\n",
       "      <td>-0.011160</td>\n",
       "      <td>-0.041851</td>\n",
       "      <td>-0.255592</td>\n",
       "      <td>-0.085693</td>\n",
       "      <td>0.041217</td>\n",
       "      <td>0.041217</td>\n",
       "      <td>0.009044</td>\n",
       "      <td>0.012388</td>\n",
       "      <td>2022-02-07 19:46:25</td>\n",
       "      <td>-0.011044</td>\n",
       "      <td>-0.298867</td>\n",
       "      <td>0.034066</td>\n",
       "      <td>-0.284901</td>\n",
       "      <td>-0.284901</td>\n",
       "      <td>2022-02</td>\n",
       "      <td>0</td>\n",
       "    </tr>\n",
       "    <tr>\n",
       "      <th>4</th>\n",
       "      <td>4</td>\n",
       "      <td>0.232119</td>\n",
       "      <td>0.035442</td>\n",
       "      <td>-0.032103</td>\n",
       "      <td>0.145578</td>\n",
       "      <td>0.041217</td>\n",
       "      <td>0.041217</td>\n",
       "      <td>0.009044</td>\n",
       "      <td>0.012388</td>\n",
       "      <td>2022-04-12 10:05:19</td>\n",
       "      <td>-0.011044</td>\n",
       "      <td>-0.298867</td>\n",
       "      <td>-0.100602</td>\n",
       "      <td>-0.150937</td>\n",
       "      <td>-0.150937</td>\n",
       "      <td>2022-04</td>\n",
       "      <td>0</td>\n",
       "    </tr>\n",
       "  </tbody>\n",
       "</table>\n",
       "</div>"
      ],
      "text/plain": [
       "   id  user_name  department  ip_transform  device_num_transform  \\\n",
       "0   0   0.399244   -0.041851      0.123852              0.355653   \n",
       "1   1   0.090044    0.035442     -0.076528              0.012419   \n",
       "2   2   0.142991   -0.041851     -0.098600              0.092439   \n",
       "3   3  -0.011160   -0.041851     -0.255592             -0.085693   \n",
       "4   4   0.232119    0.035442     -0.032103              0.145578   \n",
       "\n",
       "   browser_version   browser   os_type  os_version          op_datetime  \\\n",
       "0         0.014496  0.014496  0.009044    0.012388  2022-01-18 19:10:41   \n",
       "1         0.060103 -0.009554  0.009044   -0.021990  2022-04-01 17:04:00   \n",
       "2        -0.059518 -0.068291  0.009044    0.012388  2022-03-01 15:53:49   \n",
       "3         0.041217  0.041217  0.009044    0.012388  2022-02-07 19:46:25   \n",
       "4         0.041217  0.041217  0.009044    0.012388  2022-04-12 10:05:19   \n",
       "\n",
       "    ip_type  http_status_code   op_city  log_system_transform       url  \\\n",
       "0 -0.011044         -0.298867 -0.100602             -0.246014 -0.246014   \n",
       "1 -0.011044         -0.298867 -0.069165             -0.150937 -0.150937   \n",
       "2 -0.011044         -0.298867 -0.100602              0.530533 -0.206373   \n",
       "3 -0.011044         -0.298867  0.034066             -0.284901 -0.284901   \n",
       "4 -0.011044         -0.298867 -0.100602             -0.150937 -0.150937   \n",
       "\n",
       "  op_month  is_risk  \n",
       "0  2022-01        0  \n",
       "1  2022-04        0  \n",
       "2  2022-03        0  \n",
       "3  2022-02        0  \n",
       "4  2022-04        0  "
      ]
     },
     "metadata": {},
     "output_type": "display_data"
    },
    {
     "data": {
      "text/html": [
       "<div>\n",
       "<style scoped>\n",
       "    .dataframe tbody tr th:only-of-type {\n",
       "        vertical-align: middle;\n",
       "    }\n",
       "\n",
       "    .dataframe tbody tr th {\n",
       "        vertical-align: top;\n",
       "    }\n",
       "\n",
       "    .dataframe thead th {\n",
       "        text-align: right;\n",
       "    }\n",
       "</style>\n",
       "<table border=\"1\" class=\"dataframe\">\n",
       "  <thead>\n",
       "    <tr style=\"text-align: right;\">\n",
       "      <th></th>\n",
       "      <th>id</th>\n",
       "      <th>user_name</th>\n",
       "      <th>department</th>\n",
       "      <th>ip_transform</th>\n",
       "      <th>device_num_transform</th>\n",
       "      <th>browser_version</th>\n",
       "      <th>browser</th>\n",
       "      <th>os_type</th>\n",
       "      <th>os_version</th>\n",
       "      <th>op_datetime</th>\n",
       "      <th>ip_type</th>\n",
       "      <th>http_status_code</th>\n",
       "      <th>op_city</th>\n",
       "      <th>log_system_transform</th>\n",
       "      <th>url</th>\n",
       "      <th>op_month</th>\n",
       "      <th>is_risk</th>\n",
       "    </tr>\n",
       "  </thead>\n",
       "  <tbody>\n",
       "    <tr>\n",
       "      <th>0</th>\n",
       "      <td>0</td>\n",
       "      <td>-0.064648</td>\n",
       "      <td>-0.041851</td>\n",
       "      <td>-0.276959</td>\n",
       "      <td>-0.118715</td>\n",
       "      <td>-0.089269</td>\n",
       "      <td>-0.089269</td>\n",
       "      <td>-0.089269</td>\n",
       "      <td>-0.089269</td>\n",
       "      <td>2022-05-25 16:07:00</td>\n",
       "      <td>-0.011044</td>\n",
       "      <td>-0.298867</td>\n",
       "      <td>-0.106403</td>\n",
       "      <td>-0.284901</td>\n",
       "      <td>-0.284901</td>\n",
       "      <td>2022-05</td>\n",
       "      <td>NaN</td>\n",
       "    </tr>\n",
       "    <tr>\n",
       "      <th>1</th>\n",
       "      <td>1</td>\n",
       "      <td>0.065465</td>\n",
       "      <td>-0.041851</td>\n",
       "      <td>-0.100239</td>\n",
       "      <td>0.002945</td>\n",
       "      <td>0.041217</td>\n",
       "      <td>0.041217</td>\n",
       "      <td>0.009044</td>\n",
       "      <td>0.012388</td>\n",
       "      <td>2022-06-23 14:48:39</td>\n",
       "      <td>-0.011044</td>\n",
       "      <td>-0.298867</td>\n",
       "      <td>-0.106403</td>\n",
       "      <td>-0.246014</td>\n",
       "      <td>-0.246014</td>\n",
       "      <td>2022-06</td>\n",
       "      <td>NaN</td>\n",
       "    </tr>\n",
       "    <tr>\n",
       "      <th>2</th>\n",
       "      <td>2</td>\n",
       "      <td>-0.150053</td>\n",
       "      <td>-0.041851</td>\n",
       "      <td>-0.412955</td>\n",
       "      <td>-0.237064</td>\n",
       "      <td>-0.077409</td>\n",
       "      <td>-0.068291</td>\n",
       "      <td>0.009044</td>\n",
       "      <td>0.012388</td>\n",
       "      <td>2022-06-17 17:22:54</td>\n",
       "      <td>-0.011044</td>\n",
       "      <td>-0.298867</td>\n",
       "      <td>0.034066</td>\n",
       "      <td>-0.284901</td>\n",
       "      <td>-0.284901</td>\n",
       "      <td>2022-06</td>\n",
       "      <td>NaN</td>\n",
       "    </tr>\n",
       "    <tr>\n",
       "      <th>3</th>\n",
       "      <td>3</td>\n",
       "      <td>-0.208282</td>\n",
       "      <td>-0.041851</td>\n",
       "      <td>-0.406171</td>\n",
       "      <td>-0.222533</td>\n",
       "      <td>0.041217</td>\n",
       "      <td>0.041217</td>\n",
       "      <td>0.009044</td>\n",
       "      <td>0.012388</td>\n",
       "      <td>2022-05-27 10:13:52</td>\n",
       "      <td>-0.011044</td>\n",
       "      <td>-0.298867</td>\n",
       "      <td>-0.100602</td>\n",
       "      <td>-0.255350</td>\n",
       "      <td>-0.255350</td>\n",
       "      <td>2022-05</td>\n",
       "      <td>NaN</td>\n",
       "    </tr>\n",
       "    <tr>\n",
       "      <th>4</th>\n",
       "      <td>4</td>\n",
       "      <td>0.100432</td>\n",
       "      <td>-0.041851</td>\n",
       "      <td>-0.089002</td>\n",
       "      <td>0.072266</td>\n",
       "      <td>0.006565</td>\n",
       "      <td>-0.009554</td>\n",
       "      <td>0.009044</td>\n",
       "      <td>0.012388</td>\n",
       "      <td>2022-05-18 10:47:23</td>\n",
       "      <td>-0.011044</td>\n",
       "      <td>-0.298867</td>\n",
       "      <td>-0.100602</td>\n",
       "      <td>-0.284901</td>\n",
       "      <td>-0.284901</td>\n",
       "      <td>2022-05</td>\n",
       "      <td>NaN</td>\n",
       "    </tr>\n",
       "  </tbody>\n",
       "</table>\n",
       "</div>"
      ],
      "text/plain": [
       "   id  user_name  department  ip_transform  device_num_transform  \\\n",
       "0   0  -0.064648   -0.041851     -0.276959             -0.118715   \n",
       "1   1   0.065465   -0.041851     -0.100239              0.002945   \n",
       "2   2  -0.150053   -0.041851     -0.412955             -0.237064   \n",
       "3   3  -0.208282   -0.041851     -0.406171             -0.222533   \n",
       "4   4   0.100432   -0.041851     -0.089002              0.072266   \n",
       "\n",
       "   browser_version   browser   os_type  os_version          op_datetime  \\\n",
       "0        -0.089269 -0.089269 -0.089269   -0.089269  2022-05-25 16:07:00   \n",
       "1         0.041217  0.041217  0.009044    0.012388  2022-06-23 14:48:39   \n",
       "2        -0.077409 -0.068291  0.009044    0.012388  2022-06-17 17:22:54   \n",
       "3         0.041217  0.041217  0.009044    0.012388  2022-05-27 10:13:52   \n",
       "4         0.006565 -0.009554  0.009044    0.012388  2022-05-18 10:47:23   \n",
       "\n",
       "    ip_type  http_status_code   op_city  log_system_transform       url  \\\n",
       "0 -0.011044         -0.298867 -0.106403             -0.284901 -0.284901   \n",
       "1 -0.011044         -0.298867 -0.106403             -0.246014 -0.246014   \n",
       "2 -0.011044         -0.298867  0.034066             -0.284901 -0.284901   \n",
       "3 -0.011044         -0.298867 -0.100602             -0.255350 -0.255350   \n",
       "4 -0.011044         -0.298867 -0.100602             -0.284901 -0.284901   \n",
       "\n",
       "  op_month  is_risk  \n",
       "0  2022-05      NaN  \n",
       "1  2022-06      NaN  \n",
       "2  2022-06      NaN  \n",
       "3  2022-05      NaN  \n",
       "4  2022-05      NaN  "
      ]
     },
     "metadata": {},
     "output_type": "display_data"
    }
   ],
   "source": [
    "remove_cols = ['id', 'op_datetime', 'op_month']\n",
    "cate_cols = ['user_name', 'department', 'ip_transform', 'device_num_transform',\n",
    "       'browser_version', 'browser', 'os_type', 'os_version',\n",
    "       'ip_type', 'http_status_code', 'op_city', 'log_system_transform', 'url']\n",
    "\n",
    "\n",
    "ord_encoder = ce.WOEEncoder(cols=cate_cols)\n",
    "\n",
    "df_row_val[y_label] = np.nan\n",
    "df_row_train = ord_encoder.fit_transform(df_row_train, df_row_train[y_label] )\n",
    "df_row_val  = ord_encoder.transform(df_row_val)\n",
    "\n",
    "\n",
    "display(df_row_train.head())\n",
    "display(df_row_val.head())"
   ]
  },
  {
   "cell_type": "markdown",
   "id": "6e715d72",
   "metadata": {},
   "source": [
    "### Leave One Out Encoder"
   ]
  },
  {
   "cell_type": "code",
   "execution_count": 20,
   "id": "3f7d88f6",
   "metadata": {
    "ExecuteTime": {
     "end_time": "2022-11-05T06:50:15.367748Z",
     "start_time": "2022-11-05T06:50:15.365808Z"
    }
   },
   "outputs": [],
   "source": [
    "# remove_cols = ['id', 'op_datetime', 'op_month']\n",
    "# cate_cols = ['user_name', 'department', 'ip_transform', 'device_num_transform',\n",
    "#        'browser_version', 'browser', 'os_type', 'os_version',\n",
    "#        'ip_type', 'http_status_code', 'op_city', 'log_system_transform', 'url']\n",
    "\n",
    "\n",
    "# ord_encoder = ce.LeaveOneOutEncoder(cols=cate_cols)\n",
    "\n",
    "# df_row_val[y_label] = np.nan\n",
    "# df_row_train = ord_encoder.fit_transform(df_row_train, df_row_train[y_label] )\n",
    "# df_row_val  = ord_encoder.transform(df_row_val)\n",
    "\n",
    "# display(df_row_train.head())\n",
    "# display(df_row_val.head())"
   ]
  },
  {
   "cell_type": "markdown",
   "id": "ab96fdb3",
   "metadata": {},
   "source": [
    "### CatBoost Encoder"
   ]
  },
  {
   "cell_type": "code",
   "execution_count": 21,
   "id": "08bcde27",
   "metadata": {
    "ExecuteTime": {
     "end_time": "2022-11-05T06:50:15.371302Z",
     "start_time": "2022-11-05T06:50:15.368944Z"
    }
   },
   "outputs": [],
   "source": [
    "# remove_cols = ['id', 'op_datetime', 'op_month']\n",
    "# cate_cols = ['user_name', 'department', 'ip_transform', 'device_num_transform',\n",
    "#        'browser_version', 'browser', 'os_type', 'os_version',\n",
    "#        'ip_type', 'http_status_code', 'op_city', 'log_system_transform', 'url']\n",
    "\n",
    "\n",
    "# ord_encoder = ce.CatBoostEncoder(cols=cate_cols)\n",
    "\n",
    "# df_row_val[y_label] = np.nan\n",
    "# df_row_train = ord_encoder.fit_transform(df_row_train, df_row_train[y_label] )\n",
    "# df_row_val  = ord_encoder.transform(df_row_val)\n",
    "\n",
    "\n",
    "# display(df_row_train.head())\n",
    "# display(df_row_val.head())"
   ]
  },
  {
   "cell_type": "markdown",
   "id": "fe77585b",
   "metadata": {},
   "source": [
    "### 获取建模使用的特征"
   ]
  },
  {
   "cell_type": "code",
   "execution_count": 22,
   "id": "b1367b29",
   "metadata": {
    "ExecuteTime": {
     "end_time": "2022-11-05T06:50:15.375064Z",
     "start_time": "2022-11-05T06:50:15.372592Z"
    }
   },
   "outputs": [],
   "source": [
    "feats = df_row_train.columns\n",
    "feats = feats.drop(remove_cols)\n",
    "feats = feats.drop(y_label)"
   ]
  },
  {
   "cell_type": "code",
   "execution_count": 23,
   "id": "88c08e66",
   "metadata": {
    "ExecuteTime": {
     "end_time": "2022-11-05T06:50:15.381406Z",
     "start_time": "2022-11-05T06:50:15.376284Z"
    }
   },
   "outputs": [],
   "source": [
    "df_train = df_row_train.reset_index(drop=True)\n",
    "df_test  = df_row_val.reset_index(drop=True)"
   ]
  },
  {
   "cell_type": "markdown",
   "id": "8d102568",
   "metadata": {},
   "source": [
    "## Modeling"
   ]
  },
  {
   "cell_type": "markdown",
   "id": "247cfe5d",
   "metadata": {
    "ExecuteTime": {
     "end_time": "2022-11-05T04:36:56.573314Z",
     "start_time": "2022-11-05T04:36:56.569723Z"
    }
   },
   "source": [
    "### lightgbm"
   ]
  },
  {
   "cell_type": "code",
   "execution_count": 24,
   "id": "2619c701",
   "metadata": {
    "ExecuteTime": {
     "end_time": "2022-11-05T06:50:15.385352Z",
     "start_time": "2022-11-05T06:50:15.382762Z"
    }
   },
   "outputs": [],
   "source": [
    "params = {\n",
    "    'learning_rate': 0.05,\n",
    "    'boosting_type': 'gbdt',\n",
    "    'objective': 'binary',\n",
    "    'metric': 'auc',\n",
    "    'num_leaves': 31,\n",
    "    'verbose': -1,\n",
    "    'seed': 2222,\n",
    "    'n_jobs': -1,\n",
    "    'feature_fraction': 0.8,\n",
    "    'bagging_fraction': 0.9,\n",
    "    'bagging_freq': 4,\n",
    "    # 'min_child_weight': 10,\n",
    "}\n",
    "\n",
    "res_sort_col = 'id'"
   ]
  },
  {
   "cell_type": "code",
   "execution_count": 25,
   "id": "2452b522",
   "metadata": {
    "ExecuteTime": {
     "end_time": "2022-11-05T06:50:18.540711Z",
     "start_time": "2022-11-05T06:50:15.386681Z"
    }
   },
   "outputs": [
    {
     "name": "stdout",
     "output_type": "stream",
     "text": [
      "----------- 0\n",
      "Training until validation scores don't improve for 100 rounds\n",
      "[10]\ttraining's auc: 0.764415\tvalid_1's auc: 0.756393\n",
      "[20]\ttraining's auc: 0.768503\tvalid_1's auc: 0.755391\n",
      "[30]\ttraining's auc: 0.770732\tvalid_1's auc: 0.754873\n",
      "[40]\ttraining's auc: 0.772602\tvalid_1's auc: 0.754283\n",
      "[50]\ttraining's auc: 0.774953\tvalid_1's auc: 0.753952\n",
      "[60]\ttraining's auc: 0.775819\tvalid_1's auc: 0.753835\n",
      "[70]\ttraining's auc: 0.777138\tvalid_1's auc: 0.753028\n",
      "[80]\ttraining's auc: 0.779112\tvalid_1's auc: 0.753024\n",
      "[90]\ttraining's auc: 0.780647\tvalid_1's auc: 0.752382\n",
      "[100]\ttraining's auc: 0.782445\tvalid_1's auc: 0.751473\n",
      "Early stopping, best iteration is:\n",
      "[4]\ttraining's auc: 0.761858\tvalid_1's auc: 0.759193\n",
      "----------- 1\n",
      "Training until validation scores don't improve for 100 rounds\n",
      "[10]\ttraining's auc: 0.770557\tvalid_1's auc: 0.742834\n",
      "[20]\ttraining's auc: 0.773054\tvalid_1's auc: 0.742082\n",
      "[30]\ttraining's auc: 0.776569\tvalid_1's auc: 0.74178\n",
      "[40]\ttraining's auc: 0.778908\tvalid_1's auc: 0.741463\n",
      "[50]\ttraining's auc: 0.780231\tvalid_1's auc: 0.740713\n",
      "[60]\ttraining's auc: 0.780977\tvalid_1's auc: 0.740437\n",
      "[70]\ttraining's auc: 0.78224\tvalid_1's auc: 0.739329\n",
      "[80]\ttraining's auc: 0.782827\tvalid_1's auc: 0.738584\n",
      "[90]\ttraining's auc: 0.78391\tvalid_1's auc: 0.737619\n",
      "[100]\ttraining's auc: 0.785264\tvalid_1's auc: 0.737052\n",
      "Early stopping, best iteration is:\n",
      "[2]\ttraining's auc: 0.76424\tvalid_1's auc: 0.74382\n",
      "----------- 2\n",
      "Training until validation scores don't improve for 100 rounds\n",
      "[10]\ttraining's auc: 0.768324\tvalid_1's auc: 0.750682\n",
      "[20]\ttraining's auc: 0.770593\tvalid_1's auc: 0.749061\n",
      "[30]\ttraining's auc: 0.772184\tvalid_1's auc: 0.749313\n",
      "[40]\ttraining's auc: 0.774477\tvalid_1's auc: 0.74775\n",
      "[50]\ttraining's auc: 0.776536\tvalid_1's auc: 0.74592\n",
      "[60]\ttraining's auc: 0.779213\tvalid_1's auc: 0.744873\n",
      "[70]\ttraining's auc: 0.780236\tvalid_1's auc: 0.74401\n",
      "[80]\ttraining's auc: 0.781455\tvalid_1's auc: 0.743675\n",
      "[90]\ttraining's auc: 0.782793\tvalid_1's auc: 0.742912\n",
      "[100]\ttraining's auc: 0.783351\tvalid_1's auc: 0.743086\n",
      "Early stopping, best iteration is:\n",
      "[7]\ttraining's auc: 0.767762\tvalid_1's auc: 0.751553\n",
      "----------- 3\n",
      "Training until validation scores don't improve for 100 rounds\n",
      "[10]\ttraining's auc: 0.765241\tvalid_1's auc: 0.759362\n",
      "[20]\ttraining's auc: 0.767374\tvalid_1's auc: 0.758041\n",
      "[30]\ttraining's auc: 0.770823\tvalid_1's auc: 0.755859\n",
      "[40]\ttraining's auc: 0.772115\tvalid_1's auc: 0.755634\n",
      "[50]\ttraining's auc: 0.773883\tvalid_1's auc: 0.754771\n",
      "[60]\ttraining's auc: 0.774973\tvalid_1's auc: 0.753974\n",
      "[70]\ttraining's auc: 0.777617\tvalid_1's auc: 0.752012\n",
      "[80]\ttraining's auc: 0.779613\tvalid_1's auc: 0.750492\n",
      "[90]\ttraining's auc: 0.780242\tvalid_1's auc: 0.750252\n",
      "[100]\ttraining's auc: 0.781373\tvalid_1's auc: 0.748643\n",
      "Early stopping, best iteration is:\n",
      "[4]\ttraining's auc: 0.761507\tvalid_1's auc: 0.761175\n",
      "----------- 4\n",
      "Training until validation scores don't improve for 100 rounds\n",
      "[10]\ttraining's auc: 0.766555\tvalid_1's auc: 0.756748\n",
      "[20]\ttraining's auc: 0.769174\tvalid_1's auc: 0.754983\n",
      "[30]\ttraining's auc: 0.771688\tvalid_1's auc: 0.753135\n",
      "[40]\ttraining's auc: 0.774393\tvalid_1's auc: 0.753232\n",
      "[50]\ttraining's auc: 0.77633\tvalid_1's auc: 0.752432\n",
      "[60]\ttraining's auc: 0.778745\tvalid_1's auc: 0.75074\n",
      "[70]\ttraining's auc: 0.78063\tvalid_1's auc: 0.750545\n",
      "[80]\ttraining's auc: 0.782167\tvalid_1's auc: 0.749339\n",
      "[90]\ttraining's auc: 0.783831\tvalid_1's auc: 0.748955\n",
      "[100]\ttraining's auc: 0.784584\tvalid_1's auc: 0.748924\n",
      "Early stopping, best iteration is:\n",
      "[7]\ttraining's auc: 0.76329\tvalid_1's auc: 0.757542\n"
     ]
    },
    {
     "data": {
      "text/html": [
       "<div>\n",
       "<style scoped>\n",
       "    .dataframe tbody tr th:only-of-type {\n",
       "        vertical-align: middle;\n",
       "    }\n",
       "\n",
       "    .dataframe tbody tr th {\n",
       "        vertical-align: top;\n",
       "    }\n",
       "\n",
       "    .dataframe thead th {\n",
       "        text-align: right;\n",
       "    }\n",
       "</style>\n",
       "<table border=\"1\" class=\"dataframe\">\n",
       "  <thead>\n",
       "    <tr style=\"text-align: right;\">\n",
       "      <th></th>\n",
       "      <th>name</th>\n",
       "      <th>importance</th>\n",
       "    </tr>\n",
       "  </thead>\n",
       "  <tbody>\n",
       "    <tr>\n",
       "      <th>2</th>\n",
       "      <td>ip_transform</td>\n",
       "      <td>16158.975797</td>\n",
       "    </tr>\n",
       "    <tr>\n",
       "      <th>9</th>\n",
       "      <td>http_status_code</td>\n",
       "      <td>11083.731878</td>\n",
       "    </tr>\n",
       "    <tr>\n",
       "      <th>12</th>\n",
       "      <td>url</td>\n",
       "      <td>2684.825643</td>\n",
       "    </tr>\n",
       "    <tr>\n",
       "      <th>8</th>\n",
       "      <td>ip_type</td>\n",
       "      <td>332.164749</td>\n",
       "    </tr>\n",
       "    <tr>\n",
       "      <th>0</th>\n",
       "      <td>user_name</td>\n",
       "      <td>295.542932</td>\n",
       "    </tr>\n",
       "    <tr>\n",
       "      <th>3</th>\n",
       "      <td>device_num_transform</td>\n",
       "      <td>138.568509</td>\n",
       "    </tr>\n",
       "    <tr>\n",
       "      <th>10</th>\n",
       "      <td>op_city</td>\n",
       "      <td>64.756882</td>\n",
       "    </tr>\n",
       "    <tr>\n",
       "      <th>4</th>\n",
       "      <td>browser_version</td>\n",
       "      <td>25.030074</td>\n",
       "    </tr>\n",
       "    <tr>\n",
       "      <th>1</th>\n",
       "      <td>department</td>\n",
       "      <td>22.467580</td>\n",
       "    </tr>\n",
       "    <tr>\n",
       "      <th>11</th>\n",
       "      <td>log_system_transform</td>\n",
       "      <td>20.071158</td>\n",
       "    </tr>\n",
       "    <tr>\n",
       "      <th>7</th>\n",
       "      <td>os_version</td>\n",
       "      <td>4.953040</td>\n",
       "    </tr>\n",
       "    <tr>\n",
       "      <th>5</th>\n",
       "      <td>browser</td>\n",
       "      <td>4.819038</td>\n",
       "    </tr>\n",
       "    <tr>\n",
       "      <th>6</th>\n",
       "      <td>os_type</td>\n",
       "      <td>0.000000</td>\n",
       "    </tr>\n",
       "  </tbody>\n",
       "</table>\n",
       "</div>"
      ],
      "text/plain": [
       "                    name    importance\n",
       "2           ip_transform  16158.975797\n",
       "9       http_status_code  11083.731878\n",
       "12                   url   2684.825643\n",
       "8                ip_type    332.164749\n",
       "0              user_name    295.542932\n",
       "3   device_num_transform    138.568509\n",
       "10               op_city     64.756882\n",
       "4        browser_version     25.030074\n",
       "1             department     22.467580\n",
       "11  log_system_transform     20.071158\n",
       "7             os_version      4.953040\n",
       "5                browser      4.819038\n",
       "6                os_type      0.000000"
      ]
     },
     "metadata": {},
     "output_type": "display_data"
    },
    {
     "name": "stdout",
     "output_type": "stream",
     "text": [
      "训练集AUC均值：0.7546565408290457, 训练集合AUC方差: 0.006299987226037399\n"
     ]
    }
   ],
   "source": [
    "fold_num = 5\n",
    "seeds = [2022]\n",
    "oof = np.zeros(len(df_train))\n",
    "importance = 0\n",
    "pred_y = pd.DataFrame()\n",
    "score = []\n",
    "\n",
    "\n",
    "for seed in seeds:\n",
    "    kf = StratifiedKFold(n_splits=fold_num, shuffle=True, random_state=seed)\n",
    "    for fold, (train_idx, val_idx) in enumerate(kf.split(df_train[feats], df_train[y_label])):\n",
    "        print('-----------', fold)\n",
    "        # 数据集构造\n",
    "        train = lgb.Dataset(df_train.loc[train_idx, feats],\n",
    "                            df_train.loc[train_idx, y_label]\n",
    "                           )\n",
    "        val = lgb.Dataset(df_train.loc[val_idx, feats],\n",
    "                          df_train.loc[val_idx, y_label]\n",
    "                         )\n",
    "        # 模型训练\n",
    "        model = lgb.train(params, train, valid_sets=[train, val], \n",
    "                          num_boost_round=20000, early_stopping_rounds=100, verbose_eval=10)\n",
    "        \n",
    "        # 结果及得分获取\n",
    "        oof[val_idx] += model.predict(df_train.loc[val_idx, feats]) / len(seeds)\n",
    "        pred_y['fold_%d_seed_%d' % (fold, seed)] = model.predict(df_test[feats])\n",
    "        importance += model.feature_importance(importance_type='gain') / fold_num\n",
    "        score.append(auc(df_train.loc[val_idx, y_label], model.predict(df_train.loc[val_idx, feats])))\n",
    "\n",
    "# 特征重要性获取\n",
    "feats_importance = pd.DataFrame()\n",
    "feats_importance['name'] = feats\n",
    "feats_importance['importance'] = importance\n",
    "display(feats_importance.sort_values('importance', ascending=False)[:30])\n",
    "\n",
    "# 训练集得分效果\n",
    "df_train['oof'] = oof\n",
    "print('训练集AUC均值：{}, 训练集合AUC方差: {}'.format(np.mean(score), np.std(score)))\n",
    "\n",
    "# 测试集合结果输出\n",
    "score = np.mean(score)\n",
    "df_test[y_label] = pred_y.mean(axis=1).values\n",
    "df_test = df_test.sort_values(res_sort_col).reset_index(drop=True)\n"
   ]
  },
  {
   "cell_type": "code",
   "execution_count": 26,
   "id": "16c6d924",
   "metadata": {
    "ExecuteTime": {
     "end_time": "2022-11-05T06:50:18.544646Z",
     "start_time": "2022-11-05T06:50:18.542131Z"
    }
   },
   "outputs": [
    {
     "name": "stdout",
     "output_type": "stream",
     "text": [
      "训练集AUC均值：0.7546565408290457, 训练集合AUC方差: 0.0\n"
     ]
    }
   ],
   "source": [
    "# 训练集得分效果\n",
    "print('训练集AUC均值：{}, 训练集合AUC方差: {}'.format(np.mean(score), np.std(score)))"
   ]
  },
  {
   "cell_type": "code",
   "execution_count": 27,
   "id": "a15b0b90",
   "metadata": {
    "ExecuteTime": {
     "end_time": "2022-11-05T06:50:18.607483Z",
     "start_time": "2022-11-05T06:50:18.552734Z"
    }
   },
   "outputs": [],
   "source": [
    "if not os.path.exists(path_results_version):\n",
    "    os.makedirs(path_results_version)\n",
    "\n",
    "# 结果保存\n",
    "sub = pd.read_csv(path_sample_submission)\n",
    "sub[y_label] = df_test[y_label].values\n",
    "sub.to_csv(os.path.join(path_results_version,time.strftime('lgb_%Y%m%d%H%M_')+'%.5f.csv'%score), index=False)"
   ]
  },
  {
   "cell_type": "code",
   "execution_count": null,
   "id": "d6415089",
   "metadata": {},
   "outputs": [],
   "source": []
  }
 ],
 "metadata": {
  "hide_input": false,
  "kernelspec": {
   "display_name": "Python [conda env:scorpyo]",
   "language": "python",
   "name": "conda-env-scorpyo-py"
  },
  "language_info": {
   "codemirror_mode": {
    "name": "ipython",
    "version": 3
   },
   "file_extension": ".py",
   "mimetype": "text/x-python",
   "name": "python",
   "nbconvert_exporter": "python",
   "pygments_lexer": "ipython3",
   "version": "3.7.13"
  },
  "toc": {
   "base_numbering": 1,
   "nav_menu": {},
   "number_sections": true,
   "sideBar": true,
   "skip_h1_title": false,
   "title_cell": "Table of Contents",
   "title_sidebar": "Contents",
   "toc_cell": false,
   "toc_position": {},
   "toc_section_display": true,
   "toc_window_display": true
  }
 },
 "nbformat": 4,
 "nbformat_minor": 5
}
