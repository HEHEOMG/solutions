{
 "cells": [
  {
   "cell_type": "code",
   "execution_count": 10,
   "id": "a2becb4f",
   "metadata": {
    "ExecuteTime": {
     "end_time": "2022-10-21T08:55:07.965638Z",
     "start_time": "2022-10-21T08:55:07.952090Z"
    }
   },
   "outputs": [],
   "source": [
    "def get_task_start_and_end_time(args, interval=2):\n",
    "    now = datetime.datetime.now()\n",
    "    today = datetime.date.today().strftime('%Y-%m-%d')\n",
    "    start_time = ' '.join([today, args])\n",
    "    start_time = datetime.datetime.strptime(start_time, '%Y-%m-%d %H:%M:%S')\n",
    "    if now < start_time:\n",
    "        start_time -= datetime.timedelta(days=1)\n",
    "    end_time = start_time + datetime.timedelta(hours=interval)\n",
    "    # 计算任务的真实结束时间\n",
    "    for i in range(24):\n",
    "        if start_time < datetime.datetime.now() < end_time:\n",
    "            break\n",
    "        start_time += datetime.timedelta(hours=interval)\n",
    "        end_time = start_time + datetime.timedelta(hours=interval)\n",
    "    return start_time, end_time"
   ]
  },
  {
   "cell_type": "code",
   "execution_count": 11,
   "id": "556650c4",
   "metadata": {
    "ExecuteTime": {
     "end_time": "2022-10-21T08:55:08.375078Z",
     "start_time": "2022-10-21T08:55:08.370964Z"
    }
   },
   "outputs": [],
   "source": [
    "import datetime"
   ]
  },
  {
   "cell_type": "code",
   "execution_count": 12,
   "id": "96ac0b5d",
   "metadata": {
    "ExecuteTime": {
     "end_time": "2022-10-21T08:55:08.719615Z",
     "start_time": "2022-10-21T08:55:08.700008Z"
    }
   },
   "outputs": [
    {
     "data": {
      "text/plain": [
       "(datetime.datetime(2022, 10, 21, 15, 59, 59),\n",
       " datetime.datetime(2022, 10, 21, 17, 59, 59))"
      ]
     },
     "execution_count": 12,
     "metadata": {},
     "output_type": "execute_result"
    }
   ],
   "source": [
    "get_task_start_and_end_time('23:59:59')"
   ]
  },
  {
   "cell_type": "code",
   "execution_count": 13,
   "id": "04ec0067",
   "metadata": {
    "ExecuteTime": {
     "end_time": "2022-10-21T09:25:00.373628Z",
     "start_time": "2022-10-21T09:25:00.346155Z"
    }
   },
   "outputs": [],
   "source": [
    "def register(name=None, registry=None):\n",
    "    def decorator(fn, registration_name=None):\n",
    "        module_name = registration_name or fn.__name__\n",
    "        if module_name in registry:\n",
    "            raise Exception('repeat module name')\n",
    "        registry[module_name] = fn\n",
    "        return fn\n",
    "\n",
    "    return lambda fn: decorator(fn, name)\n"
   ]
  },
  {
   "cell_type": "code",
   "execution_count": 15,
   "id": "61d58260",
   "metadata": {
    "ExecuteTime": {
     "end_time": "2022-10-21T09:25:43.155451Z",
     "start_time": "2022-10-21T09:25:43.151016Z"
    }
   },
   "outputs": [],
   "source": [
    "\n",
    "from functools import partial"
   ]
  },
  {
   "cell_type": "code",
   "execution_count": 16,
   "id": "5dee1532",
   "metadata": {
    "ExecuteTime": {
     "end_time": "2022-10-21T09:25:43.508316Z",
     "start_time": "2022-10-21T09:25:43.503192Z"
    }
   },
   "outputs": [],
   "source": [
    "\n",
    "register_modules = {}\n",
    "module_register = partial(register, registry=register_modules)"
   ]
  },
  {
   "cell_type": "code",
   "execution_count": 21,
   "id": "238cd489",
   "metadata": {
    "ExecuteTime": {
     "end_time": "2022-10-21T09:35:20.848547Z",
     "start_time": "2022-10-21T09:35:20.840913Z"
    }
   },
   "outputs": [
    {
     "data": {
      "text/plain": [
       "'ff'"
      ]
     },
     "execution_count": 21,
     "metadata": {},
     "output_type": "execute_result"
    }
   ],
   "source": [
    "module_register('ddd')('ff')"
   ]
  },
  {
   "cell_type": "code",
   "execution_count": null,
   "id": "a2ae1db0",
   "metadata": {},
   "outputs": [],
   "source": []
  }
 ],
 "metadata": {
  "hide_input": false,
  "kernelspec": {
   "display_name": "Python [conda env:scorpyo]",
   "language": "python",
   "name": "conda-env-scorpyo-py"
  },
  "language_info": {
   "codemirror_mode": {
    "name": "ipython",
    "version": 3
   },
   "file_extension": ".py",
   "mimetype": "text/x-python",
   "name": "python",
   "nbconvert_exporter": "python",
   "pygments_lexer": "ipython3",
   "version": "3.7.13"
  },
  "toc": {
   "base_numbering": 1,
   "nav_menu": {},
   "number_sections": true,
   "sideBar": true,
   "skip_h1_title": false,
   "title_cell": "Table of Contents",
   "title_sidebar": "Contents",
   "toc_cell": false,
   "toc_position": {},
   "toc_section_display": true,
   "toc_window_display": false
  }
 },
 "nbformat": 4,
 "nbformat_minor": 5
}
