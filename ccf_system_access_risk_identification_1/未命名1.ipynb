{
 "cells": [
  {
   "cell_type": "code",
   "execution_count": null,
   "id": "817130d2",
   "metadata": {},
   "outputs": [],
   "source": [
    "import sys \n",
    "for line in sys.stdin:\n",
    "    a = line.split()\n",
    "    print(int(a[0]) + int(a[1]))"
   ]
  },
  {
   "cell_type": "code",
   "execution_count": null,
   "id": "6ff287fe",
   "metadata": {},
   "outputs": [],
   "source": [
    "import sys\n",
    "if __name__ == \"__main__\":\n",
    "    # 读取第一行的n\n",
    "    n = int(sys.stdin.readline().strip())\n",
    "    ans = 0\n",
    "    for i in range(n):\n",
    "        # 读取每一行\n",
    "        line = sys.stdin.readline().strip()\n",
    "        # 把每一行的数字分隔后转化成int列表\n",
    "        values = list(map(int, line.split()))\n",
    "        for v in values:\n",
    "            ans += v\n",
    "    print(ans)"
   ]
  },
  {
   "cell_type": "code",
   "execution_count": 3,
   "id": "95edbedc",
   "metadata": {
    "ExecuteTime": {
     "end_time": "2022-10-22T02:07:37.366800Z",
     "start_time": "2022-10-22T02:07:37.360801Z"
    }
   },
   "outputs": [
    {
     "name": "stdout",
     "output_type": "stream",
     "text": [
      "5\n",
      "4\n",
      "3\n",
      "2\n",
      "1\n",
      "0\n"
     ]
    }
   ],
   "source": [
    "\n",
    "    for i in range(5,-1,-1):\n",
    "        print(i)"
   ]
  },
  {
   "cell_type": "code",
   "execution_count": 16,
   "id": "b17debd9",
   "metadata": {
    "ExecuteTime": {
     "end_time": "2022-10-22T02:12:59.568128Z",
     "start_time": "2022-10-22T02:12:59.557931Z"
    }
   },
   "outputs": [
    {
     "name": "stdout",
     "output_type": "stream",
     "text": [
      "1,0,0\n"
     ]
    }
   ],
   "source": [
    "import sys \n",
    "\n",
    "\n",
    "if __name__ == '__main__':\n",
    "    # 读取数组\n",
    "    line = [9,9]\n",
    "    flag = 1\n",
    "    for i in range(len(line)-1,-1,-1):\n",
    "        if flag==1:\n",
    "            tmp = int(line[i])+1\n",
    "            if tmp>9:\n",
    "                flag=1\n",
    "            else:\n",
    "                flag=0\n",
    "            line[i]=tmp%10\n",
    "        \n",
    "    if flag==1:\n",
    "        print('1,'+','.join([str(i) for i in line]))\n",
    "    else:\n",
    "        print(','.join([str(i) for i in line]))\n",
    "    \n",
    "\n"
   ]
  },
  {
   "cell_type": "code",
   "execution_count": 6,
   "id": "30af4f58",
   "metadata": {
    "ExecuteTime": {
     "end_time": "2022-10-22T02:08:40.705041Z",
     "start_time": "2022-10-22T02:08:40.687036Z"
    }
   },
   "outputs": [
    {
     "data": {
      "text/plain": [
       "[2, 3, 4]"
      ]
     },
     "execution_count": 6,
     "metadata": {},
     "output_type": "execute_result"
    }
   ],
   "source": [
    "line"
   ]
  },
  {
   "cell_type": "code",
   "execution_count": 19,
   "id": "6449bbb8",
   "metadata": {
    "ExecuteTime": {
     "end_time": "2022-10-22T02:19:54.001534Z",
     "start_time": "2022-10-22T02:19:53.992722Z"
    }
   },
   "outputs": [
    {
     "name": "stdout",
     "output_type": "stream",
     "text": [
      "5,6,8,\n"
     ]
    }
   ],
   "source": [
    "line =[5,6,7]\n",
    "flag = 1\n",
    "res = ''\n",
    "for i in line[::-1]:\n",
    "    if flag ==1:\n",
    "        tmp = int(i) +1\n",
    "        if tmp>9:\n",
    "            flag=1\n",
    "        else:\n",
    "            flag=0\n",
    "        res = '{},'.format(tmp%10) + res\n",
    "    else:\n",
    "        res = '{},'.format(i) +res\n",
    "if flag==1:\n",
    "    print('1,'+res)\n",
    "else:\n",
    "    print(res)"
   ]
  },
  {
   "cell_type": "code",
   "execution_count": 22,
   "id": "db38eafd",
   "metadata": {
    "ExecuteTime": {
     "end_time": "2022-10-22T02:21:13.525916Z",
     "start_time": "2022-10-22T02:21:13.514559Z"
    }
   },
   "outputs": [
    {
     "ename": "TypeError",
     "evalue": "'type' object is not iterable",
     "output_type": "error",
     "traceback": [
      "\u001b[0;31m---------------------------------------------------------------------------\u001b[0m",
      "\u001b[0;31mTypeError\u001b[0m                                 Traceback (most recent call last)",
      "\u001b[0;32m/var/folders/m3/shkcm89n18z2byy6hjn24sv40000gn/T/ipykernel_63820/2721550718.py\u001b[0m in \u001b[0;36m<module>\u001b[0;34m\u001b[0m\n\u001b[0;32m----> 1\u001b[0;31m \u001b[0mlit\u001b[0m \u001b[0;34m=\u001b[0m \u001b[0mmap\u001b[0m\u001b[0;34m(\u001b[0m\u001b[0;34m[\u001b[0m\u001b[0;34m'1'\u001b[0m\u001b[0;34m]\u001b[0m\u001b[0;34m,\u001b[0m \u001b[0mint\u001b[0m\u001b[0;34m)\u001b[0m\u001b[0;34m\u001b[0m\u001b[0;34m\u001b[0m\u001b[0m\n\u001b[0m\u001b[1;32m      2\u001b[0m \u001b[0mlit\u001b[0m\u001b[0;34m\u001b[0m\u001b[0;34m\u001b[0m\u001b[0m\n",
      "\u001b[0;31mTypeError\u001b[0m: 'type' object is not iterable"
     ]
    }
   ],
   "source": [
    "lit = map(['1'], int)\n",
    "lit"
   ]
  },
  {
   "cell_type": "code",
   "execution_count": null,
   "id": "2df80dc2",
   "metadata": {},
   "outputs": [],
   "source": []
  },
  {
   "cell_type": "code",
   "execution_count": null,
   "id": "188a9026",
   "metadata": {},
   "outputs": [],
   "source": [
    "import sys \n",
    "\n",
    "\n",
    "if __name__ == '__main__':\n",
    "    # 读取数组\n",
    "    line = int, sys.stdin.readline().strip().split(',')\n",
    "    line = [int(x) for x in line]\n",
    "    flag = 1\n",
    "    res = ''\n",
    "    for i in line[::-1]:\n",
    "        if flag ==1:\n",
    "            tmp = int(i) +1\n",
    "            if tmp>9:\n",
    "                flag=1\n",
    "            else:\n",
    "                flag=0\n",
    "            res = '{},'.format(tmp%10) + res\n",
    "        else:\n",
    "            res = '{},'.format(i) +res\n",
    "    if flag==1:\n",
    "        print('1,'+res)\n",
    "    else:\n",
    "        print(res)\n",
    "    \n",
    "\n",
    "\n"
   ]
  },
  {
   "cell_type": "code",
   "execution_count": 31,
   "id": "1cfc7c10",
   "metadata": {
    "ExecuteTime": {
     "end_time": "2022-10-22T09:28:11.500653Z",
     "start_time": "2022-10-22T09:28:11.492641Z"
    }
   },
   "outputs": [],
   "source": [
    "from random import random\n",
    "\n",
    "h = [random() for i in range(100)]\n",
    "\n",
    "def func(nums):\n",
    "    num_len = len(nums)\n",
    "    res = []\n",
    "    for i in range(num_len):\n",
    "        tmp = sum([h[k]*nums[i-k] for k in range(i)])\n",
    "        res.append(tmp)\n",
    "    return res "
   ]
  },
  {
   "cell_type": "code",
   "execution_count": 32,
   "id": "25a935af",
   "metadata": {
    "ExecuteTime": {
     "end_time": "2022-10-22T09:28:12.253576Z",
     "start_time": "2022-10-22T09:28:12.247285Z"
    }
   },
   "outputs": [
    {
     "data": {
      "text/plain": [
       "[0, 0.9884139970012351, 2.1794088337879938]"
      ]
     },
     "execution_count": 32,
     "metadata": {},
     "output_type": "execute_result"
    }
   ],
   "source": [
    "func([1,2,3])"
   ]
  },
  {
   "cell_type": "code",
   "execution_count": null,
   "id": "a066a609",
   "metadata": {},
   "outputs": [],
   "source": []
  }
 ],
 "metadata": {
  "hide_input": false,
  "kernelspec": {
   "display_name": "Python [conda env:scorpyo]",
   "language": "python",
   "name": "conda-env-scorpyo-py"
  },
  "language_info": {
   "codemirror_mode": {
    "name": "ipython",
    "version": 3
   },
   "file_extension": ".py",
   "mimetype": "text/x-python",
   "name": "python",
   "nbconvert_exporter": "python",
   "pygments_lexer": "ipython3",
   "version": "3.7.13"
  },
  "toc": {
   "base_numbering": 1,
   "nav_menu": {},
   "number_sections": true,
   "sideBar": true,
   "skip_h1_title": false,
   "title_cell": "Table of Contents",
   "title_sidebar": "Contents",
   "toc_cell": false,
   "toc_position": {},
   "toc_section_display": true,
   "toc_window_display": false
  }
 },
 "nbformat": 4,
 "nbformat_minor": 5
}
