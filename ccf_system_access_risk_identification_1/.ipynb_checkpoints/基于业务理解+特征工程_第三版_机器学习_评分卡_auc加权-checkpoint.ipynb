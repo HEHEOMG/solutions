{
 "cells": [
  {
   "cell_type": "code",
   "execution_count": null,
   "id": "330829fc",
   "metadata": {
    "ExecuteTime": {
     "start_time": "2022-10-20T12:17:11.845Z"
    }
   },
   "outputs": [],
   "source": [
    "import os\n",
    "import re\n",
    "import numpy as np\n",
    "import pandas as pd\n",
    "import datetime\n",
    "\n",
    "import matplotlib.pyplot as plt\n",
    "import seaborn as sns\n",
    "\n",
    "import scorpyo as sp\n",
    "\n",
    "from null_importance import get_null_importance\n",
    "\n",
    "\n",
    "pd.set_option('max_rows', 500, 'max_columns', 200)"
   ]
  },
  {
   "cell_type": "code",
   "execution_count": null,
   "id": "43171b2f",
   "metadata": {
    "ExecuteTime": {
     "start_time": "2022-10-20T12:17:11.846Z"
    }
   },
   "outputs": [],
   "source": [
    "path_project = r'/Users/liliangshan/workspace/python/01_datasets/ccf_system_access_risk_identification'\n",
    "\n",
    "# path dir\n",
    "path_row_data = os.path.join(path_project, 'row_data')\n",
    "path_new_data = os.path.join(path_project, 'new_data')\n",
    "path_results  = os.path.join(path_project, 'results')\n",
    "path_results_jupyter  = os.path.join(path_results, 'jupyter')\n",
    "\n",
    "# path row_data\n",
    "path_train = os.path.join(path_row_data, 'train.csv')\n",
    "path_test  = os.path.join(path_row_data, 'evaluation_public.csv')\n",
    "path_sample_submission = os.path.join(path_row_data, 'submit_example.csv')\n",
    "\n",
    "\n",
    "path_new_train = os.path.join(path_new_data, 'train_lightgbm_20221014.csv')\n",
    "path_new_test  = os.path.join(path_new_data, 'test_lightgbm_20221014.csv')\n",
    "\n",
    "## results\n",
    "path_output_report = os.path.join(path_results, '01_原始数据探察_20221014.xlsx')\n",
    "\n",
    "y_label = \"is_risk\""
   ]
  },
  {
   "cell_type": "code",
   "execution_count": null,
   "id": "580778fb",
   "metadata": {
    "ExecuteTime": {
     "start_time": "2022-10-20T12:17:11.847Z"
    }
   },
   "outputs": [],
   "source": [
    "df_row_train = sp.read_data(path_train)\n",
    "df_row_val  = sp.read_data(path_test)\n",
    "\n",
    "df_row_train['url_sit'] = df_row_train['url'].map(lambda x: x.split('/')[0])\n",
    "df_row_train['url_page'] = df_row_train['url'].map(lambda x: x.split('/')[1])\n",
    "\n",
    "df_row_val['url_sit'] = df_row_val['url'].map(lambda x: x.split('/')[0])\n",
    "df_row_val['url_page'] = df_row_val['url'].map(lambda x: x.split('/')[1])\n",
    "\n",
    "\n",
    "\n",
    "df_train_info = df_row_train.copy().sort_values(by='op_datetime')"
   ]
  },
  {
   "cell_type": "markdown",
   "id": "6afd94c1",
   "metadata": {},
   "source": [
    "## 定义一次/一天/一月\n",
    "1. op\\_times\\_groups 一次\n",
    "2. op\\_days 一天\n",
    "3. op\\_month 一月"
   ]
  },
  {
   "cell_type": "code",
   "execution_count": null,
   "id": "2f5eb0cf",
   "metadata": {
    "ExecuteTime": {
     "start_time": "2022-10-20T12:17:11.848Z"
    }
   },
   "outputs": [],
   "source": [
    "df = pd.concat([df_row_train, df_row_val]).reset_index(drop=True)\n",
    "df = df.sort_values(by='op_datetime')\n",
    "\n",
    "# 认证日期时间\n",
    "df['op_datetime'] = pd.to_datetime(df['op_datetime'])\n",
    "# 将数据分为每一天\n",
    "df['op_days'] = df['op_datetime'].map(lambda x: x.strftime('%Y-%m-%d'))\n",
    "\n",
    "# 按客户进行统计这次认证和上次认证的时间差\n",
    "df['op_second'] = df['op_datetime']\n",
    "df['op_second1'] = df.groupby('device_num_transform')['op_second'].shift(1)\n",
    "df['op_diff_second1'] = (df['op_second'] - df['op_second1']).map(lambda x: x.total_seconds())\n",
    "df['op_diff_second1_tmp'] = df['op_diff_second1']>10\n",
    "# 客户第几次登录\n",
    "df['op_times_groups'] = df.groupby('device_num_transform')['op_diff_second1_tmp'].apply(lambda x: x.cumsum())\n",
    "\n",
    "# 系统层面的一段时间\n",
    "df['system_op_second'] = df['op_datetime']\n",
    "df['system_op_second1'] = df['system_op_second'].shift(1)\n",
    "df['system_op_diff_second1'] = (df['system_op_second'] - df['system_op_second1']).map(lambda x: x.total_seconds())\n",
    "df['system_op_diff_second1_tmp'] = df['system_op_diff_second1']>400\n",
    "# 客户第几次登录\n",
    "df['system_op_times_groups'] = df['system_op_diff_second1_tmp'].cumsum()\n",
    "\n",
    "df = df.drop(columns=['op_second','op_second1','op_diff_second1_tmp', \n",
    "                      'system_op_second', 'system_op_second1', 'system_op_diff_second1_tmp'])"
   ]
  },
  {
   "cell_type": "markdown",
   "id": "a0155b0e",
   "metadata": {},
   "source": [
    "## 环境特征"
   ]
  },
  {
   "cell_type": "code",
   "execution_count": null,
   "id": "c95414b9",
   "metadata": {
    "ExecuteTime": {
     "start_time": "2022-10-20T12:17:11.858Z"
    }
   },
   "outputs": [],
   "source": [
    "\n",
    "time_feats = ['system_op_times_groups', 'op_days', 'op_month']\n",
    "\n",
    "cate_feats = ['ip_transform', 'user_name', 'device_num_transform', 'department', 'browser_version', 'browser', 'os_type','os_version',\n",
    "              'ip_type','http_status_code', 'op_city', 'log_system_transform', 'url', 'url_page','url_sit']\n",
    "\n",
    "# 客户+时间+按时间cumsum/cumunique\n",
    "# 累计量统计\n",
    "df['helper'] = 1\n",
    "# 是否为异常状态码\n",
    "df['http_status_code_helper'] = df['http_status_code'].map(lambda x: 1 if x in [400, 500, 502, 404] else 0) \n",
    "# 给样本编号\n",
    "df['sampler_index_helper'] = df['helper'].cumsum()\n",
    "\n",
    "for i in time_feats:\n",
    "    i_tmp = df.groupby([i])\n",
    "    # 系统往前看，处理了多少事\n",
    "    df['system_{}_cumsum'.format(i)] = i_tmp['helper'].cumsum()\n",
    "    # 系统往前看，处理了多少坏事\n",
    "    df['system_{}_error_code_cumsum'.format(i)] = i_tmp['http_status_code_helper'].cumsum()\n",
    "    for j in cate_feats:\n",
    "        index_set = set(df.groupby([i, j],as_index=False).first()['sampler_index_helper'].values)\n",
    "        df['tmp_helper'] = df['sampler_index_helper'].map(lambda x: 1 if x in index_set else 0)\n",
    "        # 系统往前看，不同维度的处理了多少情况\n",
    "        df['system_{}_{}_cumunique'.format(i, j)] = df.groupby([i, j])['tmp_helper'].cumsum()\n",
    "        \n",
    "        if j not in ['ip_transform', 'user_name', 'device_num_transform']:\n",
    "            for k in df[j].unique():\n",
    "                tmp = df[df[j]==k].groupby([i])\n",
    "\n",
    "                # 系统往前看，不同维度不同情况分别处理了多少次\n",
    "                df['system_{}_{}_{}_cumsum'.format(i,j,k)] = tmp['helper'].cumsum()\n",
    "                # 系统往前看，不同维度不同情况error_code分别处理了多少次\n",
    "                df['system_{}_{}_{}_error_code_cumsum'.format(i,j,k)] = tmp['http_status_code_helper'].cumsum()\n",
    "\n",
    "remove_cols = [x for x in df.columns if x[-6:]=='helper']\n",
    "\n",
    "df = df.drop(columns=remove_cols)"
   ]
  },
  {
   "cell_type": "markdown",
   "id": "cb8e52cc",
   "metadata": {},
   "source": [
    "## 对象层面"
   ]
  },
  {
   "cell_type": "code",
   "execution_count": null,
   "id": "fe66cda3",
   "metadata": {
    "ExecuteTime": {
     "start_time": "2022-10-20T12:17:11.860Z"
    }
   },
   "outputs": [],
   "source": [
    "\n",
    "time_feats = ['op_times_groups', 'op_days', 'op_month']\n",
    "\n",
    "object_feats = ['ip_transform', 'user_name', 'device_num_transform']\n",
    "\n",
    "cate_feats = ['ip_transform', 'user_name', 'device_num_transform', 'department', 'browser_version', 'browser', 'os_type','os_version',\n",
    "              'ip_type','http_status_code', 'op_city', 'log_system_transform', 'url', 'url_page','url_sit']\n",
    "\n",
    "# 客户+时间+按时间cumsum/cumunique\n",
    "# 累计量统计\n",
    "df['helper'] = 1\n",
    "# 是否为异常状态码\n",
    "df['http_status_code_helper'] = df['http_status_code'].map(lambda x: 1 if x in [400, 500, 502, 404] else 0) \n",
    "# 给样本编号\n",
    "df['sampler_index_helper'] = df['helper'].cumsum()\n",
    "\n",
    "\n",
    "for i in time_feats:\n",
    "    for j in object_feats:\n",
    "        j_tmp = df.groupby([i,j])\n",
    "        df['{}_{}_cumsum'.format(i,j)] = j_tmp['helper'].cumsum()\n",
    "        df['{}_{}_error_code_cumsum'.format(i,j)] = j_tmp['http_status_code_helper'].cumsum()\n",
    "        for k in cate_feats:\n",
    "            if k == j: continue\n",
    "            index_set = set(df.groupby([i,j,k], as_index=False).first()['sampler_index_helper'].values)            \n",
    "            df['tmp_helper'] = df['sampler_index_helper'].map(lambda x: 1 if x in index_set else 0)\n",
    "            df['{}_{}_{}_cumunique'.format(i,j,k)] = df.groupby([i,j,k])['tmp_helper'].cumsum()\n",
    "            \n",
    "            if k not in ['ip_transform', 'user_name', 'device_num_transform']:\n",
    "                for v in df[k].unique():\n",
    "                    v_tmp = df[df[k]==v].groupby([i,j])\n",
    "                    df['{}_{}_{}_{}_cumsum'.format(i,j,k,v)] = v_tmp['helper'].cumsum()\n",
    "                    df['{}_{}_{}_{}_error_code_cumsum'.format(i,j,k,v)] = v_tmp['http_status_code_helper'].cumsum()\n",
    "\n",
    "remove_cols = [x for x in df.columns if x[-6:]=='helper']\n",
    "\n",
    "df = df.drop(columns=remove_cols)"
   ]
  },
  {
   "cell_type": "markdown",
   "id": "e77357ff",
   "metadata": {},
   "source": [
    "## 其它操作"
   ]
  },
  {
   "cell_type": "code",
   "execution_count": null,
   "id": "db16e513",
   "metadata": {
    "ExecuteTime": {
     "start_time": "2022-10-20T12:17:11.861Z"
    }
   },
   "outputs": [],
   "source": [
    "# 几点钟\n",
    "df['hour'] = df['op_datetime'].dt.hour\n",
    "df['hour_sin'] = np.sin(df['hour']/24*2*np.pi)\n",
    "df['hour_cos'] = np.cos(df['hour']/24*2*np.pi)\n",
    "\n",
    "# 周几\n",
    "df['dayofweek'] = df['op_datetime'].dt.dayofweek\n",
    "df['dayofweek_sin'] = np.sin(df['dayofweek']/7*2*np.pi)\n",
    "df['dayofweek_cos'] = np.cos(df['dayofweek']/7*2*np.pi)\n",
    "\n",
    "# 一个月的第几天\n",
    "df['day'] = df['op_datetime'].dt.day\n",
    "df['day_sin'] = np.sin(df['day']/31*2*np.pi)\n",
    "df['day_cos'] = np.cos(df['day']/31*2*np.pi)"
   ]
  },
  {
   "cell_type": "markdown",
   "id": "5ad3ba5e",
   "metadata": {},
   "source": [
    "## 特征筛选"
   ]
  },
  {
   "cell_type": "code",
   "execution_count": null,
   "id": "d056c520",
   "metadata": {
    "ExecuteTime": {
     "start_time": "2022-10-20T12:17:11.862Z"
    }
   },
   "outputs": [],
   "source": [
    "# 删除时间及类别型变量过多的特征\n",
    "remove_col = ['op_datetime', 'op_month', 'user_name', 'ip_transform', 'device_num_transform', 'op_days', 'ts', 'ts1', 'ts2','ts3']\n",
    "\n",
    "remove_col = [x for x in df.columns if x in remove_col]\n",
    "df = df.drop(columns=remove_col)\n",
    "df.head()"
   ]
  },
  {
   "cell_type": "code",
   "execution_count": null,
   "id": "21fa0fae",
   "metadata": {
    "ExecuteTime": {
     "start_time": "2022-10-20T12:17:11.863Z"
    }
   },
   "outputs": [],
   "source": [
    "df_row_train = df[df[y_label].notna()].reset_index(drop=True)\n",
    "df_row_val = df[df[y_label].isna()].reset_index(drop=True)\n",
    "\n",
    "df_train, df_test, convert_cols = sp.transform_data_detail(df_row_train, df_row_val, y_label, excel_path=path_output_report)\n",
    "df_train.head()"
   ]
  },
  {
   "cell_type": "code",
   "execution_count": null,
   "id": "4738c06c",
   "metadata": {
    "ExecuteTime": {
     "start_time": "2022-10-20T12:17:11.863Z"
    }
   },
   "outputs": [],
   "source": [
    "# df_train = df[df[y_label].notna()].reset_index(drop=True)\n",
    "# df_test = df[df[y_label].isna()].reset_index(drop=True)\n",
    "\n",
    "df_train_extend = df_train[[y_label,'id']]\n",
    "df_test_extend = df_test[[y_label,'id']]"
   ]
  },
  {
   "cell_type": "code",
   "execution_count": null,
   "id": "d5d290c1",
   "metadata": {
    "ExecuteTime": {
     "start_time": "2022-10-20T12:17:11.864Z"
    }
   },
   "outputs": [],
   "source": [
    "# df_train = df_train.fillna(-999)\n",
    "# df_test = df_test.fillna(-999)"
   ]
  },
  {
   "cell_type": "markdown",
   "id": "31105cec",
   "metadata": {},
   "source": [
    "### null importance特征筛选"
   ]
  },
  {
   "cell_type": "code",
   "execution_count": null,
   "id": "d5195c62",
   "metadata": {
    "ExecuteTime": {
     "start_time": "2022-10-20T12:17:11.864Z"
    }
   },
   "outputs": [],
   "source": [
    "feats, categorical_feats = get_null_importance(df_train.drop(columns=[y_label,'id']).copy(),\n",
    "                                               df_train[y_label].copy(), \n",
    "                                               thresholds=15)"
   ]
  },
  {
   "cell_type": "code",
   "execution_count": null,
   "id": "cc08a7ae",
   "metadata": {
    "ExecuteTime": {
     "start_time": "2022-10-20T12:17:11.865Z"
    }
   },
   "outputs": [],
   "source": [
    "\n",
    "object_feats = ['ip_transform', 'user_name', 'device_num_transform']\n",
    "\n",
    "df_train = pd.concat([df_train_info[object_feats], df_train[feats], df_train_extend], axis=1)\n",
    "df_test = pd.concat([df_test[feats], df_test_extend], axis=1)"
   ]
  },
  {
   "cell_type": "markdown",
   "id": "79e2e216",
   "metadata": {},
   "source": [
    "## modeling"
   ]
  },
  {
   "cell_type": "code",
   "execution_count": null,
   "id": "b5654ab0",
   "metadata": {
    "ExecuteTime": {
     "start_time": "2022-10-20T12:17:11.865Z"
    }
   },
   "outputs": [],
   "source": [
    "feats = df_train.columns.drop(['id', y_label]+object_feats)\n",
    "feats = feats.drop(categorical_feats)\n",
    "#feats "
   ]
  },
  {
   "cell_type": "code",
   "execution_count": null,
   "id": "7a97cd83",
   "metadata": {
    "ExecuteTime": {
     "start_time": "2022-10-20T12:17:11.866Z"
    }
   },
   "outputs": [],
   "source": [
    "# feats = feats_importance.sort_values('importance', ascending=False)[:50]['name'].values"
   ]
  },
  {
   "cell_type": "code",
   "execution_count": null,
   "id": "120b9c6a",
   "metadata": {
    "ExecuteTime": {
     "start_time": "2022-10-20T12:17:11.867Z"
    }
   },
   "outputs": [],
   "source": [
    "\n",
    "import time\n",
    "from sklearn.metrics import roc_auc_score as auc\n",
    "import lightgbm as lgb\n",
    "from sklearn.model_selection import StratifiedKFold, KFold"
   ]
  },
  {
   "cell_type": "code",
   "execution_count": null,
   "id": "d24d9b1f",
   "metadata": {
    "ExecuteTime": {
     "start_time": "2022-10-20T12:17:11.867Z"
    }
   },
   "outputs": [],
   "source": [
    "params = {\n",
    "    'learning_rate': 0.05,\n",
    "    'boosting_type': 'gbdt',\n",
    "    'objective': 'binary',\n",
    "    'metric': 'auc',\n",
    "    'num_leaves': 31,\n",
    "    'verbose': -1,\n",
    "    'seed': 2222,\n",
    "    'n_jobs': -1,\n",
    "    'feature_fraction': 0.8,\n",
    "    'bagging_fraction': 0.9,\n",
    "    'bagging_freq': 4,\n",
    "    # 'min_child_weight': 10,\n",
    "}"
   ]
  },
  {
   "cell_type": "code",
   "execution_count": null,
   "id": "9e5f9031",
   "metadata": {
    "ExecuteTime": {
     "start_time": "2022-10-20T12:17:11.868Z"
    }
   },
   "outputs": [],
   "source": [
    "fold_num = 5\n",
    "seeds = [2022]\n",
    "oof = np.zeros(len(df_train))\n",
    "importance = 0\n",
    "pred_y = pd.DataFrame()\n",
    "score = []\n",
    "for seed in seeds:\n",
    "    kf = StratifiedKFold(n_splits=fold_num, shuffle=True, random_state=seed)\n",
    "    # kf = KFold(n_splits=fold_num, shuffle=True, random_state=seed)\n",
    "    for fold, (train_idx, val_idx) in enumerate(kf.split(df_train[feats], df_train[y_label])):\n",
    "        print('-----------', fold)\n",
    "        train = lgb.Dataset(df_train.loc[train_idx, feats],\n",
    "                            df_train.loc[train_idx, y_label],\n",
    "                           # categorical_feature=categorical_feats\n",
    "                           )\n",
    "        val = lgb.Dataset(df_train.loc[val_idx, feats],\n",
    "                          df_train.loc[val_idx, y_label],\n",
    "                          #categorical_feature=categorical_feats\n",
    "                         )\n",
    "        model = lgb.train(params, train, valid_sets=[val], \n",
    "                          num_boost_round=20000, early_stopping_rounds=100)\n",
    "\n",
    "        oof[val_idx] += model.predict(df_train.loc[val_idx, feats]) / len(seeds)\n",
    "        pred_y['fold_%d_seed_%d' % (fold, seed)] = model.predict(df_test[feats])\n",
    "        importance += model.feature_importance(importance_type='gain') / fold_num\n",
    "        score.append(auc(df_train.loc[val_idx, y_label], model.predict(df_train.loc[val_idx, feats])))\n",
    "feats_importance = pd.DataFrame()\n",
    "feats_importance['name'] = feats\n",
    "feats_importance['importance'] = importance\n",
    "display(feats_importance.sort_values('importance', ascending=False)[:30])\n",
    "\n",
    "df_train['oof'] = oof\n",
    "display(np.mean(score), np.std(score))\n",
    "\n",
    "score = np.mean(score)\n",
    "df_test[y_label] = pred_y.mean(axis=1).values\n",
    "df_test = df_test.sort_values('id').reset_index(drop=True)\n",
    "\n",
    "sub = pd.read_csv(path_sample_submission)\n",
    "sub[y_label] = df_test[y_label].values\n",
    "sub.to_csv(os.path.join(path_results_jupyter,time.strftime('lgb_%Y%m%d%H%M_')+'%.5f.csv'%score), index=False)"
   ]
  },
  {
   "cell_type": "code",
   "execution_count": null,
   "id": "6386b27e",
   "metadata": {
    "ExecuteTime": {
     "start_time": "2022-10-20T12:17:11.868Z"
    }
   },
   "outputs": [],
   "source": [
    "feats_importance.sort_values('importance', ascending=False)[:50]"
   ]
  },
  {
   "cell_type": "code",
   "execution_count": null,
   "id": "f56a3dd8",
   "metadata": {},
   "outputs": [],
   "source": []
  },
  {
   "cell_type": "code",
   "execution_count": null,
   "id": "6004fff5",
   "metadata": {},
   "outputs": [],
   "source": []
  },
  {
   "cell_type": "code",
   "execution_count": null,
   "id": "fe27b142",
   "metadata": {},
   "outputs": [],
   "source": []
  },
  {
   "cell_type": "code",
   "execution_count": null,
   "id": "aa235760",
   "metadata": {
    "ExecuteTime": {
     "start_time": "2022-10-20T12:17:11.869Z"
    },
    "scrolled": true
   },
   "outputs": [],
   "source": [
    "df_train_info['oof']=df_train['oof']\n",
    "\n",
    "df_train_info[abs(df_train_info['is_risk']-df_train_info['oof'])>0.7]['device_num_transform'].value_counts()"
   ]
  },
  {
   "cell_type": "code",
   "execution_count": null,
   "id": "68105c2a",
   "metadata": {
    "ExecuteTime": {
     "start_time": "2022-10-20T12:17:11.870Z"
    },
    "scrolled": true
   },
   "outputs": [],
   "source": [
    "df_train_info[df_train_info['device_num_transform']=='0dV6LzVsv7pW']"
   ]
  },
  {
   "cell_type": "code",
   "execution_count": null,
   "id": "278aad74",
   "metadata": {},
   "outputs": [],
   "source": []
  }
 ],
 "metadata": {
  "hide_input": false,
  "kernelspec": {
   "display_name": "Python [conda env:scorpyo]",
   "language": "python",
   "name": "conda-env-scorpyo-py"
  },
  "language_info": {
   "codemirror_mode": {
    "name": "ipython",
    "version": 3
   },
   "file_extension": ".py",
   "mimetype": "text/x-python",
   "name": "python",
   "nbconvert_exporter": "python",
   "pygments_lexer": "ipython3",
   "version": "3.7.13"
  },
  "toc": {
   "base_numbering": 1,
   "nav_menu": {},
   "number_sections": true,
   "sideBar": true,
   "skip_h1_title": false,
   "title_cell": "Table of Contents",
   "title_sidebar": "Contents",
   "toc_cell": false,
   "toc_position": {},
   "toc_section_display": true,
   "toc_window_display": true
  }
 },
 "nbformat": 4,
 "nbformat_minor": 5
}
