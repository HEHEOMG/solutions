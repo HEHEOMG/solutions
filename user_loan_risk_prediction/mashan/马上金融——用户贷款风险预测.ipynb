{
 "cells": [
  {
   "cell_type": "markdown",
   "id": "e0a6b780",
   "metadata": {},
   "source": [
    "## 1. 方案概述"
   ]
  },
  {
   "cell_type": "markdown",
   "id": "118b3bd1",
   "metadata": {
    "hide_input": false
   },
   "source": [
    "参考：[违约用户风险预测](https://github.com/chenkkkk/User-loan-risk-prediction)\n",
    "\n",
    "### 1.1 背景\n",
    "+ 近年来，互联网金融已经是当今社会上的一个金融发展趋势。在金融领域，无论是投资理财还是借贷放款，风险控制永远是业务的核心基础。对于消费金融来说，其主要服务对象的特点是：额度小、人群大、周期短，这个特性导致其被公认为是风险最高的细分领域。\n",
    "+ 以借贷为例，相比于传统的金融行业需要用户自己提供的资产资料的较单一途径，互联网金融更能将用户线下的资产情况，以及线上的网络消费行为进行资料整合，来进行综合分析，以便为用户提供更好的服务体验，为金融商家提供用户更全面的了解和评估。\n",
    "+ 随着人工智能和大数据等技术不断渗透，依靠金融科技主动收集、分析、整理各类金融数据，为细分人群提供更为精准的风控服务，成为解决消费金融风控问题的有效途径。简言之，如何区别违约风险用户，成为金融领域提供更为精准的风控服务的关键。\n",
    "\n",
    "### 1.2 数据概况\n",
    "> 数据提取链接：链接：https://pan.baidu.com/s/1srG0SKtl0fkg1nfjAouqIw \n",
    "提取码：686w\n",
    "\n",
    "\n",
    "|订单信息order_info| | |认证信息auth_info| | |个人基本信息user_info| |\n",
    "|:----|:----|:----|:----|:----|:----|:----|:----|\n",
    "|字段名|字段解释| |字段名|字段解释| |字段名|字段解释|\n",
    "|id|申请贷款唯一编号| |id|申请贷款唯一编号| |id|申请贷款唯一编号|\n",
    "|no_order_md5|订单编号MD5加密| |id_card|身份证号（脱敏）| |sex|性别|\n",
    "|name_rec_md5|收货人姓名MD5加密| |auth_time|认证时间| |birthday|出生日期|\n",
    "|amt_order|订单金额| |phone|认证电话号码（脱敏）| |hobby|兴趣爱好|\n",
    "|type_pay|支付方式| | | | |merriage|婚姻状况|\n",
    "|time_order|下单时间| | | | |income|收入水平|\n",
    "|sts_order|订单状态| | | | |id_card|身份证号(脱敏)|\n",
    "|phone|收货电话（脱敏）| | | | |degree|学历|\n",
    "|product_id_md5|商品编号MD5加密| | | | |industry|所在行业|\n",
    "|unit_price|商品单价| | | | |qq_bound|是否绑定QQ|\n",
    "| | | | | | |wechat_bound|是否绑定微信|\n",
    "| | | | | | |account_grade|会员级别|\n",
    "\n",
    "\n",
    "|网购平台信用信息credit_info| | |收货地址信息recieve_addr_info| | |银行卡信息bankcard_info| |\n",
    "|:----|:----|:----|:----|:----|:----|:----|:----|\n",
    "|字段名|字段解释| |字段名|字段解释| |字段名|字段解释|\n",
    "|id|申请贷款唯一编号| |id|申请贷款唯一编号| |id|申请贷款唯一编号|\n",
    "|credit_score|网购平台信用评分| |receiver_md5|收货人姓名(MD5加密)| |bank_name|银行名称|\n",
    "|quota|网购平台信用额度| |addr_id|收货地址ID| |tail_num|银行卡号后四位|\n",
    "|overdraft|网购平台信用额度使用值| |region|收货地址所在地区| |card_type|银行卡类型|\n",
    "| | | |phone|收货人手机号(脱敏)| |phone|银行卡绑定手机号(脱敏)|\n",
    "| | | |fix_phone|收货人固定电话号码(脱敏)| | | |\n",
    "\n",
    "\n",
    "|训练标签train_target| | |测试列表test_list| | |提交样例字段说明| |\n",
    "|:----|:----|:----|:----|:----|:----|:----|:----|\n",
    "|字段名|字段解释| |字段名|字段解释| |字段名|字段解释|\n",
    "|id|申请贷款唯一编号| |id|申请贷款唯一编号| |ID|申请贷款唯一编号|\n",
    "|appl_sbm_tm|用户贷款申请的提交时间（此字段不能 作为模型的直接输入变量）| |appl_sbm_tm|用户贷款申请的提交时间(此字段不能 作为模型的直接输入变量)| |PROB|预测为逾期的概率值.|\n",
    "|target|逾期标识，1逾期，0非逾期。| | | | | | |\n",
    "\n",
    "\n",
    "### 1.3 解决方案\n",
    "基于本赛题，大数据金融的违约用户风险预测，本文解决方案具体包括以下步骤：\n",
    "1. 对用户的历史行为数据预处理操作；\n",
    "2. 根据历史行为划分训练集数据、验证集数据；\n",
    "3. 对用户历史数据进行特征工程操作；\n",
    "4. 对构建特征完成的样本集进行特征选择；\n",
    "5. 建立多个机器学习模型，并进行模型融合；\n",
    "6. 通过建立的模型，根据用户历史行为数据对用户在未来一个月是否会逾期还款进行预测。\n",
    "\n",
    "其中，图1展示了基于大数据金融的违约用户风险预测解决方案的流程图。\n",
    "![](./img/01.png)"
   ]
  },
  {
   "cell_type": "markdown",
   "id": "f7cb594a",
   "metadata": {},
   "source": [
    "## 2. 数据探索性分析（EDA）"
   ]
  },
  {
   "cell_type": "code",
   "execution_count": 1,
   "id": "719478b4",
   "metadata": {
    "ExecuteTime": {
     "end_time": "2021-08-01T00:58:17.241671Z",
     "start_time": "2021-08-01T00:58:14.337031Z"
    }
   },
   "outputs": [],
   "source": [
    "import os\n",
    "import re\n",
    "import numpy as np\n",
    "import pandas as pd\n",
    "import datetime\n",
    "\n",
    "import matplotlib.pyplot as plt\n",
    "import seaborn as sns"
   ]
  },
  {
   "cell_type": "code",
   "execution_count": 2,
   "id": "f8d213ca",
   "metadata": {
    "ExecuteTime": {
     "end_time": "2021-08-01T00:58:17.257686Z",
     "start_time": "2021-08-01T00:58:17.242673Z"
    }
   },
   "outputs": [],
   "source": [
    "path_project = r'G:\\data\\mashan'\n",
    "# dirname path\n",
    "path_row_data = os.path.join(path_project, 'row_data')\n",
    "path_new_data = os.path.join(path_project, 'new_data')\n",
    "path_results = os.path.join(path_project, 'results')\n",
    "\n",
    "# row train path\n",
    "path_train_dir           = os.path.join(path_row_data, 'AI_risk_train_V3.0')\n",
    "path_train_auth_info     = os.path.join(path_train_dir, 'train_auth_info.csv')\n",
    "path_train_bankcard_info = os.path.join(path_train_dir, 'train_bankcard_info.csv')\n",
    "path_train_credit_info   = os.path.join(path_train_dir, 'train_credit_info.csv')\n",
    "path_train_order_info    = os.path.join(path_train_dir, 'train_order_info.csv')\n",
    "path_train_recieve_addr_info = os.path.join(path_train_dir, 'train_recieve_addr_info.csv')\n",
    "path_train_target        = os.path.join(path_train_dir, 'train_target.csv')\n",
    "path_train_user_info     = os.path.join(path_train_dir, 'train_user_info.csv')\n",
    "\n",
    "# row test path\n",
    "path_test_dir            = os.path.join(path_row_data, 'AI_Risk_data_Btest_V2.0')\n",
    "path_test_auth_info      = os.path.join(path_test_dir, 'test_auth_info.csv')\n",
    "path_test_bankcard_info  = os.path.join(path_test_dir, 'test_bankcard_info.csv')\n",
    "path_test_credit_info    = os.path.join(path_test_dir, 'test_credit_info.csv')\n",
    "path_test_list           = os.path.join(path_test_dir, 'test_list.csv')\n",
    "path_test_order_info     = os.path.join(path_test_dir, 'test_order_info.csv')\n",
    "path_test_recieve_addr_info = os.path.join(path_test_dir, 'test_recieve_addr_info.csv')\n",
    "path_test_user_info      = os.path.join(path_test_dir, 'test_user_info.csv')"
   ]
  },
  {
   "cell_type": "markdown",
   "id": "5ba1d2c0",
   "metadata": {},
   "source": [
    "### 2.1 train_auth_info.csv"
   ]
  },
  {
   "cell_type": "markdown",
   "id": "1bf5c4bc",
   "metadata": {
    "ExecuteTime": {
     "end_time": "2021-07-29T01:58:49.914104Z",
     "start_time": "2021-07-29T01:58:49.895101Z"
    }
   },
   "source": [
    "|认证信息auth_info| |\n",
    "|:----|:----|\n",
    "|字段名|字段解释|\n",
    "|id|申请贷款唯一编号|\n",
    "|id_card|身份证号（脱敏）|\n",
    "|auth_time|认证时间|\n",
    "|phone|认证电话号码（脱敏）|"
   ]
  },
  {
   "cell_type": "code",
   "execution_count": 3,
   "id": "8a91d152",
   "metadata": {
    "ExecuteTime": {
     "end_time": "2021-08-01T00:58:17.417832Z",
     "start_time": "2021-08-01T00:58:17.259688Z"
    }
   },
   "outputs": [
    {
     "data": {
      "text/html": [
       "<div>\n",
       "<style scoped>\n",
       "    .dataframe tbody tr th:only-of-type {\n",
       "        vertical-align: middle;\n",
       "    }\n",
       "\n",
       "    .dataframe tbody tr th {\n",
       "        vertical-align: top;\n",
       "    }\n",
       "\n",
       "    .dataframe thead th {\n",
       "        text-align: right;\n",
       "    }\n",
       "</style>\n",
       "<table border=\"1\" class=\"dataframe\">\n",
       "  <thead>\n",
       "    <tr style=\"text-align: right;\">\n",
       "      <th></th>\n",
       "      <th>id_card</th>\n",
       "      <th>auth_time</th>\n",
       "      <th>phone</th>\n",
       "      <th>id</th>\n",
       "    </tr>\n",
       "  </thead>\n",
       "  <tbody>\n",
       "    <tr>\n",
       "      <th>0</th>\n",
       "      <td>4****************0</td>\n",
       "      <td>2017-06-10</td>\n",
       "      <td>132****2008</td>\n",
       "      <td>501951980776722440</td>\n",
       "    </tr>\n",
       "    <tr>\n",
       "      <th>1</th>\n",
       "      <td>NaN</td>\n",
       "      <td>NaT</td>\n",
       "      <td>187*****500</td>\n",
       "      <td>525890212484616200</td>\n",
       "    </tr>\n",
       "    <tr>\n",
       "      <th>2</th>\n",
       "      <td>5****************9</td>\n",
       "      <td>2015-10-10</td>\n",
       "      <td>135****3522</td>\n",
       "      <td>599309364691472392</td>\n",
       "    </tr>\n",
       "  </tbody>\n",
       "</table>\n",
       "</div>"
      ],
      "text/plain": [
       "              id_card  auth_time        phone                  id\n",
       "0  4****************0 2017-06-10  132****2008  501951980776722440\n",
       "1                 NaN        NaT  187*****500  525890212484616200\n",
       "2  5****************9 2015-10-10  135****3522  599309364691472392"
      ]
     },
     "execution_count": 3,
     "metadata": {},
     "output_type": "execute_result"
    }
   ],
   "source": [
    "df_train_auth_info = pd.read_csv(path_train_auth_info, parse_dates = ['auth_time'])\n",
    "df_train_auth_info.head(3)"
   ]
  },
  {
   "cell_type": "code",
   "execution_count": 4,
   "id": "3bf796da",
   "metadata": {
    "ExecuteTime": {
     "end_time": "2021-08-01T00:58:17.449861Z",
     "start_time": "2021-08-01T00:58:17.418833Z"
    }
   },
   "outputs": [
    {
     "name": "stdout",
     "output_type": "stream",
     "text": [
      "<class 'pandas.core.frame.DataFrame'>\n",
      "RangeIndex: 120929 entries, 0 to 120928\n",
      "Data columns (total 4 columns):\n",
      " #   Column     Non-Null Count   Dtype         \n",
      "---  ------     --------------   -----         \n",
      " 0   id_card    82908 non-null   object        \n",
      " 1   auth_time  79244 non-null   datetime64[ns]\n",
      " 2   phone      117589 non-null  object        \n",
      " 3   id         120929 non-null  object        \n",
      "dtypes: datetime64[ns](1), object(3)\n",
      "memory usage: 3.7+ MB\n"
     ]
    }
   ],
   "source": [
    "df_train_auth_info.info()"
   ]
  },
  {
   "cell_type": "code",
   "execution_count": 5,
   "id": "faaa3128",
   "metadata": {
    "ExecuteTime": {
     "end_time": "2021-08-01T00:58:17.481890Z",
     "start_time": "2021-08-01T00:58:17.451863Z"
    }
   },
   "outputs": [
    {
     "name": "stdout",
     "output_type": "stream",
     "text": [
      "表中字段缺失值\n"
     ]
    },
    {
     "data": {
      "text/plain": [
       "id_card      38021\n",
       "auth_time    41685\n",
       "phone         3340\n",
       "id               0\n",
       "dtype: int64"
      ]
     },
     "execution_count": 5,
     "metadata": {},
     "output_type": "execute_result"
    }
   ],
   "source": [
    "print(\"表中字段缺失值\")\n",
    "df_train_auth_info.isnull().sum()"
   ]
  },
  {
   "cell_type": "code",
   "execution_count": 6,
   "id": "48f25283",
   "metadata": {
    "ExecuteTime": {
     "end_time": "2021-08-01T00:58:17.561963Z",
     "start_time": "2021-08-01T00:58:17.482891Z"
    }
   },
   "outputs": [
    {
     "name": "stdout",
     "output_type": "stream",
     "text": [
      "表中字段取值范围\n"
     ]
    },
    {
     "data": {
      "text/plain": [
       "id_card        2663\n",
       "auth_time      1368\n",
       "phone         85851\n",
       "id           120929\n",
       "dtype: int64"
      ]
     },
     "execution_count": 6,
     "metadata": {},
     "output_type": "execute_result"
    }
   ],
   "source": [
    "print(\"表中字段取值范围\")\n",
    "df_train_auth_info.nunique()"
   ]
  },
  {
   "cell_type": "markdown",
   "id": "3c7d9b5a",
   "metadata": {},
   "source": [
    "#### 2.1.1 分析\n",
    "1. 该表中数据多为category信息，包括字段id_card, phone, 并且每个字段的取值范围很大。\n",
    "2. 表中存在许多缺失值。\n",
    "3. id_card以及phone中的数字是否有特殊含义还得进一步探究。\n",
    "\n",
    "#### 2.1.2 处理\n",
    "1. 由于id_card, phone的取值范围过大，并且没有历史数据也无法做类似于嵌入的操作，故由规则存在为1，不存在为0进行处理\n",
    "2. auth_time为时间数据，可考虑在多表联立后与其它时间做差，得到不同粒度的时间特征。\n",
    "3. 查阅资料，探究id_card以及phone中的数字是否有特殊含义。"
   ]
  },
  {
   "cell_type": "code",
   "execution_count": 7,
   "id": "22c993a6",
   "metadata": {
    "ExecuteTime": {
     "end_time": "2021-08-01T00:58:17.703091Z",
     "start_time": "2021-08-01T00:58:17.563966Z"
    }
   },
   "outputs": [
    {
     "data": {
      "text/html": [
       "<div>\n",
       "<style scoped>\n",
       "    .dataframe tbody tr th:only-of-type {\n",
       "        vertical-align: middle;\n",
       "    }\n",
       "\n",
       "    .dataframe tbody tr th {\n",
       "        vertical-align: top;\n",
       "    }\n",
       "\n",
       "    .dataframe thead th {\n",
       "        text-align: right;\n",
       "    }\n",
       "</style>\n",
       "<table border=\"1\" class=\"dataframe\">\n",
       "  <thead>\n",
       "    <tr style=\"text-align: right;\">\n",
       "      <th></th>\n",
       "      <th>id_card</th>\n",
       "      <th>auth_time</th>\n",
       "      <th>phone</th>\n",
       "      <th>id</th>\n",
       "    </tr>\n",
       "  </thead>\n",
       "  <tbody>\n",
       "    <tr>\n",
       "      <th>0</th>\n",
       "      <td>1</td>\n",
       "      <td>2017-06-10</td>\n",
       "      <td>1</td>\n",
       "      <td>501951980776722440</td>\n",
       "    </tr>\n",
       "    <tr>\n",
       "      <th>1</th>\n",
       "      <td>0</td>\n",
       "      <td>NaT</td>\n",
       "      <td>1</td>\n",
       "      <td>525890212484616200</td>\n",
       "    </tr>\n",
       "    <tr>\n",
       "      <th>2</th>\n",
       "      <td>1</td>\n",
       "      <td>2015-10-10</td>\n",
       "      <td>1</td>\n",
       "      <td>599309364691472392</td>\n",
       "    </tr>\n",
       "  </tbody>\n",
       "</table>\n",
       "</div>"
      ],
      "text/plain": [
       "   id_card  auth_time  phone                  id\n",
       "0        1 2017-06-10      1  501951980776722440\n",
       "1        0        NaT      1  525890212484616200\n",
       "2        1 2015-10-10      1  599309364691472392"
      ]
     },
     "execution_count": 7,
     "metadata": {},
     "output_type": "execute_result"
    }
   ],
   "source": [
    "df_train_auth_info['id_card'] = df_train_auth_info['id_card'].map(lambda x: 0 if str(x)=='nan' else 1)\n",
    "df_train_auth_info['phone']   = df_train_auth_info['phone'].map(lambda x: 0 if str(x)=='nan' else 1)\n",
    "df_train_auth_info.head(3)"
   ]
  },
  {
   "cell_type": "markdown",
   "id": "51038a32",
   "metadata": {},
   "source": [
    "### 2.2 train_bankcard_info.csv"
   ]
  },
  {
   "cell_type": "markdown",
   "id": "bdb0fdf6",
   "metadata": {
    "ExecuteTime": {
     "end_time": "2021-07-29T01:59:49.495533Z",
     "start_time": "2021-07-29T01:59:49.489527Z"
    }
   },
   "source": [
    "|银行卡信息bankcard_info| |\n",
    "|:----|:----|\n",
    "|字段名|字段解释|\n",
    "|id|申请贷款唯一编号|\n",
    "|bank_name|银行名称|\n",
    "|tail_num|银行卡号后四位|\n",
    "|card_type|银行卡类型|\n",
    "|phone|银行卡绑定手机号(脱敏)|"
   ]
  },
  {
   "cell_type": "code",
   "execution_count": 8,
   "id": "e4f0cc3c",
   "metadata": {
    "ExecuteTime": {
     "end_time": "2021-08-01T00:58:18.084438Z",
     "start_time": "2021-08-01T00:58:17.705093Z"
    }
   },
   "outputs": [
    {
     "data": {
      "text/html": [
       "<div>\n",
       "<style scoped>\n",
       "    .dataframe tbody tr th:only-of-type {\n",
       "        vertical-align: middle;\n",
       "    }\n",
       "\n",
       "    .dataframe tbody tr th {\n",
       "        vertical-align: top;\n",
       "    }\n",
       "\n",
       "    .dataframe thead th {\n",
       "        text-align: right;\n",
       "    }\n",
       "</style>\n",
       "<table border=\"1\" class=\"dataframe\">\n",
       "  <thead>\n",
       "    <tr style=\"text-align: right;\">\n",
       "      <th></th>\n",
       "      <th>bank_name</th>\n",
       "      <th>tail_num</th>\n",
       "      <th>card_type</th>\n",
       "      <th>phone</th>\n",
       "      <th>id</th>\n",
       "    </tr>\n",
       "  </thead>\n",
       "  <tbody>\n",
       "    <tr>\n",
       "      <th>0</th>\n",
       "      <td>中信银行</td>\n",
       "      <td>9753</td>\n",
       "      <td>储蓄卡</td>\n",
       "      <td>177****8427</td>\n",
       "      <td>585401206734589960</td>\n",
       "    </tr>\n",
       "    <tr>\n",
       "      <th>1</th>\n",
       "      <td>农业银行</td>\n",
       "      <td>2174</td>\n",
       "      <td>储蓄卡</td>\n",
       "      <td>150****4551</td>\n",
       "      <td>587694980785508360</td>\n",
       "    </tr>\n",
       "    <tr>\n",
       "      <th>2</th>\n",
       "      <td>中国交通银行</td>\n",
       "      <td>4832</td>\n",
       "      <td>信用卡</td>\n",
       "      <td>185****1989</td>\n",
       "      <td>602098357531316232</td>\n",
       "    </tr>\n",
       "  </tbody>\n",
       "</table>\n",
       "</div>"
      ],
      "text/plain": [
       "  bank_name  tail_num card_type        phone                  id\n",
       "0      中信银行      9753       储蓄卡  177****8427  585401206734589960\n",
       "1      农业银行      2174       储蓄卡  150****4551  587694980785508360\n",
       "2    中国交通银行      4832       信用卡  185****1989  602098357531316232"
      ]
     },
     "execution_count": 8,
     "metadata": {},
     "output_type": "execute_result"
    }
   ],
   "source": [
    "df_train_bankcard_info = pd.read_csv(path_train_bankcard_info)\n",
    "df_train_bankcard_info.head(3)"
   ]
  },
  {
   "cell_type": "code",
   "execution_count": 9,
   "id": "80476a8a",
   "metadata": {
    "ExecuteTime": {
     "end_time": "2021-08-01T00:58:18.148496Z",
     "start_time": "2021-08-01T00:58:18.086440Z"
    }
   },
   "outputs": [
    {
     "name": "stdout",
     "output_type": "stream",
     "text": [
      "<class 'pandas.core.frame.DataFrame'>\n",
      "RangeIndex: 315489 entries, 0 to 315488\n",
      "Data columns (total 5 columns):\n",
      " #   Column     Non-Null Count   Dtype \n",
      "---  ------     --------------   ----- \n",
      " 0   bank_name  315283 non-null  object\n",
      " 1   tail_num   315489 non-null  int64 \n",
      " 2   card_type  315489 non-null  object\n",
      " 3   phone      315489 non-null  object\n",
      " 4   id         315489 non-null  object\n",
      "dtypes: int64(1), object(4)\n",
      "memory usage: 12.0+ MB\n"
     ]
    }
   ],
   "source": [
    "df_train_bankcard_info.info()"
   ]
  },
  {
   "cell_type": "code",
   "execution_count": 10,
   "id": "e42ac5d6",
   "metadata": {
    "ExecuteTime": {
     "end_time": "2021-08-01T00:58:18.196540Z",
     "start_time": "2021-08-01T00:58:18.149497Z"
    }
   },
   "outputs": [
    {
     "name": "stdout",
     "output_type": "stream",
     "text": [
      "表中字段缺失值\n"
     ]
    },
    {
     "data": {
      "text/plain": [
       "bank_name    206\n",
       "tail_num       0\n",
       "card_type      0\n",
       "phone          0\n",
       "id             0\n",
       "dtype: int64"
      ]
     },
     "execution_count": 10,
     "metadata": {},
     "output_type": "execute_result"
    }
   ],
   "source": [
    "print(\"表中字段缺失值\")\n",
    "df_train_bankcard_info.isnull().sum()"
   ]
  },
  {
   "cell_type": "code",
   "execution_count": 11,
   "id": "7863b4d8",
   "metadata": {
    "ExecuteTime": {
     "end_time": "2021-08-01T00:58:18.388715Z",
     "start_time": "2021-08-01T00:58:18.197542Z"
    }
   },
   "outputs": [
    {
     "name": "stdout",
     "output_type": "stream",
     "text": [
      "表中字段取值范围\n"
     ]
    },
    {
     "data": {
      "text/plain": [
       "bank_name       189\n",
       "tail_num      10000\n",
       "card_type         2\n",
       "phone         98479\n",
       "id           120929\n",
       "dtype: int64"
      ]
     },
     "execution_count": 11,
     "metadata": {},
     "output_type": "execute_result"
    }
   ],
   "source": [
    "print(\"表中字段取值范围\")\n",
    "df_train_bankcard_info.nunique()"
   ]
  },
  {
   "cell_type": "markdown",
   "id": "4a719148",
   "metadata": {},
   "source": [
    "#### 2.2.1 分析\n",
    "1. 该表中数据多为category信息，包括字段bank_name, tail_num, card_type, phone 并且每个字段的取值范围很大。\n",
    "2. 表中只有bank_name存在缺失值，并且缺失值的数量较少。\n",
    "3. 该表中一个id拥有多张卡，故需要对其特征进行聚合，得到一个适用于训练的数据。\n",
    "\n",
    "#### 2.2.2 处理\n",
    "1. 将bank_name中的缺失值看作新取值。\n",
    "2. 按照id进行聚合，并统计包括bank_name, tail_name, card_type, phone的类别数，以及不同取值数。"
   ]
  },
  {
   "cell_type": "code",
   "execution_count": 12,
   "id": "b3854f6b",
   "metadata": {
    "ExecuteTime": {
     "end_time": "2021-08-01T00:58:19.039307Z",
     "start_time": "2021-08-01T00:58:18.390717Z"
    }
   },
   "outputs": [
    {
     "data": {
      "text/html": [
       "<div>\n",
       "<style scoped>\n",
       "    .dataframe tbody tr th:only-of-type {\n",
       "        vertical-align: middle;\n",
       "    }\n",
       "\n",
       "    .dataframe tbody tr th {\n",
       "        vertical-align: top;\n",
       "    }\n",
       "\n",
       "    .dataframe thead tr th {\n",
       "        text-align: left;\n",
       "    }\n",
       "\n",
       "    .dataframe thead tr:last-of-type th {\n",
       "        text-align: right;\n",
       "    }\n",
       "</style>\n",
       "<table border=\"1\" class=\"dataframe\">\n",
       "  <thead>\n",
       "    <tr>\n",
       "      <th></th>\n",
       "      <th colspan=\"2\" halign=\"left\">bank_name</th>\n",
       "      <th colspan=\"2\" halign=\"left\">tail_num</th>\n",
       "      <th colspan=\"2\" halign=\"left\">card_type</th>\n",
       "      <th colspan=\"2\" halign=\"left\">phone</th>\n",
       "    </tr>\n",
       "    <tr>\n",
       "      <th></th>\n",
       "      <th>count</th>\n",
       "      <th>nunique</th>\n",
       "      <th>count</th>\n",
       "      <th>nunique</th>\n",
       "      <th>count</th>\n",
       "      <th>nunique</th>\n",
       "      <th>count</th>\n",
       "      <th>nunique</th>\n",
       "    </tr>\n",
       "    <tr>\n",
       "      <th>id</th>\n",
       "      <th></th>\n",
       "      <th></th>\n",
       "      <th></th>\n",
       "      <th></th>\n",
       "      <th></th>\n",
       "      <th></th>\n",
       "      <th></th>\n",
       "      <th></th>\n",
       "    </tr>\n",
       "  </thead>\n",
       "  <tbody>\n",
       "    <tr>\n",
       "      <th>20160328090001743085</th>\n",
       "      <td>4</td>\n",
       "      <td>3</td>\n",
       "      <td>4</td>\n",
       "      <td>4</td>\n",
       "      <td>4</td>\n",
       "      <td>2</td>\n",
       "      <td>4</td>\n",
       "      <td>1</td>\n",
       "    </tr>\n",
       "    <tr>\n",
       "      <th>20160328160001756263</th>\n",
       "      <td>7</td>\n",
       "      <td>5</td>\n",
       "      <td>7</td>\n",
       "      <td>7</td>\n",
       "      <td>7</td>\n",
       "      <td>2</td>\n",
       "      <td>7</td>\n",
       "      <td>1</td>\n",
       "    </tr>\n",
       "    <tr>\n",
       "      <th>20160328170001757443</th>\n",
       "      <td>1</td>\n",
       "      <td>1</td>\n",
       "      <td>1</td>\n",
       "      <td>1</td>\n",
       "      <td>1</td>\n",
       "      <td>1</td>\n",
       "      <td>1</td>\n",
       "      <td>1</td>\n",
       "    </tr>\n",
       "  </tbody>\n",
       "</table>\n",
       "</div>"
      ],
      "text/plain": [
       "                     bank_name         tail_num         card_type          \\\n",
       "                         count nunique    count nunique     count nunique   \n",
       "id                                                                          \n",
       "20160328090001743085         4       3        4       4         4       2   \n",
       "20160328160001756263         7       5        7       7         7       2   \n",
       "20160328170001757443         1       1        1       1         1       1   \n",
       "\n",
       "                     phone          \n",
       "                     count nunique  \n",
       "id                                  \n",
       "20160328090001743085     4       1  \n",
       "20160328160001756263     7       1  \n",
       "20160328170001757443     1       1  "
      ]
     },
     "execution_count": 12,
     "metadata": {},
     "output_type": "execute_result"
    }
   ],
   "source": [
    "df_train_bankcard_info['bank_name'].fillna('s', inplace=True)\n",
    "df_train_bankcard = df_train_bankcard_info.groupby('id').agg(['count', 'nunique'])\n",
    "df_train_bankcard.head(3)"
   ]
  },
  {
   "cell_type": "code",
   "execution_count": 13,
   "id": "b1245c0d",
   "metadata": {
    "ExecuteTime": {
     "end_time": "2021-08-01T00:58:19.054320Z",
     "start_time": "2021-08-01T00:58:19.040308Z"
    }
   },
   "outputs": [
    {
     "data": {
      "text/html": [
       "<div>\n",
       "<style scoped>\n",
       "    .dataframe tbody tr th:only-of-type {\n",
       "        vertical-align: middle;\n",
       "    }\n",
       "\n",
       "    .dataframe tbody tr th {\n",
       "        vertical-align: top;\n",
       "    }\n",
       "\n",
       "    .dataframe thead th {\n",
       "        text-align: right;\n",
       "    }\n",
       "</style>\n",
       "<table border=\"1\" class=\"dataframe\">\n",
       "  <thead>\n",
       "    <tr style=\"text-align: right;\">\n",
       "      <th></th>\n",
       "      <th>bank_name_count</th>\n",
       "      <th>bank_name_nunique</th>\n",
       "      <th>tail_num_count</th>\n",
       "      <th>tail_num_nunique</th>\n",
       "      <th>card_type_count</th>\n",
       "      <th>card_type_nunique</th>\n",
       "      <th>phone_count</th>\n",
       "      <th>phone_nunique</th>\n",
       "    </tr>\n",
       "    <tr>\n",
       "      <th>id</th>\n",
       "      <th></th>\n",
       "      <th></th>\n",
       "      <th></th>\n",
       "      <th></th>\n",
       "      <th></th>\n",
       "      <th></th>\n",
       "      <th></th>\n",
       "      <th></th>\n",
       "    </tr>\n",
       "  </thead>\n",
       "  <tbody>\n",
       "    <tr>\n",
       "      <th>20160328090001743085</th>\n",
       "      <td>4</td>\n",
       "      <td>3</td>\n",
       "      <td>4</td>\n",
       "      <td>4</td>\n",
       "      <td>4</td>\n",
       "      <td>2</td>\n",
       "      <td>4</td>\n",
       "      <td>1</td>\n",
       "    </tr>\n",
       "    <tr>\n",
       "      <th>20160328160001756263</th>\n",
       "      <td>7</td>\n",
       "      <td>5</td>\n",
       "      <td>7</td>\n",
       "      <td>7</td>\n",
       "      <td>7</td>\n",
       "      <td>2</td>\n",
       "      <td>7</td>\n",
       "      <td>1</td>\n",
       "    </tr>\n",
       "    <tr>\n",
       "      <th>20160328170001757443</th>\n",
       "      <td>1</td>\n",
       "      <td>1</td>\n",
       "      <td>1</td>\n",
       "      <td>1</td>\n",
       "      <td>1</td>\n",
       "      <td>1</td>\n",
       "      <td>1</td>\n",
       "      <td>1</td>\n",
       "    </tr>\n",
       "  </tbody>\n",
       "</table>\n",
       "</div>"
      ],
      "text/plain": [
       "                      bank_name_count  bank_name_nunique  tail_num_count  \\\n",
       "id                                                                         \n",
       "20160328090001743085                4                  3               4   \n",
       "20160328160001756263                7                  5               7   \n",
       "20160328170001757443                1                  1               1   \n",
       "\n",
       "                      tail_num_nunique  card_type_count  card_type_nunique  \\\n",
       "id                                                                           \n",
       "20160328090001743085                 4                4                  2   \n",
       "20160328160001756263                 7                7                  2   \n",
       "20160328170001757443                 1                1                  1   \n",
       "\n",
       "                      phone_count  phone_nunique  \n",
       "id                                                \n",
       "20160328090001743085            4              1  \n",
       "20160328160001756263            7              1  \n",
       "20160328170001757443            1              1  "
      ]
     },
     "execution_count": 13,
     "metadata": {},
     "output_type": "execute_result"
    }
   ],
   "source": [
    "df_train_bankcard.columns = ['_'.join(x) for x in df_train_bankcard.columns]\n",
    "df_train_bankcard.head(3)"
   ]
  },
  {
   "cell_type": "markdown",
   "id": "bf3eb9b2",
   "metadata": {},
   "source": [
    "### 2.3 train_credit_info.csv"
   ]
  },
  {
   "cell_type": "markdown",
   "id": "fd5cc0a2",
   "metadata": {},
   "source": [
    "|网购平台信用信息credit_info| |\n",
    "|:----|:----|\n",
    "|字段名|字段解释|\n",
    "|id|申请贷款唯一编号|\n",
    "|credit_score|网购平台信用评分|\n",
    "|quota|网购平台信用额度|\n",
    "|overdraft|网购平台信用额度使用值|\n"
   ]
  },
  {
   "cell_type": "code",
   "execution_count": 14,
   "id": "1ff80543",
   "metadata": {
    "ExecuteTime": {
     "end_time": "2021-08-01T00:58:19.149408Z",
     "start_time": "2021-08-01T00:58:19.056323Z"
    }
   },
   "outputs": [
    {
     "data": {
      "text/html": [
       "<div>\n",
       "<style scoped>\n",
       "    .dataframe tbody tr th:only-of-type {\n",
       "        vertical-align: middle;\n",
       "    }\n",
       "\n",
       "    .dataframe tbody tr th {\n",
       "        vertical-align: top;\n",
       "    }\n",
       "\n",
       "    .dataframe thead th {\n",
       "        text-align: right;\n",
       "    }\n",
       "</style>\n",
       "<table border=\"1\" class=\"dataframe\">\n",
       "  <thead>\n",
       "    <tr style=\"text-align: right;\">\n",
       "      <th></th>\n",
       "      <th>credit_score</th>\n",
       "      <th>overdraft</th>\n",
       "      <th>quota</th>\n",
       "      <th>id</th>\n",
       "    </tr>\n",
       "  </thead>\n",
       "  <tbody>\n",
       "    <tr>\n",
       "      <th>0</th>\n",
       "      <td>549.0</td>\n",
       "      <td>0.0</td>\n",
       "      <td>0.0</td>\n",
       "      <td>563888070781309192</td>\n",
       "    </tr>\n",
       "    <tr>\n",
       "      <th>1</th>\n",
       "      <td>400.0</td>\n",
       "      <td>0.0</td>\n",
       "      <td>0.0</td>\n",
       "      <td>591567740590887176</td>\n",
       "    </tr>\n",
       "    <tr>\n",
       "      <th>2</th>\n",
       "      <td>490.0</td>\n",
       "      <td>4955.9</td>\n",
       "      <td>5083.0</td>\n",
       "      <td>464888846169936136</td>\n",
       "    </tr>\n",
       "  </tbody>\n",
       "</table>\n",
       "</div>"
      ],
      "text/plain": [
       "   credit_score  overdraft   quota                  id\n",
       "0         549.0        0.0     0.0  563888070781309192\n",
       "1         400.0        0.0     0.0  591567740590887176\n",
       "2         490.0     4955.9  5083.0  464888846169936136"
      ]
     },
     "execution_count": 14,
     "metadata": {},
     "output_type": "execute_result"
    }
   ],
   "source": [
    "df_train_credit_info = pd.read_csv(path_train_credit_info)\n",
    "df_train_credit_info.head(3)"
   ]
  },
  {
   "cell_type": "code",
   "execution_count": 15,
   "id": "34c8f6eb",
   "metadata": {
    "ExecuteTime": {
     "end_time": "2021-08-01T00:58:19.165422Z",
     "start_time": "2021-08-01T00:58:19.150410Z"
    }
   },
   "outputs": [
    {
     "name": "stdout",
     "output_type": "stream",
     "text": [
      "<class 'pandas.core.frame.DataFrame'>\n",
      "RangeIndex: 120929 entries, 0 to 120928\n",
      "Data columns (total 4 columns):\n",
      " #   Column        Non-Null Count   Dtype  \n",
      "---  ------        --------------   -----  \n",
      " 0   credit_score  119269 non-null  float64\n",
      " 1   overdraft     119269 non-null  float64\n",
      " 2   quota         119269 non-null  float64\n",
      " 3   id            120929 non-null  object \n",
      "dtypes: float64(3), object(1)\n",
      "memory usage: 3.7+ MB\n"
     ]
    }
   ],
   "source": [
    "df_train_credit_info.info()"
   ]
  },
  {
   "cell_type": "code",
   "execution_count": 16,
   "id": "2ee760df",
   "metadata": {
    "ExecuteTime": {
     "end_time": "2021-08-01T00:58:19.181437Z",
     "start_time": "2021-08-01T00:58:19.166425Z"
    }
   },
   "outputs": [
    {
     "name": "stdout",
     "output_type": "stream",
     "text": [
      "表中字段缺失值\n"
     ]
    },
    {
     "data": {
      "text/plain": [
       "credit_score    1660\n",
       "overdraft       1660\n",
       "quota           1660\n",
       "id                 0\n",
       "dtype: int64"
      ]
     },
     "execution_count": 16,
     "metadata": {},
     "output_type": "execute_result"
    }
   ],
   "source": [
    "print(\"表中字段缺失值\")\n",
    "df_train_credit_info.isnull().sum()"
   ]
  },
  {
   "cell_type": "code",
   "execution_count": 17,
   "id": "92d1fe90",
   "metadata": {
    "ExecuteTime": {
     "end_time": "2021-08-01T00:58:19.245495Z",
     "start_time": "2021-08-01T00:58:19.182438Z"
    }
   },
   "outputs": [
    {
     "name": "stdout",
     "output_type": "stream",
     "text": [
      "表中字段取值范围\n"
     ]
    },
    {
     "data": {
      "text/plain": [
       "credit_score       391\n",
       "overdraft        30574\n",
       "quota            11055\n",
       "id              120929\n",
       "dtype: int64"
      ]
     },
     "execution_count": 17,
     "metadata": {},
     "output_type": "execute_result"
    }
   ],
   "source": [
    "print(\"表中字段取值范围\")\n",
    "df_train_credit_info.nunique()"
   ]
  },
  {
   "cell_type": "code",
   "execution_count": 18,
   "id": "44554e6d",
   "metadata": {
    "ExecuteTime": {
     "end_time": "2021-08-01T00:58:19.293207Z",
     "start_time": "2021-08-01T00:58:19.246497Z"
    }
   },
   "outputs": [
    {
     "data": {
      "text/html": [
       "<div>\n",
       "<style scoped>\n",
       "    .dataframe tbody tr th:only-of-type {\n",
       "        vertical-align: middle;\n",
       "    }\n",
       "\n",
       "    .dataframe tbody tr th {\n",
       "        vertical-align: top;\n",
       "    }\n",
       "\n",
       "    .dataframe thead th {\n",
       "        text-align: right;\n",
       "    }\n",
       "</style>\n",
       "<table border=\"1\" class=\"dataframe\">\n",
       "  <thead>\n",
       "    <tr style=\"text-align: right;\">\n",
       "      <th></th>\n",
       "      <th>credit_score</th>\n",
       "      <th>overdraft</th>\n",
       "      <th>quota</th>\n",
       "    </tr>\n",
       "  </thead>\n",
       "  <tbody>\n",
       "    <tr>\n",
       "      <th>count</th>\n",
       "      <td>119269.000000</td>\n",
       "      <td>119269.000000</td>\n",
       "      <td>119269.000000</td>\n",
       "    </tr>\n",
       "    <tr>\n",
       "      <th>mean</th>\n",
       "      <td>419.995850</td>\n",
       "      <td>1210.913202</td>\n",
       "      <td>1731.818140</td>\n",
       "    </tr>\n",
       "    <tr>\n",
       "      <th>std</th>\n",
       "      <td>105.144555</td>\n",
       "      <td>2658.581602</td>\n",
       "      <td>3224.829157</td>\n",
       "    </tr>\n",
       "    <tr>\n",
       "      <th>min</th>\n",
       "      <td>0.000000</td>\n",
       "      <td>0.000000</td>\n",
       "      <td>0.000000</td>\n",
       "    </tr>\n",
       "    <tr>\n",
       "      <th>25%</th>\n",
       "      <td>385.000000</td>\n",
       "      <td>0.000000</td>\n",
       "      <td>0.000000</td>\n",
       "    </tr>\n",
       "    <tr>\n",
       "      <th>50%</th>\n",
       "      <td>403.000000</td>\n",
       "      <td>0.000000</td>\n",
       "      <td>0.000000</td>\n",
       "    </tr>\n",
       "    <tr>\n",
       "      <th>75%</th>\n",
       "      <td>496.000000</td>\n",
       "      <td>730.400000</td>\n",
       "      <td>2860.000000</td>\n",
       "    </tr>\n",
       "    <tr>\n",
       "      <th>max</th>\n",
       "      <td>605.000000</td>\n",
       "      <td>63290.890000</td>\n",
       "      <td>53137.000000</td>\n",
       "    </tr>\n",
       "  </tbody>\n",
       "</table>\n",
       "</div>"
      ],
      "text/plain": [
       "        credit_score      overdraft          quota\n",
       "count  119269.000000  119269.000000  119269.000000\n",
       "mean      419.995850    1210.913202    1731.818140\n",
       "std       105.144555    2658.581602    3224.829157\n",
       "min         0.000000       0.000000       0.000000\n",
       "25%       385.000000       0.000000       0.000000\n",
       "50%       403.000000       0.000000       0.000000\n",
       "75%       496.000000     730.400000    2860.000000\n",
       "max       605.000000   63290.890000   53137.000000"
      ]
     },
     "execution_count": 18,
     "metadata": {},
     "output_type": "execute_result"
    }
   ],
   "source": [
    "df_train_credit_info.describe()"
   ]
  },
  {
   "cell_type": "code",
   "execution_count": 19,
   "id": "cc762e16",
   "metadata": {
    "ExecuteTime": {
     "end_time": "2021-08-01T00:58:19.720596Z",
     "start_time": "2021-08-01T00:58:19.294208Z"
    }
   },
   "outputs": [
    {
     "data": {
      "text/plain": [
       "Text(0.5, 1.0, 'credit_score')"
      ]
     },
     "execution_count": 19,
     "metadata": {},
     "output_type": "execute_result"
    },
    {
     "data": {
      "image/png": "[encoded data removed]",
      "text/plain": [
       "<Figure size 360x360 with 1 Axes>"
      ]
     },
     "metadata": {
      "needs_background": "light"
     },
     "output_type": "display_data"
    }
   ],
   "source": [
    "sns.displot(df_train_credit_info['credit_score'])\n",
    "plt.title('credit_score')"
   ]
  },
  {
   "cell_type": "code",
   "execution_count": 20,
   "id": "2e53b758",
   "metadata": {
    "ExecuteTime": {
     "end_time": "2021-08-01T00:58:22.825420Z",
     "start_time": "2021-08-01T00:58:19.721597Z"
    }
   },
   "outputs": [
    {
     "data": {
      "text/plain": [
       "Text(0.5, 1.0, 'overdraft')"
      ]
     },
     "execution_count": 20,
     "metadata": {},
     "output_type": "execute_result"
    },
    {
     "data": {
      "image/png": "[encoded data removed]",
      "text/plain": [
       "<Figure size 360x360 with 1 Axes>"
      ]
     },
     "metadata": {
      "needs_background": "light"
     },
     "output_type": "display_data"
    }
   ],
   "source": [
    "sns.displot(df_train_credit_info['overdraft'])\n",
    "plt.title('overdraft')"
   ]
  },
  {
   "cell_type": "code",
   "execution_count": 21,
   "id": "d8221df0",
   "metadata": {
    "ExecuteTime": {
     "end_time": "2021-08-01T00:58:23.752118Z",
     "start_time": "2021-08-01T00:58:22.827423Z"
    }
   },
   "outputs": [
    {
     "data": {
      "text/plain": [
       "Text(0.5, 1.0, 'quota')"
      ]
     },
     "execution_count": 21,
     "metadata": {},
     "output_type": "execute_result"
    },
    {
     "data": {
      "image/png": "[encoded data removed]",
      "text/plain": [
       "<Figure size 360x360 with 1 Axes>"
      ]
     },
     "metadata": {
      "needs_background": "light"
     },
     "output_type": "display_data"
    }
   ],
   "source": [
    "sns.displot(df_train_credit_info['quota'])\n",
    "plt.title('quota')"
   ]
  },
  {
   "cell_type": "markdown",
   "id": "ba5ad3b1",
   "metadata": {},
   "source": [
    "#### 2.3.1 分析\n",
    "1. 该表中字段都为数值数据，其中存在部分缺失数据。\n",
    "2. 如上图credit_score的分布很有特色。\n",
    "3. overdraf与quota之间本身有关系。\n",
    "\n",
    "\n",
    "#### 2.3.2 处理\n",
    "1. 对于该表的数据，首先分别画出其柱状图，考虑是否需要进行分段\n",
    "2. 考虑对数值数据做交叉，做差，比率之类的。\n",
    "3. 对于缺失值数据，考虑fillna一个特殊的值用以区别\n",
    "4. credit_score列可考虑增加分段，overdraf与（quota+1）做差，做商"
   ]
  },
  {
   "cell_type": "code",
   "execution_count": 22,
   "id": "85c6a9a1",
   "metadata": {
    "ExecuteTime": {
     "end_time": "2021-08-01T00:58:23.798146Z",
     "start_time": "2021-08-01T00:58:23.756110Z"
    }
   },
   "outputs": [
    {
     "data": {
      "text/html": [
       "<div>\n",
       "<style scoped>\n",
       "    .dataframe tbody tr th:only-of-type {\n",
       "        vertical-align: middle;\n",
       "    }\n",
       "\n",
       "    .dataframe tbody tr th {\n",
       "        vertical-align: top;\n",
       "    }\n",
       "\n",
       "    .dataframe thead th {\n",
       "        text-align: right;\n",
       "    }\n",
       "</style>\n",
       "<table border=\"1\" class=\"dataframe\">\n",
       "  <thead>\n",
       "    <tr style=\"text-align: right;\">\n",
       "      <th></th>\n",
       "      <th>credit_score</th>\n",
       "      <th>overdraft</th>\n",
       "      <th>quota</th>\n",
       "      <th>id</th>\n",
       "      <th>credit_score_split</th>\n",
       "      <th>quota_minus_overdraft</th>\n",
       "      <th>quota_overdraft_percent</th>\n",
       "      <th>reverse_credit_score</th>\n",
       "    </tr>\n",
       "  </thead>\n",
       "  <tbody>\n",
       "    <tr>\n",
       "      <th>0</th>\n",
       "      <td>549.0</td>\n",
       "      <td>0.0</td>\n",
       "      <td>0.0</td>\n",
       "      <td>563888070781309192</td>\n",
       "      <td>3</td>\n",
       "      <td>0.0</td>\n",
       "      <td>0.000000</td>\n",
       "      <td>56.0</td>\n",
       "    </tr>\n",
       "    <tr>\n",
       "      <th>1</th>\n",
       "      <td>400.0</td>\n",
       "      <td>0.0</td>\n",
       "      <td>0.0</td>\n",
       "      <td>591567740590887176</td>\n",
       "      <td>2</td>\n",
       "      <td>0.0</td>\n",
       "      <td>0.000000</td>\n",
       "      <td>205.0</td>\n",
       "    </tr>\n",
       "    <tr>\n",
       "      <th>2</th>\n",
       "      <td>490.0</td>\n",
       "      <td>4955.9</td>\n",
       "      <td>5083.0</td>\n",
       "      <td>464888846169936136</td>\n",
       "      <td>3</td>\n",
       "      <td>127.1</td>\n",
       "      <td>0.974803</td>\n",
       "      <td>115.0</td>\n",
       "    </tr>\n",
       "  </tbody>\n",
       "</table>\n",
       "</div>"
      ],
      "text/plain": [
       "   credit_score  overdraft   quota                  id credit_score_split  \\\n",
       "0         549.0        0.0     0.0  563888070781309192                  3   \n",
       "1         400.0        0.0     0.0  591567740590887176                  2   \n",
       "2         490.0     4955.9  5083.0  464888846169936136                  3   \n",
       "\n",
       "   quota_minus_overdraft  quota_overdraft_percent  reverse_credit_score  \n",
       "0                    0.0                 0.000000                  56.0  \n",
       "1                    0.0                 0.000000                 205.0  \n",
       "2                  127.1                 0.974803                 115.0  "
      ]
     },
     "execution_count": 22,
     "metadata": {},
     "output_type": "execute_result"
    }
   ],
   "source": [
    "#设置切分区域\n",
    "listbins = [-1, 150, 350, 420, 700]\n",
    "\n",
    "#设置切分后对应标签\n",
    "listlabels = [0, 1, 2, 3]\n",
    "\n",
    "df_train_credit_info['credit_score_split'] = pd.cut(df_train_credit_info['credit_score'], listbins, labels=listlabels)\n",
    "df_train_credit_info['credit_score_split'] = df_train_credit_info['credit_score_split'].cat.add_categories(-1)\n",
    "\n",
    "df_train_credit_info['quota_minus_overdraft'] = df_train_credit_info['quota'] - df_train_credit_info['overdraft']\n",
    "df_train_credit_info['quota_overdraft_percent'] = df_train_credit_info['overdraft']/(df_train_credit_info['quota'] +1)\n",
    "\n",
    "df_train_credit_info['reverse_credit_score'] = 605 - df_train_credit_info['credit_score']\n",
    "\n",
    "cols = ['credit_score', 'overdraft', 'quota', 'credit_score_split',\n",
    "       'quota_minus_overdraft', 'quota_overdraft_percent', 'reverse_credit_score']\n",
    "\n",
    "df_train_credit_info[cols] = df_train_credit_info[cols].fillna(-1)\n",
    "\n",
    "df_train_credit_info.head(3)"
   ]
  },
  {
   "cell_type": "markdown",
   "id": "f22e2ba7",
   "metadata": {},
   "source": [
    "### 2.4 train_order_info.csv"
   ]
  },
  {
   "cell_type": "markdown",
   "id": "b64f9973",
   "metadata": {},
   "source": [
    "|订单信息order_info| |\n",
    "|:----|:----|\n",
    "|字段名|字段解释|\n",
    "|id|申请贷款唯一编号|\n",
    "|no_order_md5|订单编号MD5加密|\n",
    "|name_rec_md5|收货人姓名MD5加密|\n",
    "|amt_order|订单金额|\n",
    "|type_pay|支付方式|\n",
    "|time_order|下单时间|\n",
    "|sts_order|订单状态|\n",
    "|phone|收货电话（脱敏）|\n",
    "|product_id_md5|商品编号MD5加密|\n",
    "|unit_price|商品单价|\n"
   ]
  },
  {
   "cell_type": "code",
   "execution_count": 23,
   "id": "f218956e",
   "metadata": {
    "ExecuteTime": {
     "end_time": "2021-08-01T00:58:29.183046Z",
     "start_time": "2021-08-01T00:58:23.801149Z"
    }
   },
   "outputs": [
    {
     "data": {
      "text/html": [
       "<div>\n",
       "<style scoped>\n",
       "    .dataframe tbody tr th:only-of-type {\n",
       "        vertical-align: middle;\n",
       "    }\n",
       "\n",
       "    .dataframe tbody tr th {\n",
       "        vertical-align: top;\n",
       "    }\n",
       "\n",
       "    .dataframe thead th {\n",
       "        text-align: right;\n",
       "    }\n",
       "</style>\n",
       "<table border=\"1\" class=\"dataframe\">\n",
       "  <thead>\n",
       "    <tr style=\"text-align: right;\">\n",
       "      <th></th>\n",
       "      <th>amt_order</th>\n",
       "      <th>type_pay</th>\n",
       "      <th>time_order</th>\n",
       "      <th>sts_order</th>\n",
       "      <th>phone</th>\n",
       "      <th>unit_price</th>\n",
       "      <th>id</th>\n",
       "      <th>no_order_md5</th>\n",
       "      <th>name_rec_md5</th>\n",
       "      <th>product_id_md5</th>\n",
       "    </tr>\n",
       "  </thead>\n",
       "  <tbody>\n",
       "    <tr>\n",
       "      <th>0</th>\n",
       "      <td>39.0</td>\n",
       "      <td>在线支付</td>\n",
       "      <td>2017-04-15 09:21:18</td>\n",
       "      <td>等待收货</td>\n",
       "      <td>159****2937</td>\n",
       "      <td>NaN</td>\n",
       "      <td>609460154345197832</td>\n",
       "      <td>ae3b7fd144ff7ee8658d92137a924836</td>\n",
       "      <td>afeb593025b37afbe8179c456b8855f1</td>\n",
       "      <td>NaN</td>\n",
       "    </tr>\n",
       "    <tr>\n",
       "      <th>1</th>\n",
       "      <td>39.0</td>\n",
       "      <td>在线支付</td>\n",
       "      <td>2017-04-15 09:21:18</td>\n",
       "      <td>完成</td>\n",
       "      <td>159****2937</td>\n",
       "      <td>NaN</td>\n",
       "      <td>609460154345197832</td>\n",
       "      <td>ae3b7fd144ff7ee8658d92137a924836</td>\n",
       "      <td>afeb593025b37afbe8179c456b8855f1</td>\n",
       "      <td>NaN</td>\n",
       "    </tr>\n",
       "    <tr>\n",
       "      <th>2</th>\n",
       "      <td>288.0</td>\n",
       "      <td>在线支付</td>\n",
       "      <td>2016-10-24 08:57:06</td>\n",
       "      <td>NaN</td>\n",
       "      <td>137****8223</td>\n",
       "      <td>NaN</td>\n",
       "      <td>609460154345197832</td>\n",
       "      <td>1d7b1294cdbfe24815e39c458cd059d1</td>\n",
       "      <td>eac9416f834d481d7c88da6134468d03</td>\n",
       "      <td>NaN</td>\n",
       "    </tr>\n",
       "  </tbody>\n",
       "</table>\n",
       "</div>"
      ],
      "text/plain": [
       "   amt_order type_pay           time_order sts_order        phone  unit_price  \\\n",
       "0       39.0     在线支付  2017-04-15 09:21:18      等待收货  159****2937         NaN   \n",
       "1       39.0     在线支付  2017-04-15 09:21:18        完成  159****2937         NaN   \n",
       "2      288.0     在线支付  2016-10-24 08:57:06       NaN  137****8223         NaN   \n",
       "\n",
       "                   id                      no_order_md5  \\\n",
       "0  609460154345197832  ae3b7fd144ff7ee8658d92137a924836   \n",
       "1  609460154345197832  ae3b7fd144ff7ee8658d92137a924836   \n",
       "2  609460154345197832  1d7b1294cdbfe24815e39c458cd059d1   \n",
       "\n",
       "                       name_rec_md5 product_id_md5  \n",
       "0  afeb593025b37afbe8179c456b8855f1            NaN  \n",
       "1  afeb593025b37afbe8179c456b8855f1            NaN  \n",
       "2  eac9416f834d481d7c88da6134468d03            NaN  "
      ]
     },
     "execution_count": 23,
     "metadata": {},
     "output_type": "execute_result"
    }
   ],
   "source": [
    "df_train_order_info = pd.read_csv(path_train_order_info, parse_dates = ['time_order'])\n",
    "df_train_order_info.head(3)"
   ]
  },
  {
   "cell_type": "code",
   "execution_count": 24,
   "id": "c7b99d8a",
   "metadata": {
    "ExecuteTime": {
     "end_time": "2021-08-01T00:58:55.581229Z",
     "start_time": "2021-08-01T00:58:29.185048Z"
    }
   },
   "outputs": [],
   "source": [
    "df_train_order_info['time_order'] = df_train_order_info['time_order'].map(lambda x: pd.NaT if (str(x)=='0' or str(x)=='nan')\n",
    "                                                                         else (datetime.datetime.strptime(str(x), '%Y-%m-%d %H:%M:%S') if ':' in str(x)\n",
    "                                                                         else (datetime.datetime.utcfromtimestamp(int(x[0:10])) )))"
   ]
  },
  {
   "cell_type": "code",
   "execution_count": 25,
   "id": "47c41b41",
   "metadata": {
    "ExecuteTime": {
     "end_time": "2021-08-01T00:58:55.596243Z",
     "start_time": "2021-08-01T00:58:55.582230Z"
    }
   },
   "outputs": [
    {
     "name": "stdout",
     "output_type": "stream",
     "text": [
      "<class 'pandas.core.frame.DataFrame'>\n",
      "RangeIndex: 2415645 entries, 0 to 2415644\n",
      "Data columns (total 10 columns):\n",
      " #   Column          Dtype         \n",
      "---  ------          -----         \n",
      " 0   amt_order       float64       \n",
      " 1   type_pay        object        \n",
      " 2   time_order      datetime64[ns]\n",
      " 3   sts_order       object        \n",
      " 4   phone           object        \n",
      " 5   unit_price      float64       \n",
      " 6   id              object        \n",
      " 7   no_order_md5    object        \n",
      " 8   name_rec_md5    object        \n",
      " 9   product_id_md5  object        \n",
      "dtypes: datetime64[ns](1), float64(2), object(7)\n",
      "memory usage: 184.3+ MB\n"
     ]
    }
   ],
   "source": [
    "df_train_order_info.info()"
   ]
  },
  {
   "cell_type": "code",
   "execution_count": 26,
   "id": "6e4d0c3c",
   "metadata": {
    "ExecuteTime": {
     "end_time": "2021-08-01T00:58:56.087073Z",
     "start_time": "2021-08-01T00:58:55.598246Z"
    }
   },
   "outputs": [
    {
     "name": "stdout",
     "output_type": "stream",
     "text": [
      "表中字段缺失值\n"
     ]
    },
    {
     "data": {
      "text/plain": [
       "amt_order           68189\n",
       "type_pay           186793\n",
       "time_order          56445\n",
       "sts_order          275646\n",
       "phone              122781\n",
       "unit_price        1670860\n",
       "id                      0\n",
       "no_order_md5        56279\n",
       "name_rec_md5       212057\n",
       "product_id_md5    1670886\n",
       "dtype: int64"
      ]
     },
     "execution_count": 26,
     "metadata": {},
     "output_type": "execute_result"
    }
   ],
   "source": [
    "print(\"表中字段缺失值\")\n",
    "df_train_order_info.isnull().sum()"
   ]
  },
  {
   "cell_type": "code",
   "execution_count": 27,
   "id": "4b122d2c",
   "metadata": {
    "ExecuteTime": {
     "end_time": "2021-08-01T00:58:58.588979Z",
     "start_time": "2021-08-01T00:58:56.088691Z"
    }
   },
   "outputs": [
    {
     "name": "stdout",
     "output_type": "stream",
     "text": [
      "表中字段范围\n"
     ]
    },
    {
     "data": {
      "text/plain": [
       "amt_order           28227\n",
       "type_pay               41\n",
       "time_order        1698752\n",
       "sts_order              53\n",
       "phone              126427\n",
       "unit_price           6895\n",
       "id                 120929\n",
       "no_order_md5      1934846\n",
       "name_rec_md5       118077\n",
       "product_id_md5     278050\n",
       "dtype: int64"
      ]
     },
     "execution_count": 27,
     "metadata": {},
     "output_type": "execute_result"
    }
   ],
   "source": [
    "print(\"表中字段范围\")\n",
    "df_train_order_info.nunique()"
   ]
  },
  {
   "cell_type": "code",
   "execution_count": 28,
   "id": "d1722724",
   "metadata": {
    "ExecuteTime": {
     "end_time": "2021-08-01T00:58:58.793151Z",
     "start_time": "2021-08-01T00:58:58.590968Z"
    }
   },
   "outputs": [
    {
     "data": {
      "text/plain": [
       "在线支付          1863542\n",
       "货到付款           237440\n",
       "在线              99419\n",
       "混合支付            13579\n",
       "分期付款             5881\n",
       "在线+京豆            2263\n",
       "上门自提             1741\n",
       "余额                567\n",
       "在线+限品东券           565\n",
       "邮局汇款              552\n",
       "京豆                451\n",
       "公司转账              439\n",
       "在线+东券支付           421\n",
       "京豆支付              375\n",
       "京豆混合支付            360\n",
       "前台自付              333\n",
       "在线+定向东券           201\n",
       "定向东券              150\n",
       "在线+全品东券           131\n",
       "在线+东券             109\n",
       "白条支付               92\n",
       "东券混合支付             70\n",
       "京豆东券混合支付           39\n",
       "在线支付               26\n",
       "定向京券支付             24\n",
       "在线预付               17\n",
       "积分支付               16\n",
       "定向京券               13\n",
       "在线+余额              11\n",
       "京券混合支付              7\n",
       "在线+京券支付             4\n",
       "余额+限品东券             2\n",
       "限品京券                2\n",
       "全品京券                2\n",
       "在线+全品京券             2\n",
       "在线+限品京券             1\n",
       "在线+余额+限品东券          1\n",
       "高校代理-代理支付           1\n",
       "分期付款(招行)            1\n",
       "高校代理-自己支付           1\n",
       "京券全额支付              1\n",
       "Name: type_pay, dtype: int64"
      ]
     },
     "execution_count": 28,
     "metadata": {},
     "output_type": "execute_result"
    }
   ],
   "source": [
    "df_train_order_info['type_pay'].value_counts()"
   ]
  },
  {
   "cell_type": "code",
   "execution_count": 29,
   "id": "0bc12bc5",
   "metadata": {
    "ExecuteTime": {
     "end_time": "2021-08-01T00:58:58.999338Z",
     "start_time": "2021-08-01T00:58:58.795153Z"
    }
   },
   "outputs": [
    {
     "data": {
      "text/plain": [
       "完成               1364407\n",
       "已取消               289528\n",
       "充值成功              260374\n",
       "未抢中                88667\n",
       "订单取消               51595\n",
       "已完成                45458\n",
       "等待收货               16098\n",
       "充值失败;退款成功           6219\n",
       "出票成功                4665\n",
       "退款完成                3041\n",
       "等待付款                1789\n",
       "已收货                 1711\n",
       "充值失败                1053\n",
       "退款成功                 818\n",
       "正在出库                 809\n",
       "商品出库                 645\n",
       "出票失败                 605\n",
       "正在处理                 489\n",
       "抢票已取消                468\n",
       "已晒单                  397\n",
       "等待审核                 231\n",
       "付款成功                 160\n",
       "购买成功                 135\n",
       "失败退款                 126\n",
       "请上门自提                 63\n",
       "订单已取消                 51\n",
       "预订结束                  42\n",
       "配送退货                  42\n",
       "已退款                   40\n",
       "预约完成                  36\n",
       "等待处理                  31\n",
       "等待退款                  30\n",
       "等待付款确认                28\n",
       "已取消订单                 27\n",
       "缴费成功                  20\n",
       "未入住                   18\n",
       "下单失败                  18\n",
       "正在送货（暂不能上门自提）         14\n",
       "已确认                   14\n",
       "充值失败;退款处理中             7\n",
       "已入住                    5\n",
       "正在充值                   5\n",
       "等待分期付款                 4\n",
       "部分充值成功;退款成功            3\n",
       "过期关闭                   2\n",
       "支付失败                   2\n",
       "商品退库                   2\n",
       "等待厂商处理                 2\n",
       "退款中                    1\n",
       "预订中                    1\n",
       "发货中                    1\n",
       "等待揭晓                   1\n",
       "过期放弃                   1\n",
       "Name: sts_order, dtype: int64"
      ]
     },
     "execution_count": 29,
     "metadata": {},
     "output_type": "execute_result"
    }
   ],
   "source": [
    "df_train_order_info['sts_order'].value_counts()"
   ]
  },
  {
   "cell_type": "markdown",
   "id": "a412416a",
   "metadata": {},
   "source": [
    "#### 2.4.1 分析\n",
    "1. 订单数据汇总，amt_order，unit_price为数值型，其它为category类型。\n",
    "2. 目前来说数据缺失值比较多，其中类别型数据取值范围比较大，\n",
    "\n",
    "#### 2.4.2 处理\n",
    "1. groupby进行聚合，先进行数值处理，嵌入问题再考虑。\n",
    "2. type_pay和sts_order因取值范围比较小，故考虑对较全部分做one-hot\n"
   ]
  },
  {
   "cell_type": "code",
   "execution_count": 30,
   "id": "7c0912f3",
   "metadata": {
    "ExecuteTime": {
     "end_time": "2021-08-01T00:59:03.703263Z",
     "start_time": "2021-08-01T00:58:59.001340Z"
    }
   },
   "outputs": [],
   "source": [
    "df_train_order_info['type_pay_online_pay'] = df_train_order_info['type_pay'].map(lambda x: 1 if str(x)=='在线支付' else 0)\n",
    "df_train_order_info['type_pay_arrived_pay'] = df_train_order_info['type_pay'].map(lambda x: 1 if str(x)=='货到付款' else 0)\n",
    "\n",
    "df_train_order_info['sts_order_finish'] = df_train_order_info['sts_order'].map(lambda x: 1 if str(x)=='完成' else 0)\n",
    "df_train_order_info['sts_order_cancel'] = df_train_order_info['sts_order'].map(lambda x: 1 if str(x)=='已取消' else 0)\n",
    "df_train_order_info['sts_order_pay_finish'] = df_train_order_info['sts_order'].map(lambda x: 1 if str(x)=='充值成功' else 0)"
   ]
  },
  {
   "cell_type": "code",
   "execution_count": 31,
   "id": "03518d5d",
   "metadata": {
    "ExecuteTime": {
     "end_time": "2021-08-01T00:59:09.491738Z",
     "start_time": "2021-08-01T00:59:03.705280Z"
    }
   },
   "outputs": [
    {
     "data": {
      "text/html": [
       "<div>\n",
       "<style scoped>\n",
       "    .dataframe tbody tr th:only-of-type {\n",
       "        vertical-align: middle;\n",
       "    }\n",
       "\n",
       "    .dataframe tbody tr th {\n",
       "        vertical-align: top;\n",
       "    }\n",
       "\n",
       "    .dataframe thead th {\n",
       "        text-align: right;\n",
       "    }\n",
       "</style>\n",
       "<table border=\"1\" class=\"dataframe\">\n",
       "  <thead>\n",
       "    <tr style=\"text-align: right;\">\n",
       "      <th></th>\n",
       "      <th>amt_order_min</th>\n",
       "      <th>amt_order_max</th>\n",
       "      <th>amt_order_mean</th>\n",
       "      <th>amt_order_std</th>\n",
       "      <th>unit_price_min</th>\n",
       "      <th>unit_price_max</th>\n",
       "      <th>unit_price_mean</th>\n",
       "      <th>unit_price_std</th>\n",
       "      <th>type_pay_count</th>\n",
       "      <th>type_pay_nunique</th>\n",
       "      <th>...</th>\n",
       "      <th>type_pay_online_pay_sum</th>\n",
       "      <th>type_pay_online_pay_mean</th>\n",
       "      <th>type_pay_arrived_pay_sum</th>\n",
       "      <th>type_pay_arrived_pay_mean</th>\n",
       "      <th>sts_order_finish_sum</th>\n",
       "      <th>sts_order_finish_mean</th>\n",
       "      <th>sts_order_cancel_sum</th>\n",
       "      <th>sts_order_cancel_mean</th>\n",
       "      <th>sts_order_pay_finish_sum</th>\n",
       "      <th>sts_order_pay_finish_mean</th>\n",
       "    </tr>\n",
       "    <tr>\n",
       "      <th>id</th>\n",
       "      <th></th>\n",
       "      <th></th>\n",
       "      <th></th>\n",
       "      <th></th>\n",
       "      <th></th>\n",
       "      <th></th>\n",
       "      <th></th>\n",
       "      <th></th>\n",
       "      <th></th>\n",
       "      <th></th>\n",
       "      <th></th>\n",
       "      <th></th>\n",
       "      <th></th>\n",
       "      <th></th>\n",
       "      <th></th>\n",
       "      <th></th>\n",
       "      <th></th>\n",
       "      <th></th>\n",
       "      <th></th>\n",
       "      <th></th>\n",
       "      <th></th>\n",
       "    </tr>\n",
       "  </thead>\n",
       "  <tbody>\n",
       "    <tr>\n",
       "      <th>20160328090001743085</th>\n",
       "      <td>4659.0</td>\n",
       "      <td>4888.0</td>\n",
       "      <td>4697.166667</td>\n",
       "      <td>93.488859</td>\n",
       "      <td>0.0</td>\n",
       "      <td>4888.0</td>\n",
       "      <td>1591.166667</td>\n",
       "      <td>2466.088272</td>\n",
       "      <td>6</td>\n",
       "      <td>1</td>\n",
       "      <td>...</td>\n",
       "      <td>6</td>\n",
       "      <td>1.0</td>\n",
       "      <td>0</td>\n",
       "      <td>0.0</td>\n",
       "      <td>6</td>\n",
       "      <td>1.0</td>\n",
       "      <td>0</td>\n",
       "      <td>0.0</td>\n",
       "      <td>0</td>\n",
       "      <td>0.0</td>\n",
       "    </tr>\n",
       "    <tr>\n",
       "      <th>20160328160001756263</th>\n",
       "      <td>NaN</td>\n",
       "      <td>NaN</td>\n",
       "      <td>NaN</td>\n",
       "      <td>NaN</td>\n",
       "      <td>NaN</td>\n",
       "      <td>NaN</td>\n",
       "      <td>NaN</td>\n",
       "      <td>NaN</td>\n",
       "      <td>0</td>\n",
       "      <td>0</td>\n",
       "      <td>...</td>\n",
       "      <td>0</td>\n",
       "      <td>0.0</td>\n",
       "      <td>0</td>\n",
       "      <td>0.0</td>\n",
       "      <td>0</td>\n",
       "      <td>0.0</td>\n",
       "      <td>0</td>\n",
       "      <td>0.0</td>\n",
       "      <td>0</td>\n",
       "      <td>0.0</td>\n",
       "    </tr>\n",
       "    <tr>\n",
       "      <th>20160328170001757443</th>\n",
       "      <td>NaN</td>\n",
       "      <td>NaN</td>\n",
       "      <td>NaN</td>\n",
       "      <td>NaN</td>\n",
       "      <td>NaN</td>\n",
       "      <td>NaN</td>\n",
       "      <td>NaN</td>\n",
       "      <td>NaN</td>\n",
       "      <td>0</td>\n",
       "      <td>0</td>\n",
       "      <td>...</td>\n",
       "      <td>0</td>\n",
       "      <td>0.0</td>\n",
       "      <td>0</td>\n",
       "      <td>0.0</td>\n",
       "      <td>0</td>\n",
       "      <td>0.0</td>\n",
       "      <td>0</td>\n",
       "      <td>0.0</td>\n",
       "      <td>0</td>\n",
       "      <td>0.0</td>\n",
       "    </tr>\n",
       "  </tbody>\n",
       "</table>\n",
       "<p>3 rows × 38 columns</p>\n",
       "</div>"
      ],
      "text/plain": [
       "                      amt_order_min  amt_order_max  amt_order_mean  \\\n",
       "id                                                                   \n",
       "20160328090001743085         4659.0         4888.0     4697.166667   \n",
       "20160328160001756263            NaN            NaN             NaN   \n",
       "20160328170001757443            NaN            NaN             NaN   \n",
       "\n",
       "                      amt_order_std  unit_price_min  unit_price_max  \\\n",
       "id                                                                    \n",
       "20160328090001743085      93.488859             0.0          4888.0   \n",
       "20160328160001756263            NaN             NaN             NaN   \n",
       "20160328170001757443            NaN             NaN             NaN   \n",
       "\n",
       "                      unit_price_mean  unit_price_std  type_pay_count  \\\n",
       "id                                                                      \n",
       "20160328090001743085      1591.166667     2466.088272               6   \n",
       "20160328160001756263              NaN             NaN               0   \n",
       "20160328170001757443              NaN             NaN               0   \n",
       "\n",
       "                      type_pay_nunique  ...  type_pay_online_pay_sum  \\\n",
       "id                                      ...                            \n",
       "20160328090001743085                 1  ...                        6   \n",
       "20160328160001756263                 0  ...                        0   \n",
       "20160328170001757443                 0  ...                        0   \n",
       "\n",
       "                      type_pay_online_pay_mean  type_pay_arrived_pay_sum  \\\n",
       "id                                                                         \n",
       "20160328090001743085                       1.0                         0   \n",
       "20160328160001756263                       0.0                         0   \n",
       "20160328170001757443                       0.0                         0   \n",
       "\n",
       "                      type_pay_arrived_pay_mean  sts_order_finish_sum  \\\n",
       "id                                                                      \n",
       "20160328090001743085                        0.0                     6   \n",
       "20160328160001756263                        0.0                     0   \n",
       "20160328170001757443                        0.0                     0   \n",
       "\n",
       "                      sts_order_finish_mean  sts_order_cancel_sum  \\\n",
       "id                                                                  \n",
       "20160328090001743085                    1.0                     0   \n",
       "20160328160001756263                    0.0                     0   \n",
       "20160328170001757443                    0.0                     0   \n",
       "\n",
       "                      sts_order_cancel_mean  sts_order_pay_finish_sum  \\\n",
       "id                                                                      \n",
       "20160328090001743085                    0.0                         0   \n",
       "20160328160001756263                    0.0                         0   \n",
       "20160328170001757443                    0.0                         0   \n",
       "\n",
       "                      sts_order_pay_finish_mean  \n",
       "id                                               \n",
       "20160328090001743085                        0.0  \n",
       "20160328160001756263                        0.0  \n",
       "20160328170001757443                        0.0  \n",
       "\n",
       "[3 rows x 38 columns]"
      ]
     },
     "execution_count": 31,
     "metadata": {},
     "output_type": "execute_result"
    }
   ],
   "source": [
    "process_dict = {'amt_order':     ['min', 'max', 'mean', 'std'],\n",
    "                'unit_price':    ['min', 'max', 'mean', 'std'],\n",
    "                'type_pay':      ['count', 'nunique', 'size'],\n",
    "                'sts_order':     ['count', 'nunique', 'size'],\n",
    "                'phone':         ['count', 'nunique', 'size'],\n",
    "                'no_order_md5':  ['count', 'nunique', 'size'],\n",
    "                'name_rec_md5':  ['count', 'nunique', 'size'],\n",
    "                'product_id_md5':['count', 'nunique', 'size'],\n",
    "                'time_order':    ['max', 'min'],\n",
    "                'type_pay_online_pay':['sum', 'mean'],\n",
    "                'type_pay_arrived_pay':['sum', 'mean'],\n",
    "                'sts_order_finish':['sum', 'mean'],\n",
    "                'sts_order_cancel':['sum', 'mean'],\n",
    "                'sts_order_pay_finish':['sum', 'mean'],\n",
    "               }\n",
    "\n",
    "df_train_order = df_train_order_info.groupby('id').agg(process_dict)\n",
    "df_train_order.columns = ['_'.join(x) for x in df_train_order.columns]\n",
    "df_train_order.head(3)"
   ]
  },
  {
   "cell_type": "code",
   "execution_count": 32,
   "id": "78a7a6b8",
   "metadata": {
    "ExecuteTime": {
     "end_time": "2021-08-01T00:59:09.538780Z",
     "start_time": "2021-08-01T00:59:09.493740Z"
    }
   },
   "outputs": [
    {
     "name": "stdout",
     "output_type": "stream",
     "text": [
      "<class 'pandas.core.frame.DataFrame'>\n",
      "Index: 120929 entries, 20160328090001743085 to 616781870054510856\n",
      "Data columns (total 38 columns):\n",
      " #   Column                     Non-Null Count   Dtype         \n",
      "---  ------                     --------------   -----         \n",
      " 0   amt_order_min              64608 non-null   float64       \n",
      " 1   amt_order_max              64608 non-null   float64       \n",
      " 2   amt_order_mean             64608 non-null   float64       \n",
      " 3   amt_order_std              55495 non-null   float64       \n",
      " 4   unit_price_min             15591 non-null   float64       \n",
      " 5   unit_price_max             15591 non-null   float64       \n",
      " 6   unit_price_mean            15591 non-null   float64       \n",
      " 7   unit_price_std             14002 non-null   float64       \n",
      " 8   type_pay_count             120929 non-null  int64         \n",
      " 9   type_pay_nunique           120929 non-null  int64         \n",
      " 10  type_pay_size              120929 non-null  int64         \n",
      " 11  sts_order_count            120929 non-null  int64         \n",
      " 12  sts_order_nunique          120929 non-null  int64         \n",
      " 13  sts_order_size             120929 non-null  int64         \n",
      " 14  phone_count                120929 non-null  int64         \n",
      " 15  phone_nunique              120929 non-null  int64         \n",
      " 16  phone_size                 120929 non-null  int64         \n",
      " 17  no_order_md5_count         120929 non-null  int64         \n",
      " 18  no_order_md5_nunique       120929 non-null  int64         \n",
      " 19  no_order_md5_size          120929 non-null  int64         \n",
      " 20  name_rec_md5_count         120929 non-null  int64         \n",
      " 21  name_rec_md5_nunique       120929 non-null  int64         \n",
      " 22  name_rec_md5_size          120929 non-null  int64         \n",
      " 23  product_id_md5_count       120929 non-null  int64         \n",
      " 24  product_id_md5_nunique     120929 non-null  int64         \n",
      " 25  product_id_md5_size        120929 non-null  int64         \n",
      " 26  time_order_max             64648 non-null   datetime64[ns]\n",
      " 27  time_order_min             64648 non-null   datetime64[ns]\n",
      " 28  type_pay_online_pay_sum    120929 non-null  int64         \n",
      " 29  type_pay_online_pay_mean   120929 non-null  float64       \n",
      " 30  type_pay_arrived_pay_sum   120929 non-null  int64         \n",
      " 31  type_pay_arrived_pay_mean  120929 non-null  float64       \n",
      " 32  sts_order_finish_sum       120929 non-null  int64         \n",
      " 33  sts_order_finish_mean      120929 non-null  float64       \n",
      " 34  sts_order_cancel_sum       120929 non-null  int64         \n",
      " 35  sts_order_cancel_mean      120929 non-null  float64       \n",
      " 36  sts_order_pay_finish_sum   120929 non-null  int64         \n",
      " 37  sts_order_pay_finish_mean  120929 non-null  float64       \n",
      "dtypes: datetime64[ns](2), float64(13), int64(23)\n",
      "memory usage: 36.0+ MB\n"
     ]
    }
   ],
   "source": [
    "df_train_order.info()"
   ]
  },
  {
   "cell_type": "code",
   "execution_count": 33,
   "id": "8535922c",
   "metadata": {
    "ExecuteTime": {
     "end_time": "2021-08-01T00:59:09.554795Z",
     "start_time": "2021-08-01T00:59:09.539781Z"
    }
   },
   "outputs": [
    {
     "data": {
      "text/plain": [
       "amt_order_min                 56321\n",
       "amt_order_max                 56321\n",
       "amt_order_mean                56321\n",
       "amt_order_std                 65434\n",
       "unit_price_min               105338\n",
       "unit_price_max               105338\n",
       "unit_price_mean              105338\n",
       "unit_price_std               106927\n",
       "type_pay_count                    0\n",
       "type_pay_nunique                  0\n",
       "type_pay_size                     0\n",
       "sts_order_count                   0\n",
       "sts_order_nunique                 0\n",
       "sts_order_size                    0\n",
       "phone_count                       0\n",
       "phone_nunique                     0\n",
       "phone_size                        0\n",
       "no_order_md5_count                0\n",
       "no_order_md5_nunique              0\n",
       "no_order_md5_size                 0\n",
       "name_rec_md5_count                0\n",
       "name_rec_md5_nunique              0\n",
       "name_rec_md5_size                 0\n",
       "product_id_md5_count              0\n",
       "product_id_md5_nunique            0\n",
       "product_id_md5_size               0\n",
       "time_order_max                56281\n",
       "time_order_min                56281\n",
       "type_pay_online_pay_sum           0\n",
       "type_pay_online_pay_mean          0\n",
       "type_pay_arrived_pay_sum          0\n",
       "type_pay_arrived_pay_mean         0\n",
       "sts_order_finish_sum              0\n",
       "sts_order_finish_mean             0\n",
       "sts_order_cancel_sum              0\n",
       "sts_order_cancel_mean             0\n",
       "sts_order_pay_finish_sum          0\n",
       "sts_order_pay_finish_mean         0\n",
       "dtype: int64"
      ]
     },
     "execution_count": 33,
     "metadata": {},
     "output_type": "execute_result"
    }
   ],
   "source": [
    "df_train_order.isnull().sum()"
   ]
  },
  {
   "cell_type": "code",
   "execution_count": 34,
   "id": "70fd064a",
   "metadata": {
    "ExecuteTime": {
     "end_time": "2021-08-01T00:59:09.746970Z",
     "start_time": "2021-08-01T00:59:09.555796Z"
    }
   },
   "outputs": [
    {
     "data": {
      "text/plain": [
       "amt_order_min                 3399\n",
       "amt_order_max                 8012\n",
       "amt_order_mean               49532\n",
       "amt_order_std                51115\n",
       "unit_price_min                 771\n",
       "unit_price_max                1869\n",
       "unit_price_mean              13041\n",
       "unit_price_std               13117\n",
       "type_pay_count                 641\n",
       "type_pay_nunique                11\n",
       "type_pay_size                  668\n",
       "sts_order_count                644\n",
       "sts_order_nunique               15\n",
       "sts_order_size                 668\n",
       "phone_count                    655\n",
       "phone_nunique                   69\n",
       "phone_size                     668\n",
       "no_order_md5_count             669\n",
       "no_order_md5_nunique           529\n",
       "no_order_md5_size              668\n",
       "name_rec_md5_count             638\n",
       "name_rec_md5_nunique            56\n",
       "name_rec_md5_size              668\n",
       "product_id_md5_count           524\n",
       "product_id_md5_nunique         422\n",
       "product_id_md5_size            668\n",
       "time_order_max               64117\n",
       "time_order_min               63599\n",
       "type_pay_online_pay_sum        540\n",
       "type_pay_online_pay_mean      5000\n",
       "type_pay_arrived_pay_sum       249\n",
       "type_pay_arrived_pay_mean     3638\n",
       "sts_order_finish_sum           515\n",
       "sts_order_finish_mean         5945\n",
       "sts_order_cancel_sum           158\n",
       "sts_order_cancel_mean         4294\n",
       "sts_order_pay_finish_sum       178\n",
       "sts_order_pay_finish_mean     4225\n",
       "dtype: int64"
      ]
     },
     "execution_count": 34,
     "metadata": {},
     "output_type": "execute_result"
    }
   ],
   "source": [
    "df_train_order.nunique()"
   ]
  },
  {
   "cell_type": "code",
   "execution_count": 35,
   "id": "d969e81b",
   "metadata": {
    "ExecuteTime": {
     "end_time": "2021-08-01T00:59:09.762985Z",
     "start_time": "2021-08-01T00:59:09.748973Z"
    }
   },
   "outputs": [],
   "source": [
    "cols = ['amt_order_min', 'amt_order_max', 'amt_order_mean', 'amt_order_std',\n",
    "       'unit_price_min', 'unit_price_max', 'unit_price_mean', 'unit_price_std',\n",
    "       'type_pay_count', 'type_pay_nunique', 'sts_order_count',\n",
    "       'sts_order_nunique', 'phone_count', 'phone_nunique',\n",
    "       'no_order_md5_count', 'no_order_md5_nunique', 'name_rec_md5_count',\n",
    "       'name_rec_md5_nunique', 'product_id_md5_count',\n",
    "       'product_id_md5_nunique',\n",
    "       'type_pay_online_pay_sum', 'type_pay_online_pay_mean',\n",
    "       'type_pay_arrived_pay_sum', 'type_pay_arrived_pay_mean',\n",
    "       'sts_order_finish_sum', 'sts_order_finish_mean', 'sts_order_cancel_sum',\n",
    "       'sts_order_cancel_mean', 'sts_order_pay_finish_sum',\n",
    "       'sts_order_pay_finish_mean']\n",
    "cols = ['amt_order_min', 'amt_order_max', 'amt_order_mean', 'amt_order_std',\n",
    "       'unit_price_min', 'unit_price_max', 'unit_price_mean', 'unit_price_std',\n",
    "       'type_pay_count', 'type_pay_nunique', 'type_pay_size',\n",
    "       'sts_order_count', 'sts_order_nunique', 'sts_order_size', 'phone_count',\n",
    "       'phone_nunique', 'phone_size', 'no_order_md5_count',\n",
    "       'no_order_md5_nunique', 'no_order_md5_size', 'name_rec_md5_count',\n",
    "       'name_rec_md5_nunique', 'name_rec_md5_size', 'product_id_md5_count',\n",
    "       'product_id_md5_nunique', 'product_id_md5_size',\n",
    "       'type_pay_online_pay_sum', 'type_pay_online_pay_mean',\n",
    "       'type_pay_arrived_pay_sum', 'type_pay_arrived_pay_mean',\n",
    "       'sts_order_finish_sum', 'sts_order_finish_mean', 'sts_order_cancel_sum',\n",
    "       'sts_order_cancel_mean', 'sts_order_pay_finish_sum',\n",
    "       'sts_order_pay_finish_mean']"
   ]
  },
  {
   "cell_type": "code",
   "execution_count": 36,
   "id": "5b540eb1",
   "metadata": {
    "ExecuteTime": {
     "end_time": "2021-08-01T00:59:09.858071Z",
     "start_time": "2021-08-01T00:59:09.763985Z"
    }
   },
   "outputs": [
    {
     "data": {
      "text/html": [
       "<div>\n",
       "<style scoped>\n",
       "    .dataframe tbody tr th:only-of-type {\n",
       "        vertical-align: middle;\n",
       "    }\n",
       "\n",
       "    .dataframe tbody tr th {\n",
       "        vertical-align: top;\n",
       "    }\n",
       "\n",
       "    .dataframe thead th {\n",
       "        text-align: right;\n",
       "    }\n",
       "</style>\n",
       "<table border=\"1\" class=\"dataframe\">\n",
       "  <thead>\n",
       "    <tr style=\"text-align: right;\">\n",
       "      <th></th>\n",
       "      <th>amt_order_min</th>\n",
       "      <th>amt_order_max</th>\n",
       "      <th>amt_order_mean</th>\n",
       "      <th>amt_order_std</th>\n",
       "      <th>unit_price_min</th>\n",
       "      <th>unit_price_max</th>\n",
       "      <th>unit_price_mean</th>\n",
       "      <th>unit_price_std</th>\n",
       "      <th>type_pay_count</th>\n",
       "      <th>type_pay_nunique</th>\n",
       "      <th>...</th>\n",
       "      <th>type_pay_online_pay_sum</th>\n",
       "      <th>type_pay_online_pay_mean</th>\n",
       "      <th>type_pay_arrived_pay_sum</th>\n",
       "      <th>type_pay_arrived_pay_mean</th>\n",
       "      <th>sts_order_finish_sum</th>\n",
       "      <th>sts_order_finish_mean</th>\n",
       "      <th>sts_order_cancel_sum</th>\n",
       "      <th>sts_order_cancel_mean</th>\n",
       "      <th>sts_order_pay_finish_sum</th>\n",
       "      <th>sts_order_pay_finish_mean</th>\n",
       "    </tr>\n",
       "    <tr>\n",
       "      <th>id</th>\n",
       "      <th></th>\n",
       "      <th></th>\n",
       "      <th></th>\n",
       "      <th></th>\n",
       "      <th></th>\n",
       "      <th></th>\n",
       "      <th></th>\n",
       "      <th></th>\n",
       "      <th></th>\n",
       "      <th></th>\n",
       "      <th></th>\n",
       "      <th></th>\n",
       "      <th></th>\n",
       "      <th></th>\n",
       "      <th></th>\n",
       "      <th></th>\n",
       "      <th></th>\n",
       "      <th></th>\n",
       "      <th></th>\n",
       "      <th></th>\n",
       "      <th></th>\n",
       "    </tr>\n",
       "  </thead>\n",
       "  <tbody>\n",
       "    <tr>\n",
       "      <th>20160328090001743085</th>\n",
       "      <td>4659.0</td>\n",
       "      <td>4888.0</td>\n",
       "      <td>4697.166667</td>\n",
       "      <td>93.488859</td>\n",
       "      <td>0.0</td>\n",
       "      <td>4888.0</td>\n",
       "      <td>1591.166667</td>\n",
       "      <td>2466.088272</td>\n",
       "      <td>6</td>\n",
       "      <td>1</td>\n",
       "      <td>...</td>\n",
       "      <td>6</td>\n",
       "      <td>1.0</td>\n",
       "      <td>0</td>\n",
       "      <td>0.0</td>\n",
       "      <td>6</td>\n",
       "      <td>1.0</td>\n",
       "      <td>0</td>\n",
       "      <td>0.0</td>\n",
       "      <td>0</td>\n",
       "      <td>0.0</td>\n",
       "    </tr>\n",
       "    <tr>\n",
       "      <th>20160328160001756263</th>\n",
       "      <td>-1.0</td>\n",
       "      <td>-1.0</td>\n",
       "      <td>-1.000000</td>\n",
       "      <td>-1.000000</td>\n",
       "      <td>-1.0</td>\n",
       "      <td>-1.0</td>\n",
       "      <td>-1.000000</td>\n",
       "      <td>-1.000000</td>\n",
       "      <td>0</td>\n",
       "      <td>0</td>\n",
       "      <td>...</td>\n",
       "      <td>0</td>\n",
       "      <td>0.0</td>\n",
       "      <td>0</td>\n",
       "      <td>0.0</td>\n",
       "      <td>0</td>\n",
       "      <td>0.0</td>\n",
       "      <td>0</td>\n",
       "      <td>0.0</td>\n",
       "      <td>0</td>\n",
       "      <td>0.0</td>\n",
       "    </tr>\n",
       "    <tr>\n",
       "      <th>20160328170001757443</th>\n",
       "      <td>-1.0</td>\n",
       "      <td>-1.0</td>\n",
       "      <td>-1.000000</td>\n",
       "      <td>-1.000000</td>\n",
       "      <td>-1.0</td>\n",
       "      <td>-1.0</td>\n",
       "      <td>-1.000000</td>\n",
       "      <td>-1.000000</td>\n",
       "      <td>0</td>\n",
       "      <td>0</td>\n",
       "      <td>...</td>\n",
       "      <td>0</td>\n",
       "      <td>0.0</td>\n",
       "      <td>0</td>\n",
       "      <td>0.0</td>\n",
       "      <td>0</td>\n",
       "      <td>0.0</td>\n",
       "      <td>0</td>\n",
       "      <td>0.0</td>\n",
       "      <td>0</td>\n",
       "      <td>0.0</td>\n",
       "    </tr>\n",
       "  </tbody>\n",
       "</table>\n",
       "<p>3 rows × 38 columns</p>\n",
       "</div>"
      ],
      "text/plain": [
       "                      amt_order_min  amt_order_max  amt_order_mean  \\\n",
       "id                                                                   \n",
       "20160328090001743085         4659.0         4888.0     4697.166667   \n",
       "20160328160001756263           -1.0           -1.0       -1.000000   \n",
       "20160328170001757443           -1.0           -1.0       -1.000000   \n",
       "\n",
       "                      amt_order_std  unit_price_min  unit_price_max  \\\n",
       "id                                                                    \n",
       "20160328090001743085      93.488859             0.0          4888.0   \n",
       "20160328160001756263      -1.000000            -1.0            -1.0   \n",
       "20160328170001757443      -1.000000            -1.0            -1.0   \n",
       "\n",
       "                      unit_price_mean  unit_price_std  type_pay_count  \\\n",
       "id                                                                      \n",
       "20160328090001743085      1591.166667     2466.088272               6   \n",
       "20160328160001756263        -1.000000       -1.000000               0   \n",
       "20160328170001757443        -1.000000       -1.000000               0   \n",
       "\n",
       "                      type_pay_nunique  ...  type_pay_online_pay_sum  \\\n",
       "id                                      ...                            \n",
       "20160328090001743085                 1  ...                        6   \n",
       "20160328160001756263                 0  ...                        0   \n",
       "20160328170001757443                 0  ...                        0   \n",
       "\n",
       "                      type_pay_online_pay_mean  type_pay_arrived_pay_sum  \\\n",
       "id                                                                         \n",
       "20160328090001743085                       1.0                         0   \n",
       "20160328160001756263                       0.0                         0   \n",
       "20160328170001757443                       0.0                         0   \n",
       "\n",
       "                      type_pay_arrived_pay_mean  sts_order_finish_sum  \\\n",
       "id                                                                      \n",
       "20160328090001743085                        0.0                     6   \n",
       "20160328160001756263                        0.0                     0   \n",
       "20160328170001757443                        0.0                     0   \n",
       "\n",
       "                      sts_order_finish_mean  sts_order_cancel_sum  \\\n",
       "id                                                                  \n",
       "20160328090001743085                    1.0                     0   \n",
       "20160328160001756263                    0.0                     0   \n",
       "20160328170001757443                    0.0                     0   \n",
       "\n",
       "                      sts_order_cancel_mean  sts_order_pay_finish_sum  \\\n",
       "id                                                                      \n",
       "20160328090001743085                    0.0                         0   \n",
       "20160328160001756263                    0.0                         0   \n",
       "20160328170001757443                    0.0                         0   \n",
       "\n",
       "                      sts_order_pay_finish_mean  \n",
       "id                                               \n",
       "20160328090001743085                        0.0  \n",
       "20160328160001756263                        0.0  \n",
       "20160328170001757443                        0.0  \n",
       "\n",
       "[3 rows x 38 columns]"
      ]
     },
     "execution_count": 36,
     "metadata": {},
     "output_type": "execute_result"
    }
   ],
   "source": [
    "df_train_order[cols] = df_train_order[cols].fillna(-1)\n",
    "df_train_order.head(3)"
   ]
  },
  {
   "cell_type": "markdown",
   "id": "5c4112d9",
   "metadata": {},
   "source": [
    "### 2.5 train_recieve_addr_info.csv"
   ]
  },
  {
   "cell_type": "markdown",
   "id": "b058cbfa",
   "metadata": {},
   "source": [
    "|收货地址信息recieve_addr_info| |\n",
    "|:----|:----|\n",
    "|字段名|字段解释|\n",
    "|id|申请贷款唯一编号|\n",
    "|receiver_md5|收货人姓名(MD5加密)|\n",
    "|addr_id|收货地址ID|\n",
    "|region|收货地址所在地区|\n",
    "|phone|收货人手机号(脱敏)|\n",
    "|fix_phone|收货人固定电话号码(脱敏)|\n"
   ]
  },
  {
   "cell_type": "code",
   "execution_count": 37,
   "id": "56a01b54",
   "metadata": {
    "ExecuteTime": {
     "end_time": "2021-08-01T00:59:10.449609Z",
     "start_time": "2021-08-01T00:59:09.859071Z"
    }
   },
   "outputs": [
    {
     "data": {
      "text/html": [
       "<div>\n",
       "<style scoped>\n",
       "    .dataframe tbody tr th:only-of-type {\n",
       "        vertical-align: middle;\n",
       "    }\n",
       "\n",
       "    .dataframe tbody tr th {\n",
       "        vertical-align: top;\n",
       "    }\n",
       "\n",
       "    .dataframe thead th {\n",
       "        text-align: right;\n",
       "    }\n",
       "</style>\n",
       "<table border=\"1\" class=\"dataframe\">\n",
       "  <thead>\n",
       "    <tr style=\"text-align: right;\">\n",
       "      <th></th>\n",
       "      <th>addr_id</th>\n",
       "      <th>region</th>\n",
       "      <th>phone</th>\n",
       "      <th>fix_phone</th>\n",
       "      <th>id</th>\n",
       "      <th>receiver_md5</th>\n",
       "    </tr>\n",
       "  </thead>\n",
       "  <tbody>\n",
       "    <tr>\n",
       "      <th>0</th>\n",
       "      <td>NaN</td>\n",
       "      <td>na</td>\n",
       "      <td>NaN</td>\n",
       "      <td>NaN</td>\n",
       "      <td>575150029610684424</td>\n",
       "      <td>NaN</td>\n",
       "    </tr>\n",
       "    <tr>\n",
       "      <th>1</th>\n",
       "      <td>137816020.0</td>\n",
       "      <td>辽宁</td>\n",
       "      <td>186****4600</td>\n",
       "      <td>186****4600</td>\n",
       "      <td>563888070781309192</td>\n",
       "      <td>798371eaefb014d304e8c90ba0af1d09</td>\n",
       "    </tr>\n",
       "    <tr>\n",
       "      <th>2</th>\n",
       "      <td>137630418.0</td>\n",
       "      <td>辽宁</td>\n",
       "      <td>159****1000</td>\n",
       "      <td>159****1000</td>\n",
       "      <td>563888070781309192</td>\n",
       "      <td>41c14ef94733b4587f11ffb64e58a72d</td>\n",
       "    </tr>\n",
       "  </tbody>\n",
       "</table>\n",
       "</div>"
      ],
      "text/plain": [
       "       addr_id region        phone    fix_phone                  id  \\\n",
       "0          NaN     na          NaN          NaN  575150029610684424   \n",
       "1  137816020.0     辽宁  186****4600  186****4600  563888070781309192   \n",
       "2  137630418.0     辽宁  159****1000  159****1000  563888070781309192   \n",
       "\n",
       "                       receiver_md5  \n",
       "0                               NaN  \n",
       "1  798371eaefb014d304e8c90ba0af1d09  \n",
       "2  41c14ef94733b4587f11ffb64e58a72d  "
      ]
     },
     "execution_count": 37,
     "metadata": {},
     "output_type": "execute_result"
    }
   ],
   "source": [
    "df_train_recieve_addr_info = pd.read_csv(path_train_recieve_addr_info)\n",
    "df_train_recieve_addr_info['region'] = df_train_recieve_addr_info['region'].map(lambda x: str(x)[:2])\n",
    "df_train_recieve_addr_info.head(3)"
   ]
  },
  {
   "cell_type": "code",
   "execution_count": 38,
   "id": "be00f40e",
   "metadata": {
    "ExecuteTime": {
     "end_time": "2021-08-01T00:59:10.513667Z",
     "start_time": "2021-08-01T00:59:10.450610Z"
    }
   },
   "outputs": [
    {
     "name": "stdout",
     "output_type": "stream",
     "text": [
      "<class 'pandas.core.frame.DataFrame'>\n",
      "RangeIndex: 261299 entries, 0 to 261298\n",
      "Data columns (total 6 columns):\n",
      " #   Column        Non-Null Count   Dtype  \n",
      "---  ------        --------------   -----  \n",
      " 0   addr_id       168662 non-null  float64\n",
      " 1   region        261299 non-null  object \n",
      " 2   phone         227557 non-null  object \n",
      " 3   fix_phone     128125 non-null  object \n",
      " 4   id            261299 non-null  object \n",
      " 5   receiver_md5  227560 non-null  object \n",
      "dtypes: float64(1), object(5)\n",
      "memory usage: 12.0+ MB\n"
     ]
    }
   ],
   "source": [
    "df_train_recieve_addr_info.info()"
   ]
  },
  {
   "cell_type": "code",
   "execution_count": 39,
   "id": "094780e3",
   "metadata": {
    "ExecuteTime": {
     "end_time": "2021-08-01T00:59:10.560710Z",
     "start_time": "2021-08-01T00:59:10.514668Z"
    }
   },
   "outputs": [
    {
     "data": {
      "text/plain": [
       "addr_id          92637\n",
       "region               0\n",
       "phone            33742\n",
       "fix_phone       133174\n",
       "id                   0\n",
       "receiver_md5     33739\n",
       "dtype: int64"
      ]
     },
     "execution_count": 39,
     "metadata": {},
     "output_type": "execute_result"
    }
   ],
   "source": [
    "df_train_recieve_addr_info.isnull().sum()"
   ]
  },
  {
   "cell_type": "code",
   "execution_count": 40,
   "id": "476910d9",
   "metadata": {
    "ExecuteTime": {
     "end_time": "2021-08-01T00:59:10.780962Z",
     "start_time": "2021-08-01T00:59:10.562711Z"
    }
   },
   "outputs": [
    {
     "data": {
      "text/plain": [
       "addr_id         149668\n",
       "region              34\n",
       "phone           100004\n",
       "fix_phone        68679\n",
       "id              120929\n",
       "receiver_md5    101016\n",
       "dtype: int64"
      ]
     },
     "execution_count": 40,
     "metadata": {},
     "output_type": "execute_result"
    }
   ],
   "source": [
    "df_train_recieve_addr_info.nunique()"
   ]
  },
  {
   "cell_type": "markdown",
   "id": "de8dee41",
   "metadata": {},
   "source": [
    "#### 2.5.1 分析\n",
    "1. 一人有多条地址，该表多为category。\n",
    "2. 存在缺失值\n",
    "\n",
    "#### 2.5.2 处理\n",
    "1. groupby,fillna -1"
   ]
  },
  {
   "cell_type": "code",
   "execution_count": 41,
   "id": "2ccbb96b",
   "metadata": {
    "ExecuteTime": {
     "end_time": "2021-08-01T00:59:11.395470Z",
     "start_time": "2021-08-01T00:59:10.781912Z"
    }
   },
   "outputs": [
    {
     "data": {
      "text/html": [
       "<div>\n",
       "<style scoped>\n",
       "    .dataframe tbody tr th:only-of-type {\n",
       "        vertical-align: middle;\n",
       "    }\n",
       "\n",
       "    .dataframe tbody tr th {\n",
       "        vertical-align: top;\n",
       "    }\n",
       "\n",
       "    .dataframe thead th {\n",
       "        text-align: right;\n",
       "    }\n",
       "</style>\n",
       "<table border=\"1\" class=\"dataframe\">\n",
       "  <thead>\n",
       "    <tr style=\"text-align: right;\">\n",
       "      <th></th>\n",
       "      <th>addr_id_count</th>\n",
       "      <th>addr_id_nunique</th>\n",
       "      <th>region_count</th>\n",
       "      <th>region_nunique</th>\n",
       "      <th>phone_count</th>\n",
       "      <th>phone_nunique</th>\n",
       "      <th>fix_phone_count</th>\n",
       "      <th>fix_phone_nunique</th>\n",
       "      <th>receiver_md5_count</th>\n",
       "      <th>receiver_md5_nunique</th>\n",
       "    </tr>\n",
       "    <tr>\n",
       "      <th>id</th>\n",
       "      <th></th>\n",
       "      <th></th>\n",
       "      <th></th>\n",
       "      <th></th>\n",
       "      <th></th>\n",
       "      <th></th>\n",
       "      <th></th>\n",
       "      <th></th>\n",
       "      <th></th>\n",
       "      <th></th>\n",
       "    </tr>\n",
       "  </thead>\n",
       "  <tbody>\n",
       "    <tr>\n",
       "      <th>20160328090001743085</th>\n",
       "      <td>1</td>\n",
       "      <td>1</td>\n",
       "      <td>1</td>\n",
       "      <td>1</td>\n",
       "      <td>1</td>\n",
       "      <td>1</td>\n",
       "      <td>0</td>\n",
       "      <td>0</td>\n",
       "      <td>1</td>\n",
       "      <td>1</td>\n",
       "    </tr>\n",
       "    <tr>\n",
       "      <th>20160328160001756263</th>\n",
       "      <td>0</td>\n",
       "      <td>0</td>\n",
       "      <td>1</td>\n",
       "      <td>1</td>\n",
       "      <td>0</td>\n",
       "      <td>0</td>\n",
       "      <td>0</td>\n",
       "      <td>0</td>\n",
       "      <td>0</td>\n",
       "      <td>0</td>\n",
       "    </tr>\n",
       "    <tr>\n",
       "      <th>20160328170001757443</th>\n",
       "      <td>1</td>\n",
       "      <td>1</td>\n",
       "      <td>2</td>\n",
       "      <td>1</td>\n",
       "      <td>2</td>\n",
       "      <td>1</td>\n",
       "      <td>2</td>\n",
       "      <td>1</td>\n",
       "      <td>2</td>\n",
       "      <td>1</td>\n",
       "    </tr>\n",
       "  </tbody>\n",
       "</table>\n",
       "</div>"
      ],
      "text/plain": [
       "                      addr_id_count  addr_id_nunique  region_count  \\\n",
       "id                                                                   \n",
       "20160328090001743085              1                1             1   \n",
       "20160328160001756263              0                0             1   \n",
       "20160328170001757443              1                1             2   \n",
       "\n",
       "                      region_nunique  phone_count  phone_nunique  \\\n",
       "id                                                                 \n",
       "20160328090001743085               1            1              1   \n",
       "20160328160001756263               1            0              0   \n",
       "20160328170001757443               1            2              1   \n",
       "\n",
       "                      fix_phone_count  fix_phone_nunique  receiver_md5_count  \\\n",
       "id                                                                             \n",
       "20160328090001743085                0                  0                   1   \n",
       "20160328160001756263                0                  0                   0   \n",
       "20160328170001757443                2                  1                   2   \n",
       "\n",
       "                      receiver_md5_nunique  \n",
       "id                                          \n",
       "20160328090001743085                     1  \n",
       "20160328160001756263                     0  \n",
       "20160328170001757443                     1  "
      ]
     },
     "execution_count": 41,
     "metadata": {},
     "output_type": "execute_result"
    }
   ],
   "source": [
    "df_train_recieve_addr = df_train_recieve_addr_info.groupby('id').agg(['count', 'nunique'])\n",
    "df_train_recieve_addr.columns = ['_'.join(x) for x in df_train_recieve_addr.columns]\n",
    "df_train_recieve_addr.head(3)"
   ]
  },
  {
   "cell_type": "code",
   "execution_count": 42,
   "id": "9326ca8e",
   "metadata": {
    "ExecuteTime": {
     "end_time": "2021-08-01T00:59:11.411484Z",
     "start_time": "2021-08-01T00:59:11.396471Z"
    }
   },
   "outputs": [
    {
     "data": {
      "text/plain": [
       "addr_id_count           0\n",
       "addr_id_nunique         0\n",
       "region_count            0\n",
       "region_nunique          0\n",
       "phone_count             0\n",
       "phone_nunique           0\n",
       "fix_phone_count         0\n",
       "fix_phone_nunique       0\n",
       "receiver_md5_count      0\n",
       "receiver_md5_nunique    0\n",
       "dtype: int64"
      ]
     },
     "execution_count": 42,
     "metadata": {},
     "output_type": "execute_result"
    }
   ],
   "source": [
    "df_train_recieve_addr.isnull().sum()"
   ]
  },
  {
   "cell_type": "markdown",
   "id": "ace94f5c",
   "metadata": {
    "ExecuteTime": {
     "end_time": "2021-07-29T14:46:52.886950Z",
     "start_time": "2021-07-29T14:46:52.874939Z"
    }
   },
   "source": [
    "### 2.6 train_user_info.csv"
   ]
  },
  {
   "cell_type": "markdown",
   "id": "d246f8c2",
   "metadata": {},
   "source": [
    "|个人基本信息user_info| |\n",
    "|:----|:----|\n",
    "|字段名|字段解释|\n",
    "|id|申请贷款唯一编号|\n",
    "|sex|性别|\n",
    "|birthday|出生日期|\n",
    "|hobby|兴趣爱好|\n",
    "|merriage|婚姻状况|\n",
    "|income|收入水平|\n",
    "|id_card|身份证号(脱敏)|\n",
    "|degree|学历|\n",
    "|industry|所在行业|\n",
    "|qq_bound|是否绑定QQ|\n",
    "|wechat_bound|是否绑定微信|\n",
    "|account_grade|会员级别|\n"
   ]
  },
  {
   "cell_type": "code",
   "execution_count": 43,
   "id": "9f902126",
   "metadata": {
    "ExecuteTime": {
     "end_time": "2021-08-01T00:59:11.665716Z",
     "start_time": "2021-08-01T00:59:11.413486Z"
    }
   },
   "outputs": [
    {
     "data": {
      "text/html": [
       "<div>\n",
       "<style scoped>\n",
       "    .dataframe tbody tr th:only-of-type {\n",
       "        vertical-align: middle;\n",
       "    }\n",
       "\n",
       "    .dataframe tbody tr th {\n",
       "        vertical-align: top;\n",
       "    }\n",
       "\n",
       "    .dataframe thead th {\n",
       "        text-align: right;\n",
       "    }\n",
       "</style>\n",
       "<table border=\"1\" class=\"dataframe\">\n",
       "  <thead>\n",
       "    <tr style=\"text-align: right;\">\n",
       "      <th></th>\n",
       "      <th>sex</th>\n",
       "      <th>birthday</th>\n",
       "      <th>hobby</th>\n",
       "      <th>merriage</th>\n",
       "      <th>income</th>\n",
       "      <th>id_card</th>\n",
       "      <th>degree</th>\n",
       "      <th>industry</th>\n",
       "      <th>qq_bound</th>\n",
       "      <th>wechat_bound</th>\n",
       "      <th>account_grade</th>\n",
       "      <th>id</th>\n",
       "    </tr>\n",
       "  </thead>\n",
       "  <tbody>\n",
       "    <tr>\n",
       "      <th>0</th>\n",
       "      <td>保密</td>\n",
       "      <td>NaN</td>\n",
       "      <td>NaN</td>\n",
       "      <td>NaN</td>\n",
       "      <td>NaN</td>\n",
       "      <td>NaN</td>\n",
       "      <td>NaN</td>\n",
       "      <td>NaN</td>\n",
       "      <td>未绑定</td>\n",
       "      <td>已绑定</td>\n",
       "      <td>铜牌会员</td>\n",
       "      <td>588238879438409736</td>\n",
       "    </tr>\n",
       "    <tr>\n",
       "      <th>1</th>\n",
       "      <td>保密</td>\n",
       "      <td>NaN</td>\n",
       "      <td>NaN</td>\n",
       "      <td>NaN</td>\n",
       "      <td>NaN</td>\n",
       "      <td>NaN</td>\n",
       "      <td>NaN</td>\n",
       "      <td>NaN</td>\n",
       "      <td>已绑定</td>\n",
       "      <td>未绑定</td>\n",
       "      <td>铜牌会员</td>\n",
       "      <td>601460242772922632</td>\n",
       "    </tr>\n",
       "    <tr>\n",
       "      <th>2</th>\n",
       "      <td>保密</td>\n",
       "      <td>NaN</td>\n",
       "      <td>NaN</td>\n",
       "      <td>NaN</td>\n",
       "      <td>NaN</td>\n",
       "      <td>NaN</td>\n",
       "      <td>NaN</td>\n",
       "      <td>NaN</td>\n",
       "      <td>未绑定</td>\n",
       "      <td>已绑定</td>\n",
       "      <td>金牌会员</td>\n",
       "      <td>601137941405765640</td>\n",
       "    </tr>\n",
       "  </tbody>\n",
       "</table>\n",
       "</div>"
      ],
      "text/plain": [
       "  sex birthday hobby merriage income id_card degree industry qq_bound  \\\n",
       "0  保密      NaN   NaN      NaN    NaN     NaN    NaN      NaN      未绑定   \n",
       "1  保密      NaN   NaN      NaN    NaN     NaN    NaN      NaN      已绑定   \n",
       "2  保密      NaN   NaN      NaN    NaN     NaN    NaN      NaN      未绑定   \n",
       "\n",
       "  wechat_bound account_grade                  id  \n",
       "0          已绑定          铜牌会员  588238879438409736  \n",
       "1          未绑定          铜牌会员  601460242772922632  \n",
       "2          已绑定          金牌会员  601137941405765640  "
      ]
     },
     "execution_count": 43,
     "metadata": {},
     "output_type": "execute_result"
    }
   ],
   "source": [
    "df_train_user_info = pd.read_csv(path_train_user_info, parse_dates = ['birthday'])\n",
    "df_train_user_info.head(3)"
   ]
  },
  {
   "cell_type": "code",
   "execution_count": 44,
   "id": "f0054e93",
   "metadata": {
    "ExecuteTime": {
     "end_time": "2021-08-01T00:59:11.809240Z",
     "start_time": "2021-08-01T00:59:11.666717Z"
    }
   },
   "outputs": [],
   "source": [
    "def get_birthday(x):\n",
    "    if '50后' in str(x):\n",
    "        return '1955'+ str(x)[3:]\n",
    "    elif '60后' in str(x):\n",
    "        return '1965'+ str(x)[3:]\n",
    "    elif '70后' in str(x):\n",
    "        return '1975'+ str(x)[3:]\n",
    "    elif '80后' in str(x):\n",
    "        return '1985'+ str(x)[3:]\n",
    "    elif '90后' in str(x):\n",
    "        return '1995'+ str(x)[3:]\n",
    "    elif '00后' in str(x):\n",
    "        return '2005'+ str(x)[3:]\n",
    "    elif '10后' in str(x):\n",
    "        return '2015'+ str(x)[3:]\n",
    "    else:\n",
    "        return x\n",
    "\n",
    "df_train_user_info['birthday'] = df_train_user_info['birthday'].map(get_birthday)"
   ]
  },
  {
   "cell_type": "code",
   "execution_count": 45,
   "id": "4e99c85f",
   "metadata": {
    "ExecuteTime": {
     "end_time": "2021-08-01T00:59:12.525236Z",
     "start_time": "2021-08-01T00:59:11.810238Z"
    }
   },
   "outputs": [
    {
     "name": "stdout",
     "output_type": "stream",
     "text": [
      "<class 'pandas.core.frame.DataFrame'>\n",
      "RangeIndex: 120929 entries, 0 to 120928\n",
      "Data columns (total 12 columns):\n",
      " #   Column         Non-Null Count   Dtype         \n",
      "---  ------         --------------   -----         \n",
      " 0   sex            117515 non-null  object        \n",
      " 1   birthday       39938 non-null   datetime64[ns]\n",
      " 2   hobby          15167 non-null   object        \n",
      " 3   merriage       8935 non-null    object        \n",
      " 4   income         9244 non-null    object        \n",
      " 5   id_card        9009 non-null    object        \n",
      " 6   degree         8373 non-null    object        \n",
      " 7   industry       8294 non-null    object        \n",
      " 8   qq_bound       116743 non-null  object        \n",
      " 9   wechat_bound   116743 non-null  object        \n",
      " 10  account_grade  67409 non-null   object        \n",
      " 11  id             120929 non-null  object        \n",
      "dtypes: datetime64[ns](1), object(11)\n",
      "memory usage: 11.1+ MB\n"
     ]
    }
   ],
   "source": [
    "    df_train_user_info['birthday'] = df_train_user_info['birthday'].map(lambda x:datetime.datetime.strptime(str(x),'%Y-%m-%d') if(re.match('19\\d{2}-\\d{1,2}-\\d{1,2}',str(x)) and not re.match('\\d{4}-\\d{1,2}-0$', str(x)) and '0000' not in str(x)) else pd.NaT)\n",
    "    df_train_user_info.info()"
   ]
  },
  {
   "cell_type": "code",
   "execution_count": 46,
   "id": "a350a222",
   "metadata": {
    "ExecuteTime": {
     "end_time": "2021-08-01T00:59:12.587293Z",
     "start_time": "2021-08-01T00:59:12.527238Z"
    }
   },
   "outputs": [
    {
     "name": "stdout",
     "output_type": "stream",
     "text": [
      "<class 'pandas.core.frame.DataFrame'>\n",
      "RangeIndex: 120929 entries, 0 to 120928\n",
      "Data columns (total 12 columns):\n",
      " #   Column         Non-Null Count   Dtype         \n",
      "---  ------         --------------   -----         \n",
      " 0   sex            117515 non-null  object        \n",
      " 1   birthday       39938 non-null   datetime64[ns]\n",
      " 2   hobby          15167 non-null   object        \n",
      " 3   merriage       8935 non-null    object        \n",
      " 4   income         9244 non-null    object        \n",
      " 5   id_card        9009 non-null    object        \n",
      " 6   degree         8373 non-null    object        \n",
      " 7   industry       8294 non-null    object        \n",
      " 8   qq_bound       116743 non-null  object        \n",
      " 9   wechat_bound   116743 non-null  object        \n",
      " 10  account_grade  67409 non-null   object        \n",
      " 11  id             120929 non-null  object        \n",
      "dtypes: datetime64[ns](1), object(11)\n",
      "memory usage: 11.1+ MB\n"
     ]
    }
   ],
   "source": [
    "df_train_user_info.info()"
   ]
  },
  {
   "cell_type": "code",
   "execution_count": 47,
   "id": "05451564",
   "metadata": {
    "ExecuteTime": {
     "end_time": "2021-08-01T00:59:12.635336Z",
     "start_time": "2021-08-01T00:59:12.588293Z"
    }
   },
   "outputs": [
    {
     "data": {
      "text/plain": [
       "sex                3414\n",
       "birthday          80991\n",
       "hobby            105762\n",
       "merriage         111994\n",
       "income           111685\n",
       "id_card          111920\n",
       "degree           112556\n",
       "industry         112635\n",
       "qq_bound           4186\n",
       "wechat_bound       4186\n",
       "account_grade     53520\n",
       "id                    0\n",
       "dtype: int64"
      ]
     },
     "execution_count": 47,
     "metadata": {},
     "output_type": "execute_result"
    }
   ],
   "source": [
    "df_train_user_info.isnull().sum()"
   ]
  },
  {
   "cell_type": "code",
   "execution_count": 48,
   "id": "37ac66bb",
   "metadata": {
    "ExecuteTime": {
     "end_time": "2021-08-01T00:59:12.763454Z",
     "start_time": "2021-08-01T00:59:12.636337Z"
    }
   },
   "outputs": [
    {
     "data": {
      "text/plain": [
       "sex                   3\n",
       "birthday           8701\n",
       "hobby              3011\n",
       "merriage              3\n",
       "income                5\n",
       "id_card            6693\n",
       "degree                8\n",
       "industry             46\n",
       "qq_bound              2\n",
       "wechat_bound          2\n",
       "account_grade         5\n",
       "id               120929\n",
       "dtype: int64"
      ]
     },
     "execution_count": 48,
     "metadata": {},
     "output_type": "execute_result"
    }
   ],
   "source": [
    "df_train_user_info.nunique()"
   ]
  },
  {
   "cell_type": "markdown",
   "id": "d994dc0d",
   "metadata": {},
   "source": [
    "#### 2.6.1 分析\n",
    "1. 该表数据多为category，并且由于取值较少\n",
    "2. 存在较多缺失值\n",
    "3. hobby由于取值过多，考虑使用存在为1，不存在为0进行处理。\n",
    "4. birthday为时间特征。\n",
    "\n",
    "#### 2.6.2 处理\n",
    "1. 对于category，并取值较少的采用one-hot进行处理\n",
    "2. 对于缺失值，我们把他看作一个类别\n",
    "3. hobby由于取值过多，考虑使用存在为1，不存在为0进行处理。\n",
    "4. birthday为时间特征，待与其它表联立后进行特征交叉。\n"
   ]
  },
  {
   "cell_type": "code",
   "execution_count": 49,
   "id": "0fad5a2d",
   "metadata": {
    "ExecuteTime": {
     "end_time": "2021-08-01T00:59:12.859543Z",
     "start_time": "2021-08-01T00:59:12.765456Z"
    }
   },
   "outputs": [
    {
     "data": {
      "text/html": [
       "<div>\n",
       "<style scoped>\n",
       "    .dataframe tbody tr th:only-of-type {\n",
       "        vertical-align: middle;\n",
       "    }\n",
       "\n",
       "    .dataframe tbody tr th {\n",
       "        vertical-align: top;\n",
       "    }\n",
       "\n",
       "    .dataframe thead th {\n",
       "        text-align: right;\n",
       "    }\n",
       "</style>\n",
       "<table border=\"1\" class=\"dataframe\">\n",
       "  <thead>\n",
       "    <tr style=\"text-align: right;\">\n",
       "      <th></th>\n",
       "      <th>sex_保密</th>\n",
       "      <th>sex_女</th>\n",
       "      <th>sex_男</th>\n",
       "      <th>sex_nan</th>\n",
       "      <th>merriage_保密</th>\n",
       "      <th>merriage_已婚</th>\n",
       "      <th>merriage_未婚</th>\n",
       "      <th>merriage_nan</th>\n",
       "      <th>income_2000-3999元</th>\n",
       "      <th>income_2000元以下</th>\n",
       "      <th>...</th>\n",
       "      <th>qq_bound_nan</th>\n",
       "      <th>wechat_bound_已绑定</th>\n",
       "      <th>wechat_bound_未绑定</th>\n",
       "      <th>wechat_bound_nan</th>\n",
       "      <th>account_grade_注册会员</th>\n",
       "      <th>account_grade_金牌会员</th>\n",
       "      <th>account_grade_钻石会员</th>\n",
       "      <th>account_grade_铜牌会员</th>\n",
       "      <th>account_grade_银牌会员</th>\n",
       "      <th>account_grade_nan</th>\n",
       "    </tr>\n",
       "  </thead>\n",
       "  <tbody>\n",
       "    <tr>\n",
       "      <th>0</th>\n",
       "      <td>1</td>\n",
       "      <td>0</td>\n",
       "      <td>0</td>\n",
       "      <td>0</td>\n",
       "      <td>0</td>\n",
       "      <td>0</td>\n",
       "      <td>0</td>\n",
       "      <td>1</td>\n",
       "      <td>0</td>\n",
       "      <td>0</td>\n",
       "      <td>...</td>\n",
       "      <td>0</td>\n",
       "      <td>1</td>\n",
       "      <td>0</td>\n",
       "      <td>0</td>\n",
       "      <td>0</td>\n",
       "      <td>0</td>\n",
       "      <td>0</td>\n",
       "      <td>1</td>\n",
       "      <td>0</td>\n",
       "      <td>0</td>\n",
       "    </tr>\n",
       "    <tr>\n",
       "      <th>1</th>\n",
       "      <td>1</td>\n",
       "      <td>0</td>\n",
       "      <td>0</td>\n",
       "      <td>0</td>\n",
       "      <td>0</td>\n",
       "      <td>0</td>\n",
       "      <td>0</td>\n",
       "      <td>1</td>\n",
       "      <td>0</td>\n",
       "      <td>0</td>\n",
       "      <td>...</td>\n",
       "      <td>0</td>\n",
       "      <td>0</td>\n",
       "      <td>1</td>\n",
       "      <td>0</td>\n",
       "      <td>0</td>\n",
       "      <td>0</td>\n",
       "      <td>0</td>\n",
       "      <td>1</td>\n",
       "      <td>0</td>\n",
       "      <td>0</td>\n",
       "    </tr>\n",
       "    <tr>\n",
       "      <th>2</th>\n",
       "      <td>1</td>\n",
       "      <td>0</td>\n",
       "      <td>0</td>\n",
       "      <td>0</td>\n",
       "      <td>0</td>\n",
       "      <td>0</td>\n",
       "      <td>0</td>\n",
       "      <td>1</td>\n",
       "      <td>0</td>\n",
       "      <td>0</td>\n",
       "      <td>...</td>\n",
       "      <td>0</td>\n",
       "      <td>1</td>\n",
       "      <td>0</td>\n",
       "      <td>0</td>\n",
       "      <td>0</td>\n",
       "      <td>1</td>\n",
       "      <td>0</td>\n",
       "      <td>0</td>\n",
       "      <td>0</td>\n",
       "      <td>0</td>\n",
       "    </tr>\n",
       "  </tbody>\n",
       "</table>\n",
       "<p>3 rows × 35 columns</p>\n",
       "</div>"
      ],
      "text/plain": [
       "   sex_保密  sex_女  sex_男  sex_nan  merriage_保密  merriage_已婚  merriage_未婚  \\\n",
       "0       1      0      0        0            0            0            0   \n",
       "1       1      0      0        0            0            0            0   \n",
       "2       1      0      0        0            0            0            0   \n",
       "\n",
       "   merriage_nan  income_2000-3999元  income_2000元以下  ...  qq_bound_nan  \\\n",
       "0             1                  0               0  ...             0   \n",
       "1             1                  0               0  ...             0   \n",
       "2             1                  0               0  ...             0   \n",
       "\n",
       "   wechat_bound_已绑定  wechat_bound_未绑定  wechat_bound_nan  account_grade_注册会员  \\\n",
       "0                 1                 0                 0                   0   \n",
       "1                 0                 1                 0                   0   \n",
       "2                 1                 0                 0                   0   \n",
       "\n",
       "   account_grade_金牌会员  account_grade_钻石会员  account_grade_铜牌会员  \\\n",
       "0                   0                   0                   1   \n",
       "1                   0                   0                   1   \n",
       "2                   1                   0                   0   \n",
       "\n",
       "   account_grade_银牌会员  account_grade_nan  \n",
       "0                   0                  0  \n",
       "1                   0                  0  \n",
       "2                   0                  0  \n",
       "\n",
       "[3 rows x 35 columns]"
      ]
     },
     "execution_count": 49,
     "metadata": {},
     "output_type": "execute_result"
    }
   ],
   "source": [
    "cols = ['sex', 'merriage', 'income', 'degree',\n",
    "        'qq_bound', 'wechat_bound', 'account_grade']\n",
    "\n",
    "df_train_user = pd.get_dummies(df_train_user_info[cols], dummy_na=True)\n",
    "df_train_user.head(3)"
   ]
  },
  {
   "cell_type": "code",
   "execution_count": 50,
   "id": "3353fa14",
   "metadata": {
    "ExecuteTime": {
     "end_time": "2021-08-01T00:59:18.307498Z",
     "start_time": "2021-08-01T00:59:12.860544Z"
    }
   },
   "outputs": [],
   "source": [
    "def get_isnull_number(df_row):\n",
    "    return df_row.count()/df_row.size\n",
    "\n",
    "df_train_user['isnull_number'] = df_train_user_info.apply(get_isnull_number, axis=1)"
   ]
  },
  {
   "cell_type": "code",
   "execution_count": 51,
   "id": "85a44551",
   "metadata": {
    "ExecuteTime": {
     "end_time": "2021-08-01T00:59:18.338527Z",
     "start_time": "2021-08-01T00:59:18.309501Z"
    }
   },
   "outputs": [
    {
     "data": {
      "text/html": [
       "<div>\n",
       "<style scoped>\n",
       "    .dataframe tbody tr th:only-of-type {\n",
       "        vertical-align: middle;\n",
       "    }\n",
       "\n",
       "    .dataframe tbody tr th {\n",
       "        vertical-align: top;\n",
       "    }\n",
       "\n",
       "    .dataframe thead th {\n",
       "        text-align: right;\n",
       "    }\n",
       "</style>\n",
       "<table border=\"1\" class=\"dataframe\">\n",
       "  <thead>\n",
       "    <tr style=\"text-align: right;\">\n",
       "      <th></th>\n",
       "      <th>sex_保密</th>\n",
       "      <th>sex_女</th>\n",
       "      <th>sex_男</th>\n",
       "      <th>sex_nan</th>\n",
       "      <th>merriage_保密</th>\n",
       "      <th>merriage_已婚</th>\n",
       "      <th>merriage_未婚</th>\n",
       "      <th>merriage_nan</th>\n",
       "      <th>income_2000-3999元</th>\n",
       "      <th>income_2000元以下</th>\n",
       "      <th>...</th>\n",
       "      <th>wechat_bound_已绑定</th>\n",
       "      <th>wechat_bound_未绑定</th>\n",
       "      <th>wechat_bound_nan</th>\n",
       "      <th>account_grade_注册会员</th>\n",
       "      <th>account_grade_金牌会员</th>\n",
       "      <th>account_grade_钻石会员</th>\n",
       "      <th>account_grade_铜牌会员</th>\n",
       "      <th>account_grade_银牌会员</th>\n",
       "      <th>account_grade_nan</th>\n",
       "      <th>isnull_number</th>\n",
       "    </tr>\n",
       "  </thead>\n",
       "  <tbody>\n",
       "    <tr>\n",
       "      <th>0</th>\n",
       "      <td>1</td>\n",
       "      <td>0</td>\n",
       "      <td>0</td>\n",
       "      <td>0</td>\n",
       "      <td>0</td>\n",
       "      <td>0</td>\n",
       "      <td>0</td>\n",
       "      <td>1</td>\n",
       "      <td>0</td>\n",
       "      <td>0</td>\n",
       "      <td>...</td>\n",
       "      <td>1</td>\n",
       "      <td>0</td>\n",
       "      <td>0</td>\n",
       "      <td>0</td>\n",
       "      <td>0</td>\n",
       "      <td>0</td>\n",
       "      <td>1</td>\n",
       "      <td>0</td>\n",
       "      <td>0</td>\n",
       "      <td>0.416667</td>\n",
       "    </tr>\n",
       "    <tr>\n",
       "      <th>1</th>\n",
       "      <td>1</td>\n",
       "      <td>0</td>\n",
       "      <td>0</td>\n",
       "      <td>0</td>\n",
       "      <td>0</td>\n",
       "      <td>0</td>\n",
       "      <td>0</td>\n",
       "      <td>1</td>\n",
       "      <td>0</td>\n",
       "      <td>0</td>\n",
       "      <td>...</td>\n",
       "      <td>0</td>\n",
       "      <td>1</td>\n",
       "      <td>0</td>\n",
       "      <td>0</td>\n",
       "      <td>0</td>\n",
       "      <td>0</td>\n",
       "      <td>1</td>\n",
       "      <td>0</td>\n",
       "      <td>0</td>\n",
       "      <td>0.416667</td>\n",
       "    </tr>\n",
       "    <tr>\n",
       "      <th>2</th>\n",
       "      <td>1</td>\n",
       "      <td>0</td>\n",
       "      <td>0</td>\n",
       "      <td>0</td>\n",
       "      <td>0</td>\n",
       "      <td>0</td>\n",
       "      <td>0</td>\n",
       "      <td>1</td>\n",
       "      <td>0</td>\n",
       "      <td>0</td>\n",
       "      <td>...</td>\n",
       "      <td>1</td>\n",
       "      <td>0</td>\n",
       "      <td>0</td>\n",
       "      <td>0</td>\n",
       "      <td>1</td>\n",
       "      <td>0</td>\n",
       "      <td>0</td>\n",
       "      <td>0</td>\n",
       "      <td>0</td>\n",
       "      <td>0.416667</td>\n",
       "    </tr>\n",
       "    <tr>\n",
       "      <th>3</th>\n",
       "      <td>1</td>\n",
       "      <td>0</td>\n",
       "      <td>0</td>\n",
       "      <td>0</td>\n",
       "      <td>0</td>\n",
       "      <td>0</td>\n",
       "      <td>0</td>\n",
       "      <td>1</td>\n",
       "      <td>0</td>\n",
       "      <td>0</td>\n",
       "      <td>...</td>\n",
       "      <td>0</td>\n",
       "      <td>1</td>\n",
       "      <td>0</td>\n",
       "      <td>1</td>\n",
       "      <td>0</td>\n",
       "      <td>0</td>\n",
       "      <td>0</td>\n",
       "      <td>0</td>\n",
       "      <td>0</td>\n",
       "      <td>0.416667</td>\n",
       "    </tr>\n",
       "    <tr>\n",
       "      <th>4</th>\n",
       "      <td>0</td>\n",
       "      <td>0</td>\n",
       "      <td>1</td>\n",
       "      <td>0</td>\n",
       "      <td>0</td>\n",
       "      <td>0</td>\n",
       "      <td>0</td>\n",
       "      <td>1</td>\n",
       "      <td>0</td>\n",
       "      <td>0</td>\n",
       "      <td>...</td>\n",
       "      <td>0</td>\n",
       "      <td>1</td>\n",
       "      <td>0</td>\n",
       "      <td>1</td>\n",
       "      <td>0</td>\n",
       "      <td>0</td>\n",
       "      <td>0</td>\n",
       "      <td>0</td>\n",
       "      <td>0</td>\n",
       "      <td>0.500000</td>\n",
       "    </tr>\n",
       "  </tbody>\n",
       "</table>\n",
       "<p>5 rows × 36 columns</p>\n",
       "</div>"
      ],
      "text/plain": [
       "   sex_保密  sex_女  sex_男  sex_nan  merriage_保密  merriage_已婚  merriage_未婚  \\\n",
       "0       1      0      0        0            0            0            0   \n",
       "1       1      0      0        0            0            0            0   \n",
       "2       1      0      0        0            0            0            0   \n",
       "3       1      0      0        0            0            0            0   \n",
       "4       0      0      1        0            0            0            0   \n",
       "\n",
       "   merriage_nan  income_2000-3999元  income_2000元以下  ...  wechat_bound_已绑定  \\\n",
       "0             1                  0               0  ...                 1   \n",
       "1             1                  0               0  ...                 0   \n",
       "2             1                  0               0  ...                 1   \n",
       "3             1                  0               0  ...                 0   \n",
       "4             1                  0               0  ...                 0   \n",
       "\n",
       "   wechat_bound_未绑定  wechat_bound_nan  account_grade_注册会员  account_grade_金牌会员  \\\n",
       "0                 0                 0                   0                   0   \n",
       "1                 1                 0                   0                   0   \n",
       "2                 0                 0                   0                   1   \n",
       "3                 1                 0                   1                   0   \n",
       "4                 1                 0                   1                   0   \n",
       "\n",
       "   account_grade_钻石会员  account_grade_铜牌会员  account_grade_银牌会员  \\\n",
       "0                   0                   1                   0   \n",
       "1                   0                   1                   0   \n",
       "2                   0                   0                   0   \n",
       "3                   0                   0                   0   \n",
       "4                   0                   0                   0   \n",
       "\n",
       "   account_grade_nan  isnull_number  \n",
       "0                  0       0.416667  \n",
       "1                  0       0.416667  \n",
       "2                  0       0.416667  \n",
       "3                  0       0.416667  \n",
       "4                  0       0.500000  \n",
       "\n",
       "[5 rows x 36 columns]"
      ]
     },
     "execution_count": 51,
     "metadata": {},
     "output_type": "execute_result"
    }
   ],
   "source": [
    "df_train_user.head()"
   ]
  },
  {
   "cell_type": "code",
   "execution_count": 52,
   "id": "7551b53d",
   "metadata": {
    "ExecuteTime": {
     "end_time": "2021-08-01T00:59:18.556726Z",
     "start_time": "2021-08-01T00:59:18.339528Z"
    }
   },
   "outputs": [
    {
     "data": {
      "text/html": [
       "<div>\n",
       "<style scoped>\n",
       "    .dataframe tbody tr th:only-of-type {\n",
       "        vertical-align: middle;\n",
       "    }\n",
       "\n",
       "    .dataframe tbody tr th {\n",
       "        vertical-align: top;\n",
       "    }\n",
       "\n",
       "    .dataframe thead th {\n",
       "        text-align: right;\n",
       "    }\n",
       "</style>\n",
       "<table border=\"1\" class=\"dataframe\">\n",
       "  <thead>\n",
       "    <tr style=\"text-align: right;\">\n",
       "      <th></th>\n",
       "      <th>sex_保密</th>\n",
       "      <th>sex_女</th>\n",
       "      <th>sex_男</th>\n",
       "      <th>sex_nan</th>\n",
       "      <th>merriage_保密</th>\n",
       "      <th>merriage_已婚</th>\n",
       "      <th>merriage_未婚</th>\n",
       "      <th>merriage_nan</th>\n",
       "      <th>income_2000-3999元</th>\n",
       "      <th>income_2000元以下</th>\n",
       "      <th>...</th>\n",
       "      <th>account_grade_钻石会员</th>\n",
       "      <th>account_grade_铜牌会员</th>\n",
       "      <th>account_grade_银牌会员</th>\n",
       "      <th>account_grade_nan</th>\n",
       "      <th>isnull_number</th>\n",
       "      <th>hobby</th>\n",
       "      <th>id_card</th>\n",
       "      <th>industry</th>\n",
       "      <th>id</th>\n",
       "      <th>birthday</th>\n",
       "    </tr>\n",
       "  </thead>\n",
       "  <tbody>\n",
       "    <tr>\n",
       "      <th>0</th>\n",
       "      <td>1</td>\n",
       "      <td>0</td>\n",
       "      <td>0</td>\n",
       "      <td>0</td>\n",
       "      <td>0</td>\n",
       "      <td>0</td>\n",
       "      <td>0</td>\n",
       "      <td>1</td>\n",
       "      <td>0</td>\n",
       "      <td>0</td>\n",
       "      <td>...</td>\n",
       "      <td>0</td>\n",
       "      <td>1</td>\n",
       "      <td>0</td>\n",
       "      <td>0</td>\n",
       "      <td>0.416667</td>\n",
       "      <td>0</td>\n",
       "      <td>0</td>\n",
       "      <td>0</td>\n",
       "      <td>588238879438409736</td>\n",
       "      <td>NaT</td>\n",
       "    </tr>\n",
       "    <tr>\n",
       "      <th>1</th>\n",
       "      <td>1</td>\n",
       "      <td>0</td>\n",
       "      <td>0</td>\n",
       "      <td>0</td>\n",
       "      <td>0</td>\n",
       "      <td>0</td>\n",
       "      <td>0</td>\n",
       "      <td>1</td>\n",
       "      <td>0</td>\n",
       "      <td>0</td>\n",
       "      <td>...</td>\n",
       "      <td>0</td>\n",
       "      <td>1</td>\n",
       "      <td>0</td>\n",
       "      <td>0</td>\n",
       "      <td>0.416667</td>\n",
       "      <td>0</td>\n",
       "      <td>0</td>\n",
       "      <td>0</td>\n",
       "      <td>601460242772922632</td>\n",
       "      <td>NaT</td>\n",
       "    </tr>\n",
       "    <tr>\n",
       "      <th>2</th>\n",
       "      <td>1</td>\n",
       "      <td>0</td>\n",
       "      <td>0</td>\n",
       "      <td>0</td>\n",
       "      <td>0</td>\n",
       "      <td>0</td>\n",
       "      <td>0</td>\n",
       "      <td>1</td>\n",
       "      <td>0</td>\n",
       "      <td>0</td>\n",
       "      <td>...</td>\n",
       "      <td>0</td>\n",
       "      <td>0</td>\n",
       "      <td>0</td>\n",
       "      <td>0</td>\n",
       "      <td>0.416667</td>\n",
       "      <td>0</td>\n",
       "      <td>0</td>\n",
       "      <td>0</td>\n",
       "      <td>601137941405765640</td>\n",
       "      <td>NaT</td>\n",
       "    </tr>\n",
       "  </tbody>\n",
       "</table>\n",
       "<p>3 rows × 41 columns</p>\n",
       "</div>"
      ],
      "text/plain": [
       "   sex_保密  sex_女  sex_男  sex_nan  merriage_保密  merriage_已婚  merriage_未婚  \\\n",
       "0       1      0      0        0            0            0            0   \n",
       "1       1      0      0        0            0            0            0   \n",
       "2       1      0      0        0            0            0            0   \n",
       "\n",
       "   merriage_nan  income_2000-3999元  income_2000元以下  ...  account_grade_钻石会员  \\\n",
       "0             1                  0               0  ...                   0   \n",
       "1             1                  0               0  ...                   0   \n",
       "2             1                  0               0  ...                   0   \n",
       "\n",
       "   account_grade_铜牌会员  account_grade_银牌会员  account_grade_nan  isnull_number  \\\n",
       "0                   1                   0                  0       0.416667   \n",
       "1                   1                   0                  0       0.416667   \n",
       "2                   0                   0                  0       0.416667   \n",
       "\n",
       "   hobby  id_card  industry                  id  birthday  \n",
       "0      0        0         0  588238879438409736       NaT  \n",
       "1      0        0         0  601460242772922632       NaT  \n",
       "2      0        0         0  601137941405765640       NaT  \n",
       "\n",
       "[3 rows x 41 columns]"
      ]
     },
     "execution_count": 52,
     "metadata": {},
     "output_type": "execute_result"
    }
   ],
   "source": [
    "df_train_user['hobby']    = df_train_user_info['hobby'].map(lambda x: 0 if str(x) == 'nan' else 1)\n",
    "df_train_user['id_card']  = df_train_user_info['id_card'].map(lambda x: 0 if str(x) == 'nan' else 1)\n",
    "df_train_user['industry'] = df_train_user_info['industry'].map(lambda x: 0 if str(x) == 'nan' else 1)\n",
    "df_train_user['id']       = df_train_user_info['id']\n",
    "df_train_user['birthday'] = df_train_user_info['birthday']\n",
    "df_train_user.head(3)"
   ]
  },
  {
   "cell_type": "markdown",
   "id": "77be6f06",
   "metadata": {},
   "source": [
    "### 2.7 train_target.csv"
   ]
  },
  {
   "cell_type": "markdown",
   "id": "f71cf06e",
   "metadata": {},
   "source": [
    "|训练标签train_target| |\n",
    "|:----|:----|\n",
    "|字段名|字段解释|\n",
    "|id|申请贷款唯一编号|\n",
    "|appl_sbm_tm|用户贷款申请的提交时间（此字段不能 作为模型的直接输入变量）|\n",
    "|target|逾期标识，1逾期，0非逾期。|\n"
   ]
  },
  {
   "cell_type": "code",
   "execution_count": 53,
   "id": "2ccf3d7c",
   "metadata": {
    "ExecuteTime": {
     "end_time": "2021-08-01T00:59:18.807961Z",
     "start_time": "2021-08-01T00:59:18.558728Z"
    }
   },
   "outputs": [
    {
     "data": {
      "text/html": [
       "<div>\n",
       "<style scoped>\n",
       "    .dataframe tbody tr th:only-of-type {\n",
       "        vertical-align: middle;\n",
       "    }\n",
       "\n",
       "    .dataframe tbody tr th {\n",
       "        vertical-align: top;\n",
       "    }\n",
       "\n",
       "    .dataframe thead th {\n",
       "        text-align: right;\n",
       "    }\n",
       "</style>\n",
       "<table border=\"1\" class=\"dataframe\">\n",
       "  <thead>\n",
       "    <tr style=\"text-align: right;\">\n",
       "      <th></th>\n",
       "      <th>appl_sbm_tm</th>\n",
       "      <th>target</th>\n",
       "      <th>id</th>\n",
       "    </tr>\n",
       "  </thead>\n",
       "  <tbody>\n",
       "    <tr>\n",
       "      <th>0</th>\n",
       "      <td>2017-04-08 19:10:13</td>\n",
       "      <td>0</td>\n",
       "      <td>600689284231467016</td>\n",
       "    </tr>\n",
       "    <tr>\n",
       "      <th>1</th>\n",
       "      <td>2016-06-08 15:20:21</td>\n",
       "      <td>0</td>\n",
       "      <td>20160608150003808365</td>\n",
       "    </tr>\n",
       "    <tr>\n",
       "      <th>2</th>\n",
       "      <td>2016-04-27 11:36:27</td>\n",
       "      <td>0</td>\n",
       "      <td>20160427110002485018</td>\n",
       "    </tr>\n",
       "  </tbody>\n",
       "</table>\n",
       "</div>"
      ],
      "text/plain": [
       "          appl_sbm_tm  target                    id\n",
       "0 2017-04-08 19:10:13       0    600689284231467016\n",
       "1 2016-06-08 15:20:21       0  20160608150003808365\n",
       "2 2016-04-27 11:36:27       0  20160427110002485018"
      ]
     },
     "execution_count": 53,
     "metadata": {},
     "output_type": "execute_result"
    }
   ],
   "source": [
    "df_train_target = pd.read_csv(path_train_target, parse_dates=['appl_sbm_tm'])\n",
    "df_train_target.head(3)"
   ]
  },
  {
   "cell_type": "markdown",
   "id": "58defdbf",
   "metadata": {},
   "source": [
    "## 3. 特征工程"
   ]
  },
  {
   "cell_type": "markdown",
   "id": "4aa82bb7",
   "metadata": {},
   "source": [
    "### 3.1 处理\n",
    "1. 包括缺失值，categories，聚合等特征的操作已经做完。\n",
    "2. 这部分主要做表间特征联立后的特征交叉，主要是时间维度的特征交叉。\n",
    "3. 时间特征包括：appl_sbm_tm:用户贷款申请的提交时间,auth_time:认证时间,time_order_max:下单时间最大,time_order_min：下单时间最小，birthday：生日，\n",
    "4. appl_sbm_tm-birthday，appl_sbm_tm-auth_time，appl_sbm_tm-time_order_max，appl_sbm_tm-time_order_min，\n",
    "5. auth_time-birthday， time_order_max- auth_time， time_order_min-auth_time， time_order_max-time_order_min，\n",
    "6. 以上维度均从年和月两个维度获取"
   ]
  },
  {
   "cell_type": "code",
   "execution_count": 54,
   "id": "31ea5b75",
   "metadata": {
    "ExecuteTime": {
     "end_time": "2021-08-01T00:59:19.692766Z",
     "start_time": "2021-08-01T00:59:18.808962Z"
    }
   },
   "outputs": [
    {
     "data": {
      "text/html": [
       "<div>\n",
       "<style scoped>\n",
       "    .dataframe tbody tr th:only-of-type {\n",
       "        vertical-align: middle;\n",
       "    }\n",
       "\n",
       "    .dataframe tbody tr th {\n",
       "        vertical-align: top;\n",
       "    }\n",
       "\n",
       "    .dataframe thead th {\n",
       "        text-align: right;\n",
       "    }\n",
       "</style>\n",
       "<table border=\"1\" class=\"dataframe\">\n",
       "  <thead>\n",
       "    <tr style=\"text-align: right;\">\n",
       "      <th></th>\n",
       "      <th>appl_sbm_tm</th>\n",
       "      <th>target</th>\n",
       "      <th>id</th>\n",
       "      <th>id_card_x</th>\n",
       "      <th>auth_time</th>\n",
       "      <th>phone</th>\n",
       "      <th>bank_name_count</th>\n",
       "      <th>bank_name_nunique</th>\n",
       "      <th>tail_num_count</th>\n",
       "      <th>tail_num_nunique</th>\n",
       "      <th>...</th>\n",
       "      <th>account_grade_金牌会员</th>\n",
       "      <th>account_grade_钻石会员</th>\n",
       "      <th>account_grade_铜牌会员</th>\n",
       "      <th>account_grade_银牌会员</th>\n",
       "      <th>account_grade_nan</th>\n",
       "      <th>isnull_number</th>\n",
       "      <th>hobby</th>\n",
       "      <th>id_card_y</th>\n",
       "      <th>industry</th>\n",
       "      <th>birthday</th>\n",
       "    </tr>\n",
       "  </thead>\n",
       "  <tbody>\n",
       "    <tr>\n",
       "      <th>0</th>\n",
       "      <td>2017-04-08 19:10:13</td>\n",
       "      <td>0</td>\n",
       "      <td>600689284231467016</td>\n",
       "      <td>1</td>\n",
       "      <td>2017-03-05</td>\n",
       "      <td>1</td>\n",
       "      <td>2</td>\n",
       "      <td>2</td>\n",
       "      <td>2</td>\n",
       "      <td>2</td>\n",
       "      <td>...</td>\n",
       "      <td>0</td>\n",
       "      <td>0</td>\n",
       "      <td>0</td>\n",
       "      <td>0</td>\n",
       "      <td>1</td>\n",
       "      <td>0.416667</td>\n",
       "      <td>0</td>\n",
       "      <td>0</td>\n",
       "      <td>0</td>\n",
       "      <td>1992-06-15</td>\n",
       "    </tr>\n",
       "    <tr>\n",
       "      <th>1</th>\n",
       "      <td>2016-06-08 15:20:21</td>\n",
       "      <td>0</td>\n",
       "      <td>20160608150003808365</td>\n",
       "      <td>1</td>\n",
       "      <td>2016-01-31</td>\n",
       "      <td>1</td>\n",
       "      <td>6</td>\n",
       "      <td>4</td>\n",
       "      <td>6</td>\n",
       "      <td>3</td>\n",
       "      <td>...</td>\n",
       "      <td>0</td>\n",
       "      <td>0</td>\n",
       "      <td>0</td>\n",
       "      <td>0</td>\n",
       "      <td>1</td>\n",
       "      <td>0.333333</td>\n",
       "      <td>0</td>\n",
       "      <td>0</td>\n",
       "      <td>0</td>\n",
       "      <td>NaT</td>\n",
       "    </tr>\n",
       "    <tr>\n",
       "      <th>2</th>\n",
       "      <td>2016-04-27 11:36:27</td>\n",
       "      <td>0</td>\n",
       "      <td>20160427110002485018</td>\n",
       "      <td>1</td>\n",
       "      <td>2017-06-18</td>\n",
       "      <td>1</td>\n",
       "      <td>5</td>\n",
       "      <td>4</td>\n",
       "      <td>5</td>\n",
       "      <td>3</td>\n",
       "      <td>...</td>\n",
       "      <td>0</td>\n",
       "      <td>0</td>\n",
       "      <td>1</td>\n",
       "      <td>0</td>\n",
       "      <td>0</td>\n",
       "      <td>0.583333</td>\n",
       "      <td>1</td>\n",
       "      <td>0</td>\n",
       "      <td>0</td>\n",
       "      <td>1978-06-25</td>\n",
       "    </tr>\n",
       "    <tr>\n",
       "      <th>3</th>\n",
       "      <td>2017-03-30 08:45:55</td>\n",
       "      <td>0</td>\n",
       "      <td>593852820159991816</td>\n",
       "      <td>0</td>\n",
       "      <td>NaT</td>\n",
       "      <td>1</td>\n",
       "      <td>5</td>\n",
       "      <td>5</td>\n",
       "      <td>5</td>\n",
       "      <td>5</td>\n",
       "      <td>...</td>\n",
       "      <td>0</td>\n",
       "      <td>0</td>\n",
       "      <td>0</td>\n",
       "      <td>0</td>\n",
       "      <td>1</td>\n",
       "      <td>0.416667</td>\n",
       "      <td>0</td>\n",
       "      <td>0</td>\n",
       "      <td>0</td>\n",
       "      <td>1987-01-09</td>\n",
       "    </tr>\n",
       "    <tr>\n",
       "      <th>4</th>\n",
       "      <td>2016-11-30 11:40:38</td>\n",
       "      <td>0</td>\n",
       "      <td>506970882778861832</td>\n",
       "      <td>1</td>\n",
       "      <td>2017-12-15</td>\n",
       "      <td>1</td>\n",
       "      <td>3</td>\n",
       "      <td>3</td>\n",
       "      <td>3</td>\n",
       "      <td>3</td>\n",
       "      <td>...</td>\n",
       "      <td>0</td>\n",
       "      <td>0</td>\n",
       "      <td>0</td>\n",
       "      <td>0</td>\n",
       "      <td>1</td>\n",
       "      <td>0.416667</td>\n",
       "      <td>0</td>\n",
       "      <td>0</td>\n",
       "      <td>0</td>\n",
       "      <td>1985-12-08</td>\n",
       "    </tr>\n",
       "  </tbody>\n",
       "</table>\n",
       "<p>5 rows × 109 columns</p>\n",
       "</div>"
      ],
      "text/plain": [
       "          appl_sbm_tm  target                    id  id_card_x  auth_time  \\\n",
       "0 2017-04-08 19:10:13       0    600689284231467016          1 2017-03-05   \n",
       "1 2016-06-08 15:20:21       0  20160608150003808365          1 2016-01-31   \n",
       "2 2016-04-27 11:36:27       0  20160427110002485018          1 2017-06-18   \n",
       "3 2017-03-30 08:45:55       0    593852820159991816          0        NaT   \n",
       "4 2016-11-30 11:40:38       0    506970882778861832          1 2017-12-15   \n",
       "\n",
       "   phone  bank_name_count  bank_name_nunique  tail_num_count  \\\n",
       "0      1                2                  2               2   \n",
       "1      1                6                  4               6   \n",
       "2      1                5                  4               5   \n",
       "3      1                5                  5               5   \n",
       "4      1                3                  3               3   \n",
       "\n",
       "   tail_num_nunique  ...  account_grade_金牌会员  account_grade_钻石会员  \\\n",
       "0                 2  ...                   0                   0   \n",
       "1                 3  ...                   0                   0   \n",
       "2                 3  ...                   0                   0   \n",
       "3                 5  ...                   0                   0   \n",
       "4                 3  ...                   0                   0   \n",
       "\n",
       "   account_grade_铜牌会员  account_grade_银牌会员  account_grade_nan  isnull_number  \\\n",
       "0                   0                   0                  1       0.416667   \n",
       "1                   0                   0                  1       0.333333   \n",
       "2                   1                   0                  0       0.583333   \n",
       "3                   0                   0                  1       0.416667   \n",
       "4                   0                   0                  1       0.416667   \n",
       "\n",
       "   hobby id_card_y  industry   birthday  \n",
       "0      0         0         0 1992-06-15  \n",
       "1      0         0         0        NaT  \n",
       "2      1         0         0 1978-06-25  \n",
       "3      0         0         0 1987-01-09  \n",
       "4      0         0         0 1985-12-08  \n",
       "\n",
       "[5 rows x 109 columns]"
      ]
     },
     "execution_count": 54,
     "metadata": {},
     "output_type": "execute_result"
    }
   ],
   "source": [
    "df_train = pd.merge(df_train_target, df_train_auth_info, on=['id'] , how='left')\n",
    "df_train = pd.merge(df_train, df_train_bankcard, left_on = 'id', right_index = True, how='left')\n",
    "df_train = pd.merge(df_train, df_train_credit_info, on = ['id'] , how='left')\n",
    "df_train = pd.merge(df_train, df_train_order, left_on = 'id', right_index = True, how='left')\n",
    "df_train = pd.merge(df_train, df_train_recieve_addr, left_on = 'id', right_index = True, how='left')\n",
    "df_train = pd.merge(df_train, df_train_user, on = ['id'], how='left')\n",
    "df_train.head()"
   ]
  },
  {
   "cell_type": "code",
   "execution_count": 55,
   "id": "549fd215",
   "metadata": {
    "ExecuteTime": {
     "end_time": "2021-08-01T00:59:19.722796Z",
     "start_time": "2021-08-01T00:59:19.694768Z"
    }
   },
   "outputs": [
    {
     "name": "stdout",
     "output_type": "stream",
     "text": [
      "<class 'pandas.core.frame.DataFrame'>\n",
      "Int64Index: 120929 entries, 0 to 120928\n",
      "Columns: 109 entries, appl_sbm_tm to birthday\n",
      "dtypes: category(1), datetime64[ns](5), float64(20), int64(47), object(1), uint8(35)\n",
      "memory usage: 72.4+ MB\n"
     ]
    }
   ],
   "source": [
    "df_train.info()"
   ]
  },
  {
   "cell_type": "code",
   "execution_count": 56,
   "id": "dc7ff3f8",
   "metadata": {
    "ExecuteTime": {
     "end_time": "2021-08-01T00:59:19.768838Z",
     "start_time": "2021-08-01T00:59:19.723797Z"
    }
   },
   "outputs": [
    {
     "name": "stdout",
     "output_type": "stream",
     "text": [
      "auth_time\n",
      "time_order_max\n",
      "time_order_min\n",
      "birthday\n"
     ]
    }
   ],
   "source": [
    "for col in df_train.columns:\n",
    "    if df_train[col].isnull().sum() >0:\n",
    "        print(col)"
   ]
  },
  {
   "cell_type": "code",
   "execution_count": 57,
   "id": "964d005b",
   "metadata": {
    "ExecuteTime": {
     "end_time": "2021-08-01T00:59:19.816882Z",
     "start_time": "2021-08-01T00:59:19.769839Z"
    }
   },
   "outputs": [
    {
     "name": "stdout",
     "output_type": "stream",
     "text": [
      "<class 'pandas.core.frame.DataFrame'>\n",
      "Int64Index: 120929 entries, 0 to 120928\n",
      "Data columns (total 5 columns):\n",
      " #   Column          Non-Null Count   Dtype         \n",
      "---  ------          --------------   -----         \n",
      " 0   appl_sbm_tm     120929 non-null  datetime64[ns]\n",
      " 1   auth_time       79244 non-null   datetime64[ns]\n",
      " 2   time_order_max  64648 non-null   datetime64[ns]\n",
      " 3   time_order_min  64648 non-null   datetime64[ns]\n",
      " 4   birthday        39938 non-null   datetime64[ns]\n",
      "dtypes: datetime64[ns](5)\n",
      "memory usage: 5.5 MB\n"
     ]
    }
   ],
   "source": [
    "cols = ['appl_sbm_tm', 'auth_time', 'time_order_max', 'time_order_min',  'birthday']\n",
    "df_train[cols].info()"
   ]
  },
  {
   "cell_type": "code",
   "execution_count": 58,
   "id": "db61aa92",
   "metadata": {
    "ExecuteTime": {
     "end_time": "2021-08-01T00:59:20.008002Z",
     "start_time": "2021-08-01T00:59:19.817883Z"
    }
   },
   "outputs": [
    {
     "data": {
      "text/html": [
       "<div>\n",
       "<style scoped>\n",
       "    .dataframe tbody tr th:only-of-type {\n",
       "        vertical-align: middle;\n",
       "    }\n",
       "\n",
       "    .dataframe tbody tr th {\n",
       "        vertical-align: top;\n",
       "    }\n",
       "\n",
       "    .dataframe thead th {\n",
       "        text-align: right;\n",
       "    }\n",
       "</style>\n",
       "<table border=\"1\" class=\"dataframe\">\n",
       "  <thead>\n",
       "    <tr style=\"text-align: right;\">\n",
       "      <th></th>\n",
       "      <th>appl_sbm_tm</th>\n",
       "      <th>target</th>\n",
       "      <th>id</th>\n",
       "      <th>id_card_x</th>\n",
       "      <th>auth_time</th>\n",
       "      <th>phone</th>\n",
       "      <th>bank_name_count</th>\n",
       "      <th>bank_name_nunique</th>\n",
       "      <th>tail_num_count</th>\n",
       "      <th>tail_num_nunique</th>\n",
       "      <th>...</th>\n",
       "      <th>appl_sbm_tm_time_order_min_year</th>\n",
       "      <th>appl_sbm_tm_time_order_min_month</th>\n",
       "      <th>auth_time_birthday_year</th>\n",
       "      <th>auth_time_birthday_month</th>\n",
       "      <th>time_order_max_auth_time_year</th>\n",
       "      <th>time_order_max_auth_time_month</th>\n",
       "      <th>time_order_min_auth_time_year</th>\n",
       "      <th>time_order_min_auth_time_month</th>\n",
       "      <th>time_order_max_time_order_min_year</th>\n",
       "      <th>time_order_max_time_order_min_month</th>\n",
       "    </tr>\n",
       "  </thead>\n",
       "  <tbody>\n",
       "    <tr>\n",
       "      <th>0</th>\n",
       "      <td>2017-04-08 19:10:13</td>\n",
       "      <td>0</td>\n",
       "      <td>600689284231467016</td>\n",
       "      <td>1</td>\n",
       "      <td>2017-03-05</td>\n",
       "      <td>1</td>\n",
       "      <td>2</td>\n",
       "      <td>2</td>\n",
       "      <td>2</td>\n",
       "      <td>2</td>\n",
       "      <td>...</td>\n",
       "      <td>1.0</td>\n",
       "      <td>15.0</td>\n",
       "      <td>25.0</td>\n",
       "      <td>301.0</td>\n",
       "      <td>-1.0</td>\n",
       "      <td>-14.0</td>\n",
       "      <td>-1.0</td>\n",
       "      <td>-14.0</td>\n",
       "      <td>0.0</td>\n",
       "      <td>0.0</td>\n",
       "    </tr>\n",
       "    <tr>\n",
       "      <th>1</th>\n",
       "      <td>2016-06-08 15:20:21</td>\n",
       "      <td>0</td>\n",
       "      <td>20160608150003808365</td>\n",
       "      <td>1</td>\n",
       "      <td>2016-01-31</td>\n",
       "      <td>1</td>\n",
       "      <td>6</td>\n",
       "      <td>4</td>\n",
       "      <td>6</td>\n",
       "      <td>3</td>\n",
       "      <td>...</td>\n",
       "      <td>4.0</td>\n",
       "      <td>44.0</td>\n",
       "      <td>NaN</td>\n",
       "      <td>NaN</td>\n",
       "      <td>0.0</td>\n",
       "      <td>4.0</td>\n",
       "      <td>-3.0</td>\n",
       "      <td>-40.0</td>\n",
       "      <td>4.0</td>\n",
       "      <td>44.0</td>\n",
       "    </tr>\n",
       "    <tr>\n",
       "      <th>2</th>\n",
       "      <td>2016-04-27 11:36:27</td>\n",
       "      <td>0</td>\n",
       "      <td>20160427110002485018</td>\n",
       "      <td>1</td>\n",
       "      <td>2017-06-18</td>\n",
       "      <td>1</td>\n",
       "      <td>5</td>\n",
       "      <td>4</td>\n",
       "      <td>5</td>\n",
       "      <td>3</td>\n",
       "      <td>...</td>\n",
       "      <td>2.0</td>\n",
       "      <td>23.0</td>\n",
       "      <td>39.0</td>\n",
       "      <td>475.0</td>\n",
       "      <td>-3.0</td>\n",
       "      <td>-37.0</td>\n",
       "      <td>-3.0</td>\n",
       "      <td>-37.0</td>\n",
       "      <td>0.0</td>\n",
       "      <td>0.0</td>\n",
       "    </tr>\n",
       "  </tbody>\n",
       "</table>\n",
       "<p>3 rows × 125 columns</p>\n",
       "</div>"
      ],
      "text/plain": [
       "          appl_sbm_tm  target                    id  id_card_x  auth_time  \\\n",
       "0 2017-04-08 19:10:13       0    600689284231467016          1 2017-03-05   \n",
       "1 2016-06-08 15:20:21       0  20160608150003808365          1 2016-01-31   \n",
       "2 2016-04-27 11:36:27       0  20160427110002485018          1 2017-06-18   \n",
       "\n",
       "   phone  bank_name_count  bank_name_nunique  tail_num_count  \\\n",
       "0      1                2                  2               2   \n",
       "1      1                6                  4               6   \n",
       "2      1                5                  4               5   \n",
       "\n",
       "   tail_num_nunique  ...  appl_sbm_tm_time_order_min_year  \\\n",
       "0                 2  ...                              1.0   \n",
       "1                 3  ...                              4.0   \n",
       "2                 3  ...                              2.0   \n",
       "\n",
       "   appl_sbm_tm_time_order_min_month  auth_time_birthday_year  \\\n",
       "0                              15.0                     25.0   \n",
       "1                              44.0                      NaN   \n",
       "2                              23.0                     39.0   \n",
       "\n",
       "   auth_time_birthday_month  time_order_max_auth_time_year  \\\n",
       "0                     301.0                           -1.0   \n",
       "1                       NaN                            0.0   \n",
       "2                     475.0                           -3.0   \n",
       "\n",
       "   time_order_max_auth_time_month  time_order_min_auth_time_year  \\\n",
       "0                           -14.0                           -1.0   \n",
       "1                             4.0                           -3.0   \n",
       "2                           -37.0                           -3.0   \n",
       "\n",
       "  time_order_min_auth_time_month  time_order_max_time_order_min_year  \\\n",
       "0                          -14.0                                 0.0   \n",
       "1                          -40.0                                 4.0   \n",
       "2                          -37.0                                 0.0   \n",
       "\n",
       "   time_order_max_time_order_min_month  \n",
       "0                                  0.0  \n",
       "1                                 44.0  \n",
       "2                                  0.0  \n",
       "\n",
       "[3 rows x 125 columns]"
      ]
     },
     "execution_count": 58,
     "metadata": {},
     "output_type": "execute_result"
    }
   ],
   "source": [
    "# 4. appl_sbm_tm-birthday，appl_sbm_tm-auth_time，appl_sbm_tm-time_order_max，appl_sbm_tm-time_order_min，\n",
    "# 5. auth_time-birthday， time_order_max- auth_time， time_order_min-auth_time， time_order_max-time_order_min，\n",
    "df_train['appl_sbm_tm_birthday_year'] = round((df_train['appl_sbm_tm']-df_train['birthday']).dt.days/365)\n",
    "df_train['appl_sbm_tm_birthday_month'] = round((df_train['appl_sbm_tm']-df_train['birthday']).dt.days/30)\n",
    "\n",
    "df_train['appl_sbm_tm_auth_time_year'] = round((df_train['appl_sbm_tm']-df_train['auth_time']).dt.days/365)\n",
    "df_train['appl_sbm_tm_auth_time_month'] = round((df_train['appl_sbm_tm']-df_train['auth_time']).dt.days/30)\n",
    "\n",
    "df_train['appl_sbm_tm_time_order_max_year'] = round((df_train['appl_sbm_tm']-df_train['time_order_max']).dt.days/365)\n",
    "df_train['appl_sbm_tm_time_order_max_month'] = round((df_train['appl_sbm_tm']-df_train['time_order_max']).dt.days/30)\n",
    "\n",
    "\n",
    "df_train['appl_sbm_tm_time_order_min_year'] = round((df_train['appl_sbm_tm']-df_train['time_order_min']).dt.days/365)\n",
    "df_train['appl_sbm_tm_time_order_min_month'] = round((df_train['appl_sbm_tm']-df_train['time_order_min']).dt.days/30)\n",
    "\n",
    "df_train['auth_time_birthday_year'] = round((df_train['auth_time']-df_train['birthday']).dt.days/365)\n",
    "df_train['auth_time_birthday_month'] = round((df_train['auth_time']-df_train['birthday']).dt.days/30)\n",
    "\n",
    "df_train['time_order_max_auth_time_year'] = round((df_train['time_order_max']-df_train['auth_time']).dt.days/365)\n",
    "df_train['time_order_max_auth_time_month'] = round((df_train['time_order_max']-df_train['auth_time']).dt.days/30)\n",
    "\n",
    "df_train['time_order_min_auth_time_year'] = round((df_train['time_order_min']-df_train['auth_time']).dt.days/365)\n",
    "df_train['time_order_min_auth_time_month'] = round((df_train['time_order_min']-df_train['auth_time']).dt.days/30)\n",
    "\n",
    "df_train['time_order_max_time_order_min_year'] = round((df_train['time_order_max']-df_train['time_order_min']).dt.days/365)\n",
    "df_train['time_order_max_time_order_min_month'] = round((df_train['time_order_max']-df_train['time_order_min']).dt.days/30)\n",
    "df_train.head(3)"
   ]
  },
  {
   "cell_type": "code",
   "execution_count": 59,
   "id": "1812c041",
   "metadata": {
    "ExecuteTime": {
     "end_time": "2021-08-01T00:59:20.088077Z",
     "start_time": "2021-08-01T00:59:20.009006Z"
    }
   },
   "outputs": [
    {
     "data": {
      "text/html": [
       "<div>\n",
       "<style scoped>\n",
       "    .dataframe tbody tr th:only-of-type {\n",
       "        vertical-align: middle;\n",
       "    }\n",
       "\n",
       "    .dataframe tbody tr th {\n",
       "        vertical-align: top;\n",
       "    }\n",
       "\n",
       "    .dataframe thead th {\n",
       "        text-align: right;\n",
       "    }\n",
       "</style>\n",
       "<table border=\"1\" class=\"dataframe\">\n",
       "  <thead>\n",
       "    <tr style=\"text-align: right;\">\n",
       "      <th></th>\n",
       "      <th>target</th>\n",
       "      <th>id_card_x</th>\n",
       "      <th>phone</th>\n",
       "      <th>bank_name_count</th>\n",
       "      <th>bank_name_nunique</th>\n",
       "      <th>tail_num_count</th>\n",
       "      <th>tail_num_nunique</th>\n",
       "      <th>card_type_count</th>\n",
       "      <th>card_type_nunique</th>\n",
       "      <th>phone_count_x</th>\n",
       "      <th>...</th>\n",
       "      <th>appl_sbm_tm_time_order_min_year</th>\n",
       "      <th>appl_sbm_tm_time_order_min_month</th>\n",
       "      <th>auth_time_birthday_year</th>\n",
       "      <th>auth_time_birthday_month</th>\n",
       "      <th>time_order_max_auth_time_year</th>\n",
       "      <th>time_order_max_auth_time_month</th>\n",
       "      <th>time_order_min_auth_time_year</th>\n",
       "      <th>time_order_min_auth_time_month</th>\n",
       "      <th>time_order_max_time_order_min_year</th>\n",
       "      <th>time_order_max_time_order_min_month</th>\n",
       "    </tr>\n",
       "  </thead>\n",
       "  <tbody>\n",
       "    <tr>\n",
       "      <th>0</th>\n",
       "      <td>0</td>\n",
       "      <td>1</td>\n",
       "      <td>1</td>\n",
       "      <td>2</td>\n",
       "      <td>2</td>\n",
       "      <td>2</td>\n",
       "      <td>2</td>\n",
       "      <td>2</td>\n",
       "      <td>1</td>\n",
       "      <td>2</td>\n",
       "      <td>...</td>\n",
       "      <td>1.0</td>\n",
       "      <td>15.0</td>\n",
       "      <td>25.0</td>\n",
       "      <td>301.0</td>\n",
       "      <td>-1.0</td>\n",
       "      <td>-14.0</td>\n",
       "      <td>-1.0</td>\n",
       "      <td>-14.0</td>\n",
       "      <td>0.0</td>\n",
       "      <td>0.0</td>\n",
       "    </tr>\n",
       "    <tr>\n",
       "      <th>1</th>\n",
       "      <td>0</td>\n",
       "      <td>1</td>\n",
       "      <td>1</td>\n",
       "      <td>6</td>\n",
       "      <td>4</td>\n",
       "      <td>6</td>\n",
       "      <td>3</td>\n",
       "      <td>6</td>\n",
       "      <td>2</td>\n",
       "      <td>6</td>\n",
       "      <td>...</td>\n",
       "      <td>4.0</td>\n",
       "      <td>44.0</td>\n",
       "      <td>-500.0</td>\n",
       "      <td>-500.0</td>\n",
       "      <td>0.0</td>\n",
       "      <td>4.0</td>\n",
       "      <td>-3.0</td>\n",
       "      <td>-40.0</td>\n",
       "      <td>4.0</td>\n",
       "      <td>44.0</td>\n",
       "    </tr>\n",
       "    <tr>\n",
       "      <th>2</th>\n",
       "      <td>0</td>\n",
       "      <td>1</td>\n",
       "      <td>1</td>\n",
       "      <td>5</td>\n",
       "      <td>4</td>\n",
       "      <td>5</td>\n",
       "      <td>3</td>\n",
       "      <td>5</td>\n",
       "      <td>2</td>\n",
       "      <td>5</td>\n",
       "      <td>...</td>\n",
       "      <td>2.0</td>\n",
       "      <td>23.0</td>\n",
       "      <td>39.0</td>\n",
       "      <td>475.0</td>\n",
       "      <td>-3.0</td>\n",
       "      <td>-37.0</td>\n",
       "      <td>-3.0</td>\n",
       "      <td>-37.0</td>\n",
       "      <td>0.0</td>\n",
       "      <td>0.0</td>\n",
       "    </tr>\n",
       "  </tbody>\n",
       "</table>\n",
       "<p>3 rows × 119 columns</p>\n",
       "</div>"
      ],
      "text/plain": [
       "   target  id_card_x  phone  bank_name_count  bank_name_nunique  \\\n",
       "0       0          1      1                2                  2   \n",
       "1       0          1      1                6                  4   \n",
       "2       0          1      1                5                  4   \n",
       "\n",
       "   tail_num_count  tail_num_nunique  card_type_count  card_type_nunique  \\\n",
       "0               2                 2                2                  1   \n",
       "1               6                 3                6                  2   \n",
       "2               5                 3                5                  2   \n",
       "\n",
       "   phone_count_x  ...  appl_sbm_tm_time_order_min_year  \\\n",
       "0              2  ...                              1.0   \n",
       "1              6  ...                              4.0   \n",
       "2              5  ...                              2.0   \n",
       "\n",
       "   appl_sbm_tm_time_order_min_month  auth_time_birthday_year  \\\n",
       "0                              15.0                     25.0   \n",
       "1                              44.0                   -500.0   \n",
       "2                              23.0                     39.0   \n",
       "\n",
       "   auth_time_birthday_month  time_order_max_auth_time_year  \\\n",
       "0                     301.0                           -1.0   \n",
       "1                    -500.0                            0.0   \n",
       "2                     475.0                           -3.0   \n",
       "\n",
       "   time_order_max_auth_time_month  time_order_min_auth_time_year  \\\n",
       "0                           -14.0                           -1.0   \n",
       "1                             4.0                           -3.0   \n",
       "2                           -37.0                           -3.0   \n",
       "\n",
       "   time_order_min_auth_time_month  time_order_max_time_order_min_year  \\\n",
       "0                           -14.0                                 0.0   \n",
       "1                           -40.0                                 4.0   \n",
       "2                           -37.0                                 0.0   \n",
       "\n",
       "   time_order_max_time_order_min_month  \n",
       "0                                  0.0  \n",
       "1                                 44.0  \n",
       "2                                  0.0  \n",
       "\n",
       "[3 rows x 119 columns]"
      ]
     },
     "execution_count": 59,
     "metadata": {},
     "output_type": "execute_result"
    }
   ],
   "source": [
    "df_train['credit_score_split'] = df_train['credit_score_split'].astype('float')\n",
    "\n",
    "cols = ['appl_sbm_tm', 'auth_time', 'time_order_max', 'time_order_min',  'birthday', 'id']\n",
    "df_train.drop(cols, axis=1, inplace=True)\n",
    "df_train.fillna(-500, inplace=True)  # 因为-500比较小，能够区别其它数值\n",
    "df_train.head(3)"
   ]
  },
  {
   "cell_type": "markdown",
   "id": "6a62aa0b",
   "metadata": {},
   "source": [
    "## 4. 训练准备"
   ]
  },
  {
   "cell_type": "code",
   "execution_count": 60,
   "id": "a0e9507a",
   "metadata": {
    "ExecuteTime": {
     "end_time": "2021-08-01T00:59:20.776703Z",
     "start_time": "2021-08-01T00:59:20.089079Z"
    }
   },
   "outputs": [],
   "source": [
    "import time\n",
    "import lightgbm as lgb\n",
    "from sklearn.model_selection import train_test_split, KFold"
   ]
  },
  {
   "cell_type": "code",
   "execution_count": 61,
   "id": "a7c209b1",
   "metadata": {
    "ExecuteTime": {
     "end_time": "2021-08-01T00:59:20.807731Z",
     "start_time": "2021-08-01T00:59:20.777704Z"
    }
   },
   "outputs": [],
   "source": [
    "target = df_train['target']\n",
    "train  = df_train.drop(['target'], axis=1)\n",
    "# X_train,X_test, y_train, y_test =train_test_split(train,target,test_size=0.2, random_state=0)\n",
    "\n",
    "\n",
    "# train_data = lgb.Dataset(data=X_train,label=y_train)\n",
    "# test_data  = lgb.Dataset(data=X_test,label=y_test)"
   ]
  },
  {
   "cell_type": "markdown",
   "id": "96793a06",
   "metadata": {},
   "source": [
    "## 5. 训练"
   ]
  },
  {
   "cell_type": "code",
   "execution_count": 69,
   "id": "238f52c9",
   "metadata": {
    "ExecuteTime": {
     "end_time": "2021-08-01T02:32:36.573473Z",
     "start_time": "2021-08-01T02:29:21.885859Z"
    }
   },
   "outputs": [
    {
     "name": "stdout",
     "output_type": "stream",
     "text": [
      "fold 1\n",
      "Training until validation scores don't improve for 1000 rounds\n",
      "[500]\ttraining's auc: 0.91949\ttraining's binary_logloss: 0.0858772\tvalid_1's auc: 0.84451\tvalid_1's binary_logloss: 0.106421\n",
      "[1000]\ttraining's auc: 0.943972\ttraining's binary_logloss: 0.0746692\tvalid_1's auc: 0.842324\tvalid_1's binary_logloss: 0.107303\n",
      "Early stopping, best iteration is:\n",
      "[426]\ttraining's auc: 0.913337\ttraining's binary_logloss: 0.0880999\tvalid_1's auc: 0.844816\tvalid_1's binary_logloss: 0.106321\n",
      "fold 2\n",
      "Training until validation scores don't improve for 1000 rounds\n",
      "[500]\ttraining's auc: 0.919614\ttraining's binary_logloss: 0.0871557\tvalid_1's auc: 0.848491\tvalid_1's binary_logloss: 0.10072\n",
      "[1000]\ttraining's auc: 0.944756\ttraining's binary_logloss: 0.0757443\tvalid_1's auc: 0.846148\tvalid_1's binary_logloss: 0.101067\n",
      "Early stopping, best iteration is:\n",
      "[348]\ttraining's auc: 0.905409\ttraining's binary_logloss: 0.0920487\tvalid_1's auc: 0.848634\tvalid_1's binary_logloss: 0.100928\n",
      "fold 3\n",
      "Training until validation scores don't improve for 1000 rounds\n",
      "[500]\ttraining's auc: 0.920485\ttraining's binary_logloss: 0.0864503\tvalid_1's auc: 0.840382\tvalid_1's binary_logloss: 0.103963\n",
      "[1000]\ttraining's auc: 0.945316\ttraining's binary_logloss: 0.0752063\tvalid_1's auc: 0.840451\tvalid_1's binary_logloss: 0.104272\n",
      "[1500]\ttraining's auc: 0.958019\ttraining's binary_logloss: 0.0673353\tvalid_1's auc: 0.838552\tvalid_1's binary_logloss: 0.105057\n",
      "Early stopping, best iteration is:\n",
      "[583]\ttraining's auc: 0.926259\ttraining's binary_logloss: 0.0842219\tvalid_1's auc: 0.841058\tvalid_1's binary_logloss: 0.103886\n",
      "fold 4\n",
      "Training until validation scores don't improve for 1000 rounds\n",
      "[500]\ttraining's auc: 0.919131\ttraining's binary_logloss: 0.0865515\tvalid_1's auc: 0.844314\tvalid_1's binary_logloss: 0.103887\n",
      "[1000]\ttraining's auc: 0.943738\ttraining's binary_logloss: 0.0752898\tvalid_1's auc: 0.841224\tvalid_1's binary_logloss: 0.104624\n",
      "[1500]\ttraining's auc: 0.956794\ttraining's binary_logloss: 0.0673931\tvalid_1's auc: 0.837749\tvalid_1's binary_logloss: 0.105715\n",
      "Early stopping, best iteration is:\n",
      "[510]\ttraining's auc: 0.919859\ttraining's binary_logloss: 0.0862687\tvalid_1's auc: 0.844386\tvalid_1's binary_logloss: 0.103876\n",
      "fold 5\n",
      "Training until validation scores don't improve for 1000 rounds\n",
      "[500]\ttraining's auc: 0.921276\ttraining's binary_logloss: 0.0850325\tvalid_1's auc: 0.841342\tvalid_1's binary_logloss: 0.108955\n",
      "[1000]\ttraining's auc: 0.946525\ttraining's binary_logloss: 0.0736889\tvalid_1's auc: 0.840014\tvalid_1's binary_logloss: 0.109584\n",
      "Early stopping, best iteration is:\n",
      "[479]\ttraining's auc: 0.91973\ttraining's binary_logloss: 0.0856315\tvalid_1's auc: 0.841381\tvalid_1's binary_logloss: 0.108943\n",
      "*****************************\n"
     ]
    }
   ],
   "source": [
    "params = {'num_leaves': 60, #结果对最终效果影响较大，越大值越好，太大会出现过拟合\n",
    "          'min_data_in_leaf': 30,\n",
    "          'objective': 'binary', #定义的目标函数\n",
    "          'max_depth': -1,\n",
    "          'learning_rate': 0.01,\n",
    "          \"min_sum_hessian_in_leaf\": 6,\n",
    "          \"boosting\": \"gbdt\",\n",
    "          \"feature_fraction\": 0.9,  #提取的特征比率\n",
    "          \"bagging_freq\": 1,\n",
    "          \"bagging_fraction\": 0.8,\n",
    "          \"bagging_seed\": 11,\n",
    "          \"lambda_l1\": 0.1,             #l1正则\n",
    "          # 'lambda_l2': 0.001,     #l2正则\n",
    "          \"verbosity\": -1,\n",
    "          \"nthread\": -1,                #线程数量，-1表示全部线程，线程越多，运行的速度越快\n",
    "          'metric': {'binary_logloss', 'auc'},  ##评价函数选择\n",
    "          \"random_state\": 2019, #随机数种子，可以防止每次运行的结果不一致\n",
    "          'device': 'gpu' ##如果安装的事gpu版本的lightgbm,可以加快运算\n",
    "          }\n",
    "\n",
    "folds = KFold(n_splits=5, shuffle=True, random_state=2019)\n",
    "# test_pred_prob = np.zeros((test.shape[0], )) 测试集\n",
    "\n",
    "## train and predict\n",
    "feature_importance_df = pd.DataFrame()\n",
    "features = list(train.columns)\n",
    "for fold_, (trn_idx, val_idx) in enumerate(folds.split(train)):\n",
    "    print(\"fold {}\".format(fold_ + 1))\n",
    "    trn_data = lgb.Dataset(train.iloc[trn_idx], label=target[trn_idx])\n",
    "    val_data = lgb.Dataset(train.iloc[val_idx], label=target[val_idx])\n",
    "\n",
    "\n",
    "    clf = lgb.train(params,\n",
    "                    trn_data,\n",
    "                    10000,\n",
    "                    valid_sets=[trn_data, val_data],\n",
    "                    verbose_eval=500,\n",
    "                    early_stopping_rounds=1000)\n",
    "\n",
    "    fold_importance_df = pd.DataFrame()\n",
    "    fold_importance_df[\"Feature\"] = features\n",
    "    fold_importance_df[\"importance\"] = clf.feature_importance()\n",
    "    fold_importance_df[\"fold\"] = fold_ + 1\n",
    "    feature_importance_df = pd.concat([feature_importance_df, fold_importance_df], axis=0)\n",
    "    \n",
    "    #test_pred_prob += clf.predict(test[features], num_iteration=clf.best_iteration) / folds.n_splits\n",
    "    \n",
    "# threshold = 0.5\n",
    "# for pred in test_pred_prob:\n",
    "#     result = 1 if pred > threshold else 0\n",
    "\n",
    "\n",
    "\n",
    "print(\"*****************************\")"
   ]
  },
  {
   "cell_type": "markdown",
   "id": "d1342b4d",
   "metadata": {},
   "source": [
    "## 6. 总结与评估"
   ]
  },
  {
   "cell_type": "markdown",
   "id": "fbde6cd5",
   "metadata": {},
   "source": [
    "### 6.1 特征重要性"
   ]
  },
  {
   "cell_type": "code",
   "execution_count": 65,
   "id": "e6184c81",
   "metadata": {
    "ExecuteTime": {
     "end_time": "2021-08-01T01:01:56.191406Z",
     "start_time": "2021-08-01T01:01:56.164384Z"
    }
   },
   "outputs": [
    {
     "data": {
      "text/html": [
       "<div>\n",
       "<style scoped>\n",
       "    .dataframe tbody tr th:only-of-type {\n",
       "        vertical-align: middle;\n",
       "    }\n",
       "\n",
       "    .dataframe tbody tr th {\n",
       "        vertical-align: top;\n",
       "    }\n",
       "\n",
       "    .dataframe thead th {\n",
       "        text-align: right;\n",
       "    }\n",
       "</style>\n",
       "<table border=\"1\" class=\"dataframe\">\n",
       "  <thead>\n",
       "    <tr style=\"text-align: right;\">\n",
       "      <th></th>\n",
       "      <th>importance_sum</th>\n",
       "      <th>fold_sum</th>\n",
       "    </tr>\n",
       "    <tr>\n",
       "      <th>Feature</th>\n",
       "      <th></th>\n",
       "      <th></th>\n",
       "    </tr>\n",
       "  </thead>\n",
       "  <tbody>\n",
       "    <tr>\n",
       "      <th>account_grade_nan</th>\n",
       "      <td>541</td>\n",
       "      <td>15</td>\n",
       "    </tr>\n",
       "    <tr>\n",
       "      <th>account_grade_注册会员</th>\n",
       "      <td>235</td>\n",
       "      <td>15</td>\n",
       "    </tr>\n",
       "    <tr>\n",
       "      <th>account_grade_金牌会员</th>\n",
       "      <td>31</td>\n",
       "      <td>15</td>\n",
       "    </tr>\n",
       "    <tr>\n",
       "      <th>account_grade_钻石会员</th>\n",
       "      <td>9</td>\n",
       "      <td>15</td>\n",
       "    </tr>\n",
       "    <tr>\n",
       "      <th>account_grade_铜牌会员</th>\n",
       "      <td>83</td>\n",
       "      <td>15</td>\n",
       "    </tr>\n",
       "  </tbody>\n",
       "</table>\n",
       "</div>"
      ],
      "text/plain": [
       "                    importance_sum  fold_sum\n",
       "Feature                                     \n",
       "account_grade_nan              541        15\n",
       "account_grade_注册会员             235        15\n",
       "account_grade_金牌会员              31        15\n",
       "account_grade_钻石会员               9        15\n",
       "account_grade_铜牌会员              83        15"
      ]
     },
     "execution_count": 65,
     "metadata": {},
     "output_type": "execute_result"
    }
   ],
   "source": [
    "df_feature = feature_importance_df.groupby('Feature').agg(['sum'])\n",
    "df_feature.columns = ['_'.join(x) for x in df_feature.columns]\n",
    "df_feature.head()"
   ]
  },
  {
   "cell_type": "code",
   "execution_count": 67,
   "id": "444b1d3f",
   "metadata": {
    "ExecuteTime": {
     "end_time": "2021-08-01T01:02:09.731262Z",
     "start_time": "2021-08-01T01:02:09.700237Z"
    }
   },
   "outputs": [
    {
     "data": {
      "text/html": [
       "<div>\n",
       "<style scoped>\n",
       "    .dataframe tbody tr th:only-of-type {\n",
       "        vertical-align: middle;\n",
       "    }\n",
       "\n",
       "    .dataframe tbody tr th {\n",
       "        vertical-align: top;\n",
       "    }\n",
       "\n",
       "    .dataframe thead th {\n",
       "        text-align: right;\n",
       "    }\n",
       "</style>\n",
       "<table border=\"1\" class=\"dataframe\">\n",
       "  <thead>\n",
       "    <tr style=\"text-align: right;\">\n",
       "      <th></th>\n",
       "      <th>importance_sum</th>\n",
       "      <th>fold_sum</th>\n",
       "    </tr>\n",
       "    <tr>\n",
       "      <th>Feature</th>\n",
       "      <th></th>\n",
       "      <th></th>\n",
       "    </tr>\n",
       "  </thead>\n",
       "  <tbody>\n",
       "    <tr>\n",
       "      <th>appl_sbm_tm_auth_time_month</th>\n",
       "      <td>2937</td>\n",
       "      <td>15</td>\n",
       "    </tr>\n",
       "    <tr>\n",
       "      <th>reverse_credit_score</th>\n",
       "      <td>2711</td>\n",
       "      <td>15</td>\n",
       "    </tr>\n",
       "    <tr>\n",
       "      <th>credit_score</th>\n",
       "      <td>2622</td>\n",
       "      <td>15</td>\n",
       "    </tr>\n",
       "    <tr>\n",
       "      <th>amt_order_min</th>\n",
       "      <td>1730</td>\n",
       "      <td>15</td>\n",
       "    </tr>\n",
       "    <tr>\n",
       "      <th>sts_order_finish_mean</th>\n",
       "      <td>1526</td>\n",
       "      <td>15</td>\n",
       "    </tr>\n",
       "    <tr>\n",
       "      <th>amt_order_mean</th>\n",
       "      <td>1408</td>\n",
       "      <td>15</td>\n",
       "    </tr>\n",
       "    <tr>\n",
       "      <th>amt_order_max</th>\n",
       "      <td>1312</td>\n",
       "      <td>15</td>\n",
       "    </tr>\n",
       "    <tr>\n",
       "      <th>appl_sbm_tm_birthday_month</th>\n",
       "      <td>1169</td>\n",
       "      <td>15</td>\n",
       "    </tr>\n",
       "    <tr>\n",
       "      <th>amt_order_std</th>\n",
       "      <td>1161</td>\n",
       "      <td>15</td>\n",
       "    </tr>\n",
       "    <tr>\n",
       "      <th>sts_order_cancel_mean</th>\n",
       "      <td>1105</td>\n",
       "      <td>15</td>\n",
       "    </tr>\n",
       "    <tr>\n",
       "      <th>appl_sbm_tm_time_order_min_month</th>\n",
       "      <td>1100</td>\n",
       "      <td>15</td>\n",
       "    </tr>\n",
       "    <tr>\n",
       "      <th>appl_sbm_tm_time_order_max_month</th>\n",
       "      <td>1089</td>\n",
       "      <td>15</td>\n",
       "    </tr>\n",
       "    <tr>\n",
       "      <th>type_pay_online_pay_mean</th>\n",
       "      <td>1060</td>\n",
       "      <td>15</td>\n",
       "    </tr>\n",
       "    <tr>\n",
       "      <th>quota_minus_overdraft</th>\n",
       "      <td>1003</td>\n",
       "      <td>15</td>\n",
       "    </tr>\n",
       "    <tr>\n",
       "      <th>time_order_min_auth_time_month</th>\n",
       "      <td>917</td>\n",
       "      <td>15</td>\n",
       "    </tr>\n",
       "    <tr>\n",
       "      <th>time_order_max_auth_time_month</th>\n",
       "      <td>900</td>\n",
       "      <td>15</td>\n",
       "    </tr>\n",
       "    <tr>\n",
       "      <th>auth_time_birthday_month</th>\n",
       "      <td>850</td>\n",
       "      <td>15</td>\n",
       "    </tr>\n",
       "    <tr>\n",
       "      <th>addr_id_count</th>\n",
       "      <td>845</td>\n",
       "      <td>15</td>\n",
       "    </tr>\n",
       "    <tr>\n",
       "      <th>quota</th>\n",
       "      <td>780</td>\n",
       "      <td>15</td>\n",
       "    </tr>\n",
       "    <tr>\n",
       "      <th>type_pay_arrived_pay_mean</th>\n",
       "      <td>714</td>\n",
       "      <td>15</td>\n",
       "    </tr>\n",
       "    <tr>\n",
       "      <th>quota_overdraft_percent</th>\n",
       "      <td>705</td>\n",
       "      <td>15</td>\n",
       "    </tr>\n",
       "    <tr>\n",
       "      <th>sts_order_pay_finish_mean</th>\n",
       "      <td>679</td>\n",
       "      <td>15</td>\n",
       "    </tr>\n",
       "    <tr>\n",
       "      <th>bank_name_nunique</th>\n",
       "      <td>651</td>\n",
       "      <td>15</td>\n",
       "    </tr>\n",
       "    <tr>\n",
       "      <th>type_pay_online_pay_sum</th>\n",
       "      <td>646</td>\n",
       "      <td>15</td>\n",
       "    </tr>\n",
       "    <tr>\n",
       "      <th>tail_num_nunique</th>\n",
       "      <td>626</td>\n",
       "      <td>15</td>\n",
       "    </tr>\n",
       "    <tr>\n",
       "      <th>time_order_max_time_order_min_month</th>\n",
       "      <td>619</td>\n",
       "      <td>15</td>\n",
       "    </tr>\n",
       "    <tr>\n",
       "      <th>overdraft</th>\n",
       "      <td>585</td>\n",
       "      <td>15</td>\n",
       "    </tr>\n",
       "    <tr>\n",
       "      <th>sts_order_finish_sum</th>\n",
       "      <td>569</td>\n",
       "      <td>15</td>\n",
       "    </tr>\n",
       "    <tr>\n",
       "      <th>isnull_number</th>\n",
       "      <td>567</td>\n",
       "      <td>15</td>\n",
       "    </tr>\n",
       "    <tr>\n",
       "      <th>qq_bound_已绑定</th>\n",
       "      <td>543</td>\n",
       "      <td>15</td>\n",
       "    </tr>\n",
       "    <tr>\n",
       "      <th>account_grade_nan</th>\n",
       "      <td>541</td>\n",
       "      <td>15</td>\n",
       "    </tr>\n",
       "    <tr>\n",
       "      <th>sts_order_cancel_sum</th>\n",
       "      <td>532</td>\n",
       "      <td>15</td>\n",
       "    </tr>\n",
       "    <tr>\n",
       "      <th>unit_price_max</th>\n",
       "      <td>530</td>\n",
       "      <td>15</td>\n",
       "    </tr>\n",
       "    <tr>\n",
       "      <th>sts_order_count</th>\n",
       "      <td>528</td>\n",
       "      <td>15</td>\n",
       "    </tr>\n",
       "    <tr>\n",
       "      <th>fix_phone_count</th>\n",
       "      <td>510</td>\n",
       "      <td>15</td>\n",
       "    </tr>\n",
       "    <tr>\n",
       "      <th>no_order_md5_nunique</th>\n",
       "      <td>510</td>\n",
       "      <td>15</td>\n",
       "    </tr>\n",
       "    <tr>\n",
       "      <th>unit_price_mean</th>\n",
       "      <td>510</td>\n",
       "      <td>15</td>\n",
       "    </tr>\n",
       "    <tr>\n",
       "      <th>unit_price_std</th>\n",
       "      <td>460</td>\n",
       "      <td>15</td>\n",
       "    </tr>\n",
       "    <tr>\n",
       "      <th>addr_id_nunique</th>\n",
       "      <td>453</td>\n",
       "      <td>15</td>\n",
       "    </tr>\n",
       "    <tr>\n",
       "      <th>region_count</th>\n",
       "      <td>421</td>\n",
       "      <td>15</td>\n",
       "    </tr>\n",
       "    <tr>\n",
       "      <th>receiver_md5_count</th>\n",
       "      <td>407</td>\n",
       "      <td>15</td>\n",
       "    </tr>\n",
       "    <tr>\n",
       "      <th>phone_count</th>\n",
       "      <td>402</td>\n",
       "      <td>15</td>\n",
       "    </tr>\n",
       "    <tr>\n",
       "      <th>sts_order_nunique</th>\n",
       "      <td>394</td>\n",
       "      <td>15</td>\n",
       "    </tr>\n",
       "    <tr>\n",
       "      <th>phone_nunique_y</th>\n",
       "      <td>391</td>\n",
       "      <td>15</td>\n",
       "    </tr>\n",
       "    <tr>\n",
       "      <th>sex_男</th>\n",
       "      <td>378</td>\n",
       "      <td>15</td>\n",
       "    </tr>\n",
       "    <tr>\n",
       "      <th>receiver_md5_nunique</th>\n",
       "      <td>376</td>\n",
       "      <td>15</td>\n",
       "    </tr>\n",
       "    <tr>\n",
       "      <th>phone_count_y</th>\n",
       "      <td>367</td>\n",
       "      <td>15</td>\n",
       "    </tr>\n",
       "    <tr>\n",
       "      <th>unit_price_min</th>\n",
       "      <td>351</td>\n",
       "      <td>15</td>\n",
       "    </tr>\n",
       "    <tr>\n",
       "      <th>card_type_nunique</th>\n",
       "      <td>344</td>\n",
       "      <td>15</td>\n",
       "    </tr>\n",
       "    <tr>\n",
       "      <th>sex_nan</th>\n",
       "      <td>330</td>\n",
       "      <td>15</td>\n",
       "    </tr>\n",
       "  </tbody>\n",
       "</table>\n",
       "</div>"
      ],
      "text/plain": [
       "                                     importance_sum  fold_sum\n",
       "Feature                                                      \n",
       "appl_sbm_tm_auth_time_month                    2937        15\n",
       "reverse_credit_score                           2711        15\n",
       "credit_score                                   2622        15\n",
       "amt_order_min                                  1730        15\n",
       "sts_order_finish_mean                          1526        15\n",
       "amt_order_mean                                 1408        15\n",
       "amt_order_max                                  1312        15\n",
       "appl_sbm_tm_birthday_month                     1169        15\n",
       "amt_order_std                                  1161        15\n",
       "sts_order_cancel_mean                          1105        15\n",
       "appl_sbm_tm_time_order_min_month               1100        15\n",
       "appl_sbm_tm_time_order_max_month               1089        15\n",
       "type_pay_online_pay_mean                       1060        15\n",
       "quota_minus_overdraft                          1003        15\n",
       "time_order_min_auth_time_month                  917        15\n",
       "time_order_max_auth_time_month                  900        15\n",
       "auth_time_birthday_month                        850        15\n",
       "addr_id_count                                   845        15\n",
       "quota                                           780        15\n",
       "type_pay_arrived_pay_mean                       714        15\n",
       "quota_overdraft_percent                         705        15\n",
       "sts_order_pay_finish_mean                       679        15\n",
       "bank_name_nunique                               651        15\n",
       "type_pay_online_pay_sum                         646        15\n",
       "tail_num_nunique                                626        15\n",
       "time_order_max_time_order_min_month             619        15\n",
       "overdraft                                       585        15\n",
       "sts_order_finish_sum                            569        15\n",
       "isnull_number                                   567        15\n",
       "qq_bound_已绑定                                    543        15\n",
       "account_grade_nan                               541        15\n",
       "sts_order_cancel_sum                            532        15\n",
       "unit_price_max                                  530        15\n",
       "sts_order_count                                 528        15\n",
       "fix_phone_count                                 510        15\n",
       "no_order_md5_nunique                            510        15\n",
       "unit_price_mean                                 510        15\n",
       "unit_price_std                                  460        15\n",
       "addr_id_nunique                                 453        15\n",
       "region_count                                    421        15\n",
       "receiver_md5_count                              407        15\n",
       "phone_count                                     402        15\n",
       "sts_order_nunique                               394        15\n",
       "phone_nunique_y                                 391        15\n",
       "sex_男                                           378        15\n",
       "receiver_md5_nunique                            376        15\n",
       "phone_count_y                                   367        15\n",
       "unit_price_min                                  351        15\n",
       "card_type_nunique                               344        15\n",
       "sex_nan                                         330        15"
      ]
     },
     "execution_count": 67,
     "metadata": {},
     "output_type": "execute_result"
    }
   ],
   "source": [
    "df_feature = df_feature.sort_values(by='importance_sum', ascending=False)\n",
    "df_feature.head(50)"
   ]
  },
  {
   "cell_type": "markdown",
   "id": "26f9cdb7",
   "metadata": {},
   "source": [
    "### 6.2 总结\n",
    "1. 从两方面来看，第一方面，全流程的数据处理以及特征构造，即正常的处理每一个表格，然后将所有表格合并，之后再考虑表格间特征的交叉。\n",
    "2. 相对来说统计类型的数据由于其本身就更高级，故相对来说再特征重要性上会更重要。\n",
    "3. 从另一方面，即特征构造类别上来说：表的id没有重复一般是one-hot特征，id重复的即为统计特征，另外则是交叉特征。\n",
    "4. 对于特征处理，有一个理解，即类别特征，取值范围少的考虑使用one-hot，取值范围一般的考虑使用出现比较多的几个取值，取值特征特别多的，考虑使用特征嵌入等技术，同时也需要结合缺失值来进行处理。\n"
   ]
  }
 ],
 "metadata": {
  "hide_input": false,
  "kernelspec": {
   "display_name": "Python [conda env:ml]",
   "language": "python",
   "name": "conda-env-ml-py"
  },
  "language_info": {
   "codemirror_mode": {
    "name": "ipython",
    "version": 3
   },
   "file_extension": ".py",
   "mimetype": "text/x-python",
   "name": "python",
   "nbconvert_exporter": "python",
   "pygments_lexer": "ipython3",
   "version": "3.7.10"
  },
  "toc": {
   "base_numbering": 1,
   "nav_menu": {},
   "number_sections": true,
   "sideBar": true,
   "skip_h1_title": false,
   "title_cell": "Table of Contents",
   "title_sidebar": "Contents",
   "toc_cell": false,
   "toc_position": {},
   "toc_section_display": true,
   "toc_window_display": false
  }
 },
 "nbformat": 4,
 "nbformat_minor": 5
}
