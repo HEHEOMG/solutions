{
 "cells": [
  {
   "cell_type": "markdown",
   "id": "118b3bd1",
   "metadata": {
    "hide_input": false
   },
   "source": [
    "参考：[违约用户风险预测](https://github.com/chenkkkk/User-loan-risk-prediction)\n",
    "\n",
    "## 1. 方案概述\n",
    "### 1.1 背景\n",
    "+ 近年来，互联网金融已经是当今社会上的一个金融发展趋势。在金融领域，无论是投资理财还是借贷放款，风险控制永远是业务的核心基础。对于消费金融来说，其主要服务对象的特点是：额度小、人群大、周期短，这个特性导致其被公认为是风险最高的细分领域。\n",
    "+ 以借贷为例，相比于传统的金融行业需要用户自己提供的资产资料的较单一途径，互联网金融更能将用户线下的资产情况，以及线上的网络消费行为进行资料整合，来进行综合分析，以便为用户提供更好的服务体验，为金融商家提供用户更全面的了解和评估。\n",
    "+ 随着人工智能和大数据等技术不断渗透，依靠金融科技主动收集、分析、整理各类金融数据，为细分人群提供更为精准的风控服务，成为解决消费金融风控问题的有效途径。简言之，如何区别违约风险用户，成为金融领域提供更为精准的风控服务的关键。\n",
    "\n",
    "### 1.2 数据概况\n",
    "|订单信息order_info| | |认证信息auth_info| | |个人基本信息user_info| |\n",
    "|:----|:----|:----|:----|:----|:----|:----|:----|\n",
    "|字段名|字段解释| |字段名|字段解释| |字段名|字段解释|\n",
    "|id|申请贷款唯一编号| |id|申请贷款唯一编号| |id|申请贷款唯一编号|\n",
    "|no_order_md5|订单编号MD5加密| |id_card|身份证号（脱敏）| |sex|性别|\n",
    "|name_rec_md5|收货人姓名MD5加密| |auth_time|认证时间| |birthday|出生日期|\n",
    "|amt_order|订单金额| |phone|认证电话号码（脱敏）| |hobby|兴趣爱好|\n",
    "|type_pay|支付方式| | | | |merriage|婚姻状况|\n",
    "|time_order|下单时间| | | | |income|收入水平|\n",
    "|sts_order|订单状态| | | | |id_card|身份证号(脱敏)|\n",
    "|phone|收货电话（脱敏）| | | | |degree|学历|\n",
    "|product_id_md5|商品编号MD5加密| | | | |industry|所在行业|\n",
    "|unit_price|商品单价| | | | |qq_bound|是否绑定QQ|\n",
    "| | | | | | |wechat_bound|是否绑定微信|\n",
    "| | | | | | |account_grade|会员级别|\n",
    "\n",
    "\n",
    "|网购平台信用信息credit_info| | |收货地址信息recieve_addr_info| | |银行卡信息bankcard_info| |\n",
    "|:----|:----|:----|:----|:----|:----|:----|:----|\n",
    "|字段名|字段解释| |字段名|字段解释| |字段名|字段解释|\n",
    "|id|申请贷款唯一编号| |id|申请贷款唯一编号| |id|申请贷款唯一编号|\n",
    "|credit_score|网购平台信用评分| |receiver_md5|收货人姓名(MD5加密)| |bank_name|银行名称|\n",
    "|quota|网购平台信用额度| |addr_id|收货地址ID| |tail_num|银行卡号后四位|\n",
    "|overdraft|网购平台信用额度使用值| |region|收货地址所在地区| |card_type|银行卡类型|\n",
    "| | | |phone|收货人手机号(脱敏)| |phone|银行卡绑定手机号(脱敏)|\n",
    "| | | |fix_phone|收货人固定电话号码(脱敏)| | | |\n",
    "\n",
    "\n",
    "|训练标签train_target| | |测试列表test_list| | |提交样例字段说明| |\n",
    "|:----|:----|:----|:----|:----|:----|:----|:----|\n",
    "|字段名|字段解释| |字段名|字段解释| |字段名|字段解释|\n",
    "|id|申请贷款唯一编号| |id|申请贷款唯一编号| |ID|申请贷款唯一编号|\n",
    "|appl_sbm_tm|用户贷款申请的提交时间（此字段不能 作为模型的直接输入变量）| |appl_sbm_tm|用户贷款申请的提交时间(此字段不能 作为模型的直接输入变量)| |PROB|预测为逾期的概率值.|\n",
    "|target|逾期标识，1逾期，0非逾期。| | | | | | |\n",
    "\n",
    "\n",
    "### 1.3 解决方案\n",
    "基于本赛题，大数据金融的违约用户风险预测，本文解决方案具体包括以下步骤：\n",
    "1. 对用户的历史行为数据预处理操作；\n",
    "2. 根据历史行为划分训练集数据、验证集数据；\n",
    "3. 对用户历史数据进行特征工程操作；\n",
    "4. 对构建特征完成的样本集进行特征选择；\n",
    "5. 建立多个机器学习模型，并进行模型融合；\n",
    "6. 通过建立的模型，根据用户历史行为数据对用户在未来一个月是否会逾期还款进行预测。\n",
    "\n",
    "其中，图1展示了基于大数据金融的违约用户风险预测解决方案的流程图。\n",
    "![](./img/01.png)"
   ]
  },
  {
   "cell_type": "markdown",
   "id": "f7cb594a",
   "metadata": {},
   "source": [
    "## 2. 数据探索性分析（EDA）"
   ]
  },
  {
   "cell_type": "code",
   "execution_count": 1,
   "id": "719478b4",
   "metadata": {
    "ExecuteTime": {
     "end_time": "2021-07-29T14:42:56.804912Z",
     "start_time": "2021-07-29T14:42:55.912100Z"
    }
   },
   "outputs": [],
   "source": [
    "import os\n",
    "import numpy as np\n",
    "import pandas as pd\n",
    "\n",
    "import matplotlib.pyplot as plt\n",
    "import seaborn as sns"
   ]
  },
  {
   "cell_type": "code",
   "execution_count": 2,
   "id": "f8d213ca",
   "metadata": {
    "ExecuteTime": {
     "end_time": "2021-07-29T14:42:56.820143Z",
     "start_time": "2021-07-29T14:42:56.805914Z"
    }
   },
   "outputs": [],
   "source": [
    "path_project = r'G:\\data\\mashan'\n",
    "# dirname path\n",
    "path_row_data = os.path.join(path_project, 'row_data')\n",
    "path_new_data = os.path.join(path_project, 'new_data')\n",
    "path_results = os.path.join(path_project, 'results')\n",
    "\n",
    "# row train path\n",
    "path_train_dir           = os.path.join(path_row_data, 'AI_risk_train_V3.0')\n",
    "path_train_auth_info     = os.path.join(path_train_dir, 'train_auth_info.csv')\n",
    "path_train_bankcard_info = os.path.join(path_train_dir, 'train_bankcard_info.csv')\n",
    "path_train_credit_info   = os.path.join(path_train_dir, 'train_credit_info.csv')\n",
    "path_train_order_info    = os.path.join(path_train_dir, 'train_order_info.csv')\n",
    "path_train_recieve_addr_info = os.path.join(path_train_dir, 'train_recieve_addr_info.csv')\n",
    "path_train_target        = os.path.join(path_train_dir, 'train_target.csv')\n",
    "path_train_user_info     = os.path.join(path_train_dir, 'train_user_info.csv')\n",
    "\n",
    "# row test path\n",
    "path_test_dir            = os.path.join(path_row_data, 'AI_Risk_data_Btest_V2.0')\n",
    "path_test_auth_info      = os.path.join(path_test_dir, 'test_auth_info.csv')\n",
    "path_test_bankcard_info  = os.path.join(path_test_dir, 'test_bankcard_info.csv')\n",
    "path_test_credit_info    = os.path.join(path_test_dir, 'test_credit_info.csv')\n",
    "path_test_list           = os.path.join(path_test_dir, 'test_list.csv')\n",
    "path_test_order_info     = os.path.join(path_test_dir, 'test_order_info.csv')\n",
    "path_test_recieve_addr_info = os.path.join(path_test_dir, 'test_recieve_addr_info.csv')\n",
    "path_test_user_info      = os.path.join(path_test_dir, 'test_user_info.csv')"
   ]
  },
  {
   "cell_type": "markdown",
   "id": "5ba1d2c0",
   "metadata": {
    "heading_collapsed": true
   },
   "source": [
    "### 2.1 train_auth_info.csv"
   ]
  },
  {
   "cell_type": "markdown",
   "id": "1bf5c4bc",
   "metadata": {
    "ExecuteTime": {
     "end_time": "2021-07-29T01:58:49.914104Z",
     "start_time": "2021-07-29T01:58:49.895101Z"
    },
    "hidden": true
   },
   "source": [
    "|认证信息auth_info| |\n",
    "|:----|:----|\n",
    "|字段名|字段解释|\n",
    "|id|申请贷款唯一编号|\n",
    "|id_card|身份证号（脱敏）|\n",
    "|auth_time|认证时间|\n",
    "|phone|认证电话号码（脱敏）|"
   ]
  },
  {
   "cell_type": "code",
   "execution_count": 3,
   "id": "8a91d152",
   "metadata": {
    "ExecuteTime": {
     "end_time": "2021-07-29T14:42:56.979289Z",
     "start_time": "2021-07-29T14:42:56.821146Z"
    },
    "hidden": true
   },
   "outputs": [
    {
     "data": {
      "text/html": [
       "<div>\n",
       "<style scoped>\n",
       "    .dataframe tbody tr th:only-of-type {\n",
       "        vertical-align: middle;\n",
       "    }\n",
       "\n",
       "    .dataframe tbody tr th {\n",
       "        vertical-align: top;\n",
       "    }\n",
       "\n",
       "    .dataframe thead th {\n",
       "        text-align: right;\n",
       "    }\n",
       "</style>\n",
       "<table border=\"1\" class=\"dataframe\">\n",
       "  <thead>\n",
       "    <tr style=\"text-align: right;\">\n",
       "      <th></th>\n",
       "      <th>id_card</th>\n",
       "      <th>auth_time</th>\n",
       "      <th>phone</th>\n",
       "      <th>id</th>\n",
       "    </tr>\n",
       "  </thead>\n",
       "  <tbody>\n",
       "    <tr>\n",
       "      <th>0</th>\n",
       "      <td>4****************0</td>\n",
       "      <td>2017-06-10</td>\n",
       "      <td>132****2008</td>\n",
       "      <td>501951980776722440</td>\n",
       "    </tr>\n",
       "    <tr>\n",
       "      <th>1</th>\n",
       "      <td>NaN</td>\n",
       "      <td>NaT</td>\n",
       "      <td>187*****500</td>\n",
       "      <td>525890212484616200</td>\n",
       "    </tr>\n",
       "    <tr>\n",
       "      <th>2</th>\n",
       "      <td>5****************9</td>\n",
       "      <td>2015-10-10</td>\n",
       "      <td>135****3522</td>\n",
       "      <td>599309364691472392</td>\n",
       "    </tr>\n",
       "  </tbody>\n",
       "</table>\n",
       "</div>"
      ],
      "text/plain": [
       "              id_card  auth_time        phone                  id\n",
       "0  4****************0 2017-06-10  132****2008  501951980776722440\n",
       "1                 NaN        NaT  187*****500  525890212484616200\n",
       "2  5****************9 2015-10-10  135****3522  599309364691472392"
      ]
     },
     "execution_count": 3,
     "metadata": {},
     "output_type": "execute_result"
    }
   ],
   "source": [
    "df_train_auth_info = pd.read_csv(path_train_auth_info, parse_dates = ['auth_time'])\n",
    "df_train_auth_info.head(3)"
   ]
  },
  {
   "cell_type": "code",
   "execution_count": 4,
   "id": "3bf796da",
   "metadata": {
    "ExecuteTime": {
     "end_time": "2021-07-29T14:42:57.011320Z",
     "start_time": "2021-07-29T14:42:56.980291Z"
    },
    "hidden": true
   },
   "outputs": [
    {
     "name": "stdout",
     "output_type": "stream",
     "text": [
      "<class 'pandas.core.frame.DataFrame'>\n",
      "RangeIndex: 120929 entries, 0 to 120928\n",
      "Data columns (total 4 columns):\n",
      " #   Column     Non-Null Count   Dtype         \n",
      "---  ------     --------------   -----         \n",
      " 0   id_card    82908 non-null   object        \n",
      " 1   auth_time  79244 non-null   datetime64[ns]\n",
      " 2   phone      117589 non-null  object        \n",
      " 3   id         120929 non-null  object        \n",
      "dtypes: datetime64[ns](1), object(3)\n",
      "memory usage: 3.7+ MB\n"
     ]
    }
   ],
   "source": [
    "df_train_auth_info.info()"
   ]
  },
  {
   "cell_type": "code",
   "execution_count": 5,
   "id": "faaa3128",
   "metadata": {
    "ExecuteTime": {
     "end_time": "2021-07-29T14:42:57.043394Z",
     "start_time": "2021-07-29T14:42:57.012320Z"
    },
    "hidden": true
   },
   "outputs": [
    {
     "data": {
      "text/plain": [
       "id_card      38021\n",
       "auth_time    41685\n",
       "phone         3340\n",
       "id               0\n",
       "dtype: int64"
      ]
     },
     "execution_count": 5,
     "metadata": {},
     "output_type": "execute_result"
    }
   ],
   "source": [
    "df_train_auth_info.isnull().sum()"
   ]
  },
  {
   "cell_type": "code",
   "execution_count": 6,
   "id": "48f25283",
   "metadata": {
    "ExecuteTime": {
     "end_time": "2021-07-29T14:42:57.123467Z",
     "start_time": "2021-07-29T14:42:57.044396Z"
    },
    "hidden": true
   },
   "outputs": [
    {
     "data": {
      "text/plain": [
       "id_card        2663\n",
       "auth_time      1368\n",
       "phone         85851\n",
       "id           120929\n",
       "dtype: int64"
      ]
     },
     "execution_count": 6,
     "metadata": {},
     "output_type": "execute_result"
    }
   ],
   "source": [
    "df_train_auth_info.nunique()"
   ]
  },
  {
   "cell_type": "markdown",
   "id": "3c7d9b5a",
   "metadata": {
    "hidden": true
   },
   "source": [
    "#### 2.1.1 分析\n",
    "1. 该表中数据多为category信息，包括字段id_card, phone, 并且每个字段的取值范围很大。\n",
    "2. 表中存在许多缺失值。\n",
    "3. id_card以及phone中的数字是否有特殊含义还得进一步探究。\n",
    "\n",
    "#### 2.1.2 处理\n",
    "1. 由于id_card, phone的取值范围过大，并且没有历史数据也无法做类似于嵌入的操作，故由规则存在为1，不存在为0进行处理\n",
    "2. auth_time为时间数据，可考虑在多表联立后与其它时间做差，得到不同粒度的时间特征。\n",
    "3. 查阅资料，探究id_card以及phone中的数字是否有特殊含义。"
   ]
  },
  {
   "cell_type": "code",
   "execution_count": 7,
   "id": "22c993a6",
   "metadata": {
    "ExecuteTime": {
     "end_time": "2021-07-29T14:42:57.251584Z",
     "start_time": "2021-07-29T14:42:57.125469Z"
    },
    "hidden": true
   },
   "outputs": [
    {
     "data": {
      "text/html": [
       "<div>\n",
       "<style scoped>\n",
       "    .dataframe tbody tr th:only-of-type {\n",
       "        vertical-align: middle;\n",
       "    }\n",
       "\n",
       "    .dataframe tbody tr th {\n",
       "        vertical-align: top;\n",
       "    }\n",
       "\n",
       "    .dataframe thead th {\n",
       "        text-align: right;\n",
       "    }\n",
       "</style>\n",
       "<table border=\"1\" class=\"dataframe\">\n",
       "  <thead>\n",
       "    <tr style=\"text-align: right;\">\n",
       "      <th></th>\n",
       "      <th>id_card</th>\n",
       "      <th>auth_time</th>\n",
       "      <th>phone</th>\n",
       "      <th>id</th>\n",
       "    </tr>\n",
       "  </thead>\n",
       "  <tbody>\n",
       "    <tr>\n",
       "      <th>0</th>\n",
       "      <td>1</td>\n",
       "      <td>2017-06-10</td>\n",
       "      <td>1</td>\n",
       "      <td>501951980776722440</td>\n",
       "    </tr>\n",
       "    <tr>\n",
       "      <th>1</th>\n",
       "      <td>0</td>\n",
       "      <td>NaT</td>\n",
       "      <td>1</td>\n",
       "      <td>525890212484616200</td>\n",
       "    </tr>\n",
       "    <tr>\n",
       "      <th>2</th>\n",
       "      <td>1</td>\n",
       "      <td>2015-10-10</td>\n",
       "      <td>1</td>\n",
       "      <td>599309364691472392</td>\n",
       "    </tr>\n",
       "  </tbody>\n",
       "</table>\n",
       "</div>"
      ],
      "text/plain": [
       "   id_card  auth_time  phone                  id\n",
       "0        1 2017-06-10      1  501951980776722440\n",
       "1        0        NaT      1  525890212484616200\n",
       "2        1 2015-10-10      1  599309364691472392"
      ]
     },
     "execution_count": 7,
     "metadata": {},
     "output_type": "execute_result"
    }
   ],
   "source": [
    "df_train_auth_info['id_card'] = df_train_auth_info['id_card'].map(lambda x: 0 if str(x)=='nan' else 1)\n",
    "df_train_auth_info['phone']   = df_train_auth_info['phone'].map(lambda x: 0 if str(x)=='nan' else 1)\n",
    "df_train_auth_info.head(3)"
   ]
  },
  {
   "cell_type": "markdown",
   "id": "51038a32",
   "metadata": {
    "heading_collapsed": true
   },
   "source": [
    "### 2.2 train_bankcard_info.csv"
   ]
  },
  {
   "cell_type": "markdown",
   "id": "bdb0fdf6",
   "metadata": {
    "ExecuteTime": {
     "end_time": "2021-07-29T01:59:49.495533Z",
     "start_time": "2021-07-29T01:59:49.489527Z"
    },
    "hidden": true
   },
   "source": [
    "|银行卡信息bankcard_info| |\n",
    "|:----|:----|\n",
    "|字段名|字段解释|\n",
    "|id|申请贷款唯一编号|\n",
    "|bank_name|银行名称|\n",
    "|tail_num|银行卡号后四位|\n",
    "|card_type|银行卡类型|\n",
    "|phone|银行卡绑定手机号(脱敏)|"
   ]
  },
  {
   "cell_type": "code",
   "execution_count": 8,
   "id": "e4f0cc3c",
   "metadata": {
    "ExecuteTime": {
     "end_time": "2021-07-29T14:42:57.600900Z",
     "start_time": "2021-07-29T14:42:57.253585Z"
    },
    "hidden": true
   },
   "outputs": [
    {
     "data": {
      "text/html": [
       "<div>\n",
       "<style scoped>\n",
       "    .dataframe tbody tr th:only-of-type {\n",
       "        vertical-align: middle;\n",
       "    }\n",
       "\n",
       "    .dataframe tbody tr th {\n",
       "        vertical-align: top;\n",
       "    }\n",
       "\n",
       "    .dataframe thead th {\n",
       "        text-align: right;\n",
       "    }\n",
       "</style>\n",
       "<table border=\"1\" class=\"dataframe\">\n",
       "  <thead>\n",
       "    <tr style=\"text-align: right;\">\n",
       "      <th></th>\n",
       "      <th>bank_name</th>\n",
       "      <th>tail_num</th>\n",
       "      <th>card_type</th>\n",
       "      <th>phone</th>\n",
       "      <th>id</th>\n",
       "    </tr>\n",
       "  </thead>\n",
       "  <tbody>\n",
       "    <tr>\n",
       "      <th>0</th>\n",
       "      <td>中信银行</td>\n",
       "      <td>9753</td>\n",
       "      <td>储蓄卡</td>\n",
       "      <td>177****8427</td>\n",
       "      <td>585401206734589960</td>\n",
       "    </tr>\n",
       "    <tr>\n",
       "      <th>1</th>\n",
       "      <td>农业银行</td>\n",
       "      <td>2174</td>\n",
       "      <td>储蓄卡</td>\n",
       "      <td>150****4551</td>\n",
       "      <td>587694980785508360</td>\n",
       "    </tr>\n",
       "    <tr>\n",
       "      <th>2</th>\n",
       "      <td>中国交通银行</td>\n",
       "      <td>4832</td>\n",
       "      <td>信用卡</td>\n",
       "      <td>185****1989</td>\n",
       "      <td>602098357531316232</td>\n",
       "    </tr>\n",
       "  </tbody>\n",
       "</table>\n",
       "</div>"
      ],
      "text/plain": [
       "  bank_name  tail_num card_type        phone                  id\n",
       "0      中信银行      9753       储蓄卡  177****8427  585401206734589960\n",
       "1      农业银行      2174       储蓄卡  150****4551  587694980785508360\n",
       "2    中国交通银行      4832       信用卡  185****1989  602098357531316232"
      ]
     },
     "execution_count": 8,
     "metadata": {},
     "output_type": "execute_result"
    }
   ],
   "source": [
    "df_train_bankcard_info = pd.read_csv(path_train_bankcard_info)\n",
    "df_train_bankcard_info.head(3)"
   ]
  },
  {
   "cell_type": "code",
   "execution_count": 9,
   "id": "80476a8a",
   "metadata": {
    "ExecuteTime": {
     "end_time": "2021-07-29T14:42:57.648944Z",
     "start_time": "2021-07-29T14:42:57.601903Z"
    },
    "hidden": true
   },
   "outputs": [
    {
     "name": "stdout",
     "output_type": "stream",
     "text": [
      "<class 'pandas.core.frame.DataFrame'>\n",
      "RangeIndex: 315489 entries, 0 to 315488\n",
      "Data columns (total 5 columns):\n",
      " #   Column     Non-Null Count   Dtype \n",
      "---  ------     --------------   ----- \n",
      " 0   bank_name  315283 non-null  object\n",
      " 1   tail_num   315489 non-null  int64 \n",
      " 2   card_type  315489 non-null  object\n",
      " 3   phone      315489 non-null  object\n",
      " 4   id         315489 non-null  object\n",
      "dtypes: int64(1), object(4)\n",
      "memory usage: 12.0+ MB\n"
     ]
    }
   ],
   "source": [
    "df_train_bankcard_info.info()"
   ]
  },
  {
   "cell_type": "code",
   "execution_count": 10,
   "id": "e42ac5d6",
   "metadata": {
    "ExecuteTime": {
     "end_time": "2021-07-29T14:42:57.696988Z",
     "start_time": "2021-07-29T14:42:57.649945Z"
    },
    "hidden": true
   },
   "outputs": [
    {
     "data": {
      "text/plain": [
       "bank_name    206\n",
       "tail_num       0\n",
       "card_type      0\n",
       "phone          0\n",
       "id             0\n",
       "dtype: int64"
      ]
     },
     "execution_count": 10,
     "metadata": {},
     "output_type": "execute_result"
    }
   ],
   "source": [
    "df_train_bankcard_info.isnull().sum()"
   ]
  },
  {
   "cell_type": "code",
   "execution_count": 11,
   "id": "7863b4d8",
   "metadata": {
    "ExecuteTime": {
     "end_time": "2021-07-29T14:42:57.873142Z",
     "start_time": "2021-07-29T14:42:57.697989Z"
    },
    "hidden": true
   },
   "outputs": [
    {
     "data": {
      "text/plain": [
       "bank_name       189\n",
       "tail_num      10000\n",
       "card_type         2\n",
       "phone         98479\n",
       "id           120929\n",
       "dtype: int64"
      ]
     },
     "execution_count": 11,
     "metadata": {},
     "output_type": "execute_result"
    }
   ],
   "source": [
    "df_train_bankcard_info.nunique()"
   ]
  },
  {
   "cell_type": "markdown",
   "id": "4a719148",
   "metadata": {
    "hidden": true
   },
   "source": [
    "#### 2.2.1 分析\n",
    "1. 该表中数据多为category信息，包括字段bank_name, tail_num, card_type, phone 并且每个字段的取值范围很大。\n",
    "2. 表中只有bank_name存在缺失值，并且缺失值的数量较少。\n",
    "3. 该表中一个id拥有多张卡，故需要对其特征进行聚合，得到一个适用于训练的数据。\n",
    "\n",
    "#### 2.2.2 处理\n",
    "1. 将bank_name中的缺失值看作新取值。\n",
    "2. 按照id进行聚合，并统计包括bank_name, tail_name, card_type, phone的类别数，以及不同取值数。"
   ]
  },
  {
   "cell_type": "code",
   "execution_count": 12,
   "id": "64efd3c9",
   "metadata": {
    "ExecuteTime": {
     "end_time": "2021-07-29T14:42:58.512728Z",
     "start_time": "2021-07-29T14:42:57.874146Z"
    },
    "hidden": true
   },
   "outputs": [
    {
     "data": {
      "text/html": [
       "<div>\n",
       "<style scoped>\n",
       "    .dataframe tbody tr th:only-of-type {\n",
       "        vertical-align: middle;\n",
       "    }\n",
       "\n",
       "    .dataframe tbody tr th {\n",
       "        vertical-align: top;\n",
       "    }\n",
       "\n",
       "    .dataframe thead tr th {\n",
       "        text-align: left;\n",
       "    }\n",
       "\n",
       "    .dataframe thead tr:last-of-type th {\n",
       "        text-align: right;\n",
       "    }\n",
       "</style>\n",
       "<table border=\"1\" class=\"dataframe\">\n",
       "  <thead>\n",
       "    <tr>\n",
       "      <th></th>\n",
       "      <th colspan=\"2\" halign=\"left\">bank_name</th>\n",
       "      <th colspan=\"2\" halign=\"left\">tail_num</th>\n",
       "      <th colspan=\"2\" halign=\"left\">card_type</th>\n",
       "      <th colspan=\"2\" halign=\"left\">phone</th>\n",
       "    </tr>\n",
       "    <tr>\n",
       "      <th></th>\n",
       "      <th>count</th>\n",
       "      <th>nunique</th>\n",
       "      <th>count</th>\n",
       "      <th>nunique</th>\n",
       "      <th>count</th>\n",
       "      <th>nunique</th>\n",
       "      <th>count</th>\n",
       "      <th>nunique</th>\n",
       "    </tr>\n",
       "    <tr>\n",
       "      <th>id</th>\n",
       "      <th></th>\n",
       "      <th></th>\n",
       "      <th></th>\n",
       "      <th></th>\n",
       "      <th></th>\n",
       "      <th></th>\n",
       "      <th></th>\n",
       "      <th></th>\n",
       "    </tr>\n",
       "  </thead>\n",
       "  <tbody>\n",
       "    <tr>\n",
       "      <th>20160328090001743085</th>\n",
       "      <td>4</td>\n",
       "      <td>3</td>\n",
       "      <td>4</td>\n",
       "      <td>4</td>\n",
       "      <td>4</td>\n",
       "      <td>2</td>\n",
       "      <td>4</td>\n",
       "      <td>1</td>\n",
       "    </tr>\n",
       "    <tr>\n",
       "      <th>20160328160001756263</th>\n",
       "      <td>7</td>\n",
       "      <td>5</td>\n",
       "      <td>7</td>\n",
       "      <td>7</td>\n",
       "      <td>7</td>\n",
       "      <td>2</td>\n",
       "      <td>7</td>\n",
       "      <td>1</td>\n",
       "    </tr>\n",
       "    <tr>\n",
       "      <th>20160328170001757443</th>\n",
       "      <td>1</td>\n",
       "      <td>1</td>\n",
       "      <td>1</td>\n",
       "      <td>1</td>\n",
       "      <td>1</td>\n",
       "      <td>1</td>\n",
       "      <td>1</td>\n",
       "      <td>1</td>\n",
       "    </tr>\n",
       "  </tbody>\n",
       "</table>\n",
       "</div>"
      ],
      "text/plain": [
       "                     bank_name         tail_num         card_type          \\\n",
       "                         count nunique    count nunique     count nunique   \n",
       "id                                                                          \n",
       "20160328090001743085         4       3        4       4         4       2   \n",
       "20160328160001756263         7       5        7       7         7       2   \n",
       "20160328170001757443         1       1        1       1         1       1   \n",
       "\n",
       "                     phone          \n",
       "                     count nunique  \n",
       "id                                  \n",
       "20160328090001743085     4       1  \n",
       "20160328160001756263     7       1  \n",
       "20160328170001757443     1       1  "
      ]
     },
     "execution_count": 12,
     "metadata": {},
     "output_type": "execute_result"
    }
   ],
   "source": [
    "df_train_bankcard_info['bank_name'].fillna('s', inplace=True)\n",
    "df_train_bankcard = df_train_bankcard_info.groupby('id').agg(['count', 'nunique'])\n",
    "df_train_bankcard.head(3)"
   ]
  },
  {
   "cell_type": "code",
   "execution_count": 13,
   "id": "5b24ed45",
   "metadata": {
    "ExecuteTime": {
     "end_time": "2021-07-29T14:42:58.528743Z",
     "start_time": "2021-07-29T14:42:58.513730Z"
    },
    "hidden": true
   },
   "outputs": [
    {
     "data": {
      "text/html": [
       "<div>\n",
       "<style scoped>\n",
       "    .dataframe tbody tr th:only-of-type {\n",
       "        vertical-align: middle;\n",
       "    }\n",
       "\n",
       "    .dataframe tbody tr th {\n",
       "        vertical-align: top;\n",
       "    }\n",
       "\n",
       "    .dataframe thead th {\n",
       "        text-align: right;\n",
       "    }\n",
       "</style>\n",
       "<table border=\"1\" class=\"dataframe\">\n",
       "  <thead>\n",
       "    <tr style=\"text-align: right;\">\n",
       "      <th></th>\n",
       "      <th>bank_name_count</th>\n",
       "      <th>bank_name_nunique</th>\n",
       "      <th>tail_num_count</th>\n",
       "      <th>tail_num_nunique</th>\n",
       "      <th>card_type_count</th>\n",
       "      <th>card_type_nunique</th>\n",
       "      <th>phone_count</th>\n",
       "      <th>phone_nunique</th>\n",
       "    </tr>\n",
       "    <tr>\n",
       "      <th>id</th>\n",
       "      <th></th>\n",
       "      <th></th>\n",
       "      <th></th>\n",
       "      <th></th>\n",
       "      <th></th>\n",
       "      <th></th>\n",
       "      <th></th>\n",
       "      <th></th>\n",
       "    </tr>\n",
       "  </thead>\n",
       "  <tbody>\n",
       "    <tr>\n",
       "      <th>20160328090001743085</th>\n",
       "      <td>4</td>\n",
       "      <td>3</td>\n",
       "      <td>4</td>\n",
       "      <td>4</td>\n",
       "      <td>4</td>\n",
       "      <td>2</td>\n",
       "      <td>4</td>\n",
       "      <td>1</td>\n",
       "    </tr>\n",
       "    <tr>\n",
       "      <th>20160328160001756263</th>\n",
       "      <td>7</td>\n",
       "      <td>5</td>\n",
       "      <td>7</td>\n",
       "      <td>7</td>\n",
       "      <td>7</td>\n",
       "      <td>2</td>\n",
       "      <td>7</td>\n",
       "      <td>1</td>\n",
       "    </tr>\n",
       "    <tr>\n",
       "      <th>20160328170001757443</th>\n",
       "      <td>1</td>\n",
       "      <td>1</td>\n",
       "      <td>1</td>\n",
       "      <td>1</td>\n",
       "      <td>1</td>\n",
       "      <td>1</td>\n",
       "      <td>1</td>\n",
       "      <td>1</td>\n",
       "    </tr>\n",
       "  </tbody>\n",
       "</table>\n",
       "</div>"
      ],
      "text/plain": [
       "                      bank_name_count  bank_name_nunique  tail_num_count  \\\n",
       "id                                                                         \n",
       "20160328090001743085                4                  3               4   \n",
       "20160328160001756263                7                  5               7   \n",
       "20160328170001757443                1                  1               1   \n",
       "\n",
       "                      tail_num_nunique  card_type_count  card_type_nunique  \\\n",
       "id                                                                           \n",
       "20160328090001743085                 4                4                  2   \n",
       "20160328160001756263                 7                7                  2   \n",
       "20160328170001757443                 1                1                  1   \n",
       "\n",
       "                      phone_count  phone_nunique  \n",
       "id                                                \n",
       "20160328090001743085            4              1  \n",
       "20160328160001756263            7              1  \n",
       "20160328170001757443            1              1  "
      ]
     },
     "execution_count": 13,
     "metadata": {},
     "output_type": "execute_result"
    }
   ],
   "source": [
    "df_train_bankcard.columns = ['_'.join(x) for x in df_train_bankcard.columns]\n",
    "df_train_bankcard.head(3)"
   ]
  },
  {
   "cell_type": "markdown",
   "id": "331a565a",
   "metadata": {
    "heading_collapsed": true
   },
   "source": [
    "### 2.3 train_credit_info.csv"
   ]
  },
  {
   "cell_type": "markdown",
   "id": "44b609a7",
   "metadata": {
    "hidden": true
   },
   "source": [
    "|网购平台信用信息credit_info| |\n",
    "|:----|:----|\n",
    "|字段名|字段解释|\n",
    "|id|申请贷款唯一编号|\n",
    "|credit_score|网购平台信用评分|\n",
    "|quota|网购平台信用额度|\n",
    "|overdraft|网购平台信用额度使用值|\n"
   ]
  },
  {
   "cell_type": "code",
   "execution_count": 14,
   "id": "aa2beade",
   "metadata": {
    "ExecuteTime": {
     "end_time": "2021-07-29T14:42:58.640844Z",
     "start_time": "2021-07-29T14:42:58.529745Z"
    },
    "hidden": true
   },
   "outputs": [
    {
     "data": {
      "text/html": [
       "<div>\n",
       "<style scoped>\n",
       "    .dataframe tbody tr th:only-of-type {\n",
       "        vertical-align: middle;\n",
       "    }\n",
       "\n",
       "    .dataframe tbody tr th {\n",
       "        vertical-align: top;\n",
       "    }\n",
       "\n",
       "    .dataframe thead th {\n",
       "        text-align: right;\n",
       "    }\n",
       "</style>\n",
       "<table border=\"1\" class=\"dataframe\">\n",
       "  <thead>\n",
       "    <tr style=\"text-align: right;\">\n",
       "      <th></th>\n",
       "      <th>credit_score</th>\n",
       "      <th>overdraft</th>\n",
       "      <th>quota</th>\n",
       "      <th>id</th>\n",
       "    </tr>\n",
       "  </thead>\n",
       "  <tbody>\n",
       "    <tr>\n",
       "      <th>0</th>\n",
       "      <td>549.0</td>\n",
       "      <td>0.0</td>\n",
       "      <td>0.0</td>\n",
       "      <td>563888070781309192</td>\n",
       "    </tr>\n",
       "    <tr>\n",
       "      <th>1</th>\n",
       "      <td>400.0</td>\n",
       "      <td>0.0</td>\n",
       "      <td>0.0</td>\n",
       "      <td>591567740590887176</td>\n",
       "    </tr>\n",
       "    <tr>\n",
       "      <th>2</th>\n",
       "      <td>490.0</td>\n",
       "      <td>4955.9</td>\n",
       "      <td>5083.0</td>\n",
       "      <td>464888846169936136</td>\n",
       "    </tr>\n",
       "  </tbody>\n",
       "</table>\n",
       "</div>"
      ],
      "text/plain": [
       "   credit_score  overdraft   quota                  id\n",
       "0         549.0        0.0     0.0  563888070781309192\n",
       "1         400.0        0.0     0.0  591567740590887176\n",
       "2         490.0     4955.9  5083.0  464888846169936136"
      ]
     },
     "execution_count": 14,
     "metadata": {},
     "output_type": "execute_result"
    }
   ],
   "source": [
    "df_train_credit_info = pd.read_csv(path_train_credit_info)\n",
    "df_train_credit_info.head(3)"
   ]
  },
  {
   "cell_type": "code",
   "execution_count": 15,
   "id": "be86b08c",
   "metadata": {
    "ExecuteTime": {
     "end_time": "2021-07-29T14:42:58.672873Z",
     "start_time": "2021-07-29T14:42:58.641846Z"
    },
    "hidden": true
   },
   "outputs": [
    {
     "name": "stdout",
     "output_type": "stream",
     "text": [
      "<class 'pandas.core.frame.DataFrame'>\n",
      "RangeIndex: 120929 entries, 0 to 120928\n",
      "Data columns (total 4 columns):\n",
      " #   Column        Non-Null Count   Dtype  \n",
      "---  ------        --------------   -----  \n",
      " 0   credit_score  119269 non-null  float64\n",
      " 1   overdraft     119269 non-null  float64\n",
      " 2   quota         119269 non-null  float64\n",
      " 3   id            120929 non-null  object \n",
      "dtypes: float64(3), object(1)\n",
      "memory usage: 3.7+ MB\n"
     ]
    }
   ],
   "source": [
    "df_train_credit_info.info()"
   ]
  },
  {
   "cell_type": "code",
   "execution_count": 16,
   "id": "df22c36a",
   "metadata": {
    "ExecuteTime": {
     "end_time": "2021-07-29T14:42:58.688888Z",
     "start_time": "2021-07-29T14:42:58.673874Z"
    },
    "hidden": true
   },
   "outputs": [
    {
     "data": {
      "text/plain": [
       "credit_score    1660\n",
       "overdraft       1660\n",
       "quota           1660\n",
       "id                 0\n",
       "dtype: int64"
      ]
     },
     "execution_count": 16,
     "metadata": {},
     "output_type": "execute_result"
    }
   ],
   "source": [
    "df_train_credit_info.isnull().sum()"
   ]
  },
  {
   "cell_type": "code",
   "execution_count": 17,
   "id": "5d743d43",
   "metadata": {
    "ExecuteTime": {
     "end_time": "2021-07-29T14:42:58.752939Z",
     "start_time": "2021-07-29T14:42:58.689889Z"
    },
    "hidden": true
   },
   "outputs": [
    {
     "data": {
      "text/plain": [
       "credit_score       391\n",
       "overdraft        30574\n",
       "quota            11055\n",
       "id              120929\n",
       "dtype: int64"
      ]
     },
     "execution_count": 17,
     "metadata": {},
     "output_type": "execute_result"
    }
   ],
   "source": [
    "df_train_credit_info.nunique()"
   ]
  },
  {
   "cell_type": "code",
   "execution_count": 18,
   "id": "85787ba7",
   "metadata": {
    "ExecuteTime": {
     "end_time": "2021-07-29T14:42:58.800982Z",
     "start_time": "2021-07-29T14:42:58.754943Z"
    },
    "hidden": true
   },
   "outputs": [
    {
     "data": {
      "text/html": [
       "<div>\n",
       "<style scoped>\n",
       "    .dataframe tbody tr th:only-of-type {\n",
       "        vertical-align: middle;\n",
       "    }\n",
       "\n",
       "    .dataframe tbody tr th {\n",
       "        vertical-align: top;\n",
       "    }\n",
       "\n",
       "    .dataframe thead th {\n",
       "        text-align: right;\n",
       "    }\n",
       "</style>\n",
       "<table border=\"1\" class=\"dataframe\">\n",
       "  <thead>\n",
       "    <tr style=\"text-align: right;\">\n",
       "      <th></th>\n",
       "      <th>credit_score</th>\n",
       "      <th>overdraft</th>\n",
       "      <th>quota</th>\n",
       "    </tr>\n",
       "  </thead>\n",
       "  <tbody>\n",
       "    <tr>\n",
       "      <th>count</th>\n",
       "      <td>119269.000000</td>\n",
       "      <td>119269.000000</td>\n",
       "      <td>119269.000000</td>\n",
       "    </tr>\n",
       "    <tr>\n",
       "      <th>mean</th>\n",
       "      <td>419.995850</td>\n",
       "      <td>1210.913202</td>\n",
       "      <td>1731.818140</td>\n",
       "    </tr>\n",
       "    <tr>\n",
       "      <th>std</th>\n",
       "      <td>105.144555</td>\n",
       "      <td>2658.581602</td>\n",
       "      <td>3224.829157</td>\n",
       "    </tr>\n",
       "    <tr>\n",
       "      <th>min</th>\n",
       "      <td>0.000000</td>\n",
       "      <td>0.000000</td>\n",
       "      <td>0.000000</td>\n",
       "    </tr>\n",
       "    <tr>\n",
       "      <th>25%</th>\n",
       "      <td>385.000000</td>\n",
       "      <td>0.000000</td>\n",
       "      <td>0.000000</td>\n",
       "    </tr>\n",
       "    <tr>\n",
       "      <th>50%</th>\n",
       "      <td>403.000000</td>\n",
       "      <td>0.000000</td>\n",
       "      <td>0.000000</td>\n",
       "    </tr>\n",
       "    <tr>\n",
       "      <th>75%</th>\n",
       "      <td>496.000000</td>\n",
       "      <td>730.400000</td>\n",
       "      <td>2860.000000</td>\n",
       "    </tr>\n",
       "    <tr>\n",
       "      <th>max</th>\n",
       "      <td>605.000000</td>\n",
       "      <td>63290.890000</td>\n",
       "      <td>53137.000000</td>\n",
       "    </tr>\n",
       "  </tbody>\n",
       "</table>\n",
       "</div>"
      ],
      "text/plain": [
       "        credit_score      overdraft          quota\n",
       "count  119269.000000  119269.000000  119269.000000\n",
       "mean      419.995850    1210.913202    1731.818140\n",
       "std       105.144555    2658.581602    3224.829157\n",
       "min         0.000000       0.000000       0.000000\n",
       "25%       385.000000       0.000000       0.000000\n",
       "50%       403.000000       0.000000       0.000000\n",
       "75%       496.000000     730.400000    2860.000000\n",
       "max       605.000000   63290.890000   53137.000000"
      ]
     },
     "execution_count": 18,
     "metadata": {},
     "output_type": "execute_result"
    }
   ],
   "source": [
    "df_train_credit_info.describe()"
   ]
  },
  {
   "cell_type": "code",
   "execution_count": 19,
   "id": "33c95a83",
   "metadata": {
    "ExecuteTime": {
     "end_time": "2021-07-29T14:42:59.201348Z",
     "start_time": "2021-07-29T14:42:58.801986Z"
    },
    "hidden": true
   },
   "outputs": [
    {
     "data": {
      "text/plain": [
       "Text(0.5, 1.0, 'credit_score')"
      ]
     },
     "execution_count": 19,
     "metadata": {},
     "output_type": "execute_result"
    },
    {
     "data": {
      "image/png": "[encoded data removed]",
      "text/plain": [
       "<Figure size 360x360 with 1 Axes>"
      ]
     },
     "metadata": {
      "needs_background": "light"
     },
     "output_type": "display_data"
    }
   ],
   "source": [
    "sns.displot(df_train_credit_info['credit_score'])\n",
    "plt.title('credit_score')"
   ]
  },
  {
   "cell_type": "code",
   "execution_count": 20,
   "id": "c791a9ee",
   "metadata": {
    "ExecuteTime": {
     "end_time": "2021-07-29T14:43:02.359216Z",
     "start_time": "2021-07-29T14:42:59.202349Z"
    },
    "hidden": true
   },
   "outputs": [
    {
     "data": {
      "text/plain": [
       "Text(0.5, 1.0, 'overdraft')"
      ]
     },
     "execution_count": 20,
     "metadata": {},
     "output_type": "execute_result"
    },
    {
     "data": {
      "image/png": "[encoded data removed]",
      "text/plain": [
       "<Figure size 360x360 with 1 Axes>"
      ]
     },
     "metadata": {
      "needs_background": "light"
     },
     "output_type": "display_data"
    }
   ],
   "source": [
    "sns.displot(df_train_credit_info['overdraft'])\n",
    "plt.title('overdraft')"
   ]
  },
  {
   "cell_type": "code",
   "execution_count": 21,
   "id": "0d5bd7c0",
   "metadata": {
    "ExecuteTime": {
     "end_time": "2021-07-29T14:43:03.284055Z",
     "start_time": "2021-07-29T14:43:02.360218Z"
    },
    "hidden": true
   },
   "outputs": [
    {
     "data": {
      "text/plain": [
       "Text(0.5, 1.0, 'quota')"
      ]
     },
     "execution_count": 21,
     "metadata": {},
     "output_type": "execute_result"
    },
    {
     "data": {
      "image/png": "[encoded data removed]",
      "text/plain": [
       "<Figure size 360x360 with 1 Axes>"
      ]
     },
     "metadata": {
      "needs_background": "light"
     },
     "output_type": "display_data"
    }
   ],
   "source": [
    "sns.displot(df_train_credit_info['quota'])\n",
    "plt.title('quota')"
   ]
  },
  {
   "cell_type": "markdown",
   "id": "b008e50d",
   "metadata": {
    "hidden": true
   },
   "source": [
    "#### 2.3.1 分析\n",
    "1. 该表中字段都为数值数据，其中存在部分缺失数据。\n",
    "2. 如上图credit_score的分布很有特色。\n",
    "3. overdraf与quota之间本身有关系。\n",
    "\n",
    "\n",
    "#### 2.3.2 处理\n",
    "1. 对于该表的数据，首先分别画出其柱状图，考虑是否需要进行分段\n",
    "2. 考虑对数值数据做交叉，做差，比率之类的。\n",
    "3. 对于缺失值数据，考虑fillna一个特殊的值用以区别\n",
    "4. credit_score列可考虑增加分段，overdraf与（quota+1）做差，做商"
   ]
  },
  {
   "cell_type": "code",
   "execution_count": 22,
   "id": "d523bb55",
   "metadata": {
    "ExecuteTime": {
     "end_time": "2021-07-29T14:43:03.331100Z",
     "start_time": "2021-07-29T14:43:03.288059Z"
    },
    "hidden": true
   },
   "outputs": [
    {
     "data": {
      "text/html": [
       "<div>\n",
       "<style scoped>\n",
       "    .dataframe tbody tr th:only-of-type {\n",
       "        vertical-align: middle;\n",
       "    }\n",
       "\n",
       "    .dataframe tbody tr th {\n",
       "        vertical-align: top;\n",
       "    }\n",
       "\n",
       "    .dataframe thead th {\n",
       "        text-align: right;\n",
       "    }\n",
       "</style>\n",
       "<table border=\"1\" class=\"dataframe\">\n",
       "  <thead>\n",
       "    <tr style=\"text-align: right;\">\n",
       "      <th></th>\n",
       "      <th>credit_score</th>\n",
       "      <th>overdraft</th>\n",
       "      <th>quota</th>\n",
       "      <th>id</th>\n",
       "      <th>credit_score_split</th>\n",
       "      <th>quota_minus_overdraft</th>\n",
       "      <th>quota_overdraft_percent</th>\n",
       "    </tr>\n",
       "  </thead>\n",
       "  <tbody>\n",
       "    <tr>\n",
       "      <th>0</th>\n",
       "      <td>549.0</td>\n",
       "      <td>0.0</td>\n",
       "      <td>0.0</td>\n",
       "      <td>563888070781309192</td>\n",
       "      <td>3</td>\n",
       "      <td>0.0</td>\n",
       "      <td>0.000000</td>\n",
       "    </tr>\n",
       "    <tr>\n",
       "      <th>1</th>\n",
       "      <td>400.0</td>\n",
       "      <td>0.0</td>\n",
       "      <td>0.0</td>\n",
       "      <td>591567740590887176</td>\n",
       "      <td>2</td>\n",
       "      <td>0.0</td>\n",
       "      <td>0.000000</td>\n",
       "    </tr>\n",
       "    <tr>\n",
       "      <th>2</th>\n",
       "      <td>490.0</td>\n",
       "      <td>4955.9</td>\n",
       "      <td>5083.0</td>\n",
       "      <td>464888846169936136</td>\n",
       "      <td>3</td>\n",
       "      <td>127.1</td>\n",
       "      <td>0.974803</td>\n",
       "    </tr>\n",
       "  </tbody>\n",
       "</table>\n",
       "</div>"
      ],
      "text/plain": [
       "   credit_score  overdraft   quota                  id credit_score_split  \\\n",
       "0         549.0        0.0     0.0  563888070781309192                  3   \n",
       "1         400.0        0.0     0.0  591567740590887176                  2   \n",
       "2         490.0     4955.9  5083.0  464888846169936136                  3   \n",
       "\n",
       "   quota_minus_overdraft  quota_overdraft_percent  \n",
       "0                    0.0                 0.000000  \n",
       "1                    0.0                 0.000000  \n",
       "2                  127.1                 0.974803  "
      ]
     },
     "execution_count": 22,
     "metadata": {},
     "output_type": "execute_result"
    }
   ],
   "source": [
    "#设置切分区域\n",
    "listbins = [-1, 150, 350, 420, 700]\n",
    "\n",
    "#设置切分后对应标签\n",
    "listlabels = [0, 1, 2, 3]\n",
    "\n",
    "df_train_credit_info['credit_score_split'] = pd.cut(df_train_credit_info['credit_score'], listbins, labels=listlabels)\n",
    "df_train_credit_info['credit_score_split'] = df_train_credit_info['credit_score_split'].cat.add_categories(-1)\n",
    "\n",
    "df_train_credit_info['quota_minus_overdraft'] = df_train_credit_info['quota'] - df_train_credit_info['overdraft']\n",
    "df_train_credit_info['quota_overdraft_percent'] = df_train_credit_info['overdraft']/(df_train_credit_info['quota'] +1)\n",
    "\n",
    "cols = ['credit_score', 'overdraft', 'quota', 'credit_score_split',\n",
    "       'quota_minus_overdraft', 'quota_overdraft_percent']\n",
    "\n",
    "df_train_credit_info[cols] = df_train_credit_info[cols].fillna(-1)\n",
    "\n",
    "df_train_credit_info.head(3)"
   ]
  },
  {
   "cell_type": "markdown",
   "id": "9b671f02",
   "metadata": {},
   "source": [
    "### 2.4 train_order_info.csv"
   ]
  },
  {
   "cell_type": "markdown",
   "id": "07294904",
   "metadata": {},
   "source": [
    "|订单信息order_info| |\n",
    "|:----|:----|\n",
    "|字段名|字段解释|\n",
    "|id|申请贷款唯一编号|\n",
    "|no_order_md5|订单编号MD5加密|\n",
    "|name_rec_md5|收货人姓名MD5加密|\n",
    "|amt_order|订单金额|\n",
    "|type_pay|支付方式|\n",
    "|time_order|下单时间|\n",
    "|sts_order|订单状态|\n",
    "|phone|收货电话（脱敏）|\n",
    "|product_id_md5|商品编号MD5加密|\n",
    "|unit_price|商品单价|\n"
   ]
  },
  {
   "cell_type": "markdown",
   "id": "9180a500",
   "metadata": {
    "heading_collapsed": true
   },
   "source": [
    "### 2.5 train_recieve_addr_info.csv"
   ]
  },
  {
   "cell_type": "markdown",
   "id": "7d4cc855",
   "metadata": {
    "hidden": true
   },
   "source": [
    "|收货地址信息recieve_addr_info| |\n",
    "|:----|:----|\n",
    "|字段名|字段解释|\n",
    "|id|申请贷款唯一编号|\n",
    "|receiver_md5|收货人姓名(MD5加密)|\n",
    "|addr_id|收货地址ID|\n",
    "|region|收货地址所在地区|\n",
    "|phone|收货人手机号(脱敏)|\n",
    "|fix_phone|收货人固定电话号码(脱敏)|\n"
   ]
  },
  {
   "cell_type": "markdown",
   "id": "6c722109",
   "metadata": {
    "ExecuteTime": {
     "end_time": "2021-07-29T14:46:52.886950Z",
     "start_time": "2021-07-29T14:46:52.874939Z"
    },
    "heading_collapsed": true
   },
   "source": [
    "### 2.6 train_user_info.csv"
   ]
  },
  {
   "attachments": {},
   "cell_type": "markdown",
   "id": "f310c1e5",
   "metadata": {
    "hidden": true
   },
   "source": [
    "|个人基本信息user_info| |\n",
    "|:----|:----|\n",
    "|字段名|字段解释|\n",
    "|id|申请贷款唯一编号|\n",
    "|sex|性别|\n",
    "|birthday|出生日期|\n",
    "|hobby|兴趣爱好|\n",
    "|merriage|婚姻状况|\n",
    "|income|收入水平|\n",
    "|id_card|身份证号(脱敏)|\n",
    "|degree|学历|\n",
    "|industry|所在行业|\n",
    "|qq_bound|是否绑定QQ|\n",
    "|wechat_bound|是否绑定微信|\n",
    "|account_grade|会员级别|\n"
   ]
  },
  {
   "cell_type": "markdown",
   "id": "691402c1",
   "metadata": {
    "heading_collapsed": true
   },
   "source": [
    "### 2.7 train_target.csv"
   ]
  },
  {
   "cell_type": "markdown",
   "id": "d64818fb",
   "metadata": {
    "hidden": true
   },
   "source": [
    "|训练标签train_target| |\n",
    "|:----|:----|\n",
    "|字段名|字段解释|\n",
    "|id|申请贷款唯一编号|\n",
    "|appl_sbm_tm|用户贷款申请的提交时间（此字段不能 作为模型的直接输入变量）|\n",
    "|target|逾期标识，1逾期，0非逾期。|\n"
   ]
  },
  {
   "cell_type": "code",
   "execution_count": null,
   "id": "d7b7f557",
   "metadata": {
    "hidden": true
   },
   "outputs": [],
   "source": []
  }
 ],
 "metadata": {
  "hide_input": false,
  "kernelspec": {
   "display_name": "Python [conda env:ml]",
   "language": "python",
   "name": "conda-env-ml-py"
  },
  "language_info": {
   "codemirror_mode": {
    "name": "ipython",
    "version": 3
   },
   "file_extension": ".py",
   "mimetype": "text/x-python",
   "name": "python",
   "nbconvert_exporter": "python",
   "pygments_lexer": "ipython3",
   "version": "3.7.10"
  },
  "toc": {
   "base_numbering": 1,
   "nav_menu": {},
   "number_sections": true,
   "sideBar": true,
   "skip_h1_title": false,
   "title_cell": "Table of Contents",
   "title_sidebar": "Contents",
   "toc_cell": false,
   "toc_position": {},
   "toc_section_display": true,
   "toc_window_display": false
  }
 },
 "nbformat": 4,
 "nbformat_minor": 5
}
