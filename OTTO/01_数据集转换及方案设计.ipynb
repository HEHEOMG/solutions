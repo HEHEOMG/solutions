{
 "cells": [
  {
   "cell_type": "markdown",
   "id": "bf48047f",
   "metadata": {
    "ExecuteTime": {
     "end_time": "2022-11-10T22:32:21.700261Z",
     "start_time": "2022-11-10T22:32:21.692442Z"
    }
   },
   "source": [
    "<div \n",
    "     style=\"padding: 20px; \n",
    "            color: black;\n",
    "            margin: 0;\n",
    "            font-size: 250%;\n",
    "            text-align: center;\n",
    "            display: fill;\n",
    "            border-radius: 5px;\n",
    "            background-color: #0daae3;\n",
    "            overflow: hidden;\n",
    "            font-weight: 700;\n",
    "            border: 5px solid black;\"\n",
    "     >\n",
    "            该版本用于数据集的转换及方案设计\n",
    "</div>\n",
    "\n",
    "\n"
   ]
  },
  {
   "cell_type": "markdown",
   "id": "59cad5f8",
   "metadata": {},
   "source": [
    "## 导包"
   ]
  },
  {
   "cell_type": "code",
   "execution_count": 1,
   "id": "e4b5c2a6",
   "metadata": {
    "ExecuteTime": {
     "end_time": "2022-11-11T06:34:39.387651Z",
     "start_time": "2022-11-11T06:34:39.378872Z"
    }
   },
   "outputs": [],
   "source": [
    "import os\n",
    "import json\n",
    "\n",
    "import numpy as np \n",
    "import pandas as pd\n",
    "from tqdm import tqdm\n",
    "from glob import glob"
   ]
  },
  {
   "cell_type": "code",
   "execution_count": 2,
   "id": "d36051ea",
   "metadata": {
    "ExecuteTime": {
     "end_time": "2022-11-11T05:14:54.070304Z",
     "start_time": "2022-11-11T05:14:54.052154Z"
    }
   },
   "outputs": [],
   "source": [
    "path_project = r'/workspace/datasets/otto'\n",
    "\n",
    "# path dir\n",
    "path_row_data = os.path.join(path_project, 'row_data')\n",
    "path_new_data = os.path.join(path_project, 'new_data')\n",
    "path_results  = os.path.join(path_project, 'results')\n",
    "\n",
    "# path row_data\n",
    "path_train = os.path.join(path_row_data, 'train.jsonl')\n",
    "path_test  = os.path.join(path_row_data, 'test.jsonl')\n",
    "path_sample_submission = os.path.join(path_row_data, 'sample_submission.csv')\n",
    "\n",
    "# parquet 格式的文件存放路径\n",
    "path_parquet = os.path.join(path_new_data, 'parquet')\n",
    "path_parquet_train = os.path.join(path_parquet, 'train')\n",
    "path_parquet_test = os.path.join(path_parquet, 'test')"
   ]
  },
  {
   "cell_type": "markdown",
   "id": "71447641",
   "metadata": {},
   "source": [
    "## 数据集转换"
   ]
  },
  {
   "cell_type": "markdown",
   "id": "d2f7e659",
   "metadata": {},
   "source": [
    "### 数据量查看"
   ]
  },
  {
   "cell_type": "code",
   "execution_count": 3,
   "id": "862564e3",
   "metadata": {
    "ExecuteTime": {
     "end_time": "2022-11-11T05:15:10.214610Z",
     "start_time": "2022-11-11T05:14:54.074469Z"
    }
   },
   "outputs": [
    {
     "name": "stdout",
     "output_type": "stream",
     "text": [
      "train.jsonl文件行数为：12899779\n",
      "test.jsonl文件行数为：1671803\n"
     ]
    }
   ],
   "source": [
    "for path_tmp in [path_train, path_test]:\n",
    "    count = 0\n",
    "    with open(path_tmp, 'r') as f:\n",
    "        for line in f:\n",
    "            count += 1\n",
    "\n",
    "    print(\"{}文件行数为：{}\".format(path_tmp.split('/')[-1], count))"
   ]
  },
  {
   "cell_type": "markdown",
   "id": "91d01f3c",
   "metadata": {},
   "source": [
    "**训练集数据量过大，考虑对其进行分块**"
   ]
  },
  {
   "cell_type": "code",
   "execution_count": 4,
   "id": "de010523",
   "metadata": {
    "ExecuteTime": {
     "end_time": "2022-11-11T05:15:10.227701Z",
     "start_time": "2022-11-11T05:15:10.219399Z"
    }
   },
   "outputs": [
    {
     "name": "stdout",
     "output_type": "stream",
     "text": [
      "训练集分块数为：129\n"
     ]
    }
   ],
   "source": [
    "chunksize = 100_000\n",
    "\n",
    "num_chunks = int(np.ceil(12899779 / chunksize))\n",
    "print('训练集分块数为：{}'.format(num_chunks))"
   ]
  },
  {
   "cell_type": "markdown",
   "id": "79e10243",
   "metadata": {},
   "source": [
    "### 读取部分数据 "
   ]
  },
  {
   "cell_type": "code",
   "execution_count": 5,
   "id": "179c6192",
   "metadata": {
    "ExecuteTime": {
     "end_time": "2022-11-11T05:15:29.827579Z",
     "start_time": "2022-11-11T05:15:10.239265Z"
    }
   },
   "outputs": [],
   "source": [
    "n = 2\n",
    "\n",
    "df_train = pd.DataFrame()\n",
    "chunks = pd.read_json(path_train, lines=True, chunksize=chunksize)\n",
    "\n",
    "for i, chunk in enumerate(chunks):\n",
    "    if i < n:\n",
    "        df_train = pd.concat([df_train, chunk])\n",
    "    else:\n",
    "        break\n",
    "\n",
    "df_train = df_train.set_index(\"session\", drop=True).sort_index()"
   ]
  },
  {
   "cell_type": "code",
   "execution_count": 6,
   "id": "22b125c0",
   "metadata": {
    "ExecuteTime": {
     "end_time": "2022-11-11T05:15:29.950668Z",
     "start_time": "2022-11-11T05:15:29.832419Z"
    }
   },
   "outputs": [
    {
     "data": {
      "text/html": [
       "<div>\n",
       "<style scoped>\n",
       "    .dataframe tbody tr th:only-of-type {\n",
       "        vertical-align: middle;\n",
       "    }\n",
       "\n",
       "    .dataframe tbody tr th {\n",
       "        vertical-align: top;\n",
       "    }\n",
       "\n",
       "    .dataframe thead th {\n",
       "        text-align: right;\n",
       "    }\n",
       "</style>\n",
       "<table border=\"1\" class=\"dataframe\">\n",
       "  <thead>\n",
       "    <tr style=\"text-align: right;\">\n",
       "      <th></th>\n",
       "      <th>events</th>\n",
       "    </tr>\n",
       "    <tr>\n",
       "      <th>session</th>\n",
       "      <th></th>\n",
       "    </tr>\n",
       "  </thead>\n",
       "  <tbody>\n",
       "    <tr>\n",
       "      <th>0</th>\n",
       "      <td>[{'aid': 1517085, 'ts': 1659304800025, 'type':...</td>\n",
       "    </tr>\n",
       "    <tr>\n",
       "      <th>1</th>\n",
       "      <td>[{'aid': 424964, 'ts': 1659304800025, 'type': ...</td>\n",
       "    </tr>\n",
       "    <tr>\n",
       "      <th>2</th>\n",
       "      <td>[{'aid': 763743, 'ts': 1659304800038, 'type': ...</td>\n",
       "    </tr>\n",
       "    <tr>\n",
       "      <th>3</th>\n",
       "      <td>[{'aid': 1425967, 'ts': 1659304800095, 'type':...</td>\n",
       "    </tr>\n",
       "    <tr>\n",
       "      <th>4</th>\n",
       "      <td>[{'aid': 613619, 'ts': 1659304800119, 'type': ...</td>\n",
       "    </tr>\n",
       "  </tbody>\n",
       "</table>\n",
       "</div>"
      ],
      "text/plain": [
       "                                                    events\n",
       "session                                                   \n",
       "0        [{'aid': 1517085, 'ts': 1659304800025, 'type':...\n",
       "1        [{'aid': 424964, 'ts': 1659304800025, 'type': ...\n",
       "2        [{'aid': 763743, 'ts': 1659304800038, 'type': ...\n",
       "3        [{'aid': 1425967, 'ts': 1659304800095, 'type':...\n",
       "4        [{'aid': 613619, 'ts': 1659304800119, 'type': ..."
      ]
     },
     "execution_count": 6,
     "metadata": {},
     "output_type": "execute_result"
    }
   ],
   "source": [
    "df_train.head()"
   ]
  },
  {
   "cell_type": "code",
   "execution_count": 7,
   "id": "29da6273",
   "metadata": {
    "ExecuteTime": {
     "end_time": "2022-11-11T05:15:29.969680Z",
     "start_time": "2022-11-11T05:15:29.960942Z"
    },
    "scrolled": true
   },
   "outputs": [
    {
     "data": {
      "text/plain": [
       "[{'aid': 1098089, 'ts': 1659304800133, 'type': 'clicks'},\n",
       " {'aid': 1354785, 'ts': 1659304827838, 'type': 'clicks'},\n",
       " {'aid': 342507, 'ts': 1659304856326, 'type': 'clicks'},\n",
       " {'aid': 1120175, 'ts': 1659304862271, 'type': 'clicks'},\n",
       " {'aid': 1808870, 'ts': 1659304863925, 'type': 'clicks'},\n",
       " {'aid': 1402845, 'ts': 1659304865459, 'type': 'clicks'},\n",
       " {'aid': 829383, 'ts': 1659304867287, 'type': 'clicks'},\n",
       " {'aid': 743867, 'ts': 1659305242050, 'type': 'clicks'},\n",
       " {'aid': 747242, 'ts': 1659365531565, 'type': 'clicks'},\n",
       " {'aid': 63299, 'ts': 1660347615375, 'type': 'clicks'},\n",
       " {'aid': 1813405, 'ts': 1660347698897, 'type': 'clicks'},\n",
       " {'aid': 1813405, 'ts': 1660347708319, 'type': 'carts'},\n",
       " {'aid': 140361, 'ts': 1660347738186, 'type': 'clicks'},\n",
       " {'aid': 1813405, 'ts': 1660348737117, 'type': 'clicks'},\n",
       " {'aid': 1813405, 'ts': 1660348787598, 'type': 'clicks'}]"
      ]
     },
     "execution_count": 7,
     "metadata": {},
     "output_type": "execute_result"
    }
   ],
   "source": [
    "df_train.iloc[5,0]"
   ]
  },
  {
   "cell_type": "code",
   "execution_count": 8,
   "id": "7eca8c19",
   "metadata": {
    "ExecuteTime": {
     "end_time": "2022-11-11T05:15:40.201503Z",
     "start_time": "2022-11-11T05:15:29.972978Z"
    }
   },
   "outputs": [],
   "source": [
    "n = 2\n",
    "\n",
    "df_test = pd.DataFrame()\n",
    "chunks = pd.read_json(path_test, lines=True, chunksize=chunksize)\n",
    "\n",
    "for i, chunk in enumerate(chunks):\n",
    "    if i < n:\n",
    "        df_test = pd.concat([df_test, chunk])\n",
    "    else:\n",
    "        break\n",
    "\n",
    "df_test = df_test.set_index(\"session\", drop=True).sort_index()"
   ]
  },
  {
   "cell_type": "code",
   "execution_count": 9,
   "id": "7ec307d3",
   "metadata": {
    "ExecuteTime": {
     "end_time": "2022-11-11T05:15:40.275311Z",
     "start_time": "2022-11-11T05:15:40.205285Z"
    }
   },
   "outputs": [
    {
     "data": {
      "text/html": [
       "<div>\n",
       "<style scoped>\n",
       "    .dataframe tbody tr th:only-of-type {\n",
       "        vertical-align: middle;\n",
       "    }\n",
       "\n",
       "    .dataframe tbody tr th {\n",
       "        vertical-align: top;\n",
       "    }\n",
       "\n",
       "    .dataframe thead th {\n",
       "        text-align: right;\n",
       "    }\n",
       "</style>\n",
       "<table border=\"1\" class=\"dataframe\">\n",
       "  <thead>\n",
       "    <tr style=\"text-align: right;\">\n",
       "      <th></th>\n",
       "      <th>events</th>\n",
       "    </tr>\n",
       "    <tr>\n",
       "      <th>session</th>\n",
       "      <th></th>\n",
       "    </tr>\n",
       "  </thead>\n",
       "  <tbody>\n",
       "    <tr>\n",
       "      <th>12899779</th>\n",
       "      <td>[{'aid': 59625, 'ts': 1661724000278, 'type': '...</td>\n",
       "    </tr>\n",
       "    <tr>\n",
       "      <th>12899780</th>\n",
       "      <td>[{'aid': 1142000, 'ts': 1661724000378, 'type':...</td>\n",
       "    </tr>\n",
       "    <tr>\n",
       "      <th>12899781</th>\n",
       "      <td>[{'aid': 141736, 'ts': 1661724000559, 'type': ...</td>\n",
       "    </tr>\n",
       "    <tr>\n",
       "      <th>12899782</th>\n",
       "      <td>[{'aid': 1669402, 'ts': 1661724000568, 'type':...</td>\n",
       "    </tr>\n",
       "    <tr>\n",
       "      <th>12899783</th>\n",
       "      <td>[{'aid': 255297, 'ts': 1661724000572, 'type': ...</td>\n",
       "    </tr>\n",
       "  </tbody>\n",
       "</table>\n",
       "</div>"
      ],
      "text/plain": [
       "                                                     events\n",
       "session                                                    \n",
       "12899779  [{'aid': 59625, 'ts': 1661724000278, 'type': '...\n",
       "12899780  [{'aid': 1142000, 'ts': 1661724000378, 'type':...\n",
       "12899781  [{'aid': 141736, 'ts': 1661724000559, 'type': ...\n",
       "12899782  [{'aid': 1669402, 'ts': 1661724000568, 'type':...\n",
       "12899783  [{'aid': 255297, 'ts': 1661724000572, 'type': ..."
      ]
     },
     "execution_count": 9,
     "metadata": {},
     "output_type": "execute_result"
    }
   ],
   "source": [
    "df_test.head()"
   ]
  },
  {
   "cell_type": "code",
   "execution_count": 10,
   "id": "68f6ebce",
   "metadata": {
    "ExecuteTime": {
     "end_time": "2022-11-11T05:15:40.291430Z",
     "start_time": "2022-11-11T05:15:40.278443Z"
    }
   },
   "outputs": [
    {
     "data": {
      "text/plain": [
       "[{'aid': 245131, 'ts': 1661724001619, 'type': 'clicks'},\n",
       " {'aid': 39846, 'ts': 1661724018620, 'type': 'clicks'},\n",
       " {'aid': 1259911, 'ts': 1661724034826, 'type': 'clicks'},\n",
       " {'aid': 1663048, 'ts': 1661724078816, 'type': 'clicks'}]"
      ]
     },
     "execution_count": 10,
     "metadata": {},
     "output_type": "execute_result"
    }
   ],
   "source": [
    "df_test.iloc[9,0]"
   ]
  },
  {
   "cell_type": "markdown",
   "id": "03b13d05",
   "metadata": {},
   "source": [
    "### 将数据保存为Parquet格式"
   ]
  },
  {
   "cell_type": "code",
   "execution_count": 11,
   "id": "87f8d72c",
   "metadata": {
    "ExecuteTime": {
     "end_time": "2022-11-11T05:15:40.309535Z",
     "start_time": "2022-11-11T05:15:40.296139Z"
    }
   },
   "outputs": [],
   "source": [
    "def jsonl2parquet(path_inp, path_out):\n",
    "    \"\"\"\n",
    "    将数据集由原始格式转位parquet格式\n",
    "    \n",
    "    Args:\n",
    "        path_inp: str, 原始数据集的存放路径，文件\n",
    "        path_out: str, 新数据集的存放路径，文件夹\n",
    "\n",
    "    Returns:\n",
    "        \n",
    "    \"\"\"\n",
    "    chunksize = 100_000\n",
    "    \n",
    "    reader = pd.read_json(path_inp, lines=True, chunksize=chunksize)\n",
    "    os.makedirs(path_out, exist_ok=True)\n",
    "\n",
    "    for i, chunk in enumerate(reader):\n",
    "        event_dict = {\n",
    "            'session': [],\n",
    "            'aid': [],\n",
    "            'ts': [],\n",
    "            'type': [],\n",
    "        }\n",
    "        \n",
    "        for session, events in zip(chunk['session'].values, chunk['events'].values):\n",
    "            for event in events:\n",
    "                event_dict['session'].append(session)\n",
    "                event_dict['aid'].append(event['aid'])\n",
    "                event_dict['ts'].append(event['ts'])\n",
    "                event_dict['type'].append(event['type'])\n",
    "        \n",
    "        start = str(i*chunksize).zfill(9)\n",
    "        end = str(i*chunksize + chunksize).zfill(9)\n",
    "        df_event = pd.DataFrame(event_dict)\n",
    "        df_event.to_parquet(os.path.join(path_out, '{}_{}.parquet'.format(start, end)))\n",
    "    print('数据集转换完成！！！')\n",
    "        "
   ]
  },
  {
   "cell_type": "code",
   "execution_count": 12,
   "id": "90d1e907",
   "metadata": {
    "ExecuteTime": {
     "end_time": "2022-11-11T06:25:27.736268Z",
     "start_time": "2022-11-11T05:15:40.316631Z"
    }
   },
   "outputs": [
    {
     "name": "stdout",
     "output_type": "stream",
     "text": [
      "数据集转换完成！！！\n",
      "数据集转换完成！！！\n"
     ]
    }
   ],
   "source": [
    "jsonl2parquet(path_train, path_parquet_train)\n",
    "jsonl2parquet(path_test, path_parquet_test)"
   ]
  },
  {
   "cell_type": "markdown",
   "id": "460124e3",
   "metadata": {},
   "source": [
    "## 读取parquet文件"
   ]
  },
  {
   "cell_type": "code",
   "execution_count": 13,
   "id": "51a5cc70",
   "metadata": {
    "ExecuteTime": {
     "end_time": "2022-11-11T06:37:04.462238Z",
     "start_time": "2022-11-11T06:35:02.250475Z"
    }
   },
   "outputs": [],
   "source": [
    "files = sorted(glob(path_parquet_train))[:5]\n",
    "\n",
    "df_list = []\n",
    "for path in files:\n",
    "    df_list.append(pd.read_parquet(path))\n",
    "\n",
    "df_data = pd.concat(df_list).reset_index(drop=True)"
   ]
  },
  {
   "cell_type": "code",
   "execution_count": 14,
   "id": "eaed68ac",
   "metadata": {
    "ExecuteTime": {
     "end_time": "2022-11-11T06:37:04.545090Z",
     "start_time": "2022-11-11T06:37:04.478404Z"
    }
   },
   "outputs": [
    {
     "data": {
      "text/html": [
       "<div>\n",
       "<style scoped>\n",
       "    .dataframe tbody tr th:only-of-type {\n",
       "        vertical-align: middle;\n",
       "    }\n",
       "\n",
       "    .dataframe tbody tr th {\n",
       "        vertical-align: top;\n",
       "    }\n",
       "\n",
       "    .dataframe thead th {\n",
       "        text-align: right;\n",
       "    }\n",
       "</style>\n",
       "<table border=\"1\" class=\"dataframe\">\n",
       "  <thead>\n",
       "    <tr style=\"text-align: right;\">\n",
       "      <th></th>\n",
       "      <th>session</th>\n",
       "      <th>aid</th>\n",
       "      <th>ts</th>\n",
       "      <th>type</th>\n",
       "    </tr>\n",
       "  </thead>\n",
       "  <tbody>\n",
       "    <tr>\n",
       "      <th>0</th>\n",
       "      <td>0</td>\n",
       "      <td>1517085</td>\n",
       "      <td>1659304800025</td>\n",
       "      <td>clicks</td>\n",
       "    </tr>\n",
       "    <tr>\n",
       "      <th>1</th>\n",
       "      <td>0</td>\n",
       "      <td>1563459</td>\n",
       "      <td>1659304904511</td>\n",
       "      <td>clicks</td>\n",
       "    </tr>\n",
       "    <tr>\n",
       "      <th>2</th>\n",
       "      <td>0</td>\n",
       "      <td>1309446</td>\n",
       "      <td>1659367439426</td>\n",
       "      <td>clicks</td>\n",
       "    </tr>\n",
       "    <tr>\n",
       "      <th>3</th>\n",
       "      <td>0</td>\n",
       "      <td>16246</td>\n",
       "      <td>1659367719997</td>\n",
       "      <td>clicks</td>\n",
       "    </tr>\n",
       "    <tr>\n",
       "      <th>4</th>\n",
       "      <td>0</td>\n",
       "      <td>1781822</td>\n",
       "      <td>1659367871344</td>\n",
       "      <td>clicks</td>\n",
       "    </tr>\n",
       "  </tbody>\n",
       "</table>\n",
       "</div>"
      ],
      "text/plain": [
       "   session      aid             ts    type\n",
       "0        0  1517085  1659304800025  clicks\n",
       "1        0  1563459  1659304904511  clicks\n",
       "2        0  1309446  1659367439426  clicks\n",
       "3        0    16246  1659367719997  clicks\n",
       "4        0  1781822  1659367871344  clicks"
      ]
     },
     "execution_count": 14,
     "metadata": {},
     "output_type": "execute_result"
    }
   ],
   "source": [
    "df_data.head()"
   ]
  },
  {
   "cell_type": "markdown",
   "id": "ecfd4a5c",
   "metadata": {},
   "source": [
    "## 方案设计"
   ]
  },
  {
   "cell_type": "markdown",
   "id": "3d279f85",
   "metadata": {},
   "source": [
    "### 总体方案设计\n",
    "Idea：\n",
    "+ [Recommendation Systems for Large Datasets](https://www.kaggle.com/competitions/otto-recommender-system/discussion/364721)：二阶段方案的提出\n",
    "+ [Co-visitation Matrix](https://www.kaggle.com/code/vslaykovsky/co-visitation-matrix): 共现矩阵的提出及最近访问结果的提交\n",
    "+ [Item type vs multiple clicks vs latest items](https://www.kaggle.com/code/ingvarasgalinskas/item-type-vs-multiple-clicks-vs-latest-items)\n",
    "+ [co-visitation matrix - simplified, imprvd logic 🔥](https://www.kaggle.com/code/radek1/co-visitation-matrix-simplified-imprvd-logic)"
   ]
  },
  {
   "cell_type": "markdown",
   "id": "6aec22d3",
   "metadata": {},
   "source": [
    "### Candidate ReRank Model using Handcrafted Rules\n",
    "+ 方案来自：[Candidate ReRank Model - [LB 0.573]](https://www.kaggle.com/code/cdeotte/candidate-rerank-model-lb-0-573/notebook)\n",
    "\n",
    "该方案的实施通过人工规则\n",
    "\n",
    "**Setp 1 产生候选集**\n",
    "\n",
    "对于每个测试用户（每个session），我们通过以下逻辑产生候选者：\n",
    "1. 用户历史点击/收藏/购买过的商品\n",
    "2. 评估时间段，最受欢迎的20个点击/收藏/付款的商品\n",
    "3. 类别加权的点击/收藏/购买-收藏/购买共同访问矩阵\n",
    "4. 收藏/购买-收藏/购买的共同访问矩阵\n",
    "5. 时间加权的点击/收藏/购买-点击的共同访问矩阵\n",
    "\n",
    "**Setp 2 重排序且选出20个商品**\n",
    "\n",
    "对于给定的候选集合，我们必须挑选20个商品作为我们预测的结果，在这里我们实际机器学习的方式手工做特征，通过XGBoost模型来进行预测。特征工程的逻辑为：\n",
    "1. 最近访问过的商品\n",
    "2. 以前多次访问过的商品\n",
    "3. 以前收藏或购买过的商品\n",
    "4. 收藏/购买-收藏/购买的共同访问矩阵\n",
    "5. 当前热门的商品\n",
    "\n",
    "![](./img/c_r_model.png)"
   ]
  },
  {
   "cell_type": "markdown",
   "id": "bb0e0053",
   "metadata": {},
   "source": [
    "#### Step 1 共同访问矩阵\n",
    "\n",
    "我们构建三个共同访问矩阵:\n",
    "+ 一个基于用户以前的点击/收藏/购买记录来计算收藏/购买的商品热度，对于这个矩阵我们采用类别加权的方式构造 \n",
    "+ 一个基于用户以前的收藏/购买记录来计算收藏/购买的热度，\n",
    "+ 一个基于用户以前的点击/收藏/购买记录来计算点击的热度，对于这个矩阵我们采用时间加权的方式构造"
   ]
  },
  {
   "cell_type": "code",
   "execution_count": null,
   "id": "671978d7",
   "metadata": {},
   "outputs": [],
   "source": []
  }
 ],
 "metadata": {
  "hide_input": false,
  "kernelspec": {
   "display_name": "Python 3 (ipykernel)",
   "language": "python",
   "name": "python3"
  },
  "language_info": {
   "codemirror_mode": {
    "name": "ipython",
    "version": 3
   },
   "file_extension": ".py",
   "mimetype": "text/x-python",
   "name": "python",
   "nbconvert_exporter": "python",
   "pygments_lexer": "ipython3",
   "version": "3.7.12"
  },
  "toc": {
   "base_numbering": 1,
   "nav_menu": {},
   "number_sections": true,
   "sideBar": true,
   "skip_h1_title": false,
   "title_cell": "Table of Contents",
   "title_sidebar": "Contents",
   "toc_cell": false,
   "toc_position": {},
   "toc_section_display": true,
   "toc_window_display": true
  }
 },
 "nbformat": 4,
 "nbformat_minor": 5
}
