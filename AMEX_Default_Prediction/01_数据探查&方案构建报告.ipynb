{
 "cells": [
  {
   "cell_type": "code",
   "execution_count": 1,
   "id": "5d7e87f0",
   "metadata": {},
   "outputs": [],
   "source": [
    "# 将代码包路径导入python搜索路径, 导入一些必要模块\n",
    "import os\n",
    "import sys\n",
    "# 该部分为python搜索路径，调用本地的代码包，若使用服务器环境，需注释掉该部分内容\n",
    "package_path_2 = r'/Users/liliangshan/workspace/python/daily_code/tl_modeler'\n",
    "sys.path.insert(0, package_path_2)\n",
    "\n",
    "import pandas as pd\n",
    "import matplotlib.pyplot as plt\n",
    "\n",
    "import tl_modeler as tlm"
   ]
  },
  {
   "cell_type": "code",
   "execution_count": 2,
   "id": "a1ebb1ad",
   "metadata": {},
   "outputs": [],
   "source": [
    "# path_project\n",
    "path_project = r'/Users/liliangshan/workspace/python/01_datasets/AMEX_Default_Prediction'\n",
    "\n",
    "# 文件夹\n",
    "path_row_data = os.path.join(path_project, 'row_data')\n",
    "path_new_data = os.path.join(path_project, 'new_data')\n",
    "path_results = os.path.join(path_project, 'results')\n",
    "\n",
    "# row_data\n",
    "path_row_train = os.path.join(path_row_data,  'train_data.ftr')\n",
    "path_row_test  = os.path.join(path_row_data, 'test_data.ftr')\n",
    "path_train_label = os.path.join(path_row_data, 'train_labels.csv')\n",
    "\n",
    "\n",
    "\n",
    "## results\n",
    "path_output_report = os.path.join(path_results, 'scorecard_report.xlsx')\n",
    "\n",
    "y_label = 'target'"
   ]
  },
  {
   "cell_type": "markdown",
   "id": "9d488fe5",
   "metadata": {},
   "source": [
    "![20220710150250](https://imgs-heheomg.oss-cn-hangzhou.aliyuncs.com/blog_imgs/20220710150250.png)\n",
    "# 比赛简介\n",
    "链接：[American Express - Default Prediction](https://www.kaggle.com/competitions/amex-default-prediction/overview/prizes-and-hiring)\n",
    "\n",
    "美国运通是一家全球综合支付公司。作为全球最大的支付卡发卡机构，他们为客户提供产品、见解和体验，丰富生活并取得业务成功。  \n",
    "\n",
    "在本次比赛中，您将运用机器学习技能来预测信用违约。 具体来说，您将利用工业规模的数据集来构建机器学习模型，以挑战生产中的当前模型。\n"
   ]
  },
  {
   "cell_type": "markdown",
   "id": "3e67acbe",
   "metadata": {},
   "source": [
    "# 数据及背景\n",
    "本次比赛的目的是根据客户每月的客户资料预测客户未来不偿还信用卡余额的概率。 目标二元变量是通过观察最近一次信用卡账单后18个月的表现窗口来计算的，如果客户在最近一次账单日后的120天内未支付到期金额，则将其视为违约事件。\n",
    "\n",
    "该数据集为每个客户的每个报表日期的特征文件汇总，特征为匿名及归一化的，分别有以下类别的特征：\n",
    "+ D_* = 逾期变量\n",
    "+ S_* = Spend variables\n",
    "+ P_* = Payment variables\n",
    "+ B_* = 余额变量\n",
    "+ R_* = 风险变量\n",
    "\n",
    "下列变量为类别变量：  \n",
    "['B_30', 'B_38', 'D_114', 'D_116', 'D_117', 'D_120', 'D_126', 'D_63', 'D_64', 'D_66', 'D_68']\n",
    "\n",
    "你的任务是为每个预测customer_ID未来付款违约的概率 ( target = 1)。\n",
    "\n",
    "请注意，该数据集的负类已被二次抽样为5%，因此在评分指标中获得了20倍的权重。\n",
    "\n",
    "**文件**\n",
    "+ train_data.csv - 具有多个语句日期的训练数据customer_ID\n",
    "+ train_labels.csv - target每个标签customer_ID\n",
    "+ test_data.csv - 对应的测试数据；你的目标是预测target每个标签customer_ID\n",
    "+ sample_submission.csv - 格式正确的示例提交文件"
   ]
  },
  {
   "cell_type": "code",
   "execution_count": 3,
   "id": "2a0f572c",
   "metadata": {},
   "outputs": [],
   "source": [
    "df_labels = tlm.read_data(path_train_label)\n",
    "\n",
    "df_train = tlm.read_data(path_row_train)\n",
    "df_test  = tlm.read_data(path_row_test)"
   ]
  },
  {
   "cell_type": "markdown",
   "id": "7414970b",
   "metadata": {},
   "source": [
    "# 训练集标签"
   ]
  },
  {
   "cell_type": "markdown",
   "id": "9080206e",
   "metadata": {},
   "source": [
    "## 标签探查"
   ]
  },
  {
   "cell_type": "code",
   "execution_count": 4,
   "id": "266af672",
   "metadata": {},
   "outputs": [
    {
     "name": "stdout",
     "output_type": "stream",
     "text": [
      "训练集标签,缺失情况:False，重复情况:False\n"
     ]
    }
   ],
   "source": [
    "# 训练集标签缺失，重复情况\n",
    "print('训练集标签,缺失情况:{}，重复情况:{}'.format(df_labels.isna().any().any(), \n",
    "                        df_labels['customer_ID'].duplicated().any()))"
   ]
  },
  {
   "cell_type": "code",
   "execution_count": 5,
   "id": "b090f9be",
   "metadata": {},
   "outputs": [
    {
     "name": "stdout",
     "output_type": "stream",
     "text": [
      "------------------------------------------------------------------------------------------\n",
      "标签分布展示如下:\n",
      "\n",
      "数据集样本有: 458913个,特征列有:1列, 标签列为: target\n"
     ]
    },
    {
     "data": {
      "text/html": [
       "<div>\n",
       "<style scoped>\n",
       "    .dataframe tbody tr th:only-of-type {\n",
       "        vertical-align: middle;\n",
       "    }\n",
       "\n",
       "    .dataframe tbody tr th {\n",
       "        vertical-align: top;\n",
       "    }\n",
       "\n",
       "    .dataframe thead th {\n",
       "        text-align: right;\n",
       "    }\n",
       "</style>\n",
       "<table border=\"1\" class=\"dataframe\">\n",
       "  <thead>\n",
       "    <tr style=\"text-align: right;\">\n",
       "      <th></th>\n",
       "      <th>label取值</th>\n",
       "      <th>label数量</th>\n",
       "      <th>label占比</th>\n",
       "    </tr>\n",
       "  </thead>\n",
       "  <tbody>\n",
       "    <tr>\n",
       "      <th>0</th>\n",
       "      <td>0</td>\n",
       "      <td>340085</td>\n",
       "      <td>74.11%</td>\n",
       "    </tr>\n",
       "    <tr>\n",
       "      <th>1</th>\n",
       "      <td>1</td>\n",
       "      <td>118828</td>\n",
       "      <td>25.89%</td>\n",
       "    </tr>\n",
       "  </tbody>\n",
       "</table>\n",
       "</div>"
      ],
      "text/plain": [
       "   label取值  label数量 label占比\n",
       "0        0   340085  74.11%\n",
       "1        1   118828  25.89%"
      ]
     },
     "metadata": {},
     "output_type": "display_data"
    },
    {
     "data": {
      "text/html": [
       "<div>\n",
       "<style scoped>\n",
       "    .dataframe tbody tr th:only-of-type {\n",
       "        vertical-align: middle;\n",
       "    }\n",
       "\n",
       "    .dataframe tbody tr th {\n",
       "        vertical-align: top;\n",
       "    }\n",
       "\n",
       "    .dataframe thead th {\n",
       "        text-align: right;\n",
       "    }\n",
       "</style>\n",
       "<table border=\"1\" class=\"dataframe\">\n",
       "  <thead>\n",
       "    <tr style=\"text-align: right;\">\n",
       "      <th></th>\n",
       "      <th>customer_ID</th>\n",
       "      <th>target</th>\n",
       "    </tr>\n",
       "  </thead>\n",
       "  <tbody>\n",
       "    <tr>\n",
       "      <th>0</th>\n",
       "      <td>0000099d6bd597052cdcda90ffabf56573fe9d7c79be5f...</td>\n",
       "      <td>0</td>\n",
       "    </tr>\n",
       "    <tr>\n",
       "      <th>1</th>\n",
       "      <td>00000fd6641609c6ece5454664794f0340ad84dddce9a2...</td>\n",
       "      <td>0</td>\n",
       "    </tr>\n",
       "    <tr>\n",
       "      <th>2</th>\n",
       "      <td>00001b22f846c82c51f6e3958ccd81970162bae8b007e8...</td>\n",
       "      <td>0</td>\n",
       "    </tr>\n",
       "  </tbody>\n",
       "</table>\n",
       "</div>"
      ],
      "text/plain": [
       "                                         customer_ID  target\n",
       "0  0000099d6bd597052cdcda90ffabf56573fe9d7c79be5f...       0\n",
       "1  00000fd6641609c6ece5454664794f0340ad84dddce9a2...       0\n",
       "2  00001b22f846c82c51f6e3958ccd81970162bae8b007e8...       0"
      ]
     },
     "metadata": {},
     "output_type": "display_data"
    },
    {
     "name": "stdout",
     "output_type": "stream",
     "text": [
      "------------------------------------------------------------------------------------------\n"
     ]
    },
    {
     "name": "stderr",
     "output_type": "stream",
     "text": [
      "sheet01.标签分布分析在/Users/liliangshan/workspace/python/01_datasets/AMEX_Default_Prediction/results/scorecard_report.xlsx中已经存在，我们将对原文件进行覆盖\n"
     ]
    }
   ],
   "source": [
    "_ = tlm.excel_label(df_labels, y=y_label, excel_path=path_output_report, show=True)"
   ]
  },
  {
   "cell_type": "markdown",
   "id": "58ada098",
   "metadata": {},
   "source": [
    "## 标签结果"
   ]
  },
  {
   "cell_type": "markdown",
   "id": "9da8b5eb",
   "metadata": {},
   "source": [
    "<font color=\"#dd0000\">1. 训练集中customer_ID无重复，无缺失。</font>   \n",
    "<font color=\"#dd0000\">2. 训练集标签中，customer_ID共458913个，正负样本比率为25.89%和74.11%。</font>"
   ]
  },
  {
   "cell_type": "markdown",
   "id": "b78890ef",
   "metadata": {},
   "source": [
    "# 特征情况"
   ]
  },
  {
   "cell_type": "markdown",
   "id": "00ecc383",
   "metadata": {},
   "source": [
    "## 特征数据量"
   ]
  },
  {
   "cell_type": "code",
   "execution_count": 6,
   "id": "501c40fc",
   "metadata": {},
   "outputs": [
    {
     "name": "stdout",
     "output_type": "stream",
     "text": [
      "训练集历史特征数量： (5531451, 191)\n",
      "测试集历史特征数量： (11363762, 190)\n",
      "训练集customer_ID数量： 458913\n",
      "测试集customer_ID数量： 924621\n"
     ]
    }
   ],
   "source": [
    "print('训练集历史特征数量：',df_train.shape)\n",
    "print('测试集历史特征数量：',df_test.shape)\n",
    "\n",
    "print('训练集customer_ID数量：',df_train['customer_ID'].nunique())\n",
    "print('测试集customer_ID数量：',df_test['customer_ID'].nunique())"
   ]
  },
  {
   "cell_type": "markdown",
   "id": "d04142ee",
   "metadata": {},
   "source": [
    "## 特征描述性统计"
   ]
  },
  {
   "cell_type": "code",
   "execution_count": 7,
   "id": "b02f5122",
   "metadata": {},
   "outputs": [
    {
     "name": "stderr",
     "output_type": "stream",
     "text": [
      "sheet02.训练集-数据描述性统计在/Users/liliangshan/workspace/python/01_datasets/AMEX_Default_Prediction/results/scorecard_report.xlsx中已经存在，我们将对原文件进行覆盖\n",
      "sheet02.测试集-数据描述性统计在/Users/liliangshan/workspace/python/01_datasets/AMEX_Default_Prediction/results/scorecard_report.xlsx中已经存在，我们将对原文件进行覆盖\n"
     ]
    }
   ],
   "source": [
    "train_detect = tlm.excel_detect(df_train, excel_path=path_output_report, sheet_name='02.训练集-数据描述性统计',)\n",
    "test_detect = tlm.excel_detect(df_test, excel_path=path_output_report, sheet_name='02.测试集-数据描述性统计',)"
   ]
  },
  {
   "cell_type": "code",
   "execution_count": 8,
   "id": "f4de0bd8",
   "metadata": {},
   "outputs": [
    {
     "name": "stdout",
     "output_type": "stream",
     "text": [
      "训练集数据探查结果，部分展示：\n"
     ]
    },
    {
     "data": {
      "text/html": [
       "<div>\n",
       "<style scoped>\n",
       "    .dataframe tbody tr th:only-of-type {\n",
       "        vertical-align: middle;\n",
       "    }\n",
       "\n",
       "    .dataframe tbody tr th {\n",
       "        vertical-align: top;\n",
       "    }\n",
       "\n",
       "    .dataframe thead th {\n",
       "        text-align: right;\n",
       "    }\n",
       "</style>\n",
       "<table border=\"1\" class=\"dataframe\">\n",
       "  <thead>\n",
       "    <tr style=\"text-align: right;\">\n",
       "      <th></th>\n",
       "      <th>feat_name_row</th>\n",
       "      <th>type</th>\n",
       "      <th>size</th>\n",
       "      <th>missing</th>\n",
       "      <th>unique</th>\n",
       "      <th>zero_ratio</th>\n",
       "      <th>negative_ratio</th>\n",
       "      <th>top1_all_value</th>\n",
       "      <th>top1_all_ratio</th>\n",
       "      <th>mean_or_top1</th>\n",
       "      <th>std_or_top2</th>\n",
       "      <th>min_or_top3</th>\n",
       "      <th>1%_or_top4</th>\n",
       "      <th>10%_or_top5</th>\n",
       "      <th>50%_or_bottom5</th>\n",
       "      <th>75%_or_bottom4</th>\n",
       "      <th>90%_or_bottom3</th>\n",
       "      <th>99%_or_bottom2</th>\n",
       "      <th>max_or_bottom1</th>\n",
       "    </tr>\n",
       "  </thead>\n",
       "  <tbody>\n",
       "    <tr>\n",
       "      <th>0</th>\n",
       "      <td>customer_ID</td>\n",
       "      <td>object</td>\n",
       "      <td>5531451</td>\n",
       "      <td>0.000</td>\n",
       "      <td>458913</td>\n",
       "      <td>0.0</td>\n",
       "      <td>NaN</td>\n",
       "      <td>0000099d6bd597052cdcda90ffabf56573fe9d7c79be5f...</td>\n",
       "      <td>0.000</td>\n",
       "      <td>0000099d6bd597052cdcda90ffabf56573fe9d7c79be5f...</td>\n",
       "      <td>a3111280bfa1ed8fafd0b06839eb707f4538497e8087cb...</td>\n",
       "      <td>a31376930229162f886c091e5a56a528f81c10a5232858...</td>\n",
       "      <td>a312c595dfaee96c8a597107d2754a49b1acfd127400d9...</td>\n",
       "      <td>a312aff722e7230f9d6a313ff777d6f00166c6bada21a3...</td>\n",
       "      <td>a84839802f1f37a86a7fe34ddba4791d33d878df3937b5...</td>\n",
       "      <td>01f4f7b14d83b6a8f88e4355279224615da083b19e3e5f...</td>\n",
       "      <td>eef07ea56302cebcd57374c6565bb3e5c7af856796d9cb...</td>\n",
       "      <td>d192480082e86e3b4da68f014b284f2a2624b45956eed2...</td>\n",
       "      <td>d9ea3cffff889b522a69bde89aee382dcff8bffe32c9a3...</td>\n",
       "    </tr>\n",
       "    <tr>\n",
       "      <th>1</th>\n",
       "      <td>S_2</td>\n",
       "      <td>datetime64[ns]</td>\n",
       "      <td>5531451</td>\n",
       "      <td>0.000</td>\n",
       "      <td>396</td>\n",
       "      <td>0.0</td>\n",
       "      <td>NaN</td>\n",
       "      <td>2018-02-17 00:00:00</td>\n",
       "      <td>0.005</td>\n",
       "      <td>2018-02-17 00:00:00:0.48%</td>\n",
       "      <td>2018-01-20 00:00:00:0.45%</td>\n",
       "      <td>2018-02-03 00:00:00:0.43%</td>\n",
       "      <td>2018-03-17 00:00:00:0.42%</td>\n",
       "      <td>2018-02-24 00:00:00:0.42%</td>\n",
       "      <td>2017-05-07 00:00:00:0.14%</td>\n",
       "      <td>2017-03-05 00:00:00:0.14%</td>\n",
       "      <td>2017-03-12 00:00:00:0.14%</td>\n",
       "      <td>2017-03-19 00:00:00:0.14%</td>\n",
       "      <td>2017-04-16 00:00:00:0.13%</td>\n",
       "    </tr>\n",
       "    <tr>\n",
       "      <th>2</th>\n",
       "      <td>P_2</td>\n",
       "      <td>float16</td>\n",
       "      <td>5531451</td>\n",
       "      <td>0.008</td>\n",
       "      <td>17205</td>\n",
       "      <td>0.0</td>\n",
       "      <td>0.010</td>\n",
       "      <td>1.000977</td>\n",
       "      <td>0.003</td>\n",
       "      <td>NaN</td>\n",
       "      <td>0.0</td>\n",
       "      <td>-0.459</td>\n",
       "      <td>0.004</td>\n",
       "      <td>0.319</td>\n",
       "      <td>0.694</td>\n",
       "      <td>0.865</td>\n",
       "      <td>0.941</td>\n",
       "      <td>1.006</td>\n",
       "      <td>1.01</td>\n",
       "    </tr>\n",
       "    <tr>\n",
       "      <th>3</th>\n",
       "      <td>D_39</td>\n",
       "      <td>float16</td>\n",
       "      <td>5531451</td>\n",
       "      <td>0.000</td>\n",
       "      <td>11242</td>\n",
       "      <td>0.0</td>\n",
       "      <td>0.000</td>\n",
       "      <td>0.509277</td>\n",
       "      <td>0.001</td>\n",
       "      <td>NaN</td>\n",
       "      <td>0.0</td>\n",
       "      <td>0.0</td>\n",
       "      <td>0.0</td>\n",
       "      <td>0.002</td>\n",
       "      <td>0.009</td>\n",
       "      <td>0.237</td>\n",
       "      <td>0.509</td>\n",
       "      <td>1.005</td>\n",
       "      <td>5.391</td>\n",
       "    </tr>\n",
       "    <tr>\n",
       "      <th>4</th>\n",
       "      <td>B_1</td>\n",
       "      <td>float16</td>\n",
       "      <td>5531451</td>\n",
       "      <td>0.000</td>\n",
       "      <td>22627</td>\n",
       "      <td>0.0</td>\n",
       "      <td>0.003</td>\n",
       "      <td>1.316406</td>\n",
       "      <td>0.000</td>\n",
       "      <td>NaN</td>\n",
       "      <td>0.0</td>\n",
       "      <td>-7.59</td>\n",
       "      <td>0.0</td>\n",
       "      <td>0.004</td>\n",
       "      <td>0.031</td>\n",
       "      <td>0.126</td>\n",
       "      <td>0.396</td>\n",
       "      <td>1.005</td>\n",
       "      <td>1.324</td>\n",
       "    </tr>\n",
       "  </tbody>\n",
       "</table>\n",
       "</div>"
      ],
      "text/plain": [
       "  feat_name_row            type     size  missing  unique  zero_ratio  \\\n",
       "0   customer_ID          object  5531451    0.000  458913         0.0   \n",
       "1           S_2  datetime64[ns]  5531451    0.000     396         0.0   \n",
       "2           P_2         float16  5531451    0.008   17205         0.0   \n",
       "3          D_39         float16  5531451    0.000   11242         0.0   \n",
       "4           B_1         float16  5531451    0.000   22627         0.0   \n",
       "\n",
       "   negative_ratio                                     top1_all_value  \\\n",
       "0             NaN  0000099d6bd597052cdcda90ffabf56573fe9d7c79be5f...   \n",
       "1             NaN                                2018-02-17 00:00:00   \n",
       "2           0.010                                           1.000977   \n",
       "3           0.000                                           0.509277   \n",
       "4           0.003                                           1.316406   \n",
       "\n",
       "   top1_all_ratio                                       mean_or_top1  \\\n",
       "0           0.000  0000099d6bd597052cdcda90ffabf56573fe9d7c79be5f...   \n",
       "1           0.005                          2018-02-17 00:00:00:0.48%   \n",
       "2           0.003                                                NaN   \n",
       "3           0.001                                                NaN   \n",
       "4           0.000                                                NaN   \n",
       "\n",
       "                                         std_or_top2  \\\n",
       "0  a3111280bfa1ed8fafd0b06839eb707f4538497e8087cb...   \n",
       "1                          2018-01-20 00:00:00:0.45%   \n",
       "2                                                0.0   \n",
       "3                                                0.0   \n",
       "4                                                0.0   \n",
       "\n",
       "                                         min_or_top3  \\\n",
       "0  a31376930229162f886c091e5a56a528f81c10a5232858...   \n",
       "1                          2018-02-03 00:00:00:0.43%   \n",
       "2                                             -0.459   \n",
       "3                                                0.0   \n",
       "4                                              -7.59   \n",
       "\n",
       "                                          1%_or_top4  \\\n",
       "0  a312c595dfaee96c8a597107d2754a49b1acfd127400d9...   \n",
       "1                          2018-03-17 00:00:00:0.42%   \n",
       "2                                              0.004   \n",
       "3                                                0.0   \n",
       "4                                                0.0   \n",
       "\n",
       "                                         10%_or_top5  \\\n",
       "0  a312aff722e7230f9d6a313ff777d6f00166c6bada21a3...   \n",
       "1                          2018-02-24 00:00:00:0.42%   \n",
       "2                                              0.319   \n",
       "3                                              0.002   \n",
       "4                                              0.004   \n",
       "\n",
       "                                      50%_or_bottom5  \\\n",
       "0  a84839802f1f37a86a7fe34ddba4791d33d878df3937b5...   \n",
       "1                          2017-05-07 00:00:00:0.14%   \n",
       "2                                              0.694   \n",
       "3                                              0.009   \n",
       "4                                              0.031   \n",
       "\n",
       "                                      75%_or_bottom4  \\\n",
       "0  01f4f7b14d83b6a8f88e4355279224615da083b19e3e5f...   \n",
       "1                          2017-03-05 00:00:00:0.14%   \n",
       "2                                              0.865   \n",
       "3                                              0.237   \n",
       "4                                              0.126   \n",
       "\n",
       "                                      90%_or_bottom3  \\\n",
       "0  eef07ea56302cebcd57374c6565bb3e5c7af856796d9cb...   \n",
       "1                          2017-03-12 00:00:00:0.14%   \n",
       "2                                              0.941   \n",
       "3                                              0.509   \n",
       "4                                              0.396   \n",
       "\n",
       "                                      99%_or_bottom2  \\\n",
       "0  d192480082e86e3b4da68f014b284f2a2624b45956eed2...   \n",
       "1                          2017-03-19 00:00:00:0.14%   \n",
       "2                                              1.006   \n",
       "3                                              1.005   \n",
       "4                                              1.005   \n",
       "\n",
       "                                      max_or_bottom1  \n",
       "0  d9ea3cffff889b522a69bde89aee382dcff8bffe32c9a3...  \n",
       "1                          2017-04-16 00:00:00:0.13%  \n",
       "2                                               1.01  \n",
       "3                                              5.391  \n",
       "4                                              1.324  "
      ]
     },
     "execution_count": 8,
     "metadata": {},
     "output_type": "execute_result"
    }
   ],
   "source": [
    "print('训练集数据探查结果，部分展示：')\n",
    "train_detect.head()"
   ]
  },
  {
   "cell_type": "code",
   "execution_count": 9,
   "id": "8ad9b31d",
   "metadata": {},
   "outputs": [
    {
     "name": "stdout",
     "output_type": "stream",
     "text": [
      "训练集数据探查结果，部分展示：\n"
     ]
    },
    {
     "data": {
      "text/html": [
       "<div>\n",
       "<style scoped>\n",
       "    .dataframe tbody tr th:only-of-type {\n",
       "        vertical-align: middle;\n",
       "    }\n",
       "\n",
       "    .dataframe tbody tr th {\n",
       "        vertical-align: top;\n",
       "    }\n",
       "\n",
       "    .dataframe thead th {\n",
       "        text-align: right;\n",
       "    }\n",
       "</style>\n",
       "<table border=\"1\" class=\"dataframe\">\n",
       "  <thead>\n",
       "    <tr style=\"text-align: right;\">\n",
       "      <th></th>\n",
       "      <th>feat_name_row</th>\n",
       "      <th>type</th>\n",
       "      <th>size</th>\n",
       "      <th>missing</th>\n",
       "      <th>unique</th>\n",
       "      <th>zero_ratio</th>\n",
       "      <th>negative_ratio</th>\n",
       "      <th>top1_all_value</th>\n",
       "      <th>top1_all_ratio</th>\n",
       "      <th>mean_or_top1</th>\n",
       "      <th>std_or_top2</th>\n",
       "      <th>min_or_top3</th>\n",
       "      <th>1%_or_top4</th>\n",
       "      <th>10%_or_top5</th>\n",
       "      <th>50%_or_bottom5</th>\n",
       "      <th>75%_or_bottom4</th>\n",
       "      <th>90%_or_bottom3</th>\n",
       "      <th>99%_or_bottom2</th>\n",
       "      <th>max_or_bottom1</th>\n",
       "    </tr>\n",
       "  </thead>\n",
       "  <tbody>\n",
       "    <tr>\n",
       "      <th>0</th>\n",
       "      <td>customer_ID</td>\n",
       "      <td>object</td>\n",
       "      <td>11363762</td>\n",
       "      <td>0.000</td>\n",
       "      <td>924621</td>\n",
       "      <td>0.0</td>\n",
       "      <td>NaN</td>\n",
       "      <td>8034aa3a67acb152f472bd8036f4c579b559d046ba12d7...</td>\n",
       "      <td>0.000</td>\n",
       "      <td>8034aa3a67acb152f472bd8036f4c579b559d046ba12d7...</td>\n",
       "      <td>f20b67b121eb3b67fb0558f910d65ab2d426e7240bf6f2...</td>\n",
       "      <td>9b08b73dd6f5cba8f5f4fa0d59ba24c735d259571ac2b7...</td>\n",
       "      <td>9b08b9d5c195dcec159fc45dc1ff186fa35343bea193c0...</td>\n",
       "      <td>9b08cab050f7890ab7ef591262ea2718e29e4fbd57eb7d...</td>\n",
       "      <td>96891d5635c9fe20ea5a7f47c2a798bfe76cd21b8b2766...</td>\n",
       "      <td>967923b9af14ea50d0b14884ad2fec253e1ece75de428a...</td>\n",
       "      <td>96743f1ec496a95bfc1abac77f3029d00baf84b5510cf2...</td>\n",
       "      <td>96609d94e00c546b837bead5c705c9ed3cee0e4cb4c806...</td>\n",
       "      <td>7574744c775a074ed4764473e97e9992a1a7cbc4925461...</td>\n",
       "    </tr>\n",
       "    <tr>\n",
       "      <th>1</th>\n",
       "      <td>S_2</td>\n",
       "      <td>datetime64[ns]</td>\n",
       "      <td>11363762</td>\n",
       "      <td>0.000</td>\n",
       "      <td>579</td>\n",
       "      <td>0.0</td>\n",
       "      <td>NaN</td>\n",
       "      <td>2019-04-20 00:00:00</td>\n",
       "      <td>0.005</td>\n",
       "      <td>2019-04-20 00:00:00:0.50%</td>\n",
       "      <td>2019-04-27 00:00:00:0.46%</td>\n",
       "      <td>2019-01-19 00:00:00:0.42%</td>\n",
       "      <td>2019-02-17 00:00:00:0.42%</td>\n",
       "      <td>2019-03-09 00:00:00:0.42%</td>\n",
       "      <td>2018-06-10 00:00:00:0.08%</td>\n",
       "      <td>2018-04-08 00:00:00:0.07%</td>\n",
       "      <td>2018-07-08 00:00:00:0.07%</td>\n",
       "      <td>2018-07-22 00:00:00:0.07%</td>\n",
       "      <td>2018-05-06 00:00:00:0.07%</td>\n",
       "    </tr>\n",
       "    <tr>\n",
       "      <th>2</th>\n",
       "      <td>P_2</td>\n",
       "      <td>float16</td>\n",
       "      <td>11363762</td>\n",
       "      <td>0.005</td>\n",
       "      <td>19807</td>\n",
       "      <td>0.0</td>\n",
       "      <td>0.011</td>\n",
       "      <td>1.00293</td>\n",
       "      <td>0.003</td>\n",
       "      <td>NaN</td>\n",
       "      <td>0.0</td>\n",
       "      <td>-0.466</td>\n",
       "      <td>-0.015</td>\n",
       "      <td>0.316</td>\n",
       "      <td>0.699</td>\n",
       "      <td>0.865</td>\n",
       "      <td>0.943</td>\n",
       "      <td>1.006</td>\n",
       "      <td>1.01</td>\n",
       "    </tr>\n",
       "    <tr>\n",
       "      <th>3</th>\n",
       "      <td>D_39</td>\n",
       "      <td>float16</td>\n",
       "      <td>11363762</td>\n",
       "      <td>0.000</td>\n",
       "      <td>11333</td>\n",
       "      <td>0.0</td>\n",
       "      <td>0.000</td>\n",
       "      <td>0.500977</td>\n",
       "      <td>0.001</td>\n",
       "      <td>NaN</td>\n",
       "      <td>0.0</td>\n",
       "      <td>0.0</td>\n",
       "      <td>0.0</td>\n",
       "      <td>0.002</td>\n",
       "      <td>0.009</td>\n",
       "      <td>0.241</td>\n",
       "      <td>0.53</td>\n",
       "      <td>0.975</td>\n",
       "      <td>9.328</td>\n",
       "    </tr>\n",
       "    <tr>\n",
       "      <th>4</th>\n",
       "      <td>B_1</td>\n",
       "      <td>float16</td>\n",
       "      <td>11363762</td>\n",
       "      <td>0.000</td>\n",
       "      <td>25160</td>\n",
       "      <td>0.0</td>\n",
       "      <td>0.003</td>\n",
       "      <td>1.318359</td>\n",
       "      <td>0.000</td>\n",
       "      <td>NaN</td>\n",
       "      <td>0.0</td>\n",
       "      <td>-7.059</td>\n",
       "      <td>0.001</td>\n",
       "      <td>0.004</td>\n",
       "      <td>0.033</td>\n",
       "      <td>0.135</td>\n",
       "      <td>0.412</td>\n",
       "      <td>0.981</td>\n",
       "      <td>1.324</td>\n",
       "    </tr>\n",
       "  </tbody>\n",
       "</table>\n",
       "</div>"
      ],
      "text/plain": [
       "  feat_name_row            type      size  missing  unique  zero_ratio  \\\n",
       "0   customer_ID          object  11363762    0.000  924621         0.0   \n",
       "1           S_2  datetime64[ns]  11363762    0.000     579         0.0   \n",
       "2           P_2         float16  11363762    0.005   19807         0.0   \n",
       "3          D_39         float16  11363762    0.000   11333         0.0   \n",
       "4           B_1         float16  11363762    0.000   25160         0.0   \n",
       "\n",
       "   negative_ratio                                     top1_all_value  \\\n",
       "0             NaN  8034aa3a67acb152f472bd8036f4c579b559d046ba12d7...   \n",
       "1             NaN                                2019-04-20 00:00:00   \n",
       "2           0.011                                            1.00293   \n",
       "3           0.000                                           0.500977   \n",
       "4           0.003                                           1.318359   \n",
       "\n",
       "   top1_all_ratio                                       mean_or_top1  \\\n",
       "0           0.000  8034aa3a67acb152f472bd8036f4c579b559d046ba12d7...   \n",
       "1           0.005                          2019-04-20 00:00:00:0.50%   \n",
       "2           0.003                                                NaN   \n",
       "3           0.001                                                NaN   \n",
       "4           0.000                                                NaN   \n",
       "\n",
       "                                         std_or_top2  \\\n",
       "0  f20b67b121eb3b67fb0558f910d65ab2d426e7240bf6f2...   \n",
       "1                          2019-04-27 00:00:00:0.46%   \n",
       "2                                                0.0   \n",
       "3                                                0.0   \n",
       "4                                                0.0   \n",
       "\n",
       "                                         min_or_top3  \\\n",
       "0  9b08b73dd6f5cba8f5f4fa0d59ba24c735d259571ac2b7...   \n",
       "1                          2019-01-19 00:00:00:0.42%   \n",
       "2                                             -0.466   \n",
       "3                                                0.0   \n",
       "4                                             -7.059   \n",
       "\n",
       "                                          1%_or_top4  \\\n",
       "0  9b08b9d5c195dcec159fc45dc1ff186fa35343bea193c0...   \n",
       "1                          2019-02-17 00:00:00:0.42%   \n",
       "2                                             -0.015   \n",
       "3                                                0.0   \n",
       "4                                              0.001   \n",
       "\n",
       "                                         10%_or_top5  \\\n",
       "0  9b08cab050f7890ab7ef591262ea2718e29e4fbd57eb7d...   \n",
       "1                          2019-03-09 00:00:00:0.42%   \n",
       "2                                              0.316   \n",
       "3                                              0.002   \n",
       "4                                              0.004   \n",
       "\n",
       "                                      50%_or_bottom5  \\\n",
       "0  96891d5635c9fe20ea5a7f47c2a798bfe76cd21b8b2766...   \n",
       "1                          2018-06-10 00:00:00:0.08%   \n",
       "2                                              0.699   \n",
       "3                                              0.009   \n",
       "4                                              0.033   \n",
       "\n",
       "                                      75%_or_bottom4  \\\n",
       "0  967923b9af14ea50d0b14884ad2fec253e1ece75de428a...   \n",
       "1                          2018-04-08 00:00:00:0.07%   \n",
       "2                                              0.865   \n",
       "3                                              0.241   \n",
       "4                                              0.135   \n",
       "\n",
       "                                      90%_or_bottom3  \\\n",
       "0  96743f1ec496a95bfc1abac77f3029d00baf84b5510cf2...   \n",
       "1                          2018-07-08 00:00:00:0.07%   \n",
       "2                                              0.943   \n",
       "3                                               0.53   \n",
       "4                                              0.412   \n",
       "\n",
       "                                      99%_or_bottom2  \\\n",
       "0  96609d94e00c546b837bead5c705c9ed3cee0e4cb4c806...   \n",
       "1                          2018-07-22 00:00:00:0.07%   \n",
       "2                                              1.006   \n",
       "3                                              0.975   \n",
       "4                                              0.981   \n",
       "\n",
       "                                      max_or_bottom1  \n",
       "0  7574744c775a074ed4764473e97e9992a1a7cbc4925461...  \n",
       "1                          2018-05-06 00:00:00:0.07%  \n",
       "2                                               1.01  \n",
       "3                                              9.328  \n",
       "4                                              1.324  "
      ]
     },
     "execution_count": 9,
     "metadata": {},
     "output_type": "execute_result"
    }
   ],
   "source": [
    "print('训练集数据探查结果，部分展示：')\n",
    "test_detect.head()"
   ]
  },
  {
   "cell_type": "markdown",
   "id": "1cb125df",
   "metadata": {},
   "source": [
    "1. 给到的训练集，测试集的数据为历史数据，无法直接用来建模，\n",
    "2. 训练集数据条数共5531451条，涵盖了458913个用户的历史数据，测试集数据条数共11363762条，涵盖了924621个用户的历史数据"
   ]
  },
  {
   "cell_type": "markdown",
   "id": "31b6b5b6",
   "metadata": {},
   "source": [
    "## 单个样本的记录数"
   ]
  },
  {
   "cell_type": "code",
   "execution_count": 10,
   "id": "36ee5306",
   "metadata": {},
   "outputs": [
    {
     "name": "stderr",
     "output_type": "stream",
     "text": [
      "findfont: Font family ['sans-serif'] not found. Falling back to DejaVu Sans.\n",
      "findfont: Generic family 'sans-serif' not found because none of the following families were found: SimHei\n",
      "findfont: Font family ['sans-serif'] not found. Falling back to DejaVu Sans.\n",
      "findfont: Generic family 'sans-serif' not found because none of the following families were found: SimHei\n"
     ]
    },
    {
     "data": {
      "image/png": "[encoded data removed]",
      "text/plain": [
       "<Figure size 864x360 with 2 Axes>"
      ]
     },
     "metadata": {},
     "output_type": "display_data"
    }
   ],
   "source": [
    "fig, (ax1, ax2) = plt.subplots(1, 2, figsize=(12, 5))\n",
    "train_sc = df_train['customer_ID'].value_counts().value_counts().sort_index(ascending=False).rename('Train statements per customer')\n",
    "ax1.pie(train_sc, labels=train_sc.index)\n",
    "ax1.set_title(train_sc.name)\n",
    "test_sc = df_test['customer_ID'].value_counts().value_counts().sort_index(ascending=False).rename('Test statements per customer')\n",
    "ax2.pie(test_sc, labels=test_sc.index)\n",
    "ax2.set_title(test_sc.name)\n",
    "plt.show()"
   ]
  },
  {
   "cell_type": "markdown",
   "id": "5d43a1a2",
   "metadata": {},
   "source": [
    "1. 在用户历史数据中，训练集测试集中的用户，绝大多数都有13次历史行为，"
   ]
  },
  {
   "cell_type": "markdown",
   "id": "45603dbc",
   "metadata": {},
   "source": [
    "## 样本记录的开始结束时间"
   ]
  },
  {
   "cell_type": "code",
   "execution_count": 11,
   "id": "62630c94",
   "metadata": {},
   "outputs": [
    {
     "data": {
      "text/plain": [
       "2018-03-31     9836\n",
       "2018-03-30    17293\n",
       "2018-03-29    14414\n",
       "2018-03-28    17263\n",
       "2018-03-27    15457\n",
       "              ...  \n",
       "2017-03-05     7879\n",
       "2017-03-04    14463\n",
       "2017-03-03    13635\n",
       "2017-03-02     8952\n",
       "2017-03-01    10381\n",
       "Name: S_2, Length: 396, dtype: int64"
      ]
     },
     "execution_count": 11,
     "metadata": {},
     "output_type": "execute_result"
    }
   ],
   "source": [
    "print('训练集数据开始结束时间：')\n",
    "df_train['S_2'].value_counts().sort_index(ascending=False)"
   ]
  },
  {
   "cell_type": "code",
   "execution_count": 12,
   "id": "4feaf2f4",
   "metadata": {},
   "outputs": [
    {
     "data": {
      "text/plain": [
       "2019-10-31     9858\n",
       "2019-10-30    16666\n",
       "2019-10-29    14177\n",
       "2019-10-28    16456\n",
       "2019-10-27     9120\n",
       "              ...  \n",
       "2018-04-05     9340\n",
       "2018-04-04    15625\n",
       "2018-04-03    13296\n",
       "2018-04-02    10239\n",
       "2018-04-01     9080\n",
       "Name: S_2, Length: 579, dtype: int64"
      ]
     },
     "execution_count": 12,
     "metadata": {},
     "output_type": "execute_result"
    }
   ],
   "source": [
    "print('测试集数据开始结束时间：')\n",
    "df_test['S_2'].value_counts().sort_index(ascending=False)"
   ]
  },
  {
   "cell_type": "markdown",
   "id": "f89699fc",
   "metadata": {},
   "source": [
    "## 训练集和测试集最新一条记录所在时间分布"
   ]
  },
  {
   "cell_type": "code",
   "execution_count": 13,
   "id": "4b700f6e",
   "metadata": {},
   "outputs": [
    {
     "name": "stderr",
     "output_type": "stream",
     "text": [
      "findfont: Font family ['sans-serif'] not found. Falling back to DejaVu Sans.\n",
      "findfont: Generic family 'sans-serif' not found because none of the following families were found: SimHei\n"
     ]
    },
    {
     "data": {
      "image/png": "[encoded data removed]",
      "text/plain": [
       "<Figure size 1152x288 with 1 Axes>"
      ]
     },
     "metadata": {
      "needs_background": "light"
     },
     "output_type": "display_data"
    },
    {
     "data": {
      "image/png": "[encoded data removed]",
      "text/plain": [
       "<Figure size 1152x288 with 1 Axes>"
      ]
     },
     "metadata": {
      "needs_background": "light"
     },
     "output_type": "display_data"
    }
   ],
   "source": [
    "temp = df_train['S_2'].groupby(df_train['customer_ID']).max()\n",
    "plt.figure(figsize=(16, 4))\n",
    "plt.hist(temp, bins=pd.date_range(\"2018-03-01\", \"2018-04-01\", freq=\"d\"),\n",
    "         rwidth=0.8, color='#ffd700')\n",
    "plt.title('When did the train customers get their last statements?', fontsize=20)\n",
    "plt.xlabel('Last statement date per customer')\n",
    "plt.ylabel('Count')\n",
    "plt.gca().set_facecolor('#0057b8')\n",
    "plt.show()\n",
    "del temp\n",
    "\n",
    "temp = df_test['S_2'].groupby(df_test['customer_ID']).max()\n",
    "plt.figure(figsize=(16, 4))\n",
    "plt.hist(temp, bins=pd.date_range(\"2019-04-01\", \"2019-11-01\", freq=\"d\"),\n",
    "         rwidth=0.74, color='#ffd700')\n",
    "plt.title('When did the test customers get their last statements?', fontsize=20)\n",
    "plt.xlabel('Last statement date per customer')\n",
    "plt.ylabel('Count')\n",
    "plt.gca().set_facecolor('#0057b8')\n",
    "plt.show()\n",
    "del temp"
   ]
  },
  {
   "cell_type": "markdown",
   "id": "9d679d4f",
   "metadata": {},
   "source": [
    "1. 训练集中用户最新一次点击时间都聚集在一个月中，为201803-201804\n",
    "2. 测试集中用户最新一次点击时间分为两个时间段，一个是201904-201905，一个是201910-201911"
   ]
  },
  {
   "cell_type": "markdown",
   "id": "dd904a37",
   "metadata": {},
   "source": [
    "## 训练集和测试集时间范围分布"
   ]
  },
  {
   "cell_type": "code",
   "execution_count": 14,
   "id": "0197244e",
   "metadata": {},
   "outputs": [
    {
     "data": {
      "image/png": "[encoded data removed]",
      "text/plain": [
       "<Figure size 1152x288 with 1 Axes>"
      ]
     },
     "metadata": {
      "needs_background": "light"
     },
     "output_type": "display_data"
    }
   ],
   "source": [
    "temp = pd.concat([df_train[['customer_ID', 'S_2']], df_test[['customer_ID', 'S_2']]], axis=0)\n",
    "temp.set_index('customer_ID', inplace=True)\n",
    "temp['last_month'] = temp.groupby('customer_ID').S_2.max().dt.month\n",
    "last_month = temp['last_month'].values\n",
    "\n",
    "plt.figure(figsize=(16, 4))\n",
    "plt.hist([temp.S_2[temp.last_month == 3],   # ending 03/18 -> training\n",
    "          temp.S_2[temp.last_month == 4],   # ending 04/19 -> public lb\n",
    "          temp.S_2[temp.last_month == 10]], # ending 10/19 -> private lb\n",
    "         bins=pd.date_range(\"2017-03-01\", \"2019-11-01\", freq=\"MS\"),\n",
    "         label=['Training', 'Public leaderboard', 'Private leaderboard'],\n",
    "         stacked=True)\n",
    "plt.xticks(pd.date_range(\"2017-03-01\", \"2019-11-01\", freq=\"QS\"))\n",
    "plt.xlabel('Statement date')\n",
    "plt.ylabel('Count')\n",
    "plt.title('The three datasets over time', fontsize=20)\n",
    "plt.legend()\n",
    "plt.show()\n"
   ]
  },
  {
   "cell_type": "markdown",
   "id": "4177cce0",
   "metadata": {},
   "source": [
    "1. 训练集和测试集之间数据历史没有重叠"
   ]
  },
  {
   "cell_type": "markdown",
   "id": "2b0dc871",
   "metadata": {},
   "source": [
    "## 特征结果"
   ]
  },
  {
   "cell_type": "markdown",
   "id": "8026223f",
   "metadata": {},
   "source": [
    "1. 给到的训练集，测试集的数据为历史数据，无法直接用来建模，\n",
    "2. 训练集数据条数共5531451条，涵盖了458913个用户的历史数据，测试集数据条数共11363762条，涵盖了924621个用户的历史数据\n",
    "3. 在用户历史数据中，训练集测试集中的用户，绝大多数都有13次历史行为，其中训练集和测试集有相似的分布\n",
    "4. 训练集中用户最新一次点击时间都聚集在一个月中，为201803-201804\n",
    "5. 测试集中用户最新一次点击时间分为两个时间段，一个是201904-201905，一个是201910-201911\n",
    "6. 训练集和测试集之间数据历史没有重叠\n",
    "7. 这也就说明，若是建模，如使用评分卡，将不能按照时间来划分数据集，尽管它是时间序列类型的数据，这是由于它的最新数据都在同一个月，\n",
    "建议直接进行随机拆分。若是这样则需要重新考虑训练集和测试集合特征稳定性的问题。"
   ]
  },
  {
   "cell_type": "markdown",
   "id": "873566ac",
   "metadata": {},
   "source": [
    "# 特征可视化"
   ]
  },
  {
   "cell_type": "markdown",
   "id": "a7e5fb48",
   "metadata": {},
   "source": [
    "# 特征工程"
   ]
  },
  {
   "cell_type": "markdown",
   "id": "49c4521c",
   "metadata": {},
   "source": [
    "由于数据为用户历史还款记录数据，为构建X变量，可考虑如下做法：\n",
    "1. 业务，直接取用户最新一条记录作为特征。\n",
    "2. 暴力，直接对用户全历史计算统计特征，类别特征考虑['count', 'nunique']，数值特征考虑['mean', 'std', 'min', 'max']。\n",
    "3. 业务，用户最新一条记录与用户第一条记录的差和比。\n",
    "4. 业务，用户近一个月，三个月，六个月，十二个月的统计特征计算，类别特征考虑['count', 'nunique']，数值特征考虑['mean', 'std', 'min', 'max']。\n",
    "5. 业务，用户最新一条记录与4中得到的特征中['mean', 'max', 'min']的差和比。"
   ]
  },
  {
   "cell_type": "markdown",
   "id": "8c65e1e5",
   "metadata": {},
   "source": [
    "# 模型"
   ]
  },
  {
   "cell_type": "markdown",
   "id": "3007d759",
   "metadata": {},
   "source": [
    "1. baseline采用一套评分卡的逻辑进行建立。\n",
    "2. 直接使用lightgbm进行建模，建模的同时采用五折交叉验证的方式，优化目标为比赛所用的指标。"
   ]
  },
  {
   "cell_type": "markdown",
   "id": "b916852a",
   "metadata": {},
   "source": [
    "# 下一步优化目标\n",
    "1. 尝试特征选择，也许很多特征只是噪音，因为执行排列重要性并将特征数量减少到 1000 个特征，CV几乎相同。也许有更好的特征选择技术可以提高性能。如null importance 和Boruta。\n",
    "2. 尝试不同的模型，也许一些具有相同特征或特征子集的神经网络与LGBM集成是有效的，根据经验，混合树模型和神经网络效果很好，因为它们非常多样化，所以会有提示。\n",
    "3. 可以尝试更多的特征工程，也许我们可以创建更多的特征来提取数据集的隐藏信号。"
   ]
  },
  {
   "cell_type": "code",
   "execution_count": null,
   "id": "56e46066",
   "metadata": {},
   "outputs": [],
   "source": []
  }
 ],
 "metadata": {
  "hide_input": false,
  "kernelspec": {
   "display_name": "Python 3.7.11 ('ml')",
   "language": "python",
   "name": "python3711jvsc74a57bd0732b8507b493a6bd3d51691a308f963b7258c72012e991cef75b40938a82b5dd"
  },
  "language_info": {
   "codemirror_mode": {
    "name": "ipython",
    "version": 3
   },
   "file_extension": ".py",
   "mimetype": "text/x-python",
   "name": "python",
   "nbconvert_exporter": "python",
   "pygments_lexer": "ipython3",
   "version": "3.7.13"
  },
  "toc": {
   "base_numbering": 1,
   "nav_menu": {},
   "number_sections": true,
   "sideBar": true,
   "skip_h1_title": false,
   "title_cell": "Table of Contents",
   "title_sidebar": "Contents",
   "toc_cell": false,
   "toc_position": {},
   "toc_section_display": true,
   "toc_window_display": true
  }
 },
 "nbformat": 4,
 "nbformat_minor": 5
}
