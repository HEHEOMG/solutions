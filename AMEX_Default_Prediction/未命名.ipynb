{
 "cells": [
  {
   "cell_type": "code",
   "execution_count": 1,
   "id": "a0413d31",
   "metadata": {},
   "outputs": [],
   "source": [
    "tt = '''\n",
    "50354\n",
    "50009\n",
    "50303\n",
    "50026\n",
    "50333\n",
    "50028\n",
    "50332\n",
    "50059\n",
    "50058\n",
    "50088\n",
    "50089\n",
    "50090\n",
    "50091\n",
    "50007\n",
    "50367\n",
    "50314\n",
    "50008\n",
    "50029\n",
    "50082\n",
    "50083\n",
    "50030\n",
    "50180\n",
    "50165\n",
    "50318\n",
    "50320\n",
    "50032\n",
    "70017\n",
    "70015\n",
    "'''"
   ]
  },
  {
   "cell_type": "code",
   "execution_count": 4,
   "id": "7fa2304e",
   "metadata": {},
   "outputs": [
    {
     "data": {
      "text/plain": [
       "28"
      ]
     },
     "execution_count": 4,
     "metadata": {},
     "output_type": "execute_result"
    }
   ],
   "source": [
    "len(tt.strip().split('\\n'))"
   ]
  },
  {
   "cell_type": "code",
   "execution_count": null,
   "id": "8bf33f7a",
   "metadata": {},
   "outputs": [],
   "source": []
  }
 ],
 "metadata": {
  "hide_input": false,
  "kernelspec": {
   "display_name": "Python 3.7.11 ('ml')",
   "language": "python",
   "name": "python3711jvsc74a57bd0732b8507b493a6bd3d51691a308f963b7258c72012e991cef75b40938a82b5dd"
  },
  "language_info": {
   "codemirror_mode": {
    "name": "ipython",
    "version": 3
   },
   "file_extension": ".py",
   "mimetype": "text/x-python",
   "name": "python",
   "nbconvert_exporter": "python",
   "pygments_lexer": "ipython3",
   "version": "3.7.13"
  },
  "toc": {
   "base_numbering": 1,
   "nav_menu": {},
   "number_sections": true,
   "sideBar": true,
   "skip_h1_title": false,
   "title_cell": "Table of Contents",
   "title_sidebar": "Contents",
   "toc_cell": false,
   "toc_position": {},
   "toc_section_display": true,
   "toc_window_display": false
  }
 },
 "nbformat": 4,
 "nbformat_minor": 5
}
