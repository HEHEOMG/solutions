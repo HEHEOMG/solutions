{
 "cells": [
  {
   "cell_type": "markdown",
   "id": "0a14a7dc",
   "metadata": {},
   "source": [
    "# 导包"
   ]
  },
  {
   "cell_type": "code",
   "execution_count": 1,
   "id": "4b59d300",
   "metadata": {},
   "outputs": [],
   "source": [
    "# 将代码包路径导入python搜索路径, 导入一些必要模块\n",
    "import os\n",
    "import copy\n",
    "import sys\n",
    "# 该部分为python搜索路径，调用本地的代码包，若使用服务器环境，需注释掉该部分内容\n",
    "package_path_2 = r'/Users/liliangshan/workspace/python/daily_code/tl_modeler'\n",
    "sys.path.insert(0, package_path_2)\n",
    "\n",
    "import pandas as pd\n",
    "import matplotlib.pyplot as plt\n",
    "\n",
    "import tl_modeler as tlm"
   ]
  },
  {
   "cell_type": "code",
   "execution_count": 2,
   "id": "75e09331",
   "metadata": {},
   "outputs": [],
   "source": [
    "# path_project\n",
    "path_project = r'/Users/liliangshan/workspace/python/01_datasets/AMEX_Default_Prediction'\n",
    "\n",
    "# 文件夹\n",
    "path_row_data = os.path.join(path_project, 'row_data')\n",
    "path_new_data = os.path.join(path_project, 'new_data')\n",
    "path_results = os.path.join(path_project, 'results')\n",
    "\n",
    "# row_data\n",
    "path_row_train = os.path.join(path_row_data,  'train_data.ftr')\n",
    "path_row_test  = os.path.join(path_row_data, 'test_data.ftr')\n",
    "path_train_label = os.path.join(path_row_data, 'train_labels.csv')\n",
    "\n",
    "\n",
    "\n",
    "## results\n",
    "path_output_report = os.path.join(path_results, 'scorecard_report.xlsx')\n",
    "\n",
    "y_label = 'target'"
   ]
  },
  {
   "cell_type": "markdown",
   "id": "cb28a8cd",
   "metadata": {},
   "source": [
    "# 数据读取"
   ]
  },
  {
   "cell_type": "code",
   "execution_count": 3,
   "id": "4f0e3d4e",
   "metadata": {},
   "outputs": [],
   "source": [
    "df_labels = tlm.read_data(path_train_label)\n",
    "df_train = tlm.read_data(path_row_train).drop(columns=[y_label])\n",
    "\n",
    "features = df_train.columns.drop(['customer_ID', 'S_2']).to_list()"
   ]
  },
  {
   "cell_type": "code",
   "execution_count": 4,
   "id": "13215536",
   "metadata": {},
   "outputs": [],
   "source": [
    "cat_features = [\n",
    "    \"B_30\",\n",
    "    \"B_38\",\n",
    "    \"D_114\",\n",
    "    \"D_116\",\n",
    "    \"D_117\",\n",
    "    \"D_120\",\n",
    "    \"D_126\",\n",
    "    \"D_63\",\n",
    "    \"D_64\",\n",
    "    \"D_66\",\n",
    "    \"D_68\",\n",
    "]\n",
    "\n",
    "num_features = [col for col in features if col not in cat_features]\n",
    "\n",
    "df_train[cat_features] = df_train[cat_features].astype('object')"
   ]
  },
  {
   "cell_type": "code",
   "execution_count": 5,
   "id": "19e8f86e",
   "metadata": {},
   "outputs": [],
   "source": [
    "train_num_agg = df_train.groupby(\"customer_ID\")[num_features].agg(['mean', 'std', 'min', 'max', 'last'])\n",
    "train_num_agg.columns = ['_'.join(x) for x in train_num_agg.columns]\n",
    "train_num_agg.reset_index(inplace = True)\n",
    "\n",
    "train_cat_agg = df_train.groupby(\"customer_ID\")[cat_features].agg(['count', 'last', 'nunique'])\n",
    "train_cat_agg.columns = ['_'.join(x) for x in train_cat_agg.columns]\n",
    "train_cat_agg.reset_index(inplace = True)\n",
    "\n",
    "df_train = pd.merge(df_labels, train_num_agg, how='left', on = 'customer_ID')\n",
    "df_train = pd.merge(df_train, train_cat_agg, how='left', on = 'customer_ID')"
   ]
  },
  {
   "cell_type": "markdown",
   "id": "8e8f3334",
   "metadata": {},
   "source": [
    "## 数据准备"
   ]
  },
  {
   "cell_type": "code",
   "execution_count": 6,
   "id": "a5194c94",
   "metadata": {},
   "outputs": [],
   "source": [
    "# df_train = df_train.groupby(\"customer_ID\").tail(1).reset_index(drop=True)\n",
    "# #df_test = df_test.groupby(\"customer_ID\").tail(1).reset_index(drop=True)"
   ]
  },
  {
   "cell_type": "code",
   "execution_count": 7,
   "id": "2abac6d6",
   "metadata": {},
   "outputs": [
    {
     "data": {
      "text/html": [
       "<div>\n",
       "<style scoped>\n",
       "    .dataframe tbody tr th:only-of-type {\n",
       "        vertical-align: middle;\n",
       "    }\n",
       "\n",
       "    .dataframe tbody tr th {\n",
       "        vertical-align: top;\n",
       "    }\n",
       "\n",
       "    .dataframe thead th {\n",
       "        text-align: right;\n",
       "    }\n",
       "</style>\n",
       "<table border=\"1\" class=\"dataframe\">\n",
       "  <thead>\n",
       "    <tr style=\"text-align: right;\">\n",
       "      <th></th>\n",
       "      <th>customer_ID</th>\n",
       "      <th>target</th>\n",
       "      <th>P_2_mean</th>\n",
       "      <th>P_2_std</th>\n",
       "      <th>P_2_min</th>\n",
       "      <th>P_2_max</th>\n",
       "      <th>P_2_last</th>\n",
       "      <th>D_39_mean</th>\n",
       "      <th>D_39_std</th>\n",
       "      <th>D_39_min</th>\n",
       "      <th>...</th>\n",
       "      <th>D_63_nunique</th>\n",
       "      <th>D_64_count</th>\n",
       "      <th>D_64_last</th>\n",
       "      <th>D_64_nunique</th>\n",
       "      <th>D_66_count</th>\n",
       "      <th>D_66_last</th>\n",
       "      <th>D_66_nunique</th>\n",
       "      <th>D_68_count</th>\n",
       "      <th>D_68_last</th>\n",
       "      <th>D_68_nunique</th>\n",
       "    </tr>\n",
       "  </thead>\n",
       "  <tbody>\n",
       "    <tr>\n",
       "      <th>0</th>\n",
       "      <td>0000099d6bd597052cdcda90ffabf56573fe9d7c79be5f...</td>\n",
       "      <td>0</td>\n",
       "      <td>0.933594</td>\n",
       "      <td>0.024194</td>\n",
       "      <td>0.868652</td>\n",
       "      <td>0.960449</td>\n",
       "      <td>0.934570</td>\n",
       "      <td>0.010704</td>\n",
       "      <td>0.024440</td>\n",
       "      <td>0.001082</td>\n",
       "      <td>...</td>\n",
       "      <td>1</td>\n",
       "      <td>13</td>\n",
       "      <td>O</td>\n",
       "      <td>1</td>\n",
       "      <td>0</td>\n",
       "      <td>None</td>\n",
       "      <td>0</td>\n",
       "      <td>13</td>\n",
       "      <td>6.0</td>\n",
       "      <td>1</td>\n",
       "    </tr>\n",
       "    <tr>\n",
       "      <th>1</th>\n",
       "      <td>00000fd6641609c6ece5454664794f0340ad84dddce9a2...</td>\n",
       "      <td>0</td>\n",
       "      <td>0.899902</td>\n",
       "      <td>0.022097</td>\n",
       "      <td>0.861328</td>\n",
       "      <td>0.929199</td>\n",
       "      <td>0.880371</td>\n",
       "      <td>0.215210</td>\n",
       "      <td>0.199123</td>\n",
       "      <td>0.002224</td>\n",
       "      <td>...</td>\n",
       "      <td>1</td>\n",
       "      <td>13</td>\n",
       "      <td>O</td>\n",
       "      <td>1</td>\n",
       "      <td>0</td>\n",
       "      <td>None</td>\n",
       "      <td>0</td>\n",
       "      <td>13</td>\n",
       "      <td>6.0</td>\n",
       "      <td>1</td>\n",
       "    </tr>\n",
       "    <tr>\n",
       "      <th>2</th>\n",
       "      <td>00001b22f846c82c51f6e3958ccd81970162bae8b007e8...</td>\n",
       "      <td>0</td>\n",
       "      <td>0.878418</td>\n",
       "      <td>0.028837</td>\n",
       "      <td>0.797852</td>\n",
       "      <td>0.904297</td>\n",
       "      <td>0.880859</td>\n",
       "      <td>0.004181</td>\n",
       "      <td>0.002759</td>\n",
       "      <td>0.000802</td>\n",
       "      <td>...</td>\n",
       "      <td>1</td>\n",
       "      <td>13</td>\n",
       "      <td>R</td>\n",
       "      <td>1</td>\n",
       "      <td>0</td>\n",
       "      <td>None</td>\n",
       "      <td>0</td>\n",
       "      <td>13</td>\n",
       "      <td>6.0</td>\n",
       "      <td>1</td>\n",
       "    </tr>\n",
       "    <tr>\n",
       "      <th>3</th>\n",
       "      <td>000041bdba6ecadd89a52d11886e8eaaec9325906c9723...</td>\n",
       "      <td>0</td>\n",
       "      <td>0.599121</td>\n",
       "      <td>0.020082</td>\n",
       "      <td>0.567383</td>\n",
       "      <td>0.623535</td>\n",
       "      <td>0.621582</td>\n",
       "      <td>0.048859</td>\n",
       "      <td>0.088490</td>\n",
       "      <td>0.000660</td>\n",
       "      <td>...</td>\n",
       "      <td>1</td>\n",
       "      <td>13</td>\n",
       "      <td>O</td>\n",
       "      <td>1</td>\n",
       "      <td>0</td>\n",
       "      <td>None</td>\n",
       "      <td>0</td>\n",
       "      <td>13</td>\n",
       "      <td>3.0</td>\n",
       "      <td>3</td>\n",
       "    </tr>\n",
       "    <tr>\n",
       "      <th>4</th>\n",
       "      <td>00007889e4fcd2614b6cbe7f8f3d2e5c728eca32d9eb8a...</td>\n",
       "      <td>0</td>\n",
       "      <td>0.891602</td>\n",
       "      <td>0.042316</td>\n",
       "      <td>0.805176</td>\n",
       "      <td>0.940430</td>\n",
       "      <td>0.872070</td>\n",
       "      <td>0.004642</td>\n",
       "      <td>0.002883</td>\n",
       "      <td>0.000030</td>\n",
       "      <td>...</td>\n",
       "      <td>1</td>\n",
       "      <td>13</td>\n",
       "      <td>O</td>\n",
       "      <td>1</td>\n",
       "      <td>13</td>\n",
       "      <td>1.0</td>\n",
       "      <td>1</td>\n",
       "      <td>13</td>\n",
       "      <td>6.0</td>\n",
       "      <td>1</td>\n",
       "    </tr>\n",
       "  </tbody>\n",
       "</table>\n",
       "<p>5 rows × 920 columns</p>\n",
       "</div>"
      ],
      "text/plain": [
       "                                         customer_ID  target  P_2_mean  \\\n",
       "0  0000099d6bd597052cdcda90ffabf56573fe9d7c79be5f...       0  0.933594   \n",
       "1  00000fd6641609c6ece5454664794f0340ad84dddce9a2...       0  0.899902   \n",
       "2  00001b22f846c82c51f6e3958ccd81970162bae8b007e8...       0  0.878418   \n",
       "3  000041bdba6ecadd89a52d11886e8eaaec9325906c9723...       0  0.599121   \n",
       "4  00007889e4fcd2614b6cbe7f8f3d2e5c728eca32d9eb8a...       0  0.891602   \n",
       "\n",
       "    P_2_std   P_2_min   P_2_max  P_2_last  D_39_mean  D_39_std  D_39_min  ...  \\\n",
       "0  0.024194  0.868652  0.960449  0.934570   0.010704  0.024440  0.001082  ...   \n",
       "1  0.022097  0.861328  0.929199  0.880371   0.215210  0.199123  0.002224  ...   \n",
       "2  0.028837  0.797852  0.904297  0.880859   0.004181  0.002759  0.000802  ...   \n",
       "3  0.020082  0.567383  0.623535  0.621582   0.048859  0.088490  0.000660  ...   \n",
       "4  0.042316  0.805176  0.940430  0.872070   0.004642  0.002883  0.000030  ...   \n",
       "\n",
       "   D_63_nunique  D_64_count  D_64_last  D_64_nunique  D_66_count  D_66_last  \\\n",
       "0             1          13          O             1           0       None   \n",
       "1             1          13          O             1           0       None   \n",
       "2             1          13          R             1           0       None   \n",
       "3             1          13          O             1           0       None   \n",
       "4             1          13          O             1          13        1.0   \n",
       "\n",
       "   D_66_nunique  D_68_count  D_68_last  D_68_nunique  \n",
       "0             0          13        6.0             1  \n",
       "1             0          13        6.0             1  \n",
       "2             0          13        6.0             1  \n",
       "3             0          13        3.0             3  \n",
       "4             1          13        6.0             1  \n",
       "\n",
       "[5 rows x 920 columns]"
      ]
     },
     "execution_count": 7,
     "metadata": {},
     "output_type": "execute_result"
    }
   ],
   "source": [
    "df_train.head()"
   ]
  },
  {
   "cell_type": "markdown",
   "id": "5d5bb995",
   "metadata": {},
   "source": [
    "## 数据预处理"
   ]
  },
  {
   "cell_type": "code",
   "execution_count": 8,
   "id": "1e48ad80",
   "metadata": {},
   "outputs": [],
   "source": [
    "trans_train, filter_cols, missing_cols, single_list, mutitype_list, varaince_list = tlm.feature_filter(df_train, y_label)"
   ]
  },
  {
   "cell_type": "code",
   "execution_count": 9,
   "id": "2bb5dcc9",
   "metadata": {},
   "outputs": [],
   "source": [
    "missing_threshold=0.9\n",
    "single_threshold=0.9  \n",
    "variance_threshold=0\n",
    "unique_threshold=40    \n",
    "feat_ = '字段名'\n",
    "\n",
    "analysis = pd.DataFrame(data={'字段名': df_train.columns.tolist()})\n",
    "\n",
    "analysis['缺失率过滤'] = analysis[feat_].map(lambda x: '02.缺失率>={},被移除'.format(missing_threshold) if x in missing_cols else '')\n",
    "analysis['单一值、百分比过高特征过滤'] = analysis[feat_].map(lambda x: '03.单一值、百分比>={},被移除'.format(single_threshold) if x in single_list else '')\n",
    "analysis['类别过多特征过滤'] = analysis[feat_].map(lambda x: '04.类别取值个数>={},被移除'.format(unique_threshold) if x in mutitype_list else '')\n",
    "analysis['方差过小过滤'] = analysis[feat_].map(lambda x: '05.方差<={},被移除'.format(variance_threshold) if x in varaince_list else '')\n",
    "\n",
    "title = \"数据预过滤\"\n",
    "tlm.dat2excel(analysis, title, sheet_name='06.数据预处理', excel_path=path_output_report)"
   ]
  },
  {
   "cell_type": "markdown",
   "id": "62869d69",
   "metadata": {},
   "source": [
    "## 分箱及分箱调整"
   ]
  },
  {
   "cell_type": "code",
   "execution_count": 10,
   "id": "8a255a22",
   "metadata": {},
   "outputs": [
    {
     "name": "stderr",
     "output_type": "stream",
     "text": [
      "There are blank strings in 1 columns, which are replaced with NaN. \n",
      " (ColumnNames: D_64_last)\n",
      "There are 1 variables have only one binning intervals，please check the binning result. \n",
      " (ColumnNames: D_66_last)\n"
     ]
    }
   ],
   "source": [
    "bins_adj = tlm.woebin(trans_train, y=y_label)"
   ]
  },
  {
   "cell_type": "code",
   "execution_count": 11,
   "id": "1dcc7960",
   "metadata": {},
   "outputs": [
    {
     "name": "stderr",
     "output_type": "stream",
     "text": [
      "特征D_66_last，除特殊值分箱外，分箱箱数少于2箱，无法调整, 建议删除\n",
      "特征S_18_last, 单调分箱调整失败\n",
      "特征D_109_last, 单调分箱调整失败\n"
     ]
    }
   ],
   "source": [
    "# 调单调变量\n",
    "bins, res_monotone_list, res_un_monotone_list= tlm.woebin_monotone_adj(trans_train, y=y_label, \n",
    "                                                                bins=bins_adj, cols=list(bins_adj.keys()))"
   ]
  },
  {
   "cell_type": "code",
   "execution_count": 12,
   "id": "af627b86",
   "metadata": {},
   "outputs": [],
   "source": [
    "bins = {key: item for key, item in bins.items() if key in res_monotone_list}"
   ]
  },
  {
   "cell_type": "code",
   "execution_count": 13,
   "id": "dbe8a240",
   "metadata": {},
   "outputs": [
    {
     "name": "stdout",
     "output_type": "stream",
     "text": [
      "[INFO] converting into woe values ...\n"
     ]
    },
    {
     "name": "stderr",
     "output_type": "stream",
     "text": [
      "There are blank strings in 1 columns, which are replaced with NaN. \n",
      " (ColumnNames: D_64_last)\n"
     ]
    },
    {
     "name": "stdout",
     "output_type": "stream",
     "text": [
      "Woe transformating on 458913 rows and 831 columns in 00:11:57\n"
     ]
    }
   ],
   "source": [
    "train_woe = tlm.woebin_ply(trans_train[res_monotone_list + [y_label]], bins)"
   ]
  },
  {
   "cell_type": "code",
   "execution_count": 14,
   "id": "59ca099b",
   "metadata": {},
   "outputs": [],
   "source": [
    "result = pd.DataFrame(data={'字段名': trans_train.columns.tolist()})\n",
    "result['单调变量调整成功'] = result['字段名'].map(lambda x: '单调变量调整成功' if x in res_monotone_list else '')\n",
    "result['单调变量调整失败'] = result['字段名'].map(lambda x: '单调变量调整失败' if x in res_un_monotone_list else '')\n",
    "\n",
    "title = '调整后分箱结果'\n",
    "tlm.dict2excel(bins, title=title, sheet_name='09.调整后分箱结果', excel_path=path_output_report)"
   ]
  },
  {
   "cell_type": "code",
   "execution_count": 15,
   "id": "49544900",
   "metadata": {},
   "outputs": [
    {
     "data": {
      "text/html": [
       "<div>\n",
       "<style scoped>\n",
       "    .dataframe tbody tr th:only-of-type {\n",
       "        vertical-align: middle;\n",
       "    }\n",
       "\n",
       "    .dataframe tbody tr th {\n",
       "        vertical-align: top;\n",
       "    }\n",
       "\n",
       "    .dataframe thead th {\n",
       "        text-align: right;\n",
       "    }\n",
       "</style>\n",
       "<table border=\"1\" class=\"dataframe\">\n",
       "  <thead>\n",
       "    <tr style=\"text-align: right;\">\n",
       "      <th></th>\n",
       "      <th>target</th>\n",
       "      <th>S_20_std_woe</th>\n",
       "      <th>R_27_last_woe</th>\n",
       "      <th>B_15_mean_woe</th>\n",
       "      <th>D_119_last_woe</th>\n",
       "      <th>R_13_last_woe</th>\n",
       "      <th>S_16_std_woe</th>\n",
       "      <th>D_125_last_woe</th>\n",
       "      <th>S_9_last_woe</th>\n",
       "      <th>D_143_mean_woe</th>\n",
       "      <th>...</th>\n",
       "      <th>R_20_mean_woe</th>\n",
       "      <th>D_121_max_woe</th>\n",
       "      <th>B_32_min_woe</th>\n",
       "      <th>D_50_std_woe</th>\n",
       "      <th>D_104_mean_woe</th>\n",
       "      <th>R_10_last_woe</th>\n",
       "      <th>S_20_mean_woe</th>\n",
       "      <th>R_2_min_woe</th>\n",
       "      <th>D_70_last_woe</th>\n",
       "      <th>S_9_max_woe</th>\n",
       "    </tr>\n",
       "  </thead>\n",
       "  <tbody>\n",
       "    <tr>\n",
       "      <th>0</th>\n",
       "      <td>0</td>\n",
       "      <td>0.115</td>\n",
       "      <td>-0.285</td>\n",
       "      <td>-0.110</td>\n",
       "      <td>0.019</td>\n",
       "      <td>-0.078</td>\n",
       "      <td>-0.128</td>\n",
       "      <td>-0.056</td>\n",
       "      <td>0.036</td>\n",
       "      <td>-0.145</td>\n",
       "      <td>...</td>\n",
       "      <td>-0.167</td>\n",
       "      <td>-0.375</td>\n",
       "      <td>0.037</td>\n",
       "      <td>-0.166</td>\n",
       "      <td>0.299</td>\n",
       "      <td>-0.204</td>\n",
       "      <td>0.472</td>\n",
       "      <td>0.048</td>\n",
       "      <td>-0.518</td>\n",
       "      <td>0.045</td>\n",
       "    </tr>\n",
       "    <tr>\n",
       "      <th>1</th>\n",
       "      <td>0</td>\n",
       "      <td>0.115</td>\n",
       "      <td>-0.285</td>\n",
       "      <td>0.013</td>\n",
       "      <td>-0.357</td>\n",
       "      <td>-0.078</td>\n",
       "      <td>-0.128</td>\n",
       "      <td>-0.056</td>\n",
       "      <td>0.506</td>\n",
       "      <td>-0.145</td>\n",
       "      <td>...</td>\n",
       "      <td>-0.167</td>\n",
       "      <td>0.216</td>\n",
       "      <td>-0.063</td>\n",
       "      <td>0.273</td>\n",
       "      <td>-0.277</td>\n",
       "      <td>-0.204</td>\n",
       "      <td>-0.096</td>\n",
       "      <td>-0.122</td>\n",
       "      <td>-0.518</td>\n",
       "      <td>0.045</td>\n",
       "    </tr>\n",
       "    <tr>\n",
       "      <th>2</th>\n",
       "      <td>0</td>\n",
       "      <td>-0.087</td>\n",
       "      <td>-0.285</td>\n",
       "      <td>0.024</td>\n",
       "      <td>-0.357</td>\n",
       "      <td>-0.078</td>\n",
       "      <td>-0.128</td>\n",
       "      <td>-0.056</td>\n",
       "      <td>-0.218</td>\n",
       "      <td>-0.145</td>\n",
       "      <td>...</td>\n",
       "      <td>-0.167</td>\n",
       "      <td>0.216</td>\n",
       "      <td>-0.063</td>\n",
       "      <td>0.273</td>\n",
       "      <td>-0.277</td>\n",
       "      <td>-0.204</td>\n",
       "      <td>-0.096</td>\n",
       "      <td>0.048</td>\n",
       "      <td>-0.518</td>\n",
       "      <td>-0.218</td>\n",
       "    </tr>\n",
       "    <tr>\n",
       "      <th>3</th>\n",
       "      <td>0</td>\n",
       "      <td>-0.087</td>\n",
       "      <td>-0.285</td>\n",
       "      <td>0.024</td>\n",
       "      <td>0.378</td>\n",
       "      <td>-0.078</td>\n",
       "      <td>-0.128</td>\n",
       "      <td>-0.056</td>\n",
       "      <td>0.036</td>\n",
       "      <td>-0.145</td>\n",
       "      <td>...</td>\n",
       "      <td>-0.167</td>\n",
       "      <td>0.216</td>\n",
       "      <td>0.037</td>\n",
       "      <td>-0.847</td>\n",
       "      <td>-0.277</td>\n",
       "      <td>-0.204</td>\n",
       "      <td>-0.096</td>\n",
       "      <td>0.048</td>\n",
       "      <td>-0.518</td>\n",
       "      <td>0.045</td>\n",
       "    </tr>\n",
       "    <tr>\n",
       "      <th>4</th>\n",
       "      <td>0</td>\n",
       "      <td>0.115</td>\n",
       "      <td>-0.285</td>\n",
       "      <td>0.013</td>\n",
       "      <td>-0.357</td>\n",
       "      <td>-0.102</td>\n",
       "      <td>-0.128</td>\n",
       "      <td>-0.056</td>\n",
       "      <td>-0.218</td>\n",
       "      <td>-0.145</td>\n",
       "      <td>...</td>\n",
       "      <td>-0.167</td>\n",
       "      <td>0.216</td>\n",
       "      <td>0.323</td>\n",
       "      <td>-0.394</td>\n",
       "      <td>0.299</td>\n",
       "      <td>-0.204</td>\n",
       "      <td>-0.096</td>\n",
       "      <td>-0.122</td>\n",
       "      <td>-0.518</td>\n",
       "      <td>-0.218</td>\n",
       "    </tr>\n",
       "  </tbody>\n",
       "</table>\n",
       "<p>5 rows × 832 columns</p>\n",
       "</div>"
      ],
      "text/plain": [
       "   target  S_20_std_woe  R_27_last_woe  B_15_mean_woe  D_119_last_woe  \\\n",
       "0       0         0.115         -0.285         -0.110           0.019   \n",
       "1       0         0.115         -0.285          0.013          -0.357   \n",
       "2       0        -0.087         -0.285          0.024          -0.357   \n",
       "3       0        -0.087         -0.285          0.024           0.378   \n",
       "4       0         0.115         -0.285          0.013          -0.357   \n",
       "\n",
       "   R_13_last_woe  S_16_std_woe  D_125_last_woe  S_9_last_woe  D_143_mean_woe  \\\n",
       "0         -0.078        -0.128          -0.056         0.036          -0.145   \n",
       "1         -0.078        -0.128          -0.056         0.506          -0.145   \n",
       "2         -0.078        -0.128          -0.056        -0.218          -0.145   \n",
       "3         -0.078        -0.128          -0.056         0.036          -0.145   \n",
       "4         -0.102        -0.128          -0.056        -0.218          -0.145   \n",
       "\n",
       "   ...  R_20_mean_woe  D_121_max_woe  B_32_min_woe  D_50_std_woe  \\\n",
       "0  ...         -0.167         -0.375         0.037        -0.166   \n",
       "1  ...         -0.167          0.216        -0.063         0.273   \n",
       "2  ...         -0.167          0.216        -0.063         0.273   \n",
       "3  ...         -0.167          0.216         0.037        -0.847   \n",
       "4  ...         -0.167          0.216         0.323        -0.394   \n",
       "\n",
       "   D_104_mean_woe  R_10_last_woe  S_20_mean_woe  R_2_min_woe  D_70_last_woe  \\\n",
       "0           0.299         -0.204          0.472        0.048         -0.518   \n",
       "1          -0.277         -0.204         -0.096       -0.122         -0.518   \n",
       "2          -0.277         -0.204         -0.096        0.048         -0.518   \n",
       "3          -0.277         -0.204         -0.096        0.048         -0.518   \n",
       "4           0.299         -0.204         -0.096       -0.122         -0.518   \n",
       "\n",
       "   S_9_max_woe  \n",
       "0        0.045  \n",
       "1        0.045  \n",
       "2       -0.218  \n",
       "3        0.045  \n",
       "4       -0.218  \n",
       "\n",
       "[5 rows x 832 columns]"
      ]
     },
     "execution_count": 15,
     "metadata": {},
     "output_type": "execute_result"
    }
   ],
   "source": [
    "train_woe.head()"
   ]
  },
  {
   "cell_type": "markdown",
   "id": "74a0bd2c",
   "metadata": {},
   "source": [
    "## 特征筛选"
   ]
  },
  {
   "cell_type": "code",
   "execution_count": 16,
   "id": "7904ce61",
   "metadata": {},
   "outputs": [
    {
     "name": "stdout",
     "output_type": "stream",
     "text": [
      "变量B_15_mean 的分箱结果未通过卡方检验\n",
      "变量S_16_std 的分箱结果未通过卡方检验\n",
      "变量R_20_std 的分箱结果未通过卡方检验\n",
      "变量D_107_std 的分箱结果未通过卡方检验\n",
      "变量D_81_std 的分箱结果未通过卡方检验\n",
      "变量D_79_std 的分箱结果未通过卡方检验\n",
      "变量R_2_std 的分箱结果未通过卡方检验\n",
      "变量D_82_mean 的分箱结果未通过卡方检验\n",
      "变量D_65_std 的分箱结果未通过卡方检验\n",
      "变量S_17_min 的分箱结果未通过卡方检验\n",
      "变量D_133_std 的分箱结果未通过卡方检验\n",
      "变量R_5_std 的分箱结果未通过卡方检验\n",
      "变量S_25_std 的分箱结果未通过卡方检验\n",
      "变量R_8_last 的分箱结果未通过卡方检验\n",
      "变量D_141_last 的分箱结果未通过卡方检验\n",
      "变量R_24_std 的分箱结果未通过卡方检验\n",
      "变量S_20_last 的分箱结果未通过卡方检验\n",
      "变量D_129_std 的分箱结果未通过卡方检验\n",
      "变量D_84_last 的分箱结果未通过卡方检验\n",
      "变量R_11_last 的分箱结果未通过卡方检验\n",
      "变量R_10_std 的分箱结果未通过卡方检验\n",
      "变量D_130_last 的分箱结果未通过卡方检验\n",
      "变量D_127_last 的分箱结果未通过卡方检验\n",
      "变量B_21_std 的分箱结果未通过卡方检验\n",
      "变量D_72_std 的分箱结果未通过卡方检验\n",
      "变量R_4_std 的分箱结果未通过卡方检验\n",
      "变量D_69_last 的分箱结果未通过卡方检验\n",
      "变量R_25_last 的分箱结果未通过卡方检验\n",
      "变量R_7_last 的分箱结果未通过卡方检验\n",
      "变量B_41_last 的分箱结果未通过卡方检验\n",
      "变量R_8_std 的分箱结果未通过卡方检验\n",
      "变量B_21_last 的分箱结果未通过卡方检验\n",
      "变量R_24_last 的分箱结果未通过卡方检验\n",
      "变量R_7_std 的分箱结果未通过卡方检验\n",
      "变量D_123_std 的分箱结果未通过卡方检验\n",
      "变量R_23_last 的分箱结果未通过卡方检验\n",
      "变量D_123_last 的分箱结果未通过卡方检验\n",
      "变量R_15_std 的分箱结果未通过卡方检验\n",
      "变量B_32_std 的分箱结果未通过卡方检验\n",
      "变量S_6_last 的分箱结果未通过卡方检验\n",
      "变量D_84_std 的分箱结果未通过卡方检验\n",
      "变量D_72_last 的分箱结果未通过卡方检验\n",
      "变量R_14_std 的分箱结果未通过卡方检验\n",
      "变量D_93_mean 的分箱结果未通过卡方检验\n",
      "变量D_105_std 的分箱结果未通过卡方检验\n",
      "变量D_112_last 的分箱结果未通过卡方检验\n",
      "变量D_89_std 的分箱结果未通过卡方检验\n",
      "变量D_96_last 的分箱结果未通过卡方检验\n",
      "变量D_78_std 的分箱结果未通过卡方检验\n",
      "变量S_18_std 的分箱结果未通过卡方检验\n",
      "变量D_79_last 的分箱结果未通过卡方检验\n",
      "变量R_18_std 的分箱结果未通过卡方检验\n",
      "变量D_144_last 的分箱结果未通过卡方检验\n",
      "变量S_22_std 的分箱结果未通过卡方检验\n",
      "变量D_83_last 的分箱结果未通过卡方检验\n",
      "变量R_27_mean 的分箱结果未通过卡方检验\n",
      "变量B_15_last 的分箱结果未通过卡方检验\n",
      "变量D_140_last 的分箱结果未通过卡方检验\n",
      "变量B_24_std 的分箱结果未通过卡方检验\n",
      "变量R_16_last 的分箱结果未通过卡方检验\n",
      "变量D_82_std 的分箱结果未通过卡方检验\n",
      "变量S_19_max 的分箱结果未通过卡方检验\n"
     ]
    }
   ],
   "source": [
    "iv_list, iv_drop_var, train_woe = tlm.feature_selection_iv(train_woe, y_label)\n",
    "chi_drop_var, train_woe = tlm.feature_selection_chi(train_woe, bins=bins, y=y_label)\n",
    "corr_list, corr_drop_var, train_woe = tlm.feature_selection_corr(train_woe, y_label)\n",
    "vif_list, vif_drop_var, train_woe = tlm.feature_selection_vif(train_woe, y_label)"
   ]
  },
  {
   "cell_type": "code",
   "execution_count": null,
   "id": "bacdd6b4",
   "metadata": {},
   "outputs": [
    {
     "name": "stderr",
     "output_type": "stream",
     "text": [
      "变量P_2_last_woe被加入\n",
      "变量B_18_last_woe被加入\n",
      "变量S_3_mean_woe被加入\n",
      "变量R_1_last_woe被加入\n",
      "变量B_9_last_woe被加入\n",
      "变量D_39_last_woe被加入\n",
      "变量R_3_mean_woe被加入\n",
      "变量D_44_last_woe被加入\n",
      "变量D_56_max_woe被加入\n",
      "变量B_23_std_woe被加入\n",
      "变量D_41_last_woe被加入\n",
      "变量D_132_mean_woe被加入\n",
      "变量P_3_last_woe被加入\n",
      "变量D_42_min_woe被加入\n",
      "变量B_22_mean_woe被加入\n",
      "变量R_2_last_woe被加入\n",
      "变量D_50_std_woe被加入\n",
      "变量B_4_max_woe被加入\n",
      "变量S_6_mean_woe被加入\n",
      "变量D_46_mean_woe被加入\n",
      "变量S_23_last_woe被加入\n",
      "变量D_43_last_woe被加入\n",
      "变量D_51_last_woe被加入\n",
      "变量D_54_min_woe被加入\n",
      "变量B_21_mean_woe被加入\n",
      "变量S_26_max_woe被加入\n",
      "变量D_60_max_woe被加入\n",
      "变量S_15_max_woe被加入\n",
      "变量S_22_last_woe被加入\n",
      "变量B_22_min_woe被加入\n",
      "变量D_65_last_woe被加入\n",
      "变量R_26_mean_woe被加入\n",
      "变量D_71_last_woe被加入\n",
      "变量D_50_last_woe被加入\n",
      "变量S_12_std_woe被加入\n",
      "变量B_5_mean_woe被加入\n",
      "变量S_9_std_woe被加入\n",
      "变量B_25_mean_woe被加入\n",
      "变量D_39_max_woe被加入\n",
      "变量D_66_count_woe被加入\n",
      "变量D_47_min_woe被加入\n",
      "变量S_11_mean_woe被加入\n",
      "变量B_25_std_woe被加入\n",
      "变量P_4_std_woe被加入\n",
      "变量B_17_min_woe被加入\n",
      "变量R_1_mean_woe被加入\n",
      "变量D_46_last_woe被加入\n",
      "变量D_45_max_woe被加入\n",
      "变量D_82_min_woe被加入\n",
      "变量D_123_mean_woe被加入\n",
      "变量D_60_mean_woe被加入\n",
      "变量D_121_max_woe被加入\n",
      "变量D_144_mean_woe被加入\n",
      "变量D_76_last_woe被加入\n",
      "变量S_15_last_woe被加入\n",
      "变量S_9_min_woe被加入\n",
      "变量S_9_max_woe被加入\n",
      "变量D_44_std_woe被加入\n",
      "变量B_14_last_woe被加入\n",
      "变量D_72_mean_woe被加入\n",
      "变量R_11_mean_woe被加入\n",
      "变量D_64_last_woe被加入\n",
      "变量D_104_std_woe被加入\n",
      "变量D_77_std_woe被加入\n",
      "变量S_26_last_woe被加入\n",
      "变量B_24_mean_woe被加入\n",
      "变量R_27_std_woe被加入\n",
      "变量D_68_count_woe被加入\n"
     ]
    }
   ],
   "source": [
    "stepwise_result, stepwise_drop_list, train_woe = tlm.stepwise(train_woe, y_label, remove_negitive_coef=False)"
   ]
  },
  {
   "cell_type": "code",
   "execution_count": null,
   "id": "03aa6e65",
   "metadata": {},
   "outputs": [],
   "source": [
    "coef_result, coef_drop_list, train_woe = tlm.feature_selection_coef(train_woe, y_label)"
   ]
  },
  {
   "cell_type": "code",
   "execution_count": null,
   "id": "90583003",
   "metadata": {},
   "outputs": [],
   "source": [
    "iv_min_threshold = 0.02\n",
    "iv_max_threshold = 0.8\n",
    "corr_threshold = 0.7\n",
    "vif_threshold = 10\n",
    "chi_threshold = 0.05\n",
    "\n",
    "analysis = pd.DataFrame(data={'字段名': train_woe.columns.tolist()})\n",
    "\n",
    "analysis['IV 筛选'] = analysis['字段名'].map(lambda x: '06.IV值<{}或IV值>{},被移除'.format(iv_min_threshold, iv_max_threshold) if x in iv_drop_var else '')\n",
    "analysis['卡方检验'] = analysis['字段名'].map(lambda x: '08.卡方未大于阈值,被移除' if x in chi_drop_var else '')\n",
    "analysis['相关系数筛选'] = analysis['字段名'].map(lambda x: '09.相关系数>{},被移除'.format(corr_threshold) if x in corr_drop_var else '')\n",
    "analysis['VIF 筛选'] = analysis['字段名'].map(lambda x: '10.VIF值>{},被移除'.format(vif_threshold) if x in vif_drop_var else '')\n",
    "\n",
    "analysis['逐步回归筛选'] = analysis['字段名'].map(lambda x: '11.逐步回归筛选,被移除' if x in stepwise_drop_list else '')\n",
    "analysis['剔除系数为负'] = analysis['字段名'].map(lambda x: '12.剔除系数为负' if x in coef_drop_list else '')\n",
    "\n",
    "tlm.dat2excel(analysis, '特征筛选', sheet_name='10.特征筛选', excel_path=path_output_report)"
   ]
  },
  {
   "cell_type": "markdown",
   "id": "c6b6caa4",
   "metadata": {},
   "source": [
    "## 模型构建"
   ]
  },
  {
   "cell_type": "code",
   "execution_count": null,
   "id": "398e29de",
   "metadata": {},
   "outputs": [],
   "source": [
    "model = tlm.get_lr_model(train_woe, y_label)"
   ]
  },
  {
   "cell_type": "markdown",
   "id": "066fb81f",
   "metadata": {},
   "source": [
    "## 评分卡"
   ]
  },
  {
   "cell_type": "code",
   "execution_count": null,
   "id": "672fedcd",
   "metadata": {},
   "outputs": [],
   "source": [
    "card = tlm.scorecard(bins, model, train_woe.columns.drop(y_label))"
   ]
  },
  {
   "cell_type": "markdown",
   "id": "21a9a6f9",
   "metadata": {},
   "source": [
    "## 评分卡映射"
   ]
  },
  {
   "cell_type": "code",
   "execution_count": null,
   "id": "19e093f2",
   "metadata": {},
   "outputs": [],
   "source": [
    "res_train = tlm.scorecard_ply(df_train, card)"
   ]
  },
  {
   "cell_type": "code",
   "execution_count": null,
   "id": "11b56a3d",
   "metadata": {},
   "outputs": [],
   "source": [
    "res_train['prob'] = model.predict_proba(train_woe.drop(columns=y_label))[:,1]"
   ]
  },
  {
   "cell_type": "code",
   "execution_count": null,
   "id": "abc4f7ad",
   "metadata": {},
   "outputs": [],
   "source": [
    "res_train[y_label] = df_train[y_label]"
   ]
  },
  {
   "cell_type": "code",
   "execution_count": null,
   "id": "4adc5747",
   "metadata": {},
   "outputs": [],
   "source": [
    "res_train.shape"
   ]
  },
  {
   "cell_type": "markdown",
   "id": "7fce83d1",
   "metadata": {},
   "source": [
    "## 模型评估"
   ]
  },
  {
   "cell_type": "code",
   "execution_count": null,
   "id": "acb554bf",
   "metadata": {},
   "outputs": [],
   "source": [
    "res = tlm.report_model({'train': res_train, 'test': copy.deepcopy(res_train)}, target=y_label, pred='score', \n",
    "                       plot··_type=[\"ks\",  \"roc\", \"score_distr\"], direction='negative')"
   ]
  },
  {
   "cell_type": "markdown",
   "id": "55704077",
   "metadata": {},
   "source": [
    "## 比赛指标"
   ]
  },
  {
   "cell_type": "code",
   "execution_count": null,
   "id": "11502e31",
   "metadata": {
    "code_folding": [
     0
    ]
   },
   "outputs": [],
   "source": [
    "def amex_metric(y_true, y_pred, return_components=False) -> float:\n",
    "    \"\"\"Amex metric for ndarrays\"\"\"\n",
    "    def top_four_percent_captured(df) -> float:\n",
    "        \"\"\"Corresponds to the recall for a threshold of 4 %\"\"\"\n",
    "        df['weight'] = df['target'].apply(lambda x: 20 if x==0 else 1)\n",
    "        four_pct_cutoff = int(0.04 * df['weight'].sum())\n",
    "        df['weight_cumsum'] = df['weight'].cumsum()\n",
    "        df_cutoff = df.loc[df['weight_cumsum'] <= four_pct_cutoff]\n",
    "        return (df_cutoff['target'] == 1).sum() / (df['target'] == 1).sum()\n",
    "        \n",
    "    def weighted_gini(df) -> float:\n",
    "        df['weight'] = df['target'].apply(lambda x: 20 if x==0 else 1)\n",
    "        df['random'] = (df['weight'] / df['weight'].sum()).cumsum()\n",
    "        total_pos = (df['target'] * df['weight']).sum()\n",
    "        df['cum_pos_found'] = (df['target'] * df['weight']).cumsum()\n",
    "        df['lorentz'] = df['cum_pos_found'] / total_pos\n",
    "        df['gini'] = (df['lorentz'] - df['random']) * df['weight']\n",
    "        return df['gini'].sum()\n",
    "\n",
    "    def normalized_weighted_gini(df) -> float:\n",
    "        \"\"\"Corresponds to 2 * AUC - 1\"\"\"\n",
    "        df2 = pd.DataFrame({'target': df.target, 'prediction': df.target})\n",
    "        df2.sort_values('prediction', ascending=False, inplace=True)\n",
    "        return weighted_gini(df) / weighted_gini(df2)\n",
    "\n",
    "    df = pd.DataFrame({'target': y_true.ravel(), 'prediction': y_pred.ravel()})\n",
    "    df.sort_values('prediction', ascending=False, inplace=True)\n",
    "    g = normalized_weighted_gini(df)\n",
    "    d = top_four_percent_captured(df)\n",
    "\n",
    "    if return_components: return g, d, 0.5 * (g + d)\n",
    "    return 0.5 * (g + d)"
   ]
  },
  {
   "cell_type": "code",
   "execution_count": null,
   "id": "36fb6e64",
   "metadata": {},
   "outputs": [],
   "source": [
    "amex_metric(res_train[y_label], res_train['prob'])"
   ]
  },
  {
   "cell_type": "code",
   "execution_count": null,
   "id": "ac9ca6cf",
   "metadata": {},
   "outputs": [],
   "source": []
  }
 ],
 "metadata": {
  "kernelspec": {
   "display_name": "Python 3.7.11 ('ml')",
   "language": "python",
   "name": "python3711jvsc74a57bd0732b8507b493a6bd3d51691a308f963b7258c72012e991cef75b40938a82b5dd"
  },
  "language_info": {
   "codemirror_mode": {
    "name": "ipython",
    "version": 3
   },
   "file_extension": ".py",
   "mimetype": "text/x-python",
   "name": "python",
   "nbconvert_exporter": "python",
   "pygments_lexer": "ipython3",
   "version": "3.7.13"
  },
  "toc": {
   "base_numbering": 1,
   "nav_menu": {},
   "number_sections": true,
   "sideBar": true,
   "skip_h1_title": false,
   "title_cell": "Table of Contents",
   "title_sidebar": "Contents",
   "toc_cell": false,
   "toc_position": {},
   "toc_section_display": true,
   "toc_window_display": true
  }
 },
 "nbformat": 4,
 "nbformat_minor": 5
}
