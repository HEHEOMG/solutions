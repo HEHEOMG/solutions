{
 "cells": [
  {
   "cell_type": "markdown",
   "id": "9d488fe5",
   "metadata": {},
   "source": [
    "# 导包"
   ]
  },
  {
   "cell_type": "code",
   "execution_count": 1,
   "id": "5d7e87f0",
   "metadata": {},
   "outputs": [],
   "source": [
    "# 将代码包路径导入python搜索路径, 导入一些必要模块\n",
    "import os\n",
    "import sys\n",
    "# 该部分为python搜索路径，调用本地的代码包，若使用服务器环境，需注释掉该部分内容\n",
    "package_path_2 = r'/Users/liliangshan/workspace/python/daily_code/tl_modeler'\n",
    "sys.path.insert(0, package_path_2)\n",
    "\n",
    "import pandas as pd\n",
    "import matplotlib.pyplot as plt\n",
    "\n",
    "import tl_modeler as tlm"
   ]
  },
  {
   "cell_type": "code",
   "execution_count": 2,
   "id": "a1ebb1ad",
   "metadata": {},
   "outputs": [],
   "source": [
    "# path_project\n",
    "path_project = r'/Users/liliangshan/workspace/python/01_datasets/AMEX_Default_Prediction'\n",
    "\n",
    "# 文件夹\n",
    "path_row_data = os.path.join(path_project, 'row_data')\n",
    "path_new_data = os.path.join(path_project, 'new_data')\n",
    "path_results = os.path.join(path_project, 'results')\n",
    "\n",
    "# row_data\n",
    "path_row_train = os.path.join(path_row_data,  'train_data.ftr')\n",
    "path_row_test  = os.path.join(path_row_data, 'test_data.ftr')\n",
    "path_train_label = os.path.join(path_row_data, 'train_labels.csv')\n",
    "\n",
    "\n",
    "\n",
    "## results\n",
    "path_output_report = os.path.join(path_results, 'scorecard_report.xlsx')\n",
    "\n",
    "y_label = 'target'"
   ]
  },
  {
   "cell_type": "markdown",
   "id": "1483c66c",
   "metadata": {},
   "source": [
    "# 数据探查"
   ]
  },
  {
   "cell_type": "code",
   "execution_count": 3,
   "id": "f039c1e3",
   "metadata": {},
   "outputs": [],
   "source": [
    "df_train = tlm.read_data(path_row_train)"
   ]
  },
  {
   "cell_type": "code",
   "execution_count": 3,
   "id": "2a0f572c",
   "metadata": {},
   "outputs": [],
   "source": [
    "df_labels = tlm.read_data(path_train_label)\n",
    "\n",
    "df_train = tlm.read_data(path_row_train)\n",
    "df_test  = tlm.read_data(path_row_test)"
   ]
  },
  {
   "cell_type": "markdown",
   "id": "7414970b",
   "metadata": {},
   "source": [
    "## 训练集标签"
   ]
  },
  {
   "cell_type": "code",
   "execution_count": 4,
   "id": "266af672",
   "metadata": {},
   "outputs": [
    {
     "data": {
      "text/plain": [
       "(False, False)"
      ]
     },
     "execution_count": 4,
     "metadata": {},
     "output_type": "execute_result"
    }
   ],
   "source": [
    "# 训练集标签缺失，重复情况\n",
    "df_labels.isna().any().any(), df_labels['customer_ID'].duplicated().any()"
   ]
  },
  {
   "cell_type": "code",
   "execution_count": 5,
   "id": "b090f9be",
   "metadata": {},
   "outputs": [
    {
     "name": "stdout",
     "output_type": "stream",
     "text": [
      "------------------------------------------------------------------------------------------\n",
      "标签分布展示如下:\n",
      "\n",
      "数据集样本有: 458913个,特征列有:1列, 标签列为: target\n"
     ]
    },
    {
     "data": {
      "text/html": [
       "<div>\n",
       "<style scoped>\n",
       "    .dataframe tbody tr th:only-of-type {\n",
       "        vertical-align: middle;\n",
       "    }\n",
       "\n",
       "    .dataframe tbody tr th {\n",
       "        vertical-align: top;\n",
       "    }\n",
       "\n",
       "    .dataframe thead th {\n",
       "        text-align: right;\n",
       "    }\n",
       "</style>\n",
       "<table border=\"1\" class=\"dataframe\">\n",
       "  <thead>\n",
       "    <tr style=\"text-align: right;\">\n",
       "      <th></th>\n",
       "      <th>label取值</th>\n",
       "      <th>label数量</th>\n",
       "      <th>label占比</th>\n",
       "    </tr>\n",
       "  </thead>\n",
       "  <tbody>\n",
       "    <tr>\n",
       "      <th>0</th>\n",
       "      <td>0</td>\n",
       "      <td>340085</td>\n",
       "      <td>74.11%</td>\n",
       "    </tr>\n",
       "    <tr>\n",
       "      <th>1</th>\n",
       "      <td>1</td>\n",
       "      <td>118828</td>\n",
       "      <td>25.89%</td>\n",
       "    </tr>\n",
       "  </tbody>\n",
       "</table>\n",
       "</div>"
      ],
      "text/plain": [
       "   label取值  label数量 label占比\n",
       "0        0   340085  74.11%\n",
       "1        1   118828  25.89%"
      ]
     },
     "metadata": {},
     "output_type": "display_data"
    },
    {
     "data": {
      "text/html": [
       "<div>\n",
       "<style scoped>\n",
       "    .dataframe tbody tr th:only-of-type {\n",
       "        vertical-align: middle;\n",
       "    }\n",
       "\n",
       "    .dataframe tbody tr th {\n",
       "        vertical-align: top;\n",
       "    }\n",
       "\n",
       "    .dataframe thead th {\n",
       "        text-align: right;\n",
       "    }\n",
       "</style>\n",
       "<table border=\"1\" class=\"dataframe\">\n",
       "  <thead>\n",
       "    <tr style=\"text-align: right;\">\n",
       "      <th></th>\n",
       "      <th>customer_ID</th>\n",
       "      <th>target</th>\n",
       "    </tr>\n",
       "  </thead>\n",
       "  <tbody>\n",
       "    <tr>\n",
       "      <th>0</th>\n",
       "      <td>0000099d6bd597052cdcda90ffabf56573fe9d7c79be5f...</td>\n",
       "      <td>0</td>\n",
       "    </tr>\n",
       "    <tr>\n",
       "      <th>1</th>\n",
       "      <td>00000fd6641609c6ece5454664794f0340ad84dddce9a2...</td>\n",
       "      <td>0</td>\n",
       "    </tr>\n",
       "    <tr>\n",
       "      <th>2</th>\n",
       "      <td>00001b22f846c82c51f6e3958ccd81970162bae8b007e8...</td>\n",
       "      <td>0</td>\n",
       "    </tr>\n",
       "  </tbody>\n",
       "</table>\n",
       "</div>"
      ],
      "text/plain": [
       "                                         customer_ID  target\n",
       "0  0000099d6bd597052cdcda90ffabf56573fe9d7c79be5f...       0\n",
       "1  00000fd6641609c6ece5454664794f0340ad84dddce9a2...       0\n",
       "2  00001b22f846c82c51f6e3958ccd81970162bae8b007e8...       0"
      ]
     },
     "metadata": {},
     "output_type": "display_data"
    },
    {
     "name": "stdout",
     "output_type": "stream",
     "text": [
      "------------------------------------------------------------------------------------------\n"
     ]
    },
    {
     "name": "stderr",
     "output_type": "stream",
     "text": [
      "sheet01.标签分布分析在/Users/liliangshan/workspace/python/01_datasets/AMEX_Default_Prediction/results/scorecard_report.xlsx中已经存在，我们将对原文件进行覆盖\n"
     ]
    }
   ],
   "source": [
    "_ = tlm.excel_label(df_labels, y=y_label, excel_path=path_output_report, show=True)"
   ]
  },
  {
   "cell_type": "markdown",
   "id": "9da8b5eb",
   "metadata": {},
   "source": [
    "训练集标签中，customer_ID共458913个，正负样本比率为25.89%和74.11%"
   ]
  },
  {
   "cell_type": "markdown",
   "id": "b78890ef",
   "metadata": {},
   "source": [
    "## 特征情况"
   ]
  },
  {
   "cell_type": "code",
   "execution_count": null,
   "id": "b02f5122",
   "metadata": {},
   "outputs": [
    {
     "name": "stderr",
     "output_type": "stream",
     "text": [
      "sheet02.训练集-数据描述性统计在/Users/liliangshan/workspace/python/01_datasets/AMEX_Default_Prediction/results/scorecard_report.xlsx中已经存在，我们将对原文件进行覆盖\n"
     ]
    }
   ],
   "source": [
    "train_detect = tlm.excel_detect(df_train, excel_path=path_output_report, sheet_name='02.训练集-数据描述性统计',)\n",
    "test_detect = tlm.excel_detect(df_test, excel_path=path_output_report, sheet_name='02.测试集-数据描述性统计',)"
   ]
  },
  {
   "cell_type": "code",
   "execution_count": null,
   "id": "f4de0bd8",
   "metadata": {},
   "outputs": [],
   "source": [
    "train_detect.head()"
   ]
  },
  {
   "cell_type": "code",
   "execution_count": null,
   "id": "8ad9b31d",
   "metadata": {},
   "outputs": [],
   "source": [
    "test_detect.head()"
   ]
  },
  {
   "cell_type": "markdown",
   "id": "1cb125df",
   "metadata": {},
   "source": [
    "1. 给到的训练集，测试集的数据为历史数据，无法直接用来建模\n",
    "2. 训练集数据条数共5531451条，涵盖了458913个用户的历史数据，测试集数据条数共11363762条，涵盖了924621个用户的历史数据"
   ]
  },
  {
   "cell_type": "code",
   "execution_count": null,
   "id": "36ee5306",
   "metadata": {},
   "outputs": [],
   "source": [
    "fig, (ax1, ax2) = plt.subplots(1, 2, figsize=(12, 5))\n",
    "train_sc = df_train['customer_ID'].value_counts().value_counts().sort_index(ascending=False).rename('Train statements per customer')\n",
    "ax1.pie(train_sc, labels=train_sc.index)\n",
    "ax1.set_title(train_sc.name)\n",
    "test_sc = df_test['customer_ID'].value_counts().value_counts().sort_index(ascending=False).rename('Test statements per customer')\n",
    "ax2.pie(test_sc, labels=test_sc.index)\n",
    "ax2.set_title(test_sc.name)\n",
    "plt.show()"
   ]
  },
  {
   "cell_type": "markdown",
   "id": "5d43a1a2",
   "metadata": {},
   "source": [
    "1. 在用户历史数据中，训练集测试集中的用户，绝大多数都有13次历史行为，"
   ]
  },
  {
   "cell_type": "code",
   "execution_count": null,
   "id": "62630c94",
   "metadata": {},
   "outputs": [],
   "source": [
    "df_train['S_2'].value_counts().sort_index(ascending=False)"
   ]
  },
  {
   "cell_type": "code",
   "execution_count": null,
   "id": "4feaf2f4",
   "metadata": {},
   "outputs": [],
   "source": [
    "df_test['S_2'].value_counts().sort_index(ascending=False)"
   ]
  },
  {
   "cell_type": "code",
   "execution_count": null,
   "id": "4b700f6e",
   "metadata": {},
   "outputs": [],
   "source": [
    "temp = df_train['S_2'].groupby(df_train['customer_ID']).max()\n",
    "plt.figure(figsize=(16, 4))\n",
    "plt.hist(temp, bins=pd.date_range(\"2018-03-01\", \"2018-04-01\", freq=\"d\"),\n",
    "         rwidth=0.8, color='#ffd700')\n",
    "plt.title('When did the train customers get their last statements?', fontsize=20)\n",
    "plt.xlabel('Last statement date per customer')\n",
    "plt.ylabel('Count')\n",
    "plt.gca().set_facecolor('#0057b8')\n",
    "plt.show()\n",
    "del temp\n",
    "\n",
    "temp = df_test['S_2'].groupby(df_test['customer_ID']).max()\n",
    "plt.figure(figsize=(16, 4))\n",
    "plt.hist(temp, bins=pd.date_range(\"2019-04-01\", \"2019-11-01\", freq=\"d\"),\n",
    "         rwidth=0.74, color='#ffd700')\n",
    "plt.title('When did the test customers get their last statements?', fontsize=20)\n",
    "plt.xlabel('Last statement date per customer')\n",
    "plt.ylabel('Count')\n",
    "plt.gca().set_facecolor('#0057b8')\n",
    "plt.show()\n",
    "del temp"
   ]
  },
  {
   "cell_type": "markdown",
   "id": "9d679d4f",
   "metadata": {},
   "source": [
    "1. 训练集中用户最新一次点击时间都聚集在一个月中，为201803-201804\n",
    "2. 测试集中用户最新一次点击时间分为两个时间段，一个是201904-201905，一个是201910-201911"
   ]
  },
  {
   "cell_type": "code",
   "execution_count": null,
   "id": "0197244e",
   "metadata": {},
   "outputs": [],
   "source": [
    "temp = pd.concat([df_train[['customer_ID', 'S_2']], df_test[['customer_ID', 'S_2']]], axis=0)\n",
    "temp.set_index('customer_ID', inplace=True)\n",
    "temp['last_month'] = temp.groupby('customer_ID').S_2.max().dt.month\n",
    "last_month = temp['last_month'].values\n",
    "\n",
    "plt.figure(figsize=(16, 4))\n",
    "plt.hist([temp.S_2[temp.last_month == 3],   # ending 03/18 -> training\n",
    "          temp.S_2[temp.last_month == 4],   # ending 04/19 -> public lb\n",
    "          temp.S_2[temp.last_month == 10]], # ending 10/19 -> private lb\n",
    "         bins=pd.date_range(\"2017-03-01\", \"2019-11-01\", freq=\"MS\"),\n",
    "         label=['Training', 'Public leaderboard', 'Private leaderboard'],\n",
    "         stacked=True)\n",
    "plt.xticks(pd.date_range(\"2017-03-01\", \"2019-11-01\", freq=\"QS\"))\n",
    "plt.xlabel('Statement date')\n",
    "plt.ylabel('Count')\n",
    "plt.title('The three datasets over time', fontsize=20)\n",
    "plt.legend()\n",
    "plt.show()\n"
   ]
  },
  {
   "cell_type": "markdown",
   "id": "30bcf4c5",
   "metadata": {},
   "source": [
    "## 数据准备"
   ]
  },
  {
   "cell_type": "code",
   "execution_count": 4,
   "id": "2d4ce464",
   "metadata": {},
   "outputs": [],
   "source": [
    "df_train = df_train.groupby(\"customer_ID\").tail(1).reset_index(drop=True)\n",
    "#df_test = df_test.groupby(\"customer_ID\").tail(1).reset_index(drop=True)"
   ]
  },
  {
   "cell_type": "code",
   "execution_count": 5,
   "id": "bf03c4aa",
   "metadata": {},
   "outputs": [
    {
     "data": {
      "text/html": [
       "<div>\n",
       "<style scoped>\n",
       "    .dataframe tbody tr th:only-of-type {\n",
       "        vertical-align: middle;\n",
       "    }\n",
       "\n",
       "    .dataframe tbody tr th {\n",
       "        vertical-align: top;\n",
       "    }\n",
       "\n",
       "    .dataframe thead th {\n",
       "        text-align: right;\n",
       "    }\n",
       "</style>\n",
       "<table border=\"1\" class=\"dataframe\">\n",
       "  <thead>\n",
       "    <tr style=\"text-align: right;\">\n",
       "      <th></th>\n",
       "      <th>customer_ID</th>\n",
       "      <th>S_2</th>\n",
       "      <th>P_2</th>\n",
       "      <th>D_39</th>\n",
       "      <th>B_1</th>\n",
       "      <th>B_2</th>\n",
       "      <th>R_1</th>\n",
       "      <th>S_3</th>\n",
       "      <th>D_41</th>\n",
       "      <th>B_3</th>\n",
       "      <th>...</th>\n",
       "      <th>D_137</th>\n",
       "      <th>D_138</th>\n",
       "      <th>D_139</th>\n",
       "      <th>D_140</th>\n",
       "      <th>D_141</th>\n",
       "      <th>D_142</th>\n",
       "      <th>D_143</th>\n",
       "      <th>D_144</th>\n",
       "      <th>D_145</th>\n",
       "      <th>target</th>\n",
       "    </tr>\n",
       "  </thead>\n",
       "  <tbody>\n",
       "    <tr>\n",
       "      <th>0</th>\n",
       "      <td>0000099d6bd597052cdcda90ffabf56573fe9d7c79be5f...</td>\n",
       "      <td>2018-03-13</td>\n",
       "      <td>0.934570</td>\n",
       "      <td>0.009117</td>\n",
       "      <td>0.009384</td>\n",
       "      <td>1.007812</td>\n",
       "      <td>0.006104</td>\n",
       "      <td>0.135010</td>\n",
       "      <td>0.001604</td>\n",
       "      <td>0.007175</td>\n",
       "      <td>...</td>\n",
       "      <td>NaN</td>\n",
       "      <td>NaN</td>\n",
       "      <td>0.007187</td>\n",
       "      <td>0.004234</td>\n",
       "      <td>0.005085</td>\n",
       "      <td>NaN</td>\n",
       "      <td>0.005810</td>\n",
       "      <td>0.002970</td>\n",
       "      <td>0.008530</td>\n",
       "      <td>0</td>\n",
       "    </tr>\n",
       "    <tr>\n",
       "      <th>1</th>\n",
       "      <td>00000fd6641609c6ece5454664794f0340ad84dddce9a2...</td>\n",
       "      <td>2018-03-25</td>\n",
       "      <td>0.880371</td>\n",
       "      <td>0.178101</td>\n",
       "      <td>0.034698</td>\n",
       "      <td>1.003906</td>\n",
       "      <td>0.006912</td>\n",
       "      <td>0.165527</td>\n",
       "      <td>0.005550</td>\n",
       "      <td>0.005070</td>\n",
       "      <td>...</td>\n",
       "      <td>NaN</td>\n",
       "      <td>NaN</td>\n",
       "      <td>0.002981</td>\n",
       "      <td>0.007481</td>\n",
       "      <td>0.007874</td>\n",
       "      <td>NaN</td>\n",
       "      <td>0.003284</td>\n",
       "      <td>0.003170</td>\n",
       "      <td>0.008514</td>\n",
       "      <td>0</td>\n",
       "    </tr>\n",
       "    <tr>\n",
       "      <th>2</th>\n",
       "      <td>00001b22f846c82c51f6e3958ccd81970162bae8b007e8...</td>\n",
       "      <td>2018-03-12</td>\n",
       "      <td>0.880859</td>\n",
       "      <td>0.009705</td>\n",
       "      <td>0.004284</td>\n",
       "      <td>0.812500</td>\n",
       "      <td>0.006451</td>\n",
       "      <td>NaN</td>\n",
       "      <td>0.003796</td>\n",
       "      <td>0.007195</td>\n",
       "      <td>...</td>\n",
       "      <td>NaN</td>\n",
       "      <td>NaN</td>\n",
       "      <td>0.007381</td>\n",
       "      <td>0.006622</td>\n",
       "      <td>0.000965</td>\n",
       "      <td>NaN</td>\n",
       "      <td>0.002201</td>\n",
       "      <td>0.000834</td>\n",
       "      <td>0.003445</td>\n",
       "      <td>0</td>\n",
       "    </tr>\n",
       "    <tr>\n",
       "      <th>3</th>\n",
       "      <td>000041bdba6ecadd89a52d11886e8eaaec9325906c9723...</td>\n",
       "      <td>2018-03-29</td>\n",
       "      <td>0.621582</td>\n",
       "      <td>0.001082</td>\n",
       "      <td>0.012566</td>\n",
       "      <td>1.005859</td>\n",
       "      <td>0.007828</td>\n",
       "      <td>0.287842</td>\n",
       "      <td>0.004532</td>\n",
       "      <td>0.009941</td>\n",
       "      <td>...</td>\n",
       "      <td>NaN</td>\n",
       "      <td>NaN</td>\n",
       "      <td>0.002705</td>\n",
       "      <td>0.006184</td>\n",
       "      <td>0.001899</td>\n",
       "      <td>NaN</td>\n",
       "      <td>0.008186</td>\n",
       "      <td>0.005558</td>\n",
       "      <td>0.002983</td>\n",
       "      <td>0</td>\n",
       "    </tr>\n",
       "    <tr>\n",
       "      <th>4</th>\n",
       "      <td>00007889e4fcd2614b6cbe7f8f3d2e5c728eca32d9eb8a...</td>\n",
       "      <td>2018-03-30</td>\n",
       "      <td>0.872070</td>\n",
       "      <td>0.005573</td>\n",
       "      <td>0.007679</td>\n",
       "      <td>0.815918</td>\n",
       "      <td>0.001247</td>\n",
       "      <td>NaN</td>\n",
       "      <td>0.000231</td>\n",
       "      <td>0.005527</td>\n",
       "      <td>...</td>\n",
       "      <td>NaN</td>\n",
       "      <td>NaN</td>\n",
       "      <td>0.002974</td>\n",
       "      <td>0.004162</td>\n",
       "      <td>0.005764</td>\n",
       "      <td>NaN</td>\n",
       "      <td>0.008156</td>\n",
       "      <td>0.006943</td>\n",
       "      <td>0.000905</td>\n",
       "      <td>0</td>\n",
       "    </tr>\n",
       "  </tbody>\n",
       "</table>\n",
       "<p>5 rows × 191 columns</p>\n",
       "</div>"
      ],
      "text/plain": [
       "                                         customer_ID        S_2       P_2  \\\n",
       "0  0000099d6bd597052cdcda90ffabf56573fe9d7c79be5f... 2018-03-13  0.934570   \n",
       "1  00000fd6641609c6ece5454664794f0340ad84dddce9a2... 2018-03-25  0.880371   \n",
       "2  00001b22f846c82c51f6e3958ccd81970162bae8b007e8... 2018-03-12  0.880859   \n",
       "3  000041bdba6ecadd89a52d11886e8eaaec9325906c9723... 2018-03-29  0.621582   \n",
       "4  00007889e4fcd2614b6cbe7f8f3d2e5c728eca32d9eb8a... 2018-03-30  0.872070   \n",
       "\n",
       "       D_39       B_1       B_2       R_1       S_3      D_41       B_3  ...  \\\n",
       "0  0.009117  0.009384  1.007812  0.006104  0.135010  0.001604  0.007175  ...   \n",
       "1  0.178101  0.034698  1.003906  0.006912  0.165527  0.005550  0.005070  ...   \n",
       "2  0.009705  0.004284  0.812500  0.006451       NaN  0.003796  0.007195  ...   \n",
       "3  0.001082  0.012566  1.005859  0.007828  0.287842  0.004532  0.009941  ...   \n",
       "4  0.005573  0.007679  0.815918  0.001247       NaN  0.000231  0.005527  ...   \n",
       "\n",
       "   D_137  D_138     D_139     D_140     D_141  D_142     D_143     D_144  \\\n",
       "0    NaN    NaN  0.007187  0.004234  0.005085    NaN  0.005810  0.002970   \n",
       "1    NaN    NaN  0.002981  0.007481  0.007874    NaN  0.003284  0.003170   \n",
       "2    NaN    NaN  0.007381  0.006622  0.000965    NaN  0.002201  0.000834   \n",
       "3    NaN    NaN  0.002705  0.006184  0.001899    NaN  0.008186  0.005558   \n",
       "4    NaN    NaN  0.002974  0.004162  0.005764    NaN  0.008156  0.006943   \n",
       "\n",
       "      D_145  target  \n",
       "0  0.008530       0  \n",
       "1  0.008514       0  \n",
       "2  0.003445       0  \n",
       "3  0.002983       0  \n",
       "4  0.000905       0  \n",
       "\n",
       "[5 rows x 191 columns]"
      ]
     },
     "execution_count": 5,
     "metadata": {},
     "output_type": "execute_result"
    }
   ],
   "source": [
    "df_train.head()"
   ]
  },
  {
   "cell_type": "markdown",
   "id": "94baf5b1",
   "metadata": {},
   "source": [
    "## 数据预处理"
   ]
  },
  {
   "cell_type": "code",
   "execution_count": 6,
   "id": "90a5efd1",
   "metadata": {},
   "outputs": [],
   "source": [
    "trans_train, filter_cols, missing_cols, single_list, mutitype_list, varaince_list = tlm.feature_filter(df_train, y_label)"
   ]
  },
  {
   "cell_type": "code",
   "execution_count": 7,
   "id": "84f5e082",
   "metadata": {},
   "outputs": [
    {
     "name": "stderr",
     "output_type": "stream",
     "text": [
      "sheet06.数据预处理在/Users/liliangshan/workspace/python/01_datasets/AMEX_Default_Prediction/results/scorecard_report.xlsx中已经存在，我们将对原文件进行覆盖\n"
     ]
    }
   ],
   "source": [
    "missing_threshold=0.9\n",
    "single_threshold=0.9  \n",
    "variance_threshold=0\n",
    "unique_threshold=40    \n",
    "feat_ = '字段名'\n",
    "\n",
    "analysis = pd.DataFrame(data={'字段名': df_train.columns.tolist()})\n",
    "\n",
    "analysis['缺失率过滤'] = analysis[feat_].map(lambda x: '02.缺失率>={},被移除'.format(missing_threshold) if x in missing_cols else '')\n",
    "analysis['单一值、百分比过高特征过滤'] = analysis[feat_].map(lambda x: '03.单一值、百分比>={},被移除'.format(single_threshold) if x in single_list else '')\n",
    "analysis['类别过多特征过滤'] = analysis[feat_].map(lambda x: '04.类别取值个数>={},被移除'.format(unique_threshold) if x in mutitype_list else '')\n",
    "analysis['方差过小过滤'] = analysis[feat_].map(lambda x: '05.方差<={},被移除'.format(variance_threshold) if x in varaince_list else '')\n",
    "\n",
    "title = \"数据预过滤\"\n",
    "tlm.dat2excel(analysis, title, sheet_name='06.数据预处理', excel_path=path_output_report)"
   ]
  },
  {
   "cell_type": "markdown",
   "id": "7db55f75",
   "metadata": {},
   "source": [
    "## 分箱及分箱调整"
   ]
  },
  {
   "cell_type": "code",
   "execution_count": 8,
   "id": "1f1057aa",
   "metadata": {},
   "outputs": [],
   "source": [
    "import scorecardpy as sc"
   ]
  },
  {
   "cell_type": "code",
   "execution_count": 10,
   "id": "1e43e392",
   "metadata": {},
   "outputs": [],
   "source": [
    "# bins = sc.woebin(trans_train, y=y_label)"
   ]
  },
  {
   "cell_type": "code",
   "execution_count": 11,
   "id": "7032c717",
   "metadata": {},
   "outputs": [
    {
     "name": "stderr",
     "output_type": "stream",
     "text": [
      "There are blank strings in 1 columns, which are replaced with NaN. \n",
      " (ColumnNames: D_64)\n"
     ]
    },
    {
     "ename": "ValueError",
     "evalue": "Cannot setitem on a Categorical with a new category, set the categories first",
     "output_type": "error",
     "traceback": [
      "\u001b[0;31m---------------------------------------------------------------------------\u001b[0m",
      "\u001b[0;31mRemoteTraceback\u001b[0m                           Traceback (most recent call last)",
      "\u001b[0;31mRemoteTraceback\u001b[0m: \n\"\"\"\nTraceback (most recent call last):\n  File \"/Users/liliangshan/opt/miniconda3/envs/ml/lib/python3.7/multiprocessing/pool.py\", line 121, in worker\n    result = (True, func(*args, **kwds))\n  File \"/Users/liliangshan/opt/miniconda3/envs/ml/lib/python3.7/multiprocessing/pool.py\", line 47, in starmapstar\n    return list(itertools.starmap(args[0], args[1]))\n  File \"/Users/liliangshan/workspace/python/daily_code/tl_modeler/tl_modeler/binning/woebin.py\", line 166, in woebin2\n    method=base_method, ind_method=ind_method, decimal=decimal\n  File \"/Users/liliangshan/workspace/python/daily_code/tl_modeler/tl_modeler/binning/bin/tree.py\", line 186, in tree_bin\n    bin_list = init_bin(dtm, init_count_distr=init_count_distr, breaks=breaks, spl_val=spl_val, method=method, decimal=decimal)\n  File \"/Users/liliangshan/workspace/python/daily_code/tl_modeler/tl_modeler/binning/bin/utils.py\", line 348, in init_bin\n    dtm_binsv_list = dtm_binning_sv(dtm, breaks, spl_val)\n  File \"/Users/liliangshan/workspace/python/daily_code/tl_modeler/tl_modeler/binning/bin/utils.py\", line 202, in dtm_binning_sv\n    dtm.fillna(\"missing\").reset_index(),\n  File \"/Users/liliangshan/opt/miniconda3/envs/ml/lib/python3.7/site-packages/pandas/util/_decorators.py\", line 311, in wrapper\n    return func(*args, **kwargs)\n  File \"/Users/liliangshan/opt/miniconda3/envs/ml/lib/python3.7/site-packages/pandas/core/frame.py\", line 5182, in fillna\n    downcast=downcast,\n  File \"/Users/liliangshan/opt/miniconda3/envs/ml/lib/python3.7/site-packages/pandas/core/generic.py\", line 6383, in fillna\n    value=value, limit=limit, inplace=inplace, downcast=downcast\n  File \"/Users/liliangshan/opt/miniconda3/envs/ml/lib/python3.7/site-packages/pandas/core/internals/managers.py\", line 411, in fillna\n    \"fillna\", value=value, limit=limit, inplace=inplace, downcast=downcast\n  File \"/Users/liliangshan/opt/miniconda3/envs/ml/lib/python3.7/site-packages/pandas/core/internals/managers.py\", line 327, in apply\n    applied = getattr(b, f)(**kwargs)\n  File \"/Users/liliangshan/opt/miniconda3/envs/ml/lib/python3.7/site-packages/pandas/core/internals/blocks.py\", line 1572, in fillna\n    values = self.values.fillna(value=value, limit=limit)\n  File \"/Users/liliangshan/opt/miniconda3/envs/ml/lib/python3.7/site-packages/pandas/core/arrays/_mixins.py\", line 242, in fillna\n    new_values[mask] = value\n  File \"/Users/liliangshan/opt/miniconda3/envs/ml/lib/python3.7/site-packages/pandas/core/arrays/_mixins.py\", line 182, in __setitem__\n    value = self._validate_setitem_value(value)\n  File \"/Users/liliangshan/opt/miniconda3/envs/ml/lib/python3.7/site-packages/pandas/core/arrays/categorical.py\", line 2045, in _validate_setitem_value\n    \"Cannot setitem on a Categorical with a new \"\nValueError: Cannot setitem on a Categorical with a new category, set the categories first\n\"\"\"",
      "\nThe above exception was the direct cause of the following exception:\n",
      "\u001b[0;31mValueError\u001b[0m                                Traceback (most recent call last)",
      "\u001b[0;32m/var/folders/m3/shkcm89n18z2byy6hjn24sv40000gn/T/ipykernel_74088/994374957.py\u001b[0m in \u001b[0;36m<module>\u001b[0;34m\u001b[0m\n\u001b[0;32m----> 1\u001b[0;31m \u001b[0mbins\u001b[0m \u001b[0;34m=\u001b[0m \u001b[0mtlm\u001b[0m\u001b[0;34m.\u001b[0m\u001b[0mwoebin\u001b[0m\u001b[0;34m(\u001b[0m\u001b[0mtrans_train\u001b[0m\u001b[0;34m,\u001b[0m \u001b[0my\u001b[0m\u001b[0;34m=\u001b[0m\u001b[0my_label\u001b[0m\u001b[0;34m)\u001b[0m\u001b[0;34m\u001b[0m\u001b[0;34m\u001b[0m\u001b[0m\n\u001b[0m",
      "\u001b[0;32m~/workspace/python/daily_code/tl_modeler/tl_modeler/binning/woebin.py\u001b[0m in \u001b[0;36mwoebin\u001b[0;34m(dt, y, x, var_skip, breaks_list, special_values, stop_limit, count_distr_limit, bin_num_limit, positive, no_cores, print_step, method, base_method, ind_method, ignore_const_cols, ignore_datetime_cols, check_cate_num, replace_blank, save_breaks_list, init_count_distr, others_fill_type, others_fill_dict, miss_fill_ratio, miss_fill_num, miss_fill_type, miss_fill_dict, feat_map, decimal, **kwargs)\u001b[0m\n\u001b[1;32m    430\u001b[0m         )\n\u001b[1;32m    431\u001b[0m         \u001b[0;31m# 分箱结果保存在dict里面\u001b[0m\u001b[0;34m\u001b[0m\u001b[0;34m\u001b[0m\u001b[0;34m\u001b[0m\u001b[0m\n\u001b[0;32m--> 432\u001b[0;31m         \u001b[0mbins\u001b[0m \u001b[0;34m=\u001b[0m \u001b[0mdict\u001b[0m\u001b[0;34m(\u001b[0m\u001b[0mzip\u001b[0m\u001b[0;34m(\u001b[0m\u001b[0mxs\u001b[0m\u001b[0;34m,\u001b[0m \u001b[0mpool\u001b[0m\u001b[0;34m.\u001b[0m\u001b[0mstarmap\u001b[0m\u001b[0;34m(\u001b[0m\u001b[0mwoebin2\u001b[0m\u001b[0;34m,\u001b[0m \u001b[0margs\u001b[0m\u001b[0;34m)\u001b[0m\u001b[0;34m)\u001b[0m\u001b[0;34m)\u001b[0m\u001b[0;34m\u001b[0m\u001b[0;34m\u001b[0m\u001b[0m\n\u001b[0m\u001b[1;32m    433\u001b[0m         \u001b[0mpool\u001b[0m\u001b[0;34m.\u001b[0m\u001b[0mclose\u001b[0m\u001b[0;34m(\u001b[0m\u001b[0;34m)\u001b[0m\u001b[0;34m\u001b[0m\u001b[0;34m\u001b[0m\u001b[0m\n\u001b[1;32m    434\u001b[0m \u001b[0;34m\u001b[0m\u001b[0m\n",
      "\u001b[0;32m~/opt/miniconda3/envs/ml/lib/python3.7/multiprocessing/pool.py\u001b[0m in \u001b[0;36mstarmap\u001b[0;34m(self, func, iterable, chunksize)\u001b[0m\n\u001b[1;32m    274\u001b[0m         \u001b[0;31m`\u001b[0m\u001b[0mfunc\u001b[0m\u001b[0;31m`\u001b[0m \u001b[0;32mand\u001b[0m \u001b[0;34m(\u001b[0m\u001b[0ma\u001b[0m\u001b[0;34m,\u001b[0m \u001b[0mb\u001b[0m\u001b[0;34m)\u001b[0m \u001b[0mbecomes\u001b[0m \u001b[0mfunc\u001b[0m\u001b[0;34m(\u001b[0m\u001b[0ma\u001b[0m\u001b[0;34m,\u001b[0m \u001b[0mb\u001b[0m\u001b[0;34m)\u001b[0m\u001b[0;34m.\u001b[0m\u001b[0;34m\u001b[0m\u001b[0;34m\u001b[0m\u001b[0m\n\u001b[1;32m    275\u001b[0m         '''\n\u001b[0;32m--> 276\u001b[0;31m         \u001b[0;32mreturn\u001b[0m \u001b[0mself\u001b[0m\u001b[0;34m.\u001b[0m\u001b[0m_map_async\u001b[0m\u001b[0;34m(\u001b[0m\u001b[0mfunc\u001b[0m\u001b[0;34m,\u001b[0m \u001b[0miterable\u001b[0m\u001b[0;34m,\u001b[0m \u001b[0mstarmapstar\u001b[0m\u001b[0;34m,\u001b[0m \u001b[0mchunksize\u001b[0m\u001b[0;34m)\u001b[0m\u001b[0;34m.\u001b[0m\u001b[0mget\u001b[0m\u001b[0;34m(\u001b[0m\u001b[0;34m)\u001b[0m\u001b[0;34m\u001b[0m\u001b[0;34m\u001b[0m\u001b[0m\n\u001b[0m\u001b[1;32m    277\u001b[0m \u001b[0;34m\u001b[0m\u001b[0m\n\u001b[1;32m    278\u001b[0m     def starmap_async(self, func, iterable, chunksize=None, callback=None,\n",
      "\u001b[0;32m~/opt/miniconda3/envs/ml/lib/python3.7/multiprocessing/pool.py\u001b[0m in \u001b[0;36mget\u001b[0;34m(self, timeout)\u001b[0m\n\u001b[1;32m    655\u001b[0m             \u001b[0;32mreturn\u001b[0m \u001b[0mself\u001b[0m\u001b[0;34m.\u001b[0m\u001b[0m_value\u001b[0m\u001b[0;34m\u001b[0m\u001b[0;34m\u001b[0m\u001b[0m\n\u001b[1;32m    656\u001b[0m         \u001b[0;32melse\u001b[0m\u001b[0;34m:\u001b[0m\u001b[0;34m\u001b[0m\u001b[0;34m\u001b[0m\u001b[0m\n\u001b[0;32m--> 657\u001b[0;31m             \u001b[0;32mraise\u001b[0m \u001b[0mself\u001b[0m\u001b[0;34m.\u001b[0m\u001b[0m_value\u001b[0m\u001b[0;34m\u001b[0m\u001b[0;34m\u001b[0m\u001b[0m\n\u001b[0m\u001b[1;32m    658\u001b[0m \u001b[0;34m\u001b[0m\u001b[0m\n\u001b[1;32m    659\u001b[0m     \u001b[0;32mdef\u001b[0m \u001b[0m_set\u001b[0m\u001b[0;34m(\u001b[0m\u001b[0mself\u001b[0m\u001b[0;34m,\u001b[0m \u001b[0mi\u001b[0m\u001b[0;34m,\u001b[0m \u001b[0mobj\u001b[0m\u001b[0;34m)\u001b[0m\u001b[0;34m:\u001b[0m\u001b[0;34m\u001b[0m\u001b[0;34m\u001b[0m\u001b[0m\n",
      "\u001b[0;31mValueError\u001b[0m: Cannot setitem on a Categorical with a new category, set the categories first"
     ]
    }
   ],
   "source": [
    "bins = tlm.woebin(trans_train, y=y_label)"
   ]
  },
  {
   "cell_type": "code",
   "execution_count": null,
   "id": "f12ec68f",
   "metadata": {},
   "outputs": [],
   "source": [
    "# 调单调变量\n",
    "bins, res_monotone_list, res_un_monotone_list= woebin_monotone_adj(trans_train, y=y_label, bins, list(bins.keys()))"
   ]
  }
 ],
 "metadata": {
  "kernelspec": {
   "display_name": "Python 3.7.11 ('ml')",
   "language": "python",
   "name": "python3711jvsc74a57bd0732b8507b493a6bd3d51691a308f963b7258c72012e991cef75b40938a82b5dd"
  },
  "language_info": {
   "codemirror_mode": {
    "name": "ipython",
    "version": 3
   },
   "file_extension": ".py",
   "mimetype": "text/x-python",
   "name": "python",
   "nbconvert_exporter": "python",
   "pygments_lexer": "ipython3",
   "version": "3.7.13"
  },
  "toc": {
   "base_numbering": 1,
   "nav_menu": {},
   "number_sections": true,
   "sideBar": true,
   "skip_h1_title": false,
   "title_cell": "Table of Contents",
   "title_sidebar": "Contents",
   "toc_cell": false,
   "toc_position": {},
   "toc_section_display": true,
   "toc_window_display": false
  }
 },
 "nbformat": 4,
 "nbformat_minor": 5
}
